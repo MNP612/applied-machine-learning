{
 "cells": [
  {
   "cell_type": "markdown",
   "metadata": {},
   "source": [
    "# 1) Python configuration and Data Loading"
   ]
  },
  {
   "cell_type": "code",
   "execution_count": 1,
   "metadata": {},
   "outputs": [
    {
     "name": "stdout",
     "output_type": "stream",
     "text": [
      "\n",
      "loaded mnist data!\n",
      "test_data (10000, 784)\n",
      "training_data (60000, 784)\n",
      "training_labels (60000, 1)\n",
      "\n",
      "loaded spam data!\n",
      "test_data (5857, 32)\n",
      "training_data (5172, 32)\n",
      "training_labels (5172, 1)\n",
      "\n",
      "loaded cifar10 data!\n",
      "test_data (10000, 3072)\n",
      "training_data (50000, 3072)\n",
      "training_labels (50000, 1)\n"
     ]
    }
   ],
   "source": [
    "import warnings\n",
    "warnings.filterwarnings(\"ignore\")\n",
    "\n",
    "import sys\n",
    "if sys.version_info[0] < 3:\n",
    "    raise Exception(\"Python 3 not detected.\")\n",
    "    \n",
    "import numpy as np\n",
    "import matplotlib.pyplot as plt\n",
    "from sklearn import svm\n",
    "from scipy import io\n",
    "\n",
    "for data_name in [\"mnist\", \"spam\", \"cifar10\"]:\n",
    "    data = io.loadmat(\"data/%s_data.mat\" % data_name)\n",
    "    print(\"\\nloaded %s data!\" % data_name)\n",
    "    fields = \"test_data\", \"training_data\", \"training_labels\"\n",
    "    for field in fields:\n",
    "        print(field, data[field].shape)"
   ]
  },
  {
   "cell_type": "markdown",
   "metadata": {},
   "source": [
    "# 2) Data Partitioning\n",
    "\n",
    "* (a) For the MNIST dataset, write code that sets aside 10,000 training images as a validation set."
   ]
  },
  {
   "cell_type": "code",
   "execution_count": 2,
   "metadata": {},
   "outputs": [],
   "source": [
    "from sklearn.model_selection import train_test_split"
   ]
  },
  {
   "cell_type": "code",
   "execution_count": 3,
   "metadata": {},
   "outputs": [],
   "source": [
    "mnist_data = io.loadmat(\"data/mnist_data.mat\")"
   ]
  },
  {
   "cell_type": "code",
   "execution_count": 40,
   "metadata": {},
   "outputs": [
    {
     "name": "stdout",
     "output_type": "stream",
     "text": [
      "10000 images in the validation set.\n",
      "50000 images in the training set.\n"
     ]
    }
   ],
   "source": [
    "X_mnist_train, X_mnist_valid, y_mnist_train, y_mnist_valid = train_test_split(mnist_data['training_data'], mnist_data['training_labels'], test_size=10000, random_state=42)\n",
    "\n",
    "print(len(X_mnist_valid), 'images in the validation set.')\n",
    "print(len(X_mnist_train), 'images in the training set.')"
   ]
  },
  {
   "cell_type": "markdown",
   "metadata": {},
   "source": [
    "* (b) For the spam dataset, write code that sets aside 20% of the training data as a validation set."
   ]
  },
  {
   "cell_type": "code",
   "execution_count": 3,
   "metadata": {},
   "outputs": [],
   "source": [
    "spam_data = io.loadmat(\"data/spam_data.mat\")"
   ]
  },
  {
   "cell_type": "code",
   "execution_count": 4,
   "metadata": {},
   "outputs": [
    {
     "name": "stdout",
     "output_type": "stream",
     "text": [
      "1035 images in the validation set.\n",
      "4137 images in the training set.\n"
     ]
    }
   ],
   "source": [
    "X_spam_train, X_spam_valid, y_spam_train, y_spam_valid = train_test_split(spam_data['training_data'], spam_data['training_labels'], test_size=0.2, random_state=42)\n",
    "\n",
    "print(len(X_spam_valid), 'images in the validation set.')\n",
    "print(len(X_spam_train), 'images in the training set.')"
   ]
  },
  {
   "cell_type": "markdown",
   "metadata": {},
   "source": [
    "* (c) For the CIFAR-10 dataset, write code that sets aside 5,000 training images as a validation set. Be sure to shuffle your data before splitting it to make sure all the classes are represented in your partitions. Note: Make sure that you shuffle the labels with the training images. It’s a very common error to mislabel the training images by forgetting to permute the labels with the images!"
   ]
  },
  {
   "cell_type": "code",
   "execution_count": 3,
   "metadata": {},
   "outputs": [],
   "source": [
    "cifar10_data = io.loadmat(\"data/cifar10_data.mat\")"
   ]
  },
  {
   "cell_type": "code",
   "execution_count": 4,
   "metadata": {},
   "outputs": [
    {
     "name": "stdout",
     "output_type": "stream",
     "text": [
      "5000 images in the validation set.\n",
      "45000 images in the training set.\n"
     ]
    }
   ],
   "source": [
    "X_cifar10_train, X_cifar10_valid, y_cifar10_train, y_cifar10_valid = train_test_split(cifar10_data['training_data'], cifar10_data['training_labels'], test_size=5000, random_state=42)\n",
    "\n",
    "print(len(X_cifar10_valid), 'images in the validation set.')\n",
    "print(len(X_cifar10_train), 'images in the training set.')"
   ]
  },
  {
   "cell_type": "markdown",
   "metadata": {},
   "source": [
    "Note: `sklearn.model_selection.train_test_split` shuffles the data before splitting by default. See [documentation.](https://scikit-learn.org/stable/modules/generated/sklearn.model_selection.train_test_split.html)"
   ]
  },
  {
   "cell_type": "markdown",
   "metadata": {},
   "source": [
    "# 3) Support Vector Machines: Coding"
   ]
  },
  {
   "cell_type": "markdown",
   "metadata": {},
   "source": [
    "* (a) For the MNIST dataset, use raw pixels as features. Train your model with the following numbers of training examples: 100, 200, 500, 1,000, 2,000, 5,000, 10,000. At this stage, you should expect accuracies between 70% and 90%.\n",
    "Hint: Be consistent with any preprocessing you do. Use either integer values between 0 and 255 or floating-point values between 0 and 1. Training on floats and then testing with integers is bound to cause trouble."
   ]
  },
  {
   "cell_type": "code",
   "execution_count": 5,
   "metadata": {},
   "outputs": [],
   "source": [
    "from sklearn.svm import LinearSVC\n",
    "from sklearn.metrics import accuracy_score"
   ]
  },
  {
   "cell_type": "code",
   "execution_count": 10,
   "metadata": {},
   "outputs": [],
   "source": [
    "clf = LinearSVC(random_state=0, tol=1e-5)\n",
    "\n",
    "y_mnist_valid_pred = []\n",
    "y_mnist_train_pred = []\n",
    "sample_size = [100, 200, 500, 1000, 2000, 5000, 10000]\n",
    "for n in sample_size:\n",
    "    clf.fit(X_mnist_train[:n], y_mnist_train[:n])\n",
    "    y_mnist_valid_pred.append(clf.predict(X_mnist_valid))\n",
    "    y_mnist_train_pred.append(clf.predict(X_mnist_train))"
   ]
  },
  {
   "cell_type": "code",
   "execution_count": 11,
   "metadata": {},
   "outputs": [],
   "source": [
    "mnist_valid_score = []\n",
    "mnist_train_score = []\n",
    "for n in range(len(sample_size)):\n",
    "    mnist_valid_score.append(accuracy_score(y_mnist_valid, y_mnist_valid_pred[n]))\n",
    "    mnist_train_score.append(accuracy_score(y_mnist_train, y_mnist_train_pred[n]))"
   ]
  },
  {
   "cell_type": "code",
   "execution_count": 12,
   "metadata": {},
   "outputs": [
    {
     "data": {
      "image/png": "[encoded data removed]",
      "text/plain": [
       "<Figure size 432x288 with 1 Axes>"
      ]
     },
     "metadata": {
      "needs_background": "light"
     },
     "output_type": "display_data"
    }
   ],
   "source": [
    "plt.plot(sample_size, mnist_valid_score, label='validation')\n",
    "plt.plot(sample_size, mnist_train_score, label='train')\n",
    "plt.legend()\n",
    "plt.xlabel('n_samples')\n",
    "plt.ylabel('accuracy')\n",
    "plt.show()"
   ]
  },
  {
   "cell_type": "markdown",
   "metadata": {},
   "source": [
    "* (b) For the spam dataset, use the provided word frequencies as features. In other words, each document is represented by a vector, where the ith entry denotes the number of times word i (as specified in featurize.py) is found in that document. Train your model with the following numbers of training examples: 100, 200, 500, 1,000, 2,000, ALL. Note that this dataset does not have 10,000 examples; use all of your examples instead of 10,000. At this stage, you should expect accuracies between 70% and 90%."
   ]
  },
  {
   "cell_type": "code",
   "execution_count": 13,
   "metadata": {},
   "outputs": [],
   "source": [
    "clf = LinearSVC(random_state=0, tol=1e-5)\n",
    "\n",
    "y_spam_valid_pred = []\n",
    "y_spam_train_pred = []\n",
    "sample_size = [100, 200, 500, 1000, 2000, 5000, len(spam_data['training_data'])]\n",
    "for n in sample_size:\n",
    "    clf.fit(X_spam_train[:n], y_spam_train[:n])\n",
    "    y_spam_valid_pred.append(clf.predict(X_spam_valid))\n",
    "    y_spam_train_pred.append(clf.predict(X_spam_train))"
   ]
  },
  {
   "cell_type": "code",
   "execution_count": 14,
   "metadata": {},
   "outputs": [],
   "source": [
    "spam_valid_score = []\n",
    "spam_train_score = []\n",
    "for n in range(len(sample_size)):\n",
    "    spam_valid_score.append(accuracy_score(y_spam_valid, y_spam_valid_pred[n]))\n",
    "    spam_train_score.append(accuracy_score(y_spam_train, y_spam_train_pred[n]))"
   ]
  },
  {
   "cell_type": "code",
   "execution_count": 15,
   "metadata": {},
   "outputs": [
    {
     "data": {
      "image/png": "[encoded data removed]",
      "text/plain": [
       "<Figure size 432x288 with 1 Axes>"
      ]
     },
     "metadata": {
      "needs_background": "light"
     },
     "output_type": "display_data"
    }
   ],
   "source": [
    "plt.plot(sample_size, spam_valid_score, label='validation')\n",
    "plt.plot(sample_size, spam_train_score, label='train')\n",
    "plt.legend()\n",
    "plt.xlabel('n_samples')\n",
    "plt.ylabel('accuracy')\n",
    "plt.show()"
   ]
  },
  {
   "cell_type": "markdown",
   "metadata": {},
   "source": [
    "* (c) For the CIFAR-10 dataset, use raw pixels as features. At this stage, you should expect accura- cies between 25% and 35%. Be forewarned that training SVMs for CIFAR-10 takes a couple minutes to run for a large training set locally. Train your model with the following numbers of training examples: 100, 200, 500, 1,000, 2,000, 5,000.\n",
    "Note: We find that SVC(kernel=’linear’) is faster than LinearSVC."
   ]
  },
  {
   "cell_type": "code",
   "execution_count": 83,
   "metadata": {},
   "outputs": [
    {
     "ename": "KeyboardInterrupt",
     "evalue": "",
     "output_type": "error",
     "traceback": [
      "\u001b[0;31m---------------------------------------------------------------------------\u001b[0m",
      "\u001b[0;31mKeyboardInterrupt\u001b[0m                         Traceback (most recent call last)",
      "\u001b[0;32m<ipython-input-83-6348731a907a>\u001b[0m in \u001b[0;36m<module>\u001b[0;34m\u001b[0m\n\u001b[1;32m      5\u001b[0m \u001b[0msample_size\u001b[0m \u001b[0;34m=\u001b[0m \u001b[0;34m[\u001b[0m\u001b[0;36m100\u001b[0m\u001b[0;34m,\u001b[0m \u001b[0;36m200\u001b[0m\u001b[0;34m,\u001b[0m \u001b[0;36m500\u001b[0m\u001b[0;34m,\u001b[0m \u001b[0;36m1000\u001b[0m\u001b[0;34m,\u001b[0m \u001b[0;36m2000\u001b[0m\u001b[0;34m,\u001b[0m \u001b[0;36m5000\u001b[0m\u001b[0;34m]\u001b[0m\u001b[0;34m\u001b[0m\u001b[0;34m\u001b[0m\u001b[0m\n\u001b[1;32m      6\u001b[0m \u001b[0;32mfor\u001b[0m \u001b[0mn\u001b[0m \u001b[0;32min\u001b[0m \u001b[0msample_size\u001b[0m\u001b[0;34m:\u001b[0m\u001b[0;34m\u001b[0m\u001b[0;34m\u001b[0m\u001b[0m\n\u001b[0;32m----> 7\u001b[0;31m     \u001b[0mclf\u001b[0m\u001b[0;34m.\u001b[0m\u001b[0mfit\u001b[0m\u001b[0;34m(\u001b[0m\u001b[0mX_cifar10_train\u001b[0m\u001b[0;34m[\u001b[0m\u001b[0;34m:\u001b[0m\u001b[0mn\u001b[0m\u001b[0;34m]\u001b[0m\u001b[0;34m,\u001b[0m \u001b[0my_cifar10_train\u001b[0m\u001b[0;34m[\u001b[0m\u001b[0;34m:\u001b[0m\u001b[0mn\u001b[0m\u001b[0;34m]\u001b[0m\u001b[0;34m)\u001b[0m\u001b[0;34m\u001b[0m\u001b[0;34m\u001b[0m\u001b[0m\n\u001b[0m\u001b[1;32m      8\u001b[0m     \u001b[0my_cifar10_valid_pred\u001b[0m\u001b[0;34m.\u001b[0m\u001b[0mappend\u001b[0m\u001b[0;34m(\u001b[0m\u001b[0mclf\u001b[0m\u001b[0;34m.\u001b[0m\u001b[0mpredict\u001b[0m\u001b[0;34m(\u001b[0m\u001b[0mX_cifar10_valid\u001b[0m\u001b[0;34m)\u001b[0m\u001b[0;34m)\u001b[0m\u001b[0;34m\u001b[0m\u001b[0;34m\u001b[0m\u001b[0m\n\u001b[1;32m      9\u001b[0m     \u001b[0my_cifar10_train_pred\u001b[0m\u001b[0;34m.\u001b[0m\u001b[0mappend\u001b[0m\u001b[0;34m(\u001b[0m\u001b[0mclf\u001b[0m\u001b[0;34m.\u001b[0m\u001b[0mpredict\u001b[0m\u001b[0;34m(\u001b[0m\u001b[0mX_cifar10_train\u001b[0m\u001b[0;34m)\u001b[0m\u001b[0;34m)\u001b[0m\u001b[0;34m\u001b[0m\u001b[0;34m\u001b[0m\u001b[0m\n",
      "\u001b[0;32m~/Applications/anaconda3/lib/python3.7/site-packages/sklearn/svm/classes.py\u001b[0m in \u001b[0;36mfit\u001b[0;34m(self, X, y, sample_weight)\u001b[0m\n\u001b[1;32m    235\u001b[0m             \u001b[0mself\u001b[0m\u001b[0;34m.\u001b[0m\u001b[0mclass_weight\u001b[0m\u001b[0;34m,\u001b[0m \u001b[0mself\u001b[0m\u001b[0;34m.\u001b[0m\u001b[0mpenalty\u001b[0m\u001b[0;34m,\u001b[0m \u001b[0mself\u001b[0m\u001b[0;34m.\u001b[0m\u001b[0mdual\u001b[0m\u001b[0;34m,\u001b[0m \u001b[0mself\u001b[0m\u001b[0;34m.\u001b[0m\u001b[0mverbose\u001b[0m\u001b[0;34m,\u001b[0m\u001b[0;34m\u001b[0m\u001b[0;34m\u001b[0m\u001b[0m\n\u001b[1;32m    236\u001b[0m             \u001b[0mself\u001b[0m\u001b[0;34m.\u001b[0m\u001b[0mmax_iter\u001b[0m\u001b[0;34m,\u001b[0m \u001b[0mself\u001b[0m\u001b[0;34m.\u001b[0m\u001b[0mtol\u001b[0m\u001b[0;34m,\u001b[0m \u001b[0mself\u001b[0m\u001b[0;34m.\u001b[0m\u001b[0mrandom_state\u001b[0m\u001b[0;34m,\u001b[0m \u001b[0mself\u001b[0m\u001b[0;34m.\u001b[0m\u001b[0mmulti_class\u001b[0m\u001b[0;34m,\u001b[0m\u001b[0;34m\u001b[0m\u001b[0;34m\u001b[0m\u001b[0m\n\u001b[0;32m--> 237\u001b[0;31m             self.loss, sample_weight=sample_weight)\n\u001b[0m\u001b[1;32m    238\u001b[0m \u001b[0;34m\u001b[0m\u001b[0m\n\u001b[1;32m    239\u001b[0m         \u001b[0;32mif\u001b[0m \u001b[0mself\u001b[0m\u001b[0;34m.\u001b[0m\u001b[0mmulti_class\u001b[0m \u001b[0;34m==\u001b[0m \u001b[0;34m\"crammer_singer\"\u001b[0m \u001b[0;32mand\u001b[0m \u001b[0mlen\u001b[0m\u001b[0;34m(\u001b[0m\u001b[0mself\u001b[0m\u001b[0;34m.\u001b[0m\u001b[0mclasses_\u001b[0m\u001b[0;34m)\u001b[0m \u001b[0;34m==\u001b[0m \u001b[0;36m2\u001b[0m\u001b[0;34m:\u001b[0m\u001b[0;34m\u001b[0m\u001b[0;34m\u001b[0m\u001b[0m\n",
      "\u001b[0;32m~/Applications/anaconda3/lib/python3.7/site-packages/sklearn/svm/base.py\u001b[0m in \u001b[0;36m_fit_liblinear\u001b[0;34m(X, y, C, fit_intercept, intercept_scaling, class_weight, penalty, dual, verbose, max_iter, tol, random_state, multi_class, loss, epsilon, sample_weight)\u001b[0m\n\u001b[1;32m    919\u001b[0m         \u001b[0mX\u001b[0m\u001b[0;34m,\u001b[0m \u001b[0my_ind\u001b[0m\u001b[0;34m,\u001b[0m \u001b[0msp\u001b[0m\u001b[0;34m.\u001b[0m\u001b[0misspmatrix\u001b[0m\u001b[0;34m(\u001b[0m\u001b[0mX\u001b[0m\u001b[0;34m)\u001b[0m\u001b[0;34m,\u001b[0m \u001b[0msolver_type\u001b[0m\u001b[0;34m,\u001b[0m \u001b[0mtol\u001b[0m\u001b[0;34m,\u001b[0m \u001b[0mbias\u001b[0m\u001b[0;34m,\u001b[0m \u001b[0mC\u001b[0m\u001b[0;34m,\u001b[0m\u001b[0;34m\u001b[0m\u001b[0;34m\u001b[0m\u001b[0m\n\u001b[1;32m    920\u001b[0m         \u001b[0mclass_weight_\u001b[0m\u001b[0;34m,\u001b[0m \u001b[0mmax_iter\u001b[0m\u001b[0;34m,\u001b[0m \u001b[0mrnd\u001b[0m\u001b[0;34m.\u001b[0m\u001b[0mrandint\u001b[0m\u001b[0;34m(\u001b[0m\u001b[0mnp\u001b[0m\u001b[0;34m.\u001b[0m\u001b[0miinfo\u001b[0m\u001b[0;34m(\u001b[0m\u001b[0;34m'i'\u001b[0m\u001b[0;34m)\u001b[0m\u001b[0;34m.\u001b[0m\u001b[0mmax\u001b[0m\u001b[0;34m)\u001b[0m\u001b[0;34m,\u001b[0m\u001b[0;34m\u001b[0m\u001b[0;34m\u001b[0m\u001b[0m\n\u001b[0;32m--> 921\u001b[0;31m         epsilon, sample_weight)\n\u001b[0m\u001b[1;32m    922\u001b[0m     \u001b[0;31m# Regarding rnd.randint(..) in the above signature:\u001b[0m\u001b[0;34m\u001b[0m\u001b[0;34m\u001b[0m\u001b[0;34m\u001b[0m\u001b[0m\n\u001b[1;32m    923\u001b[0m     \u001b[0;31m# seed for srand in range [0..INT_MAX); due to limitations in Numpy\u001b[0m\u001b[0;34m\u001b[0m\u001b[0;34m\u001b[0m\u001b[0;34m\u001b[0m\u001b[0m\n",
      "\u001b[0;31mKeyboardInterrupt\u001b[0m: "
     ]
    }
   ],
   "source": [
    "clf = LinearSVC(random_state=0, tol=1e-5)\n",
    "\n",
    "y_cifar10_valid_pred = []\n",
    "y_cifar10_train_pred = []\n",
    "sample_size = [100, 200, 500, 1000, 2000, 5000]\n",
    "for n in sample_size:\n",
    "    clf.fit(X_cifar10_train[:n], y_cifar10_train[:n])\n",
    "    y_cifar10_valid_pred.append(clf.predict(X_cifar10_valid))\n",
    "    y_cifar10_train_pred.append(clf.predict(X_cifar10_train))"
   ]
  },
  {
   "cell_type": "code",
   "execution_count": null,
   "metadata": {},
   "outputs": [],
   "source": [
    "cifar10_valid_score = []\n",
    "cifar10_train_score = []\n",
    "for n in range(len(sample_size)):\n",
    "    cifar10_valid_score.append(accuracy_score(y_cifar10_valid, y_cifar10_valid_pred[n]))\n",
    "    cifar10_train_score.append(accuracy_score(y_cifar10_train, y_cifar10_train_pred[n]))"
   ]
  },
  {
   "cell_type": "code",
   "execution_count": null,
   "metadata": {},
   "outputs": [],
   "source": [
    "plt.plot(sample_size, cifar10_valid_score, label='validation')\n",
    "plt.plot(sample_size, cifar10_train_score, label='train')\n",
    "plt.legend()\n",
    "plt.xlabel('n_samples')\n",
    "plt.ylabel('accuracy')\n",
    "plt.show()"
   ]
  },
  {
   "cell_type": "markdown",
   "metadata": {},
   "source": [
    "# 4) Hyperparameter Tuning"
   ]
  },
  {
   "cell_type": "markdown",
   "metadata": {},
   "source": [
    "* (a) For the MNIST dataset, find the best C value. In your report, list at least 8 C values you tried, the corresponding accuracies, and the best C value. As in the previous problem, for performance reasons, you are required to train with up to 10,000 training examples but not required to train with more than that."
   ]
  },
  {
   "cell_type": "code",
   "execution_count": 19,
   "metadata": {},
   "outputs": [],
   "source": [
    "C_value = list(np.linspace(5e-8,9e-7,20))\n",
    "n = 10000\n",
    "\n",
    "y_mnist_valid_pred = []\n",
    "y_mnist_train_pred = []\n",
    "for C in C_value:\n",
    "    clf = LinearSVC(random_state=0, tol=1e-5, C = C)\n",
    "    clf.fit(X_mnist_train[:n], y_mnist_train[:n])\n",
    "    y_mnist_valid_pred.append(clf.predict(X_mnist_valid))\n",
    "    y_mnist_train_pred.append(clf.predict(X_mnist_train))"
   ]
  },
  {
   "cell_type": "code",
   "execution_count": 20,
   "metadata": {},
   "outputs": [],
   "source": [
    "mnist_valid_score = []\n",
    "mnist_train_score = []\n",
    "for n in range(len(C_value)):\n",
    "    mnist_valid_score.append(accuracy_score(y_mnist_valid, y_mnist_valid_pred[n]))\n",
    "    mnist_train_score.append(accuracy_score(y_mnist_train, y_mnist_train_pred[n]))"
   ]
  },
  {
   "cell_type": "code",
   "execution_count": 21,
   "metadata": {},
   "outputs": [
    {
     "data": {
      "image/png": "[encoded data removed]",
      "text/plain": [
       "<Figure size 432x288 with 1 Axes>"
      ]
     },
     "metadata": {
      "needs_background": "light"
     },
     "output_type": "display_data"
    },
    {
     "name": "stdout",
     "output_type": "stream",
     "text": [
      "tried C values : [5e-08, 9.473684210526316e-08, 1.3947368421052632e-07, 1.8421052631578946e-07, 2.2894736842105262e-07, 2.736842105263158e-07, 3.184210526315789e-07, 3.631578947368421e-07, 4.0789473684210524e-07, 4.526315789473684e-07, 4.973684210526316e-07, 5.421052631578948e-07, 5.868421052631579e-07, 6.31578947368421e-07, 6.763157894736841e-07, 7.210526315789474e-07, 7.657894736842105e-07, 8.105263157894736e-07, 8.552631578947367e-07, 9e-07]\n"
     ]
    }
   ],
   "source": [
    "plt.plot(C_value, mnist_valid_score, label='validation')\n",
    "plt.plot(C_value, mnist_train_score, label='train')\n",
    "plt.legend()\n",
    "plt.title('max validation acurracy = ' + str(max(mnist_valid_score)) + ' @ C = ' + str(C_value[mnist_valid_score.index(max(mnist_valid_score))]))\n",
    "plt.xlabel('C')\n",
    "plt.ylabel('accuracy')\n",
    "plt.show()\n",
    "\n",
    "print('tried C values : ' + str([i for i in C_value]))"
   ]
  },
  {
   "cell_type": "markdown",
   "metadata": {},
   "source": [
    "# 5) K-Fold Cross-Validation"
   ]
  },
  {
   "cell_type": "code",
   "execution_count": 22,
   "metadata": {},
   "outputs": [],
   "source": [
    "import random"
   ]
  },
  {
   "cell_type": "code",
   "execution_count": 23,
   "metadata": {},
   "outputs": [],
   "source": [
    "from sklearn.utils import shuffle"
   ]
  },
  {
   "cell_type": "code",
   "execution_count": 24,
   "metadata": {},
   "outputs": [],
   "source": [
    "spam_shuffled = shuffle(spam_data['training_data'], spam_data['training_labels'], random_state=42)"
   ]
  },
  {
   "cell_type": "code",
   "execution_count": 25,
   "metadata": {},
   "outputs": [],
   "source": [
    "C_value = list(np.linspace(0.2,6,50))\n",
    "splits = 5\n",
    "slice_idx = len(spam_shuffled[0])//splits\n",
    "\n",
    "spam_valid_score = []\n",
    "spam_train_score = []\n",
    "for C in C_value:\n",
    "    \n",
    "    spam_valid_accuracy = []\n",
    "    spam_train_accuracy = []\n",
    "    \n",
    "    for n in range(splits):\n",
    "        X_spam = np.roll(spam_shuffled[0],n*slice_idx)\n",
    "        y_spam = np.roll(spam_shuffled[1],n*slice_idx)\n",
    "\n",
    "        X_spam_train, X_spam_valid, y_spam_train, y_spam_valid = train_test_split(X_spam, y_spam, test_size=1/splits, random_state=42, shuffle=False)\n",
    "       \n",
    "        clf = LinearSVC(random_state=0, tol=1e-5, C = C)\n",
    "        clf.fit(X_spam_train, y_spam_train)\n",
    "        y_spam_valid_pred = clf.predict(X_spam_valid)\n",
    "        y_spam_train_pred = clf.predict(X_spam_train)\n",
    "        \n",
    "        spam_valid_accuracy.append(accuracy_score(y_spam_valid, y_spam_valid_pred))\n",
    "        spam_train_accuracy.append(accuracy_score(y_spam_train, y_spam_train_pred))\n",
    "\n",
    "    spam_valid_score.append(np.mean(spam_valid_accuracy))\n",
    "    spam_train_score.append(np.mean(spam_train_accuracy))"
   ]
  },
  {
   "cell_type": "code",
   "execution_count": 26,
   "metadata": {},
   "outputs": [
    {
     "data": {
      "image/png": "[encoded data removed]",
      "text/plain": [
       "<Figure size 432x288 with 1 Axes>"
      ]
     },
     "metadata": {
      "needs_background": "light"
     },
     "output_type": "display_data"
    },
    {
     "name": "stdout",
     "output_type": "stream",
     "text": [
      "tried C values : [0.2, 0.3183673469387755, 0.43673469387755104, 0.5551020408163265, 0.673469387755102, 0.7918367346938775, 0.9102040816326531, 1.0285714285714285, 1.146938775510204, 1.2653061224489794, 1.383673469387755, 1.5020408163265304, 1.620408163265306, 1.7387755102040814, 1.857142857142857, 1.9755102040816324, 2.093877551020408, 2.2122448979591836, 2.330612244897959, 2.4489795918367347, 2.5673469387755103, 2.6857142857142855, 2.804081632653061, 2.9224489795918367, 3.0408163265306123, 3.159183673469388, 3.277551020408163, 3.3959183673469386, 3.5142857142857142, 3.63265306122449, 3.751020408163265, 3.8693877551020406, 3.987755102040816, 4.106122448979591, 4.224489795918367, 4.3428571428571425, 4.461224489795918, 4.579591836734694, 4.697959183673469, 4.816326530612245, 4.9346938775510205, 5.053061224489796, 5.171428571428571, 5.289795918367346, 5.408163265306122, 5.526530612244898, 5.644897959183673, 5.763265306122449, 5.881632653061224, 6.0]\n"
     ]
    }
   ],
   "source": [
    "plt.plot(C_value, spam_valid_score, label='validation')\n",
    "plt.plot(C_value, spam_train_score, label='train')\n",
    "plt.legend()\n",
    "plt.title('max validation acurracy = ' + str(max(spam_valid_score)) + ' @ C = ' + str(C_value[spam_valid_score.index(max(spam_valid_score))]))\n",
    "plt.xlabel('C')\n",
    "plt.ylabel('accuracy')\n",
    "plt.show()\n",
    "\n",
    "print('tried C values : ' + str([i for i in C_value]))"
   ]
  },
  {
   "cell_type": "markdown",
   "metadata": {},
   "source": [
    "# 6) Kaggle"
   ]
  },
  {
   "cell_type": "markdown",
   "metadata": {},
   "source": [
    "* MNIST Competition: https://www.kaggle.com/t/38eaa18e7d154cae8b8957a4d39b1ac3"
   ]
  },
  {
   "cell_type": "code",
   "execution_count": 77,
   "metadata": {},
   "outputs": [
    {
     "data": {
      "text/plain": [
       "0.9824"
      ]
     },
     "execution_count": 77,
     "metadata": {},
     "output_type": "execute_result"
    }
   ],
   "source": [
    "#clf = LinearSVC(random_state=0, tol=1e-5, C=1.8421052631578946e-07)\n",
    "\n",
    "from sklearn.svm import SVC\n",
    "\n",
    "clf = SVC(random_state=0, tol=1e-5, C=1.6515151515151515e-07, kernel='poly', degree=2) # use poly kernel\n",
    "\n",
    "clf.fit(X_mnist_train, y_mnist_train)\n",
    "y_mnist_valid_pred = clf.predict(X_mnist_valid)\n",
    "accuracy_score(y_mnist_valid, y_mnist_valid_pred)"
   ]
  },
  {
   "cell_type": "code",
   "execution_count": 78,
   "metadata": {},
   "outputs": [],
   "source": [
    "X_mnist_test = mnist_data['test_data']"
   ]
  },
  {
   "cell_type": "code",
   "execution_count": 80,
   "metadata": {},
   "outputs": [],
   "source": [
    "y_spam_test_pred = clf.predict(X_mnist_test)"
   ]
  },
  {
   "cell_type": "code",
   "execution_count": 81,
   "metadata": {},
   "outputs": [],
   "source": [
    "# A code snippet to help you save your results into a kaggle accepted csv\n",
    "import pandas as pd\n",
    "#import numpy as np\n",
    "\n",
    "# Usage results_to_csv(clf.predict(X_test))\n",
    "def results_to_csv(y_test):\n",
    "    y_test = y_test.astype(int)\n",
    "    df = pd.DataFrame({'Category': y_test})\n",
    "    df.index += 1  # Ensures that the index starts at 1. \n",
    "    df.to_csv('submission_mnist.csv', index_label='Id')\n"
   ]
  },
  {
   "cell_type": "code",
   "execution_count": 82,
   "metadata": {},
   "outputs": [],
   "source": [
    "results_to_csv(y_spam_test_pred)"
   ]
  },
  {
   "cell_type": "markdown",
   "metadata": {},
   "source": [
    "* SPAM Competition: https://www.kaggle.com/t/76ac7336b3d04cdabefda13299102cc6"
   ]
  },
  {
   "cell_type": "code",
   "execution_count": 27,
   "metadata": {},
   "outputs": [],
   "source": [
    "\n",
    "y_spam_valid_pred = []\n",
    "y_spam_train_pred = []\n",
    "C_value = np.linspace(0.001,200,100)\n",
    "for C in C_value:\n",
    "    clf = LinearSVC(random_state=0, tol=1e-5, C=C)\n",
    "    clf.fit(X_spam_train, y_spam_train)\n",
    "    y_spam_valid_pred.append(clf.predict(X_spam_valid))\n",
    "    y_spam_train_pred.append(clf.predict(X_spam_train))"
   ]
  },
  {
   "cell_type": "code",
   "execution_count": 28,
   "metadata": {},
   "outputs": [],
   "source": [
    "spam_valid_score = []\n",
    "spam_train_score = []\n",
    "for n in range(len(C_value)):\n",
    "    spam_valid_score.append(accuracy_score(y_spam_valid, y_spam_valid_pred[n]))\n",
    "    spam_train_score.append(accuracy_score(y_spam_train, y_spam_train_pred[n]))"
   ]
  },
  {
   "cell_type": "code",
   "execution_count": 29,
   "metadata": {},
   "outputs": [
    {
     "data": {
      "image/png": "[encoded data removed]",
      "text/plain": [
       "<Figure size 432x288 with 1 Axes>"
      ]
     },
     "metadata": {
      "needs_background": "light"
     },
     "output_type": "display_data"
    },
    {
     "name": "stdout",
     "output_type": "stream",
     "text": [
      "tried C values : [0.001, 2.021191919191919, 4.0413838383838385, 6.061575757575757, 8.081767676767676, 10.101959595959595, 12.122151515151513, 14.142343434343433, 16.162535353535354, 18.182727272727274, 20.202919191919193, 22.223111111111113, 24.24330303030303, 26.263494949494948, 28.283686868686868, 30.303878787878787, 32.3240707070707, 34.34426262626262, 36.36445454545454, 38.38464646464646, 40.40483838383838, 42.4250303030303, 44.44522222222222, 46.465414141414136, 48.48560606060605, 50.505797979797975, 52.52598989898989, 54.546181818181815, 56.56637373737373, 58.586565656565654, 60.60675757575757, 62.62694949494949, 64.64714141414142, 66.66733333333333, 68.68752525252525, 70.70771717171718, 72.7279090909091, 74.74810101010101, 76.76829292929293, 78.78848484848486, 80.80867676767677, 82.82886868686869, 84.8490606060606, 86.86925252525252, 88.88944444444445, 90.90963636363637, 92.92982828282828, 94.9500202020202, 96.97021212121211, 98.99040404040404, 101.01059595959596, 103.03078787878788, 105.05097979797979, 107.07117171717172, 109.09136363636364, 111.11155555555555, 113.13174747474747, 115.15193939393939, 117.17213131313132, 119.19232323232323, 121.21251515151515, 123.23270707070706, 125.252898989899, 127.27309090909091, 129.29328282828283, 131.31347474747474, 133.33366666666666, 135.35385858585857, 137.3740505050505, 139.39424242424244, 141.41443434343435, 143.43462626262627, 145.45481818181818, 147.4750101010101, 149.49520202020202, 151.51539393939393, 153.53558585858585, 155.55577777777776, 157.5759696969697, 159.59616161616162, 161.61635353535354, 163.63654545454546, 165.65673737373737, 167.6769292929293, 169.6971212121212, 171.71731313131312, 173.73750505050504, 175.75769696969698, 177.7778888888889, 179.7980808080808, 181.81827272727273, 183.83846464646464, 185.85865656565656, 187.87884848484848, 189.8990404040404, 191.9192323232323, 193.93942424242422, 195.95961616161617, 197.97980808080808, 200.0]\n"
     ]
    }
   ],
   "source": [
    "plt.plot(C_value, spam_valid_score, label='validation')\n",
    "plt.plot(C_value, spam_train_score, label='train')\n",
    "plt.legend()\n",
    "plt.title('max validation acurracy = ' + str(max(spam_valid_score)) + ' @ C = ' + str(C_value[spam_valid_score.index(max(spam_valid_score))]))\n",
    "plt.xlabel('C')\n",
    "plt.ylabel('accuracy')\n",
    "plt.show()\n",
    "\n",
    "print('tried C values : ' + str([i for i in C_value]))"
   ]
  },
  {
   "cell_type": "code",
   "execution_count": 30,
   "metadata": {},
   "outputs": [],
   "source": [
    "X_spam_test = spam_data['test_data']"
   ]
  },
  {
   "cell_type": "code",
   "execution_count": 31,
   "metadata": {},
   "outputs": [],
   "source": [
    "C = 5.289795918367346\n",
    "    \n",
    "clf = LinearSVC(random_state=0, tol=1e-5, C=C)\n",
    "clf.fit(X_spam_train, y_spam_train)\n",
    "y_spam_test_pred = clf.predict(X_spam_test)\n"
   ]
  },
  {
   "cell_type": "code",
   "execution_count": 34,
   "metadata": {},
   "outputs": [],
   "source": [
    "# A code snippet to help you save your results into a kaggle accepted csv\n",
    "import pandas as pd\n",
    "#import numpy as np\n",
    "\n",
    "# Usage results_to_csv(clf.predict(X_test))\n",
    "def results_to_csv(y_test):\n",
    "    y_test = y_test.astype(int)\n",
    "    df = pd.DataFrame({'Category': y_test})\n",
    "    df.index += 1  # Ensures that the index starts at 1. \n",
    "    df.to_csv('submission_spam.csv', index_label='Id')\n"
   ]
  },
  {
   "cell_type": "code",
   "execution_count": 35,
   "metadata": {},
   "outputs": [],
   "source": [
    "results_to_csv(y_spam_test_pred)"
   ]
  },
  {
   "cell_type": "markdown",
   "metadata": {},
   "source": [
    "* CIFAR-10 Competition: https://www.kaggle.com/t/475825f6a31740f8bece23c85db57693"
   ]
  },
  {
   "cell_type": "code",
   "execution_count": 61,
   "metadata": {},
   "outputs": [
    {
     "name": "stdout",
     "output_type": "stream",
     "text": [
      "0.275\n",
      "2.8184080123901367\n"
     ]
    }
   ],
   "source": [
    "#clf = LinearSVC(random_state=0, tol=1e-5)\n",
    "\n",
    "from sklearn.svm import SVC\n",
    "import time\n",
    "\n",
    "clf = SVC(random_state=0, C=1, kernel='linear', tol=1) # use poly kernel\n",
    "time_a = time.time()\n",
    "clf.fit(X_cifar10_train[:200], y_cifar10_train[:200])\n",
    "y_cifar10_valid_pred = clf.predict(X_cifar10_valid)\n",
    "time_b = time.time()\n",
    "print(accuracy_score(y_cifar10_valid, y_cifar10_valid_pred))\n",
    "print(time_b - time_a)"
   ]
  },
  {
   "cell_type": "code",
   "execution_count": 73,
   "metadata": {},
   "outputs": [],
   "source": [
    "X_cifar10_test = cifar10_data['test_data']\n",
    "y_cifar10_test_pred = clf.predict(X_cifar10_test)"
   ]
  },
  {
   "cell_type": "code",
   "execution_count": 74,
   "metadata": {},
   "outputs": [],
   "source": [
    "# A code snippet to help you save your results into a kaggle accepted csv\n",
    "import pandas as pd\n",
    "#import numpy as np\n",
    "\n",
    "# Usage results_to_csv(clf.predict(X_test))\n",
    "def results_to_csv(y_test):\n",
    "    y_test = y_test.astype(int)\n",
    "    df = pd.DataFrame({'Category': y_test})\n",
    "    df.index += 1  # Ensures that the index starts at 1. \n",
    "    df.to_csv('submission_cifar10.csv', index_label='Id')"
   ]
  },
  {
   "cell_type": "code",
   "execution_count": 75,
   "metadata": {},
   "outputs": [],
   "source": [
    "results_to_csv(y_cifar10_test_pred)"
   ]
  },
  {
   "cell_type": "code",
   "execution_count": null,
   "metadata": {},
   "outputs": [],
   "source": []
  }
 ],
 "metadata": {
  "kernelspec": {
   "display_name": "Python 3",
   "language": "python",
   "name": "python3"
  },
  "language_info": {
   "codemirror_mode": {
    "name": "ipython",
    "version": 3
   },
   "file_extension": ".py",
   "mimetype": "text/x-python",
   "name": "python",
   "nbconvert_exporter": "python",
   "pygments_lexer": "ipython3",
   "version": "3.7.3"
  }
 },
 "nbformat": 4,
 "nbformat_minor": 4
}

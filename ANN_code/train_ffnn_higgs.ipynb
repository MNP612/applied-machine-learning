{
 "cells": [
  {
   "cell_type": "code",
   "execution_count": 1,
   "metadata": {},
   "outputs": [
    {
     "name": "stderr",
     "output_type": "stream",
     "text": [
      "  0%|          | 0/500 [00:00<?, ?it/s]"
     ]
    },
    {
     "name": "stdout",
     "output_type": "stream",
     "text": [
      "Training 59_higgs_fully_connected (3 - 20,10), lr=0.01, n_batch=1000, mom=0.2, SGD neural network on higgs with SGD for 400 epochs...\n",
      "Optimizer:\n",
      "{'name': 'SGD', 'lr': 0.01, 'lr_scheduler': 'constant', 'clip_norm': 1.0, 'momentum': 0.2}\n"
     ]
    },
    {
     "name": "stderr",
     "output_type": "stream",
     "text": [
      "100%|██████████| 500/500 [00:33<00:00, 14.80it/s]\n",
      "  0%|          | 1/500 [00:00<01:28,  5.64it/s]"
     ]
    },
    {
     "name": "stdout",
     "output_type": "stream",
     "text": [
      "Example target: [1. 0.]\n",
      "Example prediction: [0.9359, 0.0641]\n",
      "Epoch 0 Training Loss: 3.9839 Training Accuracy: 0.5009 Val Loss: 1.2451 Val Accuracy: 0.4689\n"
     ]
    },
    {
     "name": "stderr",
     "output_type": "stream",
     "text": [
      "100%|██████████| 500/500 [00:34<00:00, 14.38it/s]\n",
      "  0%|          | 1/500 [00:00<01:33,  5.36it/s]"
     ]
    },
    {
     "name": "stdout",
     "output_type": "stream",
     "text": [
      "Example target: [0. 1.]\n",
      "Example prediction: [0.8662, 0.1338]\n",
      "Epoch 1 Training Loss: 3.2499 Training Accuracy: 0.5001 Val Loss: 1.0166 Val Accuracy: 0.4691\n"
     ]
    },
    {
     "name": "stderr",
     "output_type": "stream",
     "text": [
      "100%|██████████| 500/500 [00:35<00:00, 14.18it/s]\n",
      "  0%|          | 1/500 [00:00<01:33,  5.36it/s]"
     ]
    },
    {
     "name": "stdout",
     "output_type": "stream",
     "text": [
      "Example target: [1. 0.]\n",
      "Example prediction: [0.5419, 0.4581]\n",
      "Epoch 2 Training Loss: 2.6616 Training Accuracy: 0.4992 Val Loss: 0.8933 Val Accuracy: 0.4701\n"
     ]
    },
    {
     "name": "stderr",
     "output_type": "stream",
     "text": [
      "100%|██████████| 500/500 [00:35<00:00, 14.05it/s]\n",
      "  0%|          | 1/500 [00:00<01:30,  5.49it/s]"
     ]
    },
    {
     "name": "stdout",
     "output_type": "stream",
     "text": [
      "Example target: [0. 1.]\n",
      "Example prediction: [0.6517, 0.3483]\n",
      "Epoch 3 Training Loss: 2.1762 Training Accuracy: 0.4999 Val Loss: 0.8221 Val Accuracy: 0.4713\n"
     ]
    },
    {
     "name": "stderr",
     "output_type": "stream",
     "text": [
      "100%|██████████| 500/500 [00:35<00:00, 14.17it/s]\n",
      "  0%|          | 1/500 [00:00<01:29,  5.59it/s]"
     ]
    },
    {
     "name": "stdout",
     "output_type": "stream",
     "text": [
      "Example target: [1. 0.]\n",
      "Example prediction: [0.7654, 0.2346]\n",
      "Epoch 4 Training Loss: 1.7864 Training Accuracy: 0.5009 Val Loss: 0.7772 Val Accuracy: 0.4725\n"
     ]
    },
    {
     "name": "stderr",
     "output_type": "stream",
     "text": [
      "100%|██████████| 500/500 [00:35<00:00, 14.12it/s]\n",
      "  0%|          | 1/500 [00:00<01:28,  5.62it/s]"
     ]
    },
    {
     "name": "stdout",
     "output_type": "stream",
     "text": [
      "Example target: [0. 1.]\n",
      "Example prediction: [0.5431, 0.4569]\n",
      "Epoch 5 Training Loss: 1.4866 Training Accuracy: 0.5004 Val Loss: 0.7462 Val Accuracy: 0.473\n"
     ]
    },
    {
     "name": "stderr",
     "output_type": "stream",
     "text": [
      "100%|██████████| 500/500 [00:37<00:00, 13.35it/s]\n",
      "  0%|          | 1/500 [00:00<01:27,  5.71it/s]"
     ]
    },
    {
     "name": "stdout",
     "output_type": "stream",
     "text": [
      "Example target: [0. 1.]\n",
      "Example prediction: [0.6666, 0.3334]\n",
      "Epoch 6 Training Loss: 1.2422 Training Accuracy: 0.5003 Val Loss: 0.7255 Val Accuracy: 0.4738\n"
     ]
    },
    {
     "name": "stderr",
     "output_type": "stream",
     "text": [
      "100%|██████████| 500/500 [00:35<00:00, 13.93it/s]\n",
      "  0%|          | 1/500 [00:00<01:29,  5.59it/s]"
     ]
    },
    {
     "name": "stdout",
     "output_type": "stream",
     "text": [
      "Example target: [1. 0.]\n",
      "Example prediction: [0.5586, 0.4414]\n",
      "Epoch 7 Training Loss: 1.0534 Training Accuracy: 0.5008 Val Loss: 0.7116 Val Accuracy: 0.4747\n"
     ]
    },
    {
     "name": "stderr",
     "output_type": "stream",
     "text": [
      "100%|██████████| 500/500 [00:35<00:00, 14.07it/s]\n",
      "  0%|          | 1/500 [00:00<01:30,  5.50it/s]"
     ]
    },
    {
     "name": "stdout",
     "output_type": "stream",
     "text": [
      "Example target: [0. 1.]\n",
      "Example prediction: [0.484, 0.516]\n",
      "Epoch 8 Training Loss: 0.9141 Training Accuracy: 0.5013 Val Loss: 0.7029 Val Accuracy: 0.4775\n"
     ]
    },
    {
     "name": "stderr",
     "output_type": "stream",
     "text": [
      "100%|██████████| 500/500 [00:35<00:00, 13.58it/s]\n",
      "  0%|          | 1/500 [00:00<01:33,  5.32it/s]"
     ]
    },
    {
     "name": "stdout",
     "output_type": "stream",
     "text": [
      "Example target: [0. 1.]\n",
      "Example prediction: [0.518, 0.482]\n",
      "Epoch 9 Training Loss: 0.8167 Training Accuracy: 0.5037 Val Loss: 0.6972 Val Accuracy: 0.4856\n"
     ]
    },
    {
     "name": "stderr",
     "output_type": "stream",
     "text": [
      "100%|██████████| 500/500 [00:35<00:00, 14.06it/s]\n",
      "  0%|          | 1/500 [00:00<01:29,  5.59it/s]"
     ]
    },
    {
     "name": "stdout",
     "output_type": "stream",
     "text": [
      "Example target: [0. 1.]\n",
      "Example prediction: [0.5752, 0.4248]\n",
      "Epoch 10 Training Loss: 0.7329 Training Accuracy: 0.5034 Val Loss: 0.7183 Val Accuracy: 0.4758\n"
     ]
    },
    {
     "name": "stderr",
     "output_type": "stream",
     "text": [
      "100%|██████████| 500/500 [00:35<00:00, 14.06it/s]\n",
      "  0%|          | 1/500 [00:00<01:30,  5.52it/s]"
     ]
    },
    {
     "name": "stdout",
     "output_type": "stream",
     "text": [
      "Example target: [0. 1.]\n",
      "Example prediction: [0.4759, 0.5241]\n",
      "Epoch 11 Training Loss: 0.7123 Training Accuracy: 0.5052 Val Loss: 0.7106 Val Accuracy: 0.4782\n"
     ]
    },
    {
     "name": "stderr",
     "output_type": "stream",
     "text": [
      "100%|██████████| 500/500 [00:35<00:00, 14.09it/s]\n",
      "  0%|          | 1/500 [00:00<01:29,  5.55it/s]"
     ]
    },
    {
     "name": "stdout",
     "output_type": "stream",
     "text": [
      "Example target: [0. 1.]\n",
      "Example prediction: [0.5271, 0.4729]\n",
      "Epoch 12 Training Loss: 0.7074 Training Accuracy: 0.5058 Val Loss: 0.7059 Val Accuracy: 0.4798\n"
     ]
    },
    {
     "name": "stderr",
     "output_type": "stream",
     "text": [
      "100%|██████████| 500/500 [00:35<00:00, 14.00it/s]\n",
      "  0%|          | 1/500 [00:00<01:35,  5.25it/s]"
     ]
    },
    {
     "name": "stdout",
     "output_type": "stream",
     "text": [
      "Example target: [1. 0.]\n",
      "Example prediction: [0.4816, 0.5184]\n",
      "Epoch 13 Training Loss: 0.7033 Training Accuracy: 0.5079 Val Loss: 0.7025 Val Accuracy: 0.4813\n"
     ]
    },
    {
     "name": "stderr",
     "output_type": "stream",
     "text": [
      "100%|██████████| 500/500 [00:35<00:00, 13.98it/s]\n",
      "  0%|          | 1/500 [00:00<01:34,  5.25it/s]"
     ]
    },
    {
     "name": "stdout",
     "output_type": "stream",
     "text": [
      "Example target: [1. 0.]\n",
      "Example prediction: [0.55, 0.45]\n",
      "Epoch 14 Training Loss: 0.7004 Training Accuracy: 0.5092 Val Loss: 0.6999 Val Accuracy: 0.4841\n"
     ]
    },
    {
     "name": "stderr",
     "output_type": "stream",
     "text": [
      "100%|██████████| 500/500 [00:35<00:00, 14.12it/s]\n",
      "  0%|          | 1/500 [00:00<01:33,  5.32it/s]"
     ]
    },
    {
     "name": "stdout",
     "output_type": "stream",
     "text": [
      "Example target: [1. 0.]\n",
      "Example prediction: [0.4135, 0.5865]\n",
      "Epoch 15 Training Loss: 0.6984 Training Accuracy: 0.51 Val Loss: 0.6958 Val Accuracy: 0.5313\n"
     ]
    },
    {
     "name": "stderr",
     "output_type": "stream",
     "text": [
      "100%|██████████| 500/500 [00:35<00:00, 14.02it/s]\n",
      "  0%|          | 1/500 [00:00<01:26,  5.74it/s]"
     ]
    },
    {
     "name": "stdout",
     "output_type": "stream",
     "text": [
      "Example target: [1. 0.]\n",
      "Example prediction: [0.4474, 0.5526]\n",
      "Epoch 16 Training Loss: 0.697 Training Accuracy: 0.5173 Val Loss: 0.6922 Val Accuracy: 0.5313\n"
     ]
    },
    {
     "name": "stderr",
     "output_type": "stream",
     "text": [
      "100%|██████████| 500/500 [00:35<00:00, 14.06it/s]\n",
      "  0%|          | 1/500 [00:00<01:34,  5.30it/s]"
     ]
    },
    {
     "name": "stdout",
     "output_type": "stream",
     "text": [
      "Example target: [0. 1.]\n",
      "Example prediction: [0.4273, 0.5727]\n",
      "Epoch 17 Training Loss: 0.6964 Training Accuracy: 0.5191 Val Loss: 0.6947 Val Accuracy: 0.5313\n"
     ]
    },
    {
     "name": "stderr",
     "output_type": "stream",
     "text": [
      "100%|██████████| 500/500 [00:35<00:00, 14.14it/s]\n",
      "  0%|          | 1/500 [00:00<01:35,  5.20it/s]"
     ]
    },
    {
     "name": "stdout",
     "output_type": "stream",
     "text": [
      "Example target: [1. 0.]\n",
      "Example prediction: [0.4505, 0.5495]\n",
      "Epoch 18 Training Loss: 0.6948 Training Accuracy: 0.5219 Val Loss: 0.692 Val Accuracy: 0.5313\n"
     ]
    },
    {
     "name": "stderr",
     "output_type": "stream",
     "text": [
      "100%|██████████| 500/500 [00:35<00:00, 14.01it/s]\n",
      "  0%|          | 1/500 [00:00<01:38,  5.08it/s]"
     ]
    },
    {
     "name": "stdout",
     "output_type": "stream",
     "text": [
      "Example target: [0. 1.]\n",
      "Example prediction: [0.4374, 0.5626]\n",
      "Epoch 19 Training Loss: 0.6939 Training Accuracy: 0.5243 Val Loss: 0.6932 Val Accuracy: 0.5313\n"
     ]
    },
    {
     "name": "stderr",
     "output_type": "stream",
     "text": [
      "100%|██████████| 500/500 [00:35<00:00, 13.98it/s]\n",
      "  0%|          | 1/500 [00:00<01:33,  5.36it/s]"
     ]
    },
    {
     "name": "stdout",
     "output_type": "stream",
     "text": [
      "Example target: [1. 0.]\n",
      "Example prediction: [0.5191, 0.4809]\n",
      "Epoch 20 Training Loss: 0.6933 Training Accuracy: 0.526 Val Loss: 0.6932 Val Accuracy: 0.5241\n"
     ]
    },
    {
     "name": "stderr",
     "output_type": "stream",
     "text": [
      "100%|██████████| 500/500 [00:35<00:00, 14.09it/s]\n",
      "  0%|          | 1/500 [00:00<01:33,  5.35it/s]"
     ]
    },
    {
     "name": "stdout",
     "output_type": "stream",
     "text": [
      "Example target: [0. 1.]\n",
      "Example prediction: [0.4679, 0.5321]\n",
      "Epoch 21 Training Loss: 0.6928 Training Accuracy: 0.5287 Val Loss: 0.6917 Val Accuracy: 0.5323\n"
     ]
    },
    {
     "name": "stderr",
     "output_type": "stream",
     "text": [
      "100%|██████████| 500/500 [00:35<00:00, 14.19it/s]\n",
      "  0%|          | 1/500 [00:00<01:27,  5.69it/s]"
     ]
    },
    {
     "name": "stdout",
     "output_type": "stream",
     "text": [
      "Example target: [0. 1.]\n",
      "Example prediction: [0.4457, 0.5543]\n",
      "Epoch 22 Training Loss: 0.6927 Training Accuracy: 0.5286 Val Loss: 0.692 Val Accuracy: 0.5314\n"
     ]
    },
    {
     "name": "stderr",
     "output_type": "stream",
     "text": [
      "100%|██████████| 500/500 [00:35<00:00, 14.14it/s]\n",
      "  0%|          | 1/500 [00:00<01:34,  5.26it/s]"
     ]
    },
    {
     "name": "stdout",
     "output_type": "stream",
     "text": [
      "Example target: [0. 1.]\n",
      "Example prediction: [0.4822, 0.5178]\n",
      "Epoch 23 Training Loss: 0.6925 Training Accuracy: 0.5293 Val Loss: 0.6917 Val Accuracy: 0.532\n"
     ]
    },
    {
     "name": "stderr",
     "output_type": "stream",
     "text": [
      "100%|██████████| 500/500 [00:35<00:00, 14.07it/s]\n",
      "  0%|          | 1/500 [00:00<01:27,  5.70it/s]"
     ]
    },
    {
     "name": "stdout",
     "output_type": "stream",
     "text": [
      "Example target: [0. 1.]\n",
      "Example prediction: [0.4537, 0.5463]\n",
      "Epoch 24 Training Loss: 0.6924 Training Accuracy: 0.53 Val Loss: 0.6918 Val Accuracy: 0.5327\n"
     ]
    },
    {
     "name": "stderr",
     "output_type": "stream",
     "text": [
      "100%|██████████| 500/500 [00:35<00:00, 14.14it/s]\n",
      "  0%|          | 0/500 [00:00<?, ?it/s]"
     ]
    },
    {
     "name": "stdout",
     "output_type": "stream",
     "text": [
      "Example target: [1. 0.]\n",
      "Example prediction: [0.4671, 0.5329]\n",
      "Epoch 25 Training Loss: 0.6923 Training Accuracy: 0.53 Val Loss: 0.6921 Val Accuracy: 0.5313\n"
     ]
    },
    {
     "name": "stderr",
     "output_type": "stream",
     "text": [
      "100%|██████████| 500/500 [00:35<00:00, 14.05it/s]\n",
      "  0%|          | 1/500 [00:00<01:38,  5.09it/s]"
     ]
    },
    {
     "name": "stdout",
     "output_type": "stream",
     "text": [
      "Example target: [0. 1.]\n",
      "Example prediction: [0.4704, 0.5296]\n",
      "Epoch 26 Training Loss: 0.6923 Training Accuracy: 0.5301 Val Loss: 0.6917 Val Accuracy: 0.5325\n"
     ]
    },
    {
     "name": "stderr",
     "output_type": "stream",
     "text": [
      "100%|██████████| 500/500 [00:39<00:00, 12.50it/s]\n",
      "  0%|          | 1/500 [00:00<01:29,  5.56it/s]"
     ]
    },
    {
     "name": "stdout",
     "output_type": "stream",
     "text": [
      "Example target: [0. 1.]\n",
      "Example prediction: [0.45, 0.55]\n",
      "Epoch 27 Training Loss: 0.6922 Training Accuracy: 0.5302 Val Loss: 0.6917 Val Accuracy: 0.5324\n"
     ]
    },
    {
     "name": "stderr",
     "output_type": "stream",
     "text": [
      "100%|██████████| 500/500 [00:35<00:00, 13.99it/s]\n",
      "  0%|          | 1/500 [00:00<01:32,  5.42it/s]"
     ]
    },
    {
     "name": "stdout",
     "output_type": "stream",
     "text": [
      "Example target: [0. 1.]\n",
      "Example prediction: [0.4461, 0.5539]\n",
      "Epoch 28 Training Loss: 0.6922 Training Accuracy: 0.531 Val Loss: 0.6919 Val Accuracy: 0.5313\n"
     ]
    },
    {
     "name": "stderr",
     "output_type": "stream",
     "text": [
      "100%|██████████| 500/500 [00:36<00:00, 13.80it/s]\n",
      "  0%|          | 1/500 [00:00<01:30,  5.51it/s]"
     ]
    },
    {
     "name": "stdout",
     "output_type": "stream",
     "text": [
      "Example target: [0. 1.]\n",
      "Example prediction: [0.4769, 0.5231]\n",
      "Epoch 29 Training Loss: 0.6921 Training Accuracy: 0.5308 Val Loss: 0.6918 Val Accuracy: 0.5322\n"
     ]
    },
    {
     "name": "stderr",
     "output_type": "stream",
     "text": [
      "100%|██████████| 500/500 [00:37<00:00, 13.24it/s]\n",
      "  0%|          | 1/500 [00:00<01:34,  5.30it/s]"
     ]
    },
    {
     "name": "stdout",
     "output_type": "stream",
     "text": [
      "Example target: [0. 1.]\n",
      "Example prediction: [0.4665, 0.5335]\n",
      "Epoch 30 Training Loss: 0.6921 Training Accuracy: 0.5311 Val Loss: 0.6917 Val Accuracy: 0.5323\n"
     ]
    },
    {
     "name": "stderr",
     "output_type": "stream",
     "text": [
      "100%|██████████| 500/500 [00:36<00:00, 13.87it/s]\n",
      "  0%|          | 1/500 [00:00<01:32,  5.38it/s]"
     ]
    },
    {
     "name": "stdout",
     "output_type": "stream",
     "text": [
      "Example target: [1. 0.]\n",
      "Example prediction: [0.4723, 0.5277]\n",
      "Epoch 31 Training Loss: 0.6921 Training Accuracy: 0.5315 Val Loss: 0.6923 Val Accuracy: 0.5309\n"
     ]
    },
    {
     "name": "stderr",
     "output_type": "stream",
     "text": [
      "100%|██████████| 500/500 [00:36<00:00, 13.84it/s]\n",
      "  0%|          | 1/500 [00:00<01:38,  5.07it/s]"
     ]
    },
    {
     "name": "stdout",
     "output_type": "stream",
     "text": [
      "Example target: [1. 0.]\n",
      "Example prediction: [0.4401, 0.5599]\n",
      "Epoch 32 Training Loss: 0.6921 Training Accuracy: 0.5315 Val Loss: 0.6918 Val Accuracy: 0.532\n"
     ]
    },
    {
     "name": "stderr",
     "output_type": "stream",
     "text": [
      "100%|██████████| 500/500 [00:35<00:00, 14.04it/s]\n",
      "  0%|          | 1/500 [00:00<01:32,  5.42it/s]"
     ]
    },
    {
     "name": "stdout",
     "output_type": "stream",
     "text": [
      "Example target: [0. 1.]\n",
      "Example prediction: [0.4669, 0.5331]\n",
      "Epoch 33 Training Loss: 0.6921 Training Accuracy: 0.5316 Val Loss: 0.6917 Val Accuracy: 0.5319\n"
     ]
    },
    {
     "name": "stderr",
     "output_type": "stream",
     "text": [
      "100%|██████████| 500/500 [00:35<00:00, 13.91it/s]\n",
      "  0%|          | 1/500 [00:00<01:30,  5.52it/s]"
     ]
    },
    {
     "name": "stdout",
     "output_type": "stream",
     "text": [
      "Example target: [1. 0.]\n",
      "Example prediction: [0.4772, 0.5228]\n",
      "Epoch 34 Training Loss: 0.6921 Training Accuracy: 0.5319 Val Loss: 0.692 Val Accuracy: 0.5312\n"
     ]
    },
    {
     "name": "stderr",
     "output_type": "stream",
     "text": [
      "100%|██████████| 500/500 [00:35<00:00, 13.94it/s]\n",
      "  0%|          | 1/500 [00:00<01:33,  5.36it/s]"
     ]
    },
    {
     "name": "stdout",
     "output_type": "stream",
     "text": [
      "Example target: [1. 0.]\n",
      "Example prediction: [0.4951, 0.5049]\n",
      "Epoch 35 Training Loss: 0.692 Training Accuracy: 0.532 Val Loss: 0.6923 Val Accuracy: 0.5313\n"
     ]
    },
    {
     "name": "stderr",
     "output_type": "stream",
     "text": [
      "100%|██████████| 500/500 [00:38<00:00, 12.86it/s]\n",
      "  0%|          | 1/500 [00:00<01:32,  5.37it/s]"
     ]
    },
    {
     "name": "stdout",
     "output_type": "stream",
     "text": [
      "Example target: [0. 1.]\n",
      "Example prediction: [0.4743, 0.5257]\n",
      "Epoch 36 Training Loss: 0.692 Training Accuracy: 0.5316 Val Loss: 0.6918 Val Accuracy: 0.5325\n"
     ]
    },
    {
     "name": "stderr",
     "output_type": "stream",
     "text": [
      "100%|██████████| 500/500 [00:35<00:00, 14.05it/s]\n",
      "  0%|          | 1/500 [00:00<01:29,  5.55it/s]"
     ]
    },
    {
     "name": "stdout",
     "output_type": "stream",
     "text": [
      "Example target: [1. 0.]\n",
      "Example prediction: [0.4829, 0.5171]\n",
      "Epoch 37 Training Loss: 0.6921 Training Accuracy: 0.5317 Val Loss: 0.6919 Val Accuracy: 0.5318\n"
     ]
    },
    {
     "name": "stderr",
     "output_type": "stream",
     "text": [
      "100%|██████████| 500/500 [00:35<00:00, 14.07it/s]\n",
      "  0%|          | 1/500 [00:00<01:29,  5.56it/s]"
     ]
    },
    {
     "name": "stdout",
     "output_type": "stream",
     "text": [
      "Example target: [1. 0.]\n",
      "Example prediction: [0.4417, 0.5583]\n",
      "Epoch 38 Training Loss: 0.692 Training Accuracy: 0.5321 Val Loss: 0.6918 Val Accuracy: 0.5322\n"
     ]
    },
    {
     "name": "stderr",
     "output_type": "stream",
     "text": [
      "100%|██████████| 500/500 [00:35<00:00, 14.19it/s]\n",
      "  0%|          | 1/500 [00:00<01:29,  5.60it/s]"
     ]
    },
    {
     "name": "stdout",
     "output_type": "stream",
     "text": [
      "Example target: [1. 0.]\n",
      "Example prediction: [0.4429, 0.5571]\n",
      "Epoch 39 Training Loss: 0.692 Training Accuracy: 0.5321 Val Loss: 0.6918 Val Accuracy: 0.5323\n"
     ]
    },
    {
     "name": "stderr",
     "output_type": "stream",
     "text": [
      "100%|██████████| 500/500 [00:35<00:00, 14.13it/s]\n",
      "  0%|          | 1/500 [00:00<01:32,  5.38it/s]"
     ]
    },
    {
     "name": "stdout",
     "output_type": "stream",
     "text": [
      "Example target: [1. 0.]\n",
      "Example prediction: [0.4398, 0.5602]\n",
      "Epoch 40 Training Loss: 0.692 Training Accuracy: 0.5321 Val Loss: 0.6917 Val Accuracy: 0.5324\n"
     ]
    },
    {
     "name": "stderr",
     "output_type": "stream",
     "text": [
      "100%|██████████| 500/500 [00:35<00:00, 14.10it/s]\n",
      "  0%|          | 1/500 [00:00<01:33,  5.33it/s]"
     ]
    },
    {
     "name": "stdout",
     "output_type": "stream",
     "text": [
      "Example target: [0. 1.]\n",
      "Example prediction: [0.4775, 0.5225]\n",
      "Epoch 41 Training Loss: 0.692 Training Accuracy: 0.5322 Val Loss: 0.6918 Val Accuracy: 0.5323\n"
     ]
    },
    {
     "name": "stderr",
     "output_type": "stream",
     "text": [
      "100%|██████████| 500/500 [00:35<00:00, 14.18it/s]\n",
      "  0%|          | 1/500 [00:00<01:28,  5.62it/s]"
     ]
    },
    {
     "name": "stdout",
     "output_type": "stream",
     "text": [
      "Example target: [1. 0.]\n",
      "Example prediction: [0.4863, 0.5137]\n",
      "Epoch 42 Training Loss: 0.692 Training Accuracy: 0.532 Val Loss: 0.6919 Val Accuracy: 0.532\n"
     ]
    },
    {
     "name": "stderr",
     "output_type": "stream",
     "text": [
      "100%|██████████| 500/500 [00:35<00:00, 14.08it/s]\n",
      "  0%|          | 1/500 [00:00<01:30,  5.52it/s]"
     ]
    },
    {
     "name": "stdout",
     "output_type": "stream",
     "text": [
      "Example target: [0. 1.]\n",
      "Example prediction: [0.476, 0.524]\n",
      "Epoch 43 Training Loss: 0.692 Training Accuracy: 0.5322 Val Loss: 0.6918 Val Accuracy: 0.5322\n"
     ]
    },
    {
     "name": "stderr",
     "output_type": "stream",
     "text": [
      "100%|██████████| 500/500 [00:35<00:00, 14.01it/s]\n",
      "  0%|          | 1/500 [00:00<01:29,  5.60it/s]"
     ]
    },
    {
     "name": "stdout",
     "output_type": "stream",
     "text": [
      "Example target: [0. 1.]\n",
      "Example prediction: [0.4528, 0.5472]\n",
      "Epoch 44 Training Loss: 0.692 Training Accuracy: 0.5318 Val Loss: 0.6918 Val Accuracy: 0.5326\n"
     ]
    },
    {
     "name": "stderr",
     "output_type": "stream",
     "text": [
      "100%|██████████| 500/500 [00:35<00:00, 14.20it/s]\n",
      "  0%|          | 1/500 [00:00<01:31,  5.47it/s]"
     ]
    },
    {
     "name": "stdout",
     "output_type": "stream",
     "text": [
      "Example target: [0. 1.]\n",
      "Example prediction: [0.4508, 0.5492]\n",
      "Epoch 45 Training Loss: 0.692 Training Accuracy: 0.5321 Val Loss: 0.6921 Val Accuracy: 0.5307\n"
     ]
    },
    {
     "name": "stderr",
     "output_type": "stream",
     "text": [
      "100%|██████████| 500/500 [00:35<00:00, 14.16it/s]\n",
      "  0%|          | 1/500 [00:00<01:32,  5.42it/s]"
     ]
    },
    {
     "name": "stdout",
     "output_type": "stream",
     "text": [
      "Example target: [0. 1.]\n",
      "Example prediction: [0.4782, 0.5218]\n",
      "Epoch 46 Training Loss: 0.692 Training Accuracy: 0.5321 Val Loss: 0.6919 Val Accuracy: 0.5318\n"
     ]
    },
    {
     "name": "stderr",
     "output_type": "stream",
     "text": [
      "100%|██████████| 500/500 [00:35<00:00, 14.21it/s]\n",
      "  0%|          | 1/500 [00:00<01:35,  5.24it/s]"
     ]
    },
    {
     "name": "stdout",
     "output_type": "stream",
     "text": [
      "Example target: [0. 1.]\n",
      "Example prediction: [0.4623, 0.5377]\n",
      "Epoch 47 Training Loss: 0.692 Training Accuracy: 0.5322 Val Loss: 0.6918 Val Accuracy: 0.5325\n"
     ]
    },
    {
     "name": "stderr",
     "output_type": "stream",
     "text": [
      "100%|██████████| 500/500 [00:35<00:00, 14.15it/s]\n",
      "  0%|          | 1/500 [00:00<01:35,  5.24it/s]"
     ]
    },
    {
     "name": "stdout",
     "output_type": "stream",
     "text": [
      "Example target: [1. 0.]\n",
      "Example prediction: [0.4508, 0.5492]\n",
      "Epoch 48 Training Loss: 0.692 Training Accuracy: 0.5322 Val Loss: 0.6918 Val Accuracy: 0.5323\n"
     ]
    },
    {
     "name": "stderr",
     "output_type": "stream",
     "text": [
      "100%|██████████| 500/500 [00:35<00:00, 14.18it/s]\n",
      "  0%|          | 1/500 [00:00<01:31,  5.45it/s]"
     ]
    },
    {
     "name": "stdout",
     "output_type": "stream",
     "text": [
      "Example target: [0. 1.]\n",
      "Example prediction: [0.4744, 0.5256]\n",
      "Epoch 49 Training Loss: 0.692 Training Accuracy: 0.5323 Val Loss: 0.6918 Val Accuracy: 0.5327\n"
     ]
    },
    {
     "name": "stderr",
     "output_type": "stream",
     "text": [
      "100%|██████████| 500/500 [00:35<00:00, 14.20it/s]\n",
      "  0%|          | 1/500 [00:00<01:31,  5.43it/s]"
     ]
    },
    {
     "name": "stdout",
     "output_type": "stream",
     "text": [
      "Example target: [0. 1.]\n",
      "Example prediction: [0.471, 0.529]\n",
      "Epoch 50 Training Loss: 0.692 Training Accuracy: 0.5321 Val Loss: 0.6919 Val Accuracy: 0.532\n"
     ]
    },
    {
     "name": "stderr",
     "output_type": "stream",
     "text": [
      "100%|██████████| 500/500 [00:35<00:00, 14.17it/s]\n",
      "  0%|          | 1/500 [00:00<01:32,  5.41it/s]"
     ]
    },
    {
     "name": "stdout",
     "output_type": "stream",
     "text": [
      "Example target: [1. 0.]\n",
      "Example prediction: [0.476, 0.524]\n",
      "Epoch 51 Training Loss: 0.692 Training Accuracy: 0.5319 Val Loss: 0.6918 Val Accuracy: 0.5326\n"
     ]
    },
    {
     "name": "stderr",
     "output_type": "stream",
     "text": [
      "100%|██████████| 500/500 [00:35<00:00, 14.15it/s]\n",
      "  0%|          | 1/500 [00:00<01:30,  5.54it/s]"
     ]
    },
    {
     "name": "stdout",
     "output_type": "stream",
     "text": [
      "Example target: [1. 0.]\n",
      "Example prediction: [0.4808, 0.5192]\n",
      "Epoch 52 Training Loss: 0.692 Training Accuracy: 0.5322 Val Loss: 0.6918 Val Accuracy: 0.5324\n"
     ]
    },
    {
     "name": "stderr",
     "output_type": "stream",
     "text": [
      "100%|██████████| 500/500 [00:35<00:00, 14.12it/s]\n",
      "  0%|          | 1/500 [00:00<01:30,  5.52it/s]"
     ]
    },
    {
     "name": "stdout",
     "output_type": "stream",
     "text": [
      "Example target: [0. 1.]\n",
      "Example prediction: [0.4421, 0.5579]\n",
      "Epoch 53 Training Loss: 0.692 Training Accuracy: 0.5323 Val Loss: 0.6919 Val Accuracy: 0.5317\n"
     ]
    },
    {
     "name": "stderr",
     "output_type": "stream",
     "text": [
      "100%|██████████| 500/500 [00:35<00:00, 14.25it/s]\n",
      "  0%|          | 1/500 [00:00<01:32,  5.41it/s]"
     ]
    },
    {
     "name": "stdout",
     "output_type": "stream",
     "text": [
      "Example target: [1. 0.]\n",
      "Example prediction: [0.4842, 0.5158]\n",
      "Epoch 54 Training Loss: 0.692 Training Accuracy: 0.5324 Val Loss: 0.6918 Val Accuracy: 0.5324\n"
     ]
    },
    {
     "name": "stderr",
     "output_type": "stream",
     "text": [
      "100%|██████████| 500/500 [00:35<00:00, 14.23it/s]\n",
      "  0%|          | 1/500 [00:00<01:30,  5.51it/s]"
     ]
    },
    {
     "name": "stdout",
     "output_type": "stream",
     "text": [
      "Example target: [1. 0.]\n",
      "Example prediction: [0.46, 0.54]\n",
      "Epoch 55 Training Loss: 0.692 Training Accuracy: 0.5325 Val Loss: 0.6918 Val Accuracy: 0.5325\n"
     ]
    },
    {
     "name": "stderr",
     "output_type": "stream",
     "text": [
      "100%|██████████| 500/500 [00:35<00:00, 14.17it/s]\n",
      "  0%|          | 1/500 [00:00<01:32,  5.41it/s]"
     ]
    },
    {
     "name": "stdout",
     "output_type": "stream",
     "text": [
      "Example target: [0. 1.]\n",
      "Example prediction: [0.4895, 0.5105]\n",
      "Epoch 56 Training Loss: 0.692 Training Accuracy: 0.5321 Val Loss: 0.6918 Val Accuracy: 0.5327\n"
     ]
    },
    {
     "name": "stderr",
     "output_type": "stream",
     "text": [
      "100%|██████████| 500/500 [00:35<00:00, 14.10it/s]\n",
      "  0%|          | 1/500 [00:00<01:28,  5.65it/s]"
     ]
    },
    {
     "name": "stdout",
     "output_type": "stream",
     "text": [
      "Example target: [0. 1.]\n",
      "Example prediction: [0.5005, 0.4995]\n",
      "Epoch 57 Training Loss: 0.692 Training Accuracy: 0.5324 Val Loss: 0.692 Val Accuracy: 0.5317\n"
     ]
    },
    {
     "name": "stderr",
     "output_type": "stream",
     "text": [
      "100%|██████████| 500/500 [00:35<00:00, 14.16it/s]\n",
      "  0%|          | 1/500 [00:00<01:33,  5.32it/s]"
     ]
    },
    {
     "name": "stdout",
     "output_type": "stream",
     "text": [
      "Example target: [0. 1.]\n",
      "Example prediction: [0.4431, 0.5569]\n",
      "Epoch 58 Training Loss: 0.692 Training Accuracy: 0.5324 Val Loss: 0.6919 Val Accuracy: 0.532\n"
     ]
    },
    {
     "name": "stderr",
     "output_type": "stream",
     "text": [
      "100%|██████████| 500/500 [00:35<00:00, 14.16it/s]\n",
      "  0%|          | 1/500 [00:00<01:30,  5.50it/s]"
     ]
    },
    {
     "name": "stdout",
     "output_type": "stream",
     "text": [
      "Example target: [0. 1.]\n",
      "Example prediction: [0.4553, 0.5447]\n",
      "Epoch 59 Training Loss: 0.692 Training Accuracy: 0.5322 Val Loss: 0.6919 Val Accuracy: 0.5319\n"
     ]
    },
    {
     "name": "stderr",
     "output_type": "stream",
     "text": [
      "100%|██████████| 500/500 [00:35<00:00, 14.15it/s]\n",
      "  0%|          | 1/500 [00:00<01:30,  5.53it/s]"
     ]
    },
    {
     "name": "stdout",
     "output_type": "stream",
     "text": [
      "Example target: [1. 0.]\n",
      "Example prediction: [0.5109, 0.4891]\n",
      "Epoch 60 Training Loss: 0.692 Training Accuracy: 0.5324 Val Loss: 0.6921 Val Accuracy: 0.5314\n"
     ]
    },
    {
     "name": "stderr",
     "output_type": "stream",
     "text": [
      "100%|██████████| 500/500 [00:35<00:00, 14.20it/s]\n",
      "  0%|          | 1/500 [00:00<01:31,  5.44it/s]"
     ]
    },
    {
     "name": "stdout",
     "output_type": "stream",
     "text": [
      "Example target: [0. 1.]\n",
      "Example prediction: [0.4501, 0.5499]\n",
      "Epoch 61 Training Loss: 0.692 Training Accuracy: 0.5325 Val Loss: 0.6918 Val Accuracy: 0.5323\n"
     ]
    },
    {
     "name": "stderr",
     "output_type": "stream",
     "text": [
      "100%|██████████| 500/500 [00:35<00:00, 14.16it/s]\n",
      "  0%|          | 1/500 [00:00<01:30,  5.52it/s]"
     ]
    },
    {
     "name": "stdout",
     "output_type": "stream",
     "text": [
      "Example target: [0. 1.]\n",
      "Example prediction: [0.4709, 0.5291]\n",
      "Epoch 62 Training Loss: 0.692 Training Accuracy: 0.5323 Val Loss: 0.692 Val Accuracy: 0.5318\n"
     ]
    },
    {
     "name": "stderr",
     "output_type": "stream",
     "text": [
      "100%|██████████| 500/500 [00:35<00:00, 14.13it/s]\n",
      "  0%|          | 1/500 [00:00<01:31,  5.46it/s]"
     ]
    },
    {
     "name": "stdout",
     "output_type": "stream",
     "text": [
      "Example target: [0. 1.]\n",
      "Example prediction: [0.4639, 0.5361]\n",
      "Epoch 63 Training Loss: 0.692 Training Accuracy: 0.5323 Val Loss: 0.692 Val Accuracy: 0.5317\n"
     ]
    },
    {
     "name": "stderr",
     "output_type": "stream",
     "text": [
      "100%|██████████| 500/500 [00:35<00:00, 14.18it/s]\n",
      "  0%|          | 1/500 [00:00<01:29,  5.57it/s]"
     ]
    },
    {
     "name": "stdout",
     "output_type": "stream",
     "text": [
      "Example target: [0. 1.]\n",
      "Example prediction: [0.4569, 0.5431]\n",
      "Epoch 64 Training Loss: 0.692 Training Accuracy: 0.5323 Val Loss: 0.692 Val Accuracy: 0.5313\n"
     ]
    },
    {
     "name": "stderr",
     "output_type": "stream",
     "text": [
      "100%|██████████| 500/500 [00:35<00:00, 14.14it/s]\n",
      "  0%|          | 1/500 [00:00<01:36,  5.16it/s]"
     ]
    },
    {
     "name": "stdout",
     "output_type": "stream",
     "text": [
      "Example target: [0. 1.]\n",
      "Example prediction: [0.471, 0.529]\n",
      "Epoch 65 Training Loss: 0.692 Training Accuracy: 0.5323 Val Loss: 0.6919 Val Accuracy: 0.5319\n"
     ]
    },
    {
     "name": "stderr",
     "output_type": "stream",
     "text": [
      "100%|██████████| 500/500 [00:35<00:00, 14.10it/s]\n",
      "  0%|          | 0/500 [00:00<?, ?it/s]"
     ]
    },
    {
     "name": "stdout",
     "output_type": "stream",
     "text": [
      "Example target: [0. 1.]\n",
      "Example prediction: [0.4846, 0.5154]\n",
      "Epoch 66 Training Loss: 0.692 Training Accuracy: 0.5326 Val Loss: 0.6918 Val Accuracy: 0.5323\n"
     ]
    },
    {
     "name": "stderr",
     "output_type": "stream",
     "text": [
      "100%|██████████| 500/500 [00:35<00:00, 14.16it/s]\n",
      "  0%|          | 1/500 [00:00<01:29,  5.57it/s]"
     ]
    },
    {
     "name": "stdout",
     "output_type": "stream",
     "text": [
      "Example target: [1. 0.]\n",
      "Example prediction: [0.4509, 0.5491]\n",
      "Epoch 67 Training Loss: 0.692 Training Accuracy: 0.5326 Val Loss: 0.6918 Val Accuracy: 0.5323\n"
     ]
    },
    {
     "name": "stderr",
     "output_type": "stream",
     "text": [
      "100%|██████████| 500/500 [00:35<00:00, 14.20it/s]\n",
      "  0%|          | 1/500 [00:00<01:26,  5.78it/s]"
     ]
    },
    {
     "name": "stdout",
     "output_type": "stream",
     "text": [
      "Example target: [1. 0.]\n",
      "Example prediction: [0.4674, 0.5326]\n",
      "Epoch 68 Training Loss: 0.692 Training Accuracy: 0.5323 Val Loss: 0.6921 Val Accuracy: 0.5309\n"
     ]
    },
    {
     "name": "stderr",
     "output_type": "stream",
     "text": [
      "100%|██████████| 500/500 [00:35<00:00, 14.19it/s]\n",
      "  0%|          | 1/500 [00:00<01:28,  5.65it/s]"
     ]
    },
    {
     "name": "stdout",
     "output_type": "stream",
     "text": [
      "Example target: [0. 1.]\n",
      "Example prediction: [0.4532, 0.5468]\n",
      "Epoch 69 Training Loss: 0.692 Training Accuracy: 0.5323 Val Loss: 0.6918 Val Accuracy: 0.5324\n"
     ]
    },
    {
     "name": "stderr",
     "output_type": "stream",
     "text": [
      "100%|██████████| 500/500 [00:35<00:00, 14.10it/s]\n",
      "  0%|          | 1/500 [00:00<01:32,  5.41it/s]"
     ]
    },
    {
     "name": "stdout",
     "output_type": "stream",
     "text": [
      "Example target: [1. 0.]\n",
      "Example prediction: [0.4558, 0.5442]\n",
      "Epoch 70 Training Loss: 0.692 Training Accuracy: 0.5324 Val Loss: 0.6918 Val Accuracy: 0.5323\n"
     ]
    },
    {
     "name": "stderr",
     "output_type": "stream",
     "text": [
      "100%|██████████| 500/500 [00:35<00:00, 14.20it/s]\n",
      "  0%|          | 1/500 [00:00<01:31,  5.46it/s]"
     ]
    },
    {
     "name": "stdout",
     "output_type": "stream",
     "text": [
      "Example target: [1. 0.]\n",
      "Example prediction: [0.4882, 0.5118]\n",
      "Epoch 71 Training Loss: 0.692 Training Accuracy: 0.5322 Val Loss: 0.6919 Val Accuracy: 0.5318\n"
     ]
    },
    {
     "name": "stderr",
     "output_type": "stream",
     "text": [
      "100%|██████████| 500/500 [00:35<00:00, 14.07it/s]\n",
      "  0%|          | 1/500 [00:00<01:31,  5.44it/s]"
     ]
    },
    {
     "name": "stdout",
     "output_type": "stream",
     "text": [
      "Example target: [0. 1.]\n",
      "Example prediction: [0.4616, 0.5384]\n",
      "Epoch 72 Training Loss: 0.692 Training Accuracy: 0.5325 Val Loss: 0.6918 Val Accuracy: 0.5328\n"
     ]
    },
    {
     "name": "stderr",
     "output_type": "stream",
     "text": [
      "100%|██████████| 500/500 [00:35<00:00, 14.09it/s]\n",
      "  0%|          | 1/500 [00:00<01:31,  5.48it/s]"
     ]
    },
    {
     "name": "stdout",
     "output_type": "stream",
     "text": [
      "Example target: [0. 1.]\n",
      "Example prediction: [0.4841, 0.5159]\n",
      "Epoch 73 Training Loss: 0.692 Training Accuracy: 0.5323 Val Loss: 0.692 Val Accuracy: 0.5315\n"
     ]
    },
    {
     "name": "stderr",
     "output_type": "stream",
     "text": [
      "100%|██████████| 500/500 [00:35<00:00, 14.22it/s]\n",
      "  0%|          | 1/500 [00:00<01:30,  5.51it/s]"
     ]
    },
    {
     "name": "stdout",
     "output_type": "stream",
     "text": [
      "Example target: [1. 0.]\n",
      "Example prediction: [0.455, 0.545]\n",
      "Epoch 74 Training Loss: 0.692 Training Accuracy: 0.5324 Val Loss: 0.6918 Val Accuracy: 0.5324\n"
     ]
    },
    {
     "name": "stderr",
     "output_type": "stream",
     "text": [
      "100%|██████████| 500/500 [00:35<00:00, 14.21it/s]\n",
      "  0%|          | 1/500 [00:00<01:29,  5.54it/s]"
     ]
    },
    {
     "name": "stdout",
     "output_type": "stream",
     "text": [
      "Example target: [0. 1.]\n",
      "Example prediction: [0.4533, 0.5467]\n",
      "Epoch 75 Training Loss: 0.692 Training Accuracy: 0.5324 Val Loss: 0.6918 Val Accuracy: 0.5327\n"
     ]
    },
    {
     "name": "stderr",
     "output_type": "stream",
     "text": [
      "100%|██████████| 500/500 [00:35<00:00, 14.19it/s]\n",
      "  0%|          | 1/500 [00:00<01:28,  5.62it/s]"
     ]
    },
    {
     "name": "stdout",
     "output_type": "stream",
     "text": [
      "Example target: [0. 1.]\n",
      "Example prediction: [0.4944, 0.5056]\n",
      "Epoch 76 Training Loss: 0.692 Training Accuracy: 0.5323 Val Loss: 0.6919 Val Accuracy: 0.5319\n"
     ]
    },
    {
     "name": "stderr",
     "output_type": "stream",
     "text": [
      "100%|██████████| 500/500 [00:35<00:00, 14.21it/s]\n",
      "  0%|          | 1/500 [00:00<01:34,  5.26it/s]"
     ]
    },
    {
     "name": "stdout",
     "output_type": "stream",
     "text": [
      "Example target: [0. 1.]\n",
      "Example prediction: [0.4521, 0.5479]\n",
      "Epoch 77 Training Loss: 0.692 Training Accuracy: 0.5323 Val Loss: 0.6919 Val Accuracy: 0.532\n"
     ]
    },
    {
     "name": "stderr",
     "output_type": "stream",
     "text": [
      "100%|██████████| 500/500 [00:35<00:00, 14.24it/s]\n",
      "  0%|          | 1/500 [00:00<01:29,  5.55it/s]"
     ]
    },
    {
     "name": "stdout",
     "output_type": "stream",
     "text": [
      "Example target: [1. 0.]\n",
      "Example prediction: [0.4819, 0.5181]\n",
      "Epoch 78 Training Loss: 0.692 Training Accuracy: 0.5321 Val Loss: 0.6918 Val Accuracy: 0.5323\n"
     ]
    },
    {
     "name": "stderr",
     "output_type": "stream",
     "text": [
      "100%|██████████| 500/500 [00:35<00:00, 14.13it/s]\n",
      "  0%|          | 1/500 [00:00<01:27,  5.67it/s]"
     ]
    },
    {
     "name": "stdout",
     "output_type": "stream",
     "text": [
      "Example target: [1. 0.]\n",
      "Example prediction: [0.491, 0.509]\n",
      "Epoch 79 Training Loss: 0.692 Training Accuracy: 0.5323 Val Loss: 0.6919 Val Accuracy: 0.5321\n"
     ]
    },
    {
     "name": "stderr",
     "output_type": "stream",
     "text": [
      "100%|██████████| 500/500 [00:35<00:00, 14.26it/s]\n",
      "  0%|          | 1/500 [00:00<01:33,  5.35it/s]"
     ]
    },
    {
     "name": "stdout",
     "output_type": "stream",
     "text": [
      "Example target: [0. 1.]\n",
      "Example prediction: [0.4529, 0.5471]\n",
      "Epoch 80 Training Loss: 0.692 Training Accuracy: 0.5324 Val Loss: 0.6918 Val Accuracy: 0.5324\n"
     ]
    },
    {
     "name": "stderr",
     "output_type": "stream",
     "text": [
      "100%|██████████| 500/500 [00:35<00:00, 14.13it/s]\n",
      "  0%|          | 1/500 [00:00<01:33,  5.31it/s]"
     ]
    },
    {
     "name": "stdout",
     "output_type": "stream",
     "text": [
      "Example target: [0. 1.]\n",
      "Example prediction: [0.5095, 0.4905]\n",
      "Epoch 81 Training Loss: 0.692 Training Accuracy: 0.5321 Val Loss: 0.6919 Val Accuracy: 0.5322\n"
     ]
    },
    {
     "name": "stderr",
     "output_type": "stream",
     "text": [
      "100%|██████████| 500/500 [00:35<00:00, 14.11it/s]\n",
      "  0%|          | 1/500 [00:00<01:27,  5.71it/s]"
     ]
    },
    {
     "name": "stdout",
     "output_type": "stream",
     "text": [
      "Example target: [1. 0.]\n",
      "Example prediction: [0.4799, 0.5201]\n",
      "Epoch 82 Training Loss: 0.692 Training Accuracy: 0.5326 Val Loss: 0.6918 Val Accuracy: 0.5324\n"
     ]
    },
    {
     "name": "stderr",
     "output_type": "stream",
     "text": [
      "100%|██████████| 500/500 [00:35<00:00, 14.15it/s]\n",
      "  0%|          | 1/500 [00:00<01:30,  5.53it/s]"
     ]
    },
    {
     "name": "stdout",
     "output_type": "stream",
     "text": [
      "Example target: [1. 0.]\n",
      "Example prediction: [0.4402, 0.5598]\n",
      "Epoch 83 Training Loss: 0.692 Training Accuracy: 0.532 Val Loss: 0.6918 Val Accuracy: 0.5324\n"
     ]
    },
    {
     "name": "stderr",
     "output_type": "stream",
     "text": [
      "100%|██████████| 500/500 [00:35<00:00, 14.21it/s]\n",
      "  0%|          | 1/500 [00:00<01:33,  5.35it/s]"
     ]
    },
    {
     "name": "stdout",
     "output_type": "stream",
     "text": [
      "Example target: [0. 1.]\n",
      "Example prediction: [0.4763, 0.5237]\n",
      "Epoch 84 Training Loss: 0.692 Training Accuracy: 0.5323 Val Loss: 0.6918 Val Accuracy: 0.5326\n"
     ]
    },
    {
     "name": "stderr",
     "output_type": "stream",
     "text": [
      "100%|██████████| 500/500 [00:35<00:00, 14.22it/s]\n",
      "  0%|          | 1/500 [00:00<01:28,  5.65it/s]"
     ]
    },
    {
     "name": "stdout",
     "output_type": "stream",
     "text": [
      "Example target: [0. 1.]\n",
      "Example prediction: [0.4976, 0.5024]\n",
      "Epoch 85 Training Loss: 0.692 Training Accuracy: 0.5323 Val Loss: 0.692 Val Accuracy: 0.5317\n"
     ]
    },
    {
     "name": "stderr",
     "output_type": "stream",
     "text": [
      "100%|██████████| 500/500 [00:35<00:00, 14.24it/s]\n",
      "  0%|          | 1/500 [00:00<01:29,  5.59it/s]"
     ]
    },
    {
     "name": "stdout",
     "output_type": "stream",
     "text": [
      "Example target: [0. 1.]\n",
      "Example prediction: [0.4521, 0.5479]\n",
      "Epoch 86 Training Loss: 0.692 Training Accuracy: 0.5324 Val Loss: 0.692 Val Accuracy: 0.5316\n"
     ]
    },
    {
     "name": "stderr",
     "output_type": "stream",
     "text": [
      "100%|██████████| 500/500 [00:35<00:00, 14.12it/s]\n",
      "  0%|          | 1/500 [00:00<01:33,  5.36it/s]"
     ]
    },
    {
     "name": "stdout",
     "output_type": "stream",
     "text": [
      "Example target: [1. 0.]\n",
      "Example prediction: [0.4759, 0.5241]\n",
      "Epoch 87 Training Loss: 0.692 Training Accuracy: 0.5324 Val Loss: 0.6919 Val Accuracy: 0.5318\n"
     ]
    },
    {
     "name": "stderr",
     "output_type": "stream",
     "text": [
      "100%|██████████| 500/500 [00:36<00:00, 13.61it/s]\n",
      "  0%|          | 1/500 [00:00<01:29,  5.56it/s]"
     ]
    },
    {
     "name": "stdout",
     "output_type": "stream",
     "text": [
      "Example target: [1. 0.]\n",
      "Example prediction: [0.4713, 0.5287]\n",
      "Epoch 88 Training Loss: 0.692 Training Accuracy: 0.5324 Val Loss: 0.6919 Val Accuracy: 0.5321\n"
     ]
    },
    {
     "name": "stderr",
     "output_type": "stream",
     "text": [
      "100%|██████████| 500/500 [00:35<00:00, 14.20it/s]\n",
      "  0%|          | 1/500 [00:00<01:28,  5.66it/s]"
     ]
    },
    {
     "name": "stdout",
     "output_type": "stream",
     "text": [
      "Example target: [1. 0.]\n",
      "Example prediction: [0.4861, 0.5139]\n",
      "Epoch 89 Training Loss: 0.692 Training Accuracy: 0.5323 Val Loss: 0.6919 Val Accuracy: 0.532\n"
     ]
    },
    {
     "name": "stderr",
     "output_type": "stream",
     "text": [
      "100%|██████████| 500/500 [00:35<00:00, 14.16it/s]\n",
      "  0%|          | 1/500 [00:00<01:37,  5.13it/s]"
     ]
    },
    {
     "name": "stdout",
     "output_type": "stream",
     "text": [
      "Example target: [0. 1.]\n",
      "Example prediction: [0.4739, 0.5261]\n",
      "Epoch 90 Training Loss: 0.692 Training Accuracy: 0.5324 Val Loss: 0.6919 Val Accuracy: 0.5321\n"
     ]
    },
    {
     "name": "stderr",
     "output_type": "stream",
     "text": [
      "100%|██████████| 500/500 [00:36<00:00, 13.72it/s]\n",
      "  0%|          | 1/500 [00:00<01:31,  5.48it/s]"
     ]
    },
    {
     "name": "stdout",
     "output_type": "stream",
     "text": [
      "Example target: [0. 1.]\n",
      "Example prediction: [0.4436, 0.5564]\n",
      "Epoch 91 Training Loss: 0.692 Training Accuracy: 0.5323 Val Loss: 0.6918 Val Accuracy: 0.5325\n"
     ]
    },
    {
     "name": "stderr",
     "output_type": "stream",
     "text": [
      "100%|██████████| 500/500 [00:35<00:00, 14.24it/s]\n",
      "  0%|          | 1/500 [00:00<01:28,  5.67it/s]"
     ]
    },
    {
     "name": "stdout",
     "output_type": "stream",
     "text": [
      "Example target: [0. 1.]\n",
      "Example prediction: [0.4877, 0.5123]\n",
      "Epoch 92 Training Loss: 0.692 Training Accuracy: 0.5323 Val Loss: 0.6918 Val Accuracy: 0.532\n"
     ]
    },
    {
     "name": "stderr",
     "output_type": "stream",
     "text": [
      "100%|██████████| 500/500 [00:35<00:00, 14.17it/s]\n",
      "  0%|          | 1/500 [00:00<01:28,  5.61it/s]"
     ]
    },
    {
     "name": "stdout",
     "output_type": "stream",
     "text": [
      "Example target: [0. 1.]\n",
      "Example prediction: [0.4391, 0.5609]\n",
      "Epoch 93 Training Loss: 0.692 Training Accuracy: 0.5324 Val Loss: 0.6918 Val Accuracy: 0.5324\n"
     ]
    },
    {
     "name": "stderr",
     "output_type": "stream",
     "text": [
      "100%|██████████| 500/500 [00:35<00:00, 14.17it/s]\n",
      "  0%|          | 1/500 [00:00<01:31,  5.47it/s]"
     ]
    },
    {
     "name": "stdout",
     "output_type": "stream",
     "text": [
      "Example target: [0. 1.]\n",
      "Example prediction: [0.4776, 0.5224]\n",
      "Epoch 94 Training Loss: 0.692 Training Accuracy: 0.532 Val Loss: 0.6919 Val Accuracy: 0.5321\n"
     ]
    },
    {
     "name": "stderr",
     "output_type": "stream",
     "text": [
      "100%|██████████| 500/500 [00:35<00:00, 14.14it/s]\n",
      "  0%|          | 1/500 [00:00<01:33,  5.36it/s]"
     ]
    },
    {
     "name": "stdout",
     "output_type": "stream",
     "text": [
      "Example target: [0. 1.]\n",
      "Example prediction: [0.4879, 0.5121]\n",
      "Epoch 95 Training Loss: 0.692 Training Accuracy: 0.5324 Val Loss: 0.692 Val Accuracy: 0.5319\n"
     ]
    },
    {
     "name": "stderr",
     "output_type": "stream",
     "text": [
      "100%|██████████| 500/500 [00:35<00:00, 14.20it/s]\n",
      "  0%|          | 1/500 [00:00<01:31,  5.44it/s]"
     ]
    },
    {
     "name": "stdout",
     "output_type": "stream",
     "text": [
      "Example target: [0. 1.]\n",
      "Example prediction: [0.4849, 0.5151]\n",
      "Epoch 96 Training Loss: 0.692 Training Accuracy: 0.5323 Val Loss: 0.6919 Val Accuracy: 0.5322\n"
     ]
    },
    {
     "name": "stderr",
     "output_type": "stream",
     "text": [
      "100%|██████████| 500/500 [00:35<00:00, 14.10it/s]\n",
      "  0%|          | 1/500 [00:00<01:33,  5.35it/s]"
     ]
    },
    {
     "name": "stdout",
     "output_type": "stream",
     "text": [
      "Example target: [0. 1.]\n",
      "Example prediction: [0.4835, 0.5165]\n",
      "Epoch 97 Training Loss: 0.692 Training Accuracy: 0.5323 Val Loss: 0.6919 Val Accuracy: 0.5323\n"
     ]
    },
    {
     "name": "stderr",
     "output_type": "stream",
     "text": [
      "100%|██████████| 500/500 [00:35<00:00, 14.19it/s]\n",
      "  0%|          | 1/500 [00:00<01:34,  5.29it/s]"
     ]
    },
    {
     "name": "stdout",
     "output_type": "stream",
     "text": [
      "Example target: [0. 1.]\n",
      "Example prediction: [0.4726, 0.5274]\n",
      "Epoch 98 Training Loss: 0.692 Training Accuracy: 0.5325 Val Loss: 0.6918 Val Accuracy: 0.5325\n"
     ]
    },
    {
     "name": "stderr",
     "output_type": "stream",
     "text": [
      "100%|██████████| 500/500 [00:35<00:00, 14.13it/s]\n",
      "  0%|          | 1/500 [00:00<01:31,  5.48it/s]"
     ]
    },
    {
     "name": "stdout",
     "output_type": "stream",
     "text": [
      "Example target: [1. 0.]\n",
      "Example prediction: [0.4776, 0.5224]\n",
      "Epoch 99 Training Loss: 0.692 Training Accuracy: 0.5325 Val Loss: 0.6918 Val Accuracy: 0.5326\n"
     ]
    },
    {
     "name": "stderr",
     "output_type": "stream",
     "text": [
      "100%|██████████| 500/500 [00:35<00:00, 14.17it/s]\n",
      "  0%|          | 1/500 [00:00<01:26,  5.77it/s]"
     ]
    },
    {
     "name": "stdout",
     "output_type": "stream",
     "text": [
      "Example target: [0. 1.]\n",
      "Example prediction: [0.4327, 0.5673]\n",
      "Epoch 100 Training Loss: 0.692 Training Accuracy: 0.5321 Val Loss: 0.6919 Val Accuracy: 0.5318\n"
     ]
    },
    {
     "name": "stderr",
     "output_type": "stream",
     "text": [
      "100%|██████████| 500/500 [00:35<00:00, 14.19it/s]\n",
      "  0%|          | 1/500 [00:00<01:29,  5.56it/s]"
     ]
    },
    {
     "name": "stdout",
     "output_type": "stream",
     "text": [
      "Example target: [0. 1.]\n",
      "Example prediction: [0.4476, 0.5524]\n",
      "Epoch 101 Training Loss: 0.692 Training Accuracy: 0.5324 Val Loss: 0.692 Val Accuracy: 0.5319\n"
     ]
    },
    {
     "name": "stderr",
     "output_type": "stream",
     "text": [
      "100%|██████████| 500/500 [00:35<00:00, 14.22it/s]\n",
      "  0%|          | 1/500 [00:00<01:31,  5.48it/s]"
     ]
    },
    {
     "name": "stdout",
     "output_type": "stream",
     "text": [
      "Example target: [0. 1.]\n",
      "Example prediction: [0.4529, 0.5471]\n",
      "Epoch 102 Training Loss: 0.692 Training Accuracy: 0.5326 Val Loss: 0.692 Val Accuracy: 0.5316\n"
     ]
    },
    {
     "name": "stderr",
     "output_type": "stream",
     "text": [
      "100%|██████████| 500/500 [00:35<00:00, 14.24it/s]\n",
      "  0%|          | 1/500 [00:00<01:32,  5.42it/s]"
     ]
    },
    {
     "name": "stdout",
     "output_type": "stream",
     "text": [
      "Example target: [1. 0.]\n",
      "Example prediction: [0.4726, 0.5274]\n",
      "Epoch 103 Training Loss: 0.692 Training Accuracy: 0.5325 Val Loss: 0.6918 Val Accuracy: 0.5327\n"
     ]
    },
    {
     "name": "stderr",
     "output_type": "stream",
     "text": [
      "100%|██████████| 500/500 [00:35<00:00, 14.19it/s]\n",
      "  0%|          | 1/500 [00:00<01:31,  5.44it/s]"
     ]
    },
    {
     "name": "stdout",
     "output_type": "stream",
     "text": [
      "Example target: [1. 0.]\n",
      "Example prediction: [0.4827, 0.5173]\n",
      "Epoch 104 Training Loss: 0.692 Training Accuracy: 0.5324 Val Loss: 0.6919 Val Accuracy: 0.5321\n"
     ]
    },
    {
     "name": "stderr",
     "output_type": "stream",
     "text": [
      "100%|██████████| 500/500 [00:35<00:00, 14.08it/s]\n",
      "  0%|          | 1/500 [00:00<01:27,  5.67it/s]"
     ]
    },
    {
     "name": "stdout",
     "output_type": "stream",
     "text": [
      "Example target: [0. 1.]\n",
      "Example prediction: [0.5008, 0.4992]\n",
      "Epoch 105 Training Loss: 0.692 Training Accuracy: 0.5323 Val Loss: 0.6921 Val Accuracy: 0.5318\n"
     ]
    },
    {
     "name": "stderr",
     "output_type": "stream",
     "text": [
      "100%|██████████| 500/500 [00:35<00:00, 14.17it/s]\n",
      "  0%|          | 1/500 [00:00<01:34,  5.31it/s]"
     ]
    },
    {
     "name": "stdout",
     "output_type": "stream",
     "text": [
      "Example target: [0. 1.]\n",
      "Example prediction: [0.4736, 0.5264]\n",
      "Epoch 106 Training Loss: 0.692 Training Accuracy: 0.5322 Val Loss: 0.6921 Val Accuracy: 0.5318\n"
     ]
    },
    {
     "name": "stderr",
     "output_type": "stream",
     "text": [
      "100%|██████████| 500/500 [00:35<00:00, 14.24it/s]\n",
      "  0%|          | 1/500 [00:00<01:31,  5.47it/s]"
     ]
    },
    {
     "name": "stdout",
     "output_type": "stream",
     "text": [
      "Example target: [0. 1.]\n",
      "Example prediction: [0.471, 0.529]\n",
      "Epoch 107 Training Loss: 0.692 Training Accuracy: 0.5327 Val Loss: 0.6918 Val Accuracy: 0.5326\n"
     ]
    },
    {
     "name": "stderr",
     "output_type": "stream",
     "text": [
      "100%|██████████| 500/500 [00:35<00:00, 14.25it/s]\n",
      "  0%|          | 1/500 [00:00<01:28,  5.63it/s]"
     ]
    },
    {
     "name": "stdout",
     "output_type": "stream",
     "text": [
      "Example target: [0. 1.]\n",
      "Example prediction: [0.4371, 0.5629]\n",
      "Epoch 108 Training Loss: 0.692 Training Accuracy: 0.5323 Val Loss: 0.6919 Val Accuracy: 0.532\n"
     ]
    },
    {
     "name": "stderr",
     "output_type": "stream",
     "text": [
      "100%|██████████| 500/500 [00:35<00:00, 14.17it/s]\n",
      "  0%|          | 1/500 [00:00<01:31,  5.47it/s]"
     ]
    },
    {
     "name": "stdout",
     "output_type": "stream",
     "text": [
      "Example target: [1. 0.]\n",
      "Example prediction: [0.4736, 0.5264]\n",
      "Epoch 109 Training Loss: 0.692 Training Accuracy: 0.5323 Val Loss: 0.6918 Val Accuracy: 0.5329\n"
     ]
    },
    {
     "name": "stderr",
     "output_type": "stream",
     "text": [
      "100%|██████████| 500/500 [00:35<00:00, 14.15it/s]\n",
      "  0%|          | 1/500 [00:00<01:34,  5.26it/s]"
     ]
    },
    {
     "name": "stdout",
     "output_type": "stream",
     "text": [
      "Example target: [0. 1.]\n",
      "Example prediction: [0.4867, 0.5133]\n",
      "Epoch 110 Training Loss: 0.692 Training Accuracy: 0.5327 Val Loss: 0.6919 Val Accuracy: 0.5324\n"
     ]
    },
    {
     "name": "stderr",
     "output_type": "stream",
     "text": [
      "100%|██████████| 500/500 [00:35<00:00, 13.95it/s]\n",
      "  0%|          | 1/500 [00:00<01:34,  5.28it/s]"
     ]
    },
    {
     "name": "stdout",
     "output_type": "stream",
     "text": [
      "Example target: [0. 1.]\n",
      "Example prediction: [0.4825, 0.5175]\n",
      "Epoch 111 Training Loss: 0.692 Training Accuracy: 0.5324 Val Loss: 0.6918 Val Accuracy: 0.5325\n"
     ]
    },
    {
     "name": "stderr",
     "output_type": "stream",
     "text": [
      "100%|██████████| 500/500 [00:35<00:00, 14.19it/s]\n",
      "  0%|          | 1/500 [00:00<01:31,  5.43it/s]"
     ]
    },
    {
     "name": "stdout",
     "output_type": "stream",
     "text": [
      "Example target: [0. 1.]\n",
      "Example prediction: [0.469, 0.531]\n",
      "Epoch 112 Training Loss: 0.692 Training Accuracy: 0.5322 Val Loss: 0.692 Val Accuracy: 0.5316\n"
     ]
    },
    {
     "name": "stderr",
     "output_type": "stream",
     "text": [
      "100%|██████████| 500/500 [00:35<00:00, 14.04it/s]\n",
      "  0%|          | 1/500 [00:00<01:32,  5.37it/s]"
     ]
    },
    {
     "name": "stdout",
     "output_type": "stream",
     "text": [
      "Example target: [1. 0.]\n",
      "Example prediction: [0.4743, 0.5257]\n",
      "Epoch 113 Training Loss: 0.692 Training Accuracy: 0.5325 Val Loss: 0.6918 Val Accuracy: 0.5327\n"
     ]
    },
    {
     "name": "stderr",
     "output_type": "stream",
     "text": [
      "100%|██████████| 500/500 [00:35<00:00, 14.14it/s]\n",
      "  0%|          | 1/500 [00:00<01:35,  5.23it/s]"
     ]
    },
    {
     "name": "stdout",
     "output_type": "stream",
     "text": [
      "Example target: [0. 1.]\n",
      "Example prediction: [0.4491, 0.5509]\n",
      "Epoch 114 Training Loss: 0.692 Training Accuracy: 0.5325 Val Loss: 0.6919 Val Accuracy: 0.5324\n"
     ]
    },
    {
     "name": "stderr",
     "output_type": "stream",
     "text": [
      "100%|██████████| 500/500 [00:35<00:00, 14.17it/s]\n",
      "  0%|          | 1/500 [00:00<01:33,  5.35it/s]"
     ]
    },
    {
     "name": "stdout",
     "output_type": "stream",
     "text": [
      "Example target: [1. 0.]\n",
      "Example prediction: [0.4737, 0.5263]\n",
      "Epoch 115 Training Loss: 0.692 Training Accuracy: 0.5321 Val Loss: 0.6917 Val Accuracy: 0.5324\n"
     ]
    },
    {
     "name": "stderr",
     "output_type": "stream",
     "text": [
      "100%|██████████| 500/500 [00:35<00:00, 14.17it/s]\n",
      "  0%|          | 1/500 [00:00<01:34,  5.29it/s]"
     ]
    },
    {
     "name": "stdout",
     "output_type": "stream",
     "text": [
      "Example target: [0. 1.]\n",
      "Example prediction: [0.4734, 0.5266]\n",
      "Epoch 116 Training Loss: 0.692 Training Accuracy: 0.5323 Val Loss: 0.6918 Val Accuracy: 0.5326\n"
     ]
    },
    {
     "name": "stderr",
     "output_type": "stream",
     "text": [
      "100%|██████████| 500/500 [00:35<00:00, 14.22it/s]\n",
      "  0%|          | 1/500 [00:00<01:31,  5.44it/s]"
     ]
    },
    {
     "name": "stdout",
     "output_type": "stream",
     "text": [
      "Example target: [0. 1.]\n",
      "Example prediction: [0.4631, 0.5369]\n",
      "Epoch 117 Training Loss: 0.692 Training Accuracy: 0.5328 Val Loss: 0.6919 Val Accuracy: 0.5321\n"
     ]
    },
    {
     "name": "stderr",
     "output_type": "stream",
     "text": [
      "100%|██████████| 500/500 [00:35<00:00, 14.17it/s]\n",
      "  0%|          | 1/500 [00:00<01:31,  5.44it/s]"
     ]
    },
    {
     "name": "stdout",
     "output_type": "stream",
     "text": [
      "Example target: [0. 1.]\n",
      "Example prediction: [0.4818, 0.5182]\n",
      "Epoch 118 Training Loss: 0.692 Training Accuracy: 0.5326 Val Loss: 0.6919 Val Accuracy: 0.5323\n"
     ]
    },
    {
     "name": "stderr",
     "output_type": "stream",
     "text": [
      "100%|██████████| 500/500 [00:35<00:00, 14.13it/s]\n",
      "  0%|          | 1/500 [00:00<01:31,  5.46it/s]"
     ]
    },
    {
     "name": "stdout",
     "output_type": "stream",
     "text": [
      "Example target: [1. 0.]\n",
      "Example prediction: [0.4871, 0.5129]\n",
      "Epoch 119 Training Loss: 0.692 Training Accuracy: 0.5326 Val Loss: 0.6918 Val Accuracy: 0.5326\n"
     ]
    },
    {
     "name": "stderr",
     "output_type": "stream",
     "text": [
      "100%|██████████| 500/500 [00:35<00:00, 14.14it/s]\n",
      "  0%|          | 1/500 [00:00<01:30,  5.49it/s]"
     ]
    },
    {
     "name": "stdout",
     "output_type": "stream",
     "text": [
      "Example target: [1. 0.]\n",
      "Example prediction: [0.4331, 0.5669]\n",
      "Epoch 120 Training Loss: 0.692 Training Accuracy: 0.5324 Val Loss: 0.6919 Val Accuracy: 0.5323\n"
     ]
    },
    {
     "name": "stderr",
     "output_type": "stream",
     "text": [
      "100%|██████████| 500/500 [00:38<00:00, 13.13it/s]\n",
      "  0%|          | 1/500 [00:00<01:34,  5.28it/s]"
     ]
    },
    {
     "name": "stdout",
     "output_type": "stream",
     "text": [
      "Example target: [0. 1.]\n",
      "Example prediction: [0.478, 0.522]\n",
      "Epoch 121 Training Loss: 0.692 Training Accuracy: 0.5327 Val Loss: 0.6921 Val Accuracy: 0.5311\n"
     ]
    },
    {
     "name": "stderr",
     "output_type": "stream",
     "text": [
      "100%|██████████| 500/500 [00:38<00:00, 13.07it/s]\n",
      "  0%|          | 1/500 [00:00<01:30,  5.51it/s]"
     ]
    },
    {
     "name": "stdout",
     "output_type": "stream",
     "text": [
      "Example target: [1. 0.]\n",
      "Example prediction: [0.4557, 0.5443]\n",
      "Epoch 122 Training Loss: 0.692 Training Accuracy: 0.5326 Val Loss: 0.6919 Val Accuracy: 0.5321\n"
     ]
    },
    {
     "name": "stderr",
     "output_type": "stream",
     "text": [
      "100%|██████████| 500/500 [00:35<00:00, 14.12it/s]\n",
      "  0%|          | 1/500 [00:00<01:31,  5.47it/s]"
     ]
    },
    {
     "name": "stdout",
     "output_type": "stream",
     "text": [
      "Example target: [1. 0.]\n",
      "Example prediction: [0.471, 0.529]\n",
      "Epoch 123 Training Loss: 0.692 Training Accuracy: 0.5326 Val Loss: 0.6919 Val Accuracy: 0.5321\n"
     ]
    },
    {
     "name": "stderr",
     "output_type": "stream",
     "text": [
      "100%|██████████| 500/500 [00:35<00:00, 14.14it/s]\n",
      "  0%|          | 1/500 [00:00<01:31,  5.45it/s]"
     ]
    },
    {
     "name": "stdout",
     "output_type": "stream",
     "text": [
      "Example target: [0. 1.]\n",
      "Example prediction: [0.4313, 0.5687]\n",
      "Epoch 124 Training Loss: 0.692 Training Accuracy: 0.5322 Val Loss: 0.6918 Val Accuracy: 0.5326\n"
     ]
    },
    {
     "name": "stderr",
     "output_type": "stream",
     "text": [
      "100%|██████████| 500/500 [00:35<00:00, 14.16it/s]\n",
      "  0%|          | 1/500 [00:00<01:33,  5.35it/s]"
     ]
    },
    {
     "name": "stdout",
     "output_type": "stream",
     "text": [
      "Example target: [1. 0.]\n",
      "Example prediction: [0.4649, 0.5351]\n",
      "Epoch 125 Training Loss: 0.692 Training Accuracy: 0.5323 Val Loss: 0.6918 Val Accuracy: 0.5324\n"
     ]
    },
    {
     "name": "stderr",
     "output_type": "stream",
     "text": [
      "100%|██████████| 500/500 [00:35<00:00, 14.05it/s]\n",
      "  0%|          | 1/500 [00:00<01:33,  5.32it/s]"
     ]
    },
    {
     "name": "stdout",
     "output_type": "stream",
     "text": [
      "Example target: [0. 1.]\n",
      "Example prediction: [0.4362, 0.5638]\n",
      "Epoch 126 Training Loss: 0.692 Training Accuracy: 0.5325 Val Loss: 0.6919 Val Accuracy: 0.5324\n"
     ]
    },
    {
     "name": "stderr",
     "output_type": "stream",
     "text": [
      "100%|██████████| 500/500 [00:35<00:00, 14.04it/s]\n",
      "  0%|          | 1/500 [00:00<01:31,  5.47it/s]"
     ]
    },
    {
     "name": "stdout",
     "output_type": "stream",
     "text": [
      "Example target: [0. 1.]\n",
      "Example prediction: [0.4765, 0.5235]\n",
      "Epoch 127 Training Loss: 0.692 Training Accuracy: 0.5321 Val Loss: 0.6918 Val Accuracy: 0.5327\n"
     ]
    },
    {
     "name": "stderr",
     "output_type": "stream",
     "text": [
      "100%|██████████| 500/500 [00:35<00:00, 14.19it/s]\n",
      "  0%|          | 1/500 [00:00<01:29,  5.55it/s]"
     ]
    },
    {
     "name": "stdout",
     "output_type": "stream",
     "text": [
      "Example target: [0. 1.]\n",
      "Example prediction: [0.4564, 0.5436]\n",
      "Epoch 128 Training Loss: 0.692 Training Accuracy: 0.5325 Val Loss: 0.6919 Val Accuracy: 0.5321\n"
     ]
    },
    {
     "name": "stderr",
     "output_type": "stream",
     "text": [
      "100%|██████████| 500/500 [00:35<00:00, 14.14it/s]\n",
      "  0%|          | 1/500 [00:00<01:30,  5.51it/s]"
     ]
    },
    {
     "name": "stdout",
     "output_type": "stream",
     "text": [
      "Example target: [1. 0.]\n",
      "Example prediction: [0.4388, 0.5612]\n",
      "Epoch 129 Training Loss: 0.692 Training Accuracy: 0.5325 Val Loss: 0.6918 Val Accuracy: 0.5326\n"
     ]
    },
    {
     "name": "stderr",
     "output_type": "stream",
     "text": [
      "100%|██████████| 500/500 [00:35<00:00, 14.16it/s]\n",
      "  0%|          | 1/500 [00:00<01:30,  5.49it/s]"
     ]
    },
    {
     "name": "stdout",
     "output_type": "stream",
     "text": [
      "Example target: [0. 1.]\n",
      "Example prediction: [0.4716, 0.5284]\n",
      "Epoch 130 Training Loss: 0.692 Training Accuracy: 0.5326 Val Loss: 0.6921 Val Accuracy: 0.5313\n"
     ]
    },
    {
     "name": "stderr",
     "output_type": "stream",
     "text": [
      "100%|██████████| 500/500 [00:35<00:00, 14.16it/s]\n",
      "  0%|          | 1/500 [00:00<01:32,  5.41it/s]"
     ]
    },
    {
     "name": "stdout",
     "output_type": "stream",
     "text": [
      "Example target: [1. 0.]\n",
      "Example prediction: [0.4761, 0.5239]\n",
      "Epoch 131 Training Loss: 0.692 Training Accuracy: 0.5326 Val Loss: 0.6919 Val Accuracy: 0.5324\n"
     ]
    },
    {
     "name": "stderr",
     "output_type": "stream",
     "text": [
      "100%|██████████| 500/500 [00:35<00:00, 14.13it/s]\n",
      "  0%|          | 1/500 [00:00<01:31,  5.44it/s]"
     ]
    },
    {
     "name": "stdout",
     "output_type": "stream",
     "text": [
      "Example target: [1. 0.]\n",
      "Example prediction: [0.4588, 0.5412]\n",
      "Epoch 132 Training Loss: 0.692 Training Accuracy: 0.5326 Val Loss: 0.692 Val Accuracy: 0.5317\n"
     ]
    },
    {
     "name": "stderr",
     "output_type": "stream",
     "text": [
      "100%|██████████| 500/500 [00:35<00:00, 14.20it/s]\n",
      "  0%|          | 0/500 [00:00<?, ?it/s]"
     ]
    },
    {
     "name": "stdout",
     "output_type": "stream",
     "text": [
      "Example target: [1. 0.]\n",
      "Example prediction: [0.4965, 0.5035]\n",
      "Epoch 133 Training Loss: 0.692 Training Accuracy: 0.5327 Val Loss: 0.6921 Val Accuracy: 0.5314\n"
     ]
    },
    {
     "name": "stderr",
     "output_type": "stream",
     "text": [
      "100%|██████████| 500/500 [00:35<00:00, 14.22it/s]\n",
      "  0%|          | 1/500 [00:00<01:32,  5.41it/s]"
     ]
    },
    {
     "name": "stdout",
     "output_type": "stream",
     "text": [
      "Example target: [0. 1.]\n",
      "Example prediction: [0.4618, 0.5382]\n",
      "Epoch 134 Training Loss: 0.692 Training Accuracy: 0.5324 Val Loss: 0.692 Val Accuracy: 0.532\n"
     ]
    },
    {
     "name": "stderr",
     "output_type": "stream",
     "text": [
      "100%|██████████| 500/500 [00:35<00:00, 14.13it/s]\n",
      "  0%|          | 1/500 [00:00<01:30,  5.53it/s]"
     ]
    },
    {
     "name": "stdout",
     "output_type": "stream",
     "text": [
      "Example target: [1. 0.]\n",
      "Example prediction: [0.4717, 0.5283]\n",
      "Epoch 135 Training Loss: 0.692 Training Accuracy: 0.5325 Val Loss: 0.6918 Val Accuracy: 0.5324\n"
     ]
    },
    {
     "name": "stderr",
     "output_type": "stream",
     "text": [
      "100%|██████████| 500/500 [00:35<00:00, 14.08it/s]\n",
      "  0%|          | 1/500 [00:00<01:31,  5.44it/s]"
     ]
    },
    {
     "name": "stdout",
     "output_type": "stream",
     "text": [
      "Example target: [0. 1.]\n",
      "Example prediction: [0.4702, 0.5298]\n",
      "Epoch 136 Training Loss: 0.692 Training Accuracy: 0.5322 Val Loss: 0.6919 Val Accuracy: 0.5318\n"
     ]
    },
    {
     "name": "stderr",
     "output_type": "stream",
     "text": [
      "100%|██████████| 500/500 [00:37<00:00, 13.84it/s]\n",
      "  0%|          | 1/500 [00:00<01:32,  5.41it/s]"
     ]
    },
    {
     "name": "stdout",
     "output_type": "stream",
     "text": [
      "Example target: [0. 1.]\n",
      "Example prediction: [0.4791, 0.5209]\n",
      "Epoch 137 Training Loss: 0.692 Training Accuracy: 0.5326 Val Loss: 0.6918 Val Accuracy: 0.5328\n"
     ]
    },
    {
     "name": "stderr",
     "output_type": "stream",
     "text": [
      "100%|██████████| 500/500 [00:35<00:00, 14.15it/s]\n",
      "  0%|          | 1/500 [00:00<01:35,  5.24it/s]"
     ]
    },
    {
     "name": "stdout",
     "output_type": "stream",
     "text": [
      "Example target: [1. 0.]\n",
      "Example prediction: [0.4982, 0.5018]\n",
      "Epoch 138 Training Loss: 0.692 Training Accuracy: 0.5325 Val Loss: 0.6918 Val Accuracy: 0.5327\n"
     ]
    },
    {
     "name": "stderr",
     "output_type": "stream",
     "text": [
      "100%|██████████| 500/500 [00:35<00:00, 14.17it/s]\n",
      "  0%|          | 1/500 [00:00<01:35,  5.22it/s]"
     ]
    },
    {
     "name": "stdout",
     "output_type": "stream",
     "text": [
      "Example target: [0. 1.]\n",
      "Example prediction: [0.4409, 0.5591]\n",
      "Epoch 139 Training Loss: 0.692 Training Accuracy: 0.5325 Val Loss: 0.6918 Val Accuracy: 0.5325\n"
     ]
    },
    {
     "name": "stderr",
     "output_type": "stream",
     "text": [
      "100%|██████████| 500/500 [00:35<00:00, 14.17it/s]\n",
      "  0%|          | 1/500 [00:00<01:29,  5.55it/s]"
     ]
    },
    {
     "name": "stdout",
     "output_type": "stream",
     "text": [
      "Example target: [0. 1.]\n",
      "Example prediction: [0.4764, 0.5236]\n",
      "Epoch 140 Training Loss: 0.692 Training Accuracy: 0.5324 Val Loss: 0.6919 Val Accuracy: 0.5322\n"
     ]
    },
    {
     "name": "stderr",
     "output_type": "stream",
     "text": [
      "100%|██████████| 500/500 [00:35<00:00, 14.10it/s]\n",
      "  0%|          | 1/500 [00:00<01:28,  5.62it/s]"
     ]
    },
    {
     "name": "stdout",
     "output_type": "stream",
     "text": [
      "Example target: [1. 0.]\n",
      "Example prediction: [0.4844, 0.5156]\n",
      "Epoch 141 Training Loss: 0.692 Training Accuracy: 0.5326 Val Loss: 0.6918 Val Accuracy: 0.5325\n"
     ]
    },
    {
     "name": "stderr",
     "output_type": "stream",
     "text": [
      "100%|██████████| 500/500 [00:35<00:00, 14.18it/s]\n",
      "  0%|          | 1/500 [00:00<01:32,  5.40it/s]"
     ]
    },
    {
     "name": "stdout",
     "output_type": "stream",
     "text": [
      "Example target: [1. 0.]\n",
      "Example prediction: [0.4682, 0.5318]\n",
      "Epoch 142 Training Loss: 0.692 Training Accuracy: 0.5324 Val Loss: 0.6919 Val Accuracy: 0.5321\n"
     ]
    },
    {
     "name": "stderr",
     "output_type": "stream",
     "text": [
      "100%|██████████| 500/500 [00:35<00:00, 14.18it/s]\n",
      "  0%|          | 1/500 [00:00<01:32,  5.41it/s]"
     ]
    },
    {
     "name": "stdout",
     "output_type": "stream",
     "text": [
      "Example target: [0. 1.]\n",
      "Example prediction: [0.4552, 0.5448]\n",
      "Epoch 143 Training Loss: 0.692 Training Accuracy: 0.5326 Val Loss: 0.6919 Val Accuracy: 0.5323\n"
     ]
    },
    {
     "name": "stderr",
     "output_type": "stream",
     "text": [
      "100%|██████████| 500/500 [00:35<00:00, 14.09it/s]\n",
      "  0%|          | 1/500 [00:00<01:30,  5.48it/s]"
     ]
    },
    {
     "name": "stdout",
     "output_type": "stream",
     "text": [
      "Example target: [0. 1.]\n",
      "Example prediction: [0.444, 0.556]\n",
      "Epoch 144 Training Loss: 0.692 Training Accuracy: 0.5327 Val Loss: 0.6919 Val Accuracy: 0.532\n"
     ]
    },
    {
     "name": "stderr",
     "output_type": "stream",
     "text": [
      "100%|██████████| 500/500 [00:35<00:00, 14.02it/s]\n",
      "  0%|          | 1/500 [00:00<01:30,  5.49it/s]"
     ]
    },
    {
     "name": "stdout",
     "output_type": "stream",
     "text": [
      "Example target: [1. 0.]\n",
      "Example prediction: [0.4695, 0.5305]\n",
      "Epoch 145 Training Loss: 0.692 Training Accuracy: 0.5324 Val Loss: 0.6918 Val Accuracy: 0.5324\n"
     ]
    },
    {
     "name": "stderr",
     "output_type": "stream",
     "text": [
      "100%|██████████| 500/500 [00:35<00:00, 14.21it/s]\n",
      "  0%|          | 1/500 [00:00<01:30,  5.54it/s]"
     ]
    },
    {
     "name": "stdout",
     "output_type": "stream",
     "text": [
      "Example target: [0. 1.]\n",
      "Example prediction: [0.4749, 0.5251]\n",
      "Epoch 146 Training Loss: 0.692 Training Accuracy: 0.5326 Val Loss: 0.6919 Val Accuracy: 0.5326\n"
     ]
    },
    {
     "name": "stderr",
     "output_type": "stream",
     "text": [
      "100%|██████████| 500/500 [00:35<00:00, 14.10it/s]\n",
      "  0%|          | 1/500 [00:00<01:35,  5.22it/s]"
     ]
    },
    {
     "name": "stdout",
     "output_type": "stream",
     "text": [
      "Example target: [0. 1.]\n",
      "Example prediction: [0.5135, 0.4865]\n",
      "Epoch 147 Training Loss: 0.692 Training Accuracy: 0.5327 Val Loss: 0.692 Val Accuracy: 0.5321\n"
     ]
    },
    {
     "name": "stderr",
     "output_type": "stream",
     "text": [
      "100%|██████████| 500/500 [00:35<00:00, 14.15it/s]\n",
      "  0%|          | 1/500 [00:00<01:28,  5.62it/s]"
     ]
    },
    {
     "name": "stdout",
     "output_type": "stream",
     "text": [
      "Example target: [1. 0.]\n",
      "Example prediction: [0.4515, 0.5485]\n",
      "Epoch 148 Training Loss: 0.692 Training Accuracy: 0.5322 Val Loss: 0.6918 Val Accuracy: 0.5331\n"
     ]
    },
    {
     "name": "stderr",
     "output_type": "stream",
     "text": [
      "100%|██████████| 500/500 [00:35<00:00, 14.22it/s]\n",
      "  0%|          | 1/500 [00:00<01:33,  5.33it/s]"
     ]
    },
    {
     "name": "stdout",
     "output_type": "stream",
     "text": [
      "Example target: [0. 1.]\n",
      "Example prediction: [0.4866, 0.5134]\n",
      "Epoch 149 Training Loss: 0.692 Training Accuracy: 0.5326 Val Loss: 0.6918 Val Accuracy: 0.5329\n"
     ]
    },
    {
     "name": "stderr",
     "output_type": "stream",
     "text": [
      "100%|██████████| 500/500 [00:35<00:00, 14.08it/s]\n",
      "  0%|          | 1/500 [00:00<01:30,  5.49it/s]"
     ]
    },
    {
     "name": "stdout",
     "output_type": "stream",
     "text": [
      "Example target: [0. 1.]\n",
      "Example prediction: [0.4408, 0.5592]\n",
      "Epoch 150 Training Loss: 0.692 Training Accuracy: 0.5323 Val Loss: 0.6919 Val Accuracy: 0.5325\n"
     ]
    },
    {
     "name": "stderr",
     "output_type": "stream",
     "text": [
      "100%|██████████| 500/500 [00:35<00:00, 14.00it/s]\n",
      "  0%|          | 1/500 [00:00<01:32,  5.42it/s]"
     ]
    },
    {
     "name": "stdout",
     "output_type": "stream",
     "text": [
      "Example target: [0. 1.]\n",
      "Example prediction: [0.453, 0.547]\n",
      "Epoch 151 Training Loss: 0.692 Training Accuracy: 0.5324 Val Loss: 0.6918 Val Accuracy: 0.5326\n"
     ]
    },
    {
     "name": "stderr",
     "output_type": "stream",
     "text": [
      "100%|██████████| 500/500 [00:35<00:00, 14.07it/s]\n",
      "  0%|          | 1/500 [00:00<01:29,  5.60it/s]"
     ]
    },
    {
     "name": "stdout",
     "output_type": "stream",
     "text": [
      "Example target: [0. 1.]\n",
      "Example prediction: [0.4718, 0.5282]\n",
      "Epoch 152 Training Loss: 0.692 Training Accuracy: 0.5325 Val Loss: 0.6918 Val Accuracy: 0.5328\n"
     ]
    },
    {
     "name": "stderr",
     "output_type": "stream",
     "text": [
      "100%|██████████| 500/500 [00:35<00:00, 14.17it/s]\n",
      "  0%|          | 0/500 [00:00<?, ?it/s]"
     ]
    },
    {
     "name": "stdout",
     "output_type": "stream",
     "text": [
      "Example target: [0. 1.]\n",
      "Example prediction: [0.4909, 0.5091]\n",
      "Epoch 153 Training Loss: 0.692 Training Accuracy: 0.5326 Val Loss: 0.692 Val Accuracy: 0.5318\n"
     ]
    },
    {
     "name": "stderr",
     "output_type": "stream",
     "text": [
      "100%|██████████| 500/500 [00:35<00:00, 14.05it/s]\n",
      "  0%|          | 0/500 [00:00<?, ?it/s]"
     ]
    },
    {
     "name": "stdout",
     "output_type": "stream",
     "text": [
      "Example target: [0. 1.]\n",
      "Example prediction: [0.4793, 0.5207]\n",
      "Epoch 154 Training Loss: 0.692 Training Accuracy: 0.5324 Val Loss: 0.6918 Val Accuracy: 0.5328\n"
     ]
    },
    {
     "name": "stderr",
     "output_type": "stream",
     "text": [
      "100%|██████████| 500/500 [00:35<00:00, 14.30it/s]\n",
      "  0%|          | 0/500 [00:00<?, ?it/s]"
     ]
    },
    {
     "name": "stdout",
     "output_type": "stream",
     "text": [
      "Example target: [0. 1.]\n",
      "Example prediction: [0.4913, 0.5087]\n",
      "Epoch 155 Training Loss: 0.692 Training Accuracy: 0.5325 Val Loss: 0.6918 Val Accuracy: 0.5328\n"
     ]
    },
    {
     "name": "stderr",
     "output_type": "stream",
     "text": [
      "100%|██████████| 500/500 [00:35<00:00, 14.11it/s]\n",
      "  0%|          | 1/500 [00:00<01:30,  5.53it/s]"
     ]
    },
    {
     "name": "stdout",
     "output_type": "stream",
     "text": [
      "Example target: [1. 0.]\n",
      "Example prediction: [0.4502, 0.5498]\n",
      "Epoch 156 Training Loss: 0.692 Training Accuracy: 0.5321 Val Loss: 0.6918 Val Accuracy: 0.5325\n"
     ]
    },
    {
     "name": "stderr",
     "output_type": "stream",
     "text": [
      "100%|██████████| 500/500 [00:35<00:00, 14.09it/s]\n",
      "  0%|          | 1/500 [00:00<01:31,  5.46it/s]"
     ]
    },
    {
     "name": "stdout",
     "output_type": "stream",
     "text": [
      "Example target: [1. 0.]\n",
      "Example prediction: [0.4549, 0.5451]\n",
      "Epoch 157 Training Loss: 0.692 Training Accuracy: 0.5327 Val Loss: 0.6921 Val Accuracy: 0.5318\n"
     ]
    },
    {
     "name": "stderr",
     "output_type": "stream",
     "text": [
      "100%|██████████| 500/500 [00:35<00:00, 14.21it/s]\n",
      "  0%|          | 1/500 [00:00<01:29,  5.60it/s]"
     ]
    },
    {
     "name": "stdout",
     "output_type": "stream",
     "text": [
      "Example target: [0. 1.]\n",
      "Example prediction: [0.4639, 0.5361]\n",
      "Epoch 158 Training Loss: 0.692 Training Accuracy: 0.5323 Val Loss: 0.692 Val Accuracy: 0.5321\n"
     ]
    },
    {
     "name": "stderr",
     "output_type": "stream",
     "text": [
      "100%|██████████| 500/500 [00:35<00:00, 14.12it/s]\n",
      "  0%|          | 1/500 [00:00<01:32,  5.41it/s]"
     ]
    },
    {
     "name": "stdout",
     "output_type": "stream",
     "text": [
      "Example target: [1. 0.]\n",
      "Example prediction: [0.4883, 0.5117]\n",
      "Epoch 159 Training Loss: 0.692 Training Accuracy: 0.5328 Val Loss: 0.6919 Val Accuracy: 0.5325\n"
     ]
    },
    {
     "name": "stderr",
     "output_type": "stream",
     "text": [
      "100%|██████████| 500/500 [00:35<00:00, 14.12it/s]\n",
      "  0%|          | 1/500 [00:00<01:33,  5.33it/s]"
     ]
    },
    {
     "name": "stdout",
     "output_type": "stream",
     "text": [
      "Example target: [0. 1.]\n",
      "Example prediction: [0.4583, 0.5417]\n",
      "Epoch 160 Training Loss: 0.692 Training Accuracy: 0.5329 Val Loss: 0.6918 Val Accuracy: 0.5326\n"
     ]
    },
    {
     "name": "stderr",
     "output_type": "stream",
     "text": [
      "100%|██████████| 500/500 [00:35<00:00, 14.16it/s]\n",
      "  0%|          | 1/500 [00:00<01:32,  5.42it/s]"
     ]
    },
    {
     "name": "stdout",
     "output_type": "stream",
     "text": [
      "Example target: [0. 1.]\n",
      "Example prediction: [0.4421, 0.5579]\n",
      "Epoch 161 Training Loss: 0.692 Training Accuracy: 0.5323 Val Loss: 0.6918 Val Accuracy: 0.5327\n"
     ]
    },
    {
     "name": "stderr",
     "output_type": "stream",
     "text": [
      "100%|██████████| 500/500 [00:35<00:00, 14.29it/s]\n",
      "  0%|          | 1/500 [00:00<01:30,  5.53it/s]"
     ]
    },
    {
     "name": "stdout",
     "output_type": "stream",
     "text": [
      "Example target: [1. 0.]\n",
      "Example prediction: [0.5177, 0.4823]\n",
      "Epoch 162 Training Loss: 0.692 Training Accuracy: 0.5326 Val Loss: 0.6919 Val Accuracy: 0.5329\n"
     ]
    },
    {
     "name": "stderr",
     "output_type": "stream",
     "text": [
      "100%|██████████| 500/500 [00:35<00:00, 14.16it/s]\n",
      "  0%|          | 1/500 [00:00<01:31,  5.48it/s]"
     ]
    },
    {
     "name": "stdout",
     "output_type": "stream",
     "text": [
      "Example target: [0. 1.]\n",
      "Example prediction: [0.4568, 0.5432]\n",
      "Epoch 163 Training Loss: 0.692 Training Accuracy: 0.5326 Val Loss: 0.6919 Val Accuracy: 0.5325\n"
     ]
    },
    {
     "name": "stderr",
     "output_type": "stream",
     "text": [
      "100%|██████████| 500/500 [00:35<00:00, 14.09it/s]\n",
      "  0%|          | 1/500 [00:00<01:30,  5.54it/s]"
     ]
    },
    {
     "name": "stdout",
     "output_type": "stream",
     "text": [
      "Example target: [0. 1.]\n",
      "Example prediction: [0.4771, 0.5229]\n",
      "Epoch 164 Training Loss: 0.692 Training Accuracy: 0.5324 Val Loss: 0.6919 Val Accuracy: 0.5326\n"
     ]
    },
    {
     "name": "stderr",
     "output_type": "stream",
     "text": [
      "100%|██████████| 500/500 [00:35<00:00, 14.16it/s]\n",
      "  0%|          | 1/500 [00:00<01:32,  5.42it/s]"
     ]
    },
    {
     "name": "stdout",
     "output_type": "stream",
     "text": [
      "Example target: [0. 1.]\n",
      "Example prediction: [0.4523, 0.5477]\n",
      "Epoch 165 Training Loss: 0.692 Training Accuracy: 0.5325 Val Loss: 0.6918 Val Accuracy: 0.5327\n"
     ]
    },
    {
     "name": "stderr",
     "output_type": "stream",
     "text": [
      "100%|██████████| 500/500 [00:35<00:00, 14.24it/s]\n",
      "  0%|          | 1/500 [00:00<01:37,  5.13it/s]"
     ]
    },
    {
     "name": "stdout",
     "output_type": "stream",
     "text": [
      "Example target: [1. 0.]\n",
      "Example prediction: [0.4878, 0.5122]\n",
      "Epoch 166 Training Loss: 0.692 Training Accuracy: 0.5328 Val Loss: 0.6918 Val Accuracy: 0.533\n"
     ]
    },
    {
     "name": "stderr",
     "output_type": "stream",
     "text": [
      "100%|██████████| 500/500 [00:35<00:00, 14.08it/s]\n",
      "  0%|          | 1/500 [00:00<01:35,  5.24it/s]"
     ]
    },
    {
     "name": "stdout",
     "output_type": "stream",
     "text": [
      "Example target: [0. 1.]\n",
      "Example prediction: [0.4764, 0.5236]\n",
      "Epoch 167 Training Loss: 0.692 Training Accuracy: 0.5325 Val Loss: 0.6919 Val Accuracy: 0.5325\n"
     ]
    },
    {
     "name": "stderr",
     "output_type": "stream",
     "text": [
      "100%|██████████| 500/500 [00:35<00:00, 13.95it/s]\n",
      "  0%|          | 1/500 [00:00<01:29,  5.57it/s]"
     ]
    },
    {
     "name": "stdout",
     "output_type": "stream",
     "text": [
      "Example target: [1. 0.]\n",
      "Example prediction: [0.4856, 0.5144]\n",
      "Epoch 168 Training Loss: 0.692 Training Accuracy: 0.5326 Val Loss: 0.6922 Val Accuracy: 0.5311\n"
     ]
    },
    {
     "name": "stderr",
     "output_type": "stream",
     "text": [
      "100%|██████████| 500/500 [00:35<00:00, 14.02it/s]\n",
      "  0%|          | 1/500 [00:00<01:32,  5.37it/s]"
     ]
    },
    {
     "name": "stdout",
     "output_type": "stream",
     "text": [
      "Example target: [0. 1.]\n",
      "Example prediction: [0.4796, 0.5204]\n",
      "Epoch 169 Training Loss: 0.692 Training Accuracy: 0.5327 Val Loss: 0.692 Val Accuracy: 0.5318\n"
     ]
    },
    {
     "name": "stderr",
     "output_type": "stream",
     "text": [
      "100%|██████████| 500/500 [00:35<00:00, 14.21it/s]\n",
      "  0%|          | 1/500 [00:00<01:29,  5.57it/s]"
     ]
    },
    {
     "name": "stdout",
     "output_type": "stream",
     "text": [
      "Example target: [0. 1.]\n",
      "Example prediction: [0.4505, 0.5495]\n",
      "Epoch 170 Training Loss: 0.692 Training Accuracy: 0.5328 Val Loss: 0.6918 Val Accuracy: 0.5329\n"
     ]
    },
    {
     "name": "stderr",
     "output_type": "stream",
     "text": [
      "100%|██████████| 500/500 [00:35<00:00, 14.16it/s]\n",
      "  0%|          | 1/500 [00:00<01:35,  5.22it/s]"
     ]
    },
    {
     "name": "stdout",
     "output_type": "stream",
     "text": [
      "Example target: [1. 0.]\n",
      "Example prediction: [0.4542, 0.5458]\n",
      "Epoch 171 Training Loss: 0.692 Training Accuracy: 0.5324 Val Loss: 0.6922 Val Accuracy: 0.5311\n"
     ]
    },
    {
     "name": "stderr",
     "output_type": "stream",
     "text": [
      "100%|██████████| 500/500 [00:35<00:00, 14.11it/s]\n",
      "  0%|          | 1/500 [00:00<01:33,  5.33it/s]"
     ]
    },
    {
     "name": "stdout",
     "output_type": "stream",
     "text": [
      "Example target: [0. 1.]\n",
      "Example prediction: [0.4859, 0.5141]\n",
      "Epoch 172 Training Loss: 0.692 Training Accuracy: 0.5327 Val Loss: 0.6919 Val Accuracy: 0.5323\n"
     ]
    },
    {
     "name": "stderr",
     "output_type": "stream",
     "text": [
      "100%|██████████| 500/500 [00:35<00:00, 14.22it/s]\n",
      "  0%|          | 1/500 [00:00<01:33,  5.34it/s]"
     ]
    },
    {
     "name": "stdout",
     "output_type": "stream",
     "text": [
      "Example target: [1. 0.]\n",
      "Example prediction: [0.4733, 0.5267]\n",
      "Epoch 173 Training Loss: 0.692 Training Accuracy: 0.5325 Val Loss: 0.6918 Val Accuracy: 0.5329\n"
     ]
    },
    {
     "name": "stderr",
     "output_type": "stream",
     "text": [
      "100%|██████████| 500/500 [00:35<00:00, 14.27it/s]\n",
      "  0%|          | 1/500 [00:00<01:28,  5.66it/s]"
     ]
    },
    {
     "name": "stdout",
     "output_type": "stream",
     "text": [
      "Example target: [0. 1.]\n",
      "Example prediction: [0.4361, 0.5639]\n",
      "Epoch 174 Training Loss: 0.692 Training Accuracy: 0.5325 Val Loss: 0.6919 Val Accuracy: 0.5324\n"
     ]
    },
    {
     "name": "stderr",
     "output_type": "stream",
     "text": [
      "100%|██████████| 500/500 [00:35<00:00, 14.11it/s]\n",
      "  0%|          | 1/500 [00:00<01:31,  5.44it/s]"
     ]
    },
    {
     "name": "stdout",
     "output_type": "stream",
     "text": [
      "Example target: [1. 0.]\n",
      "Example prediction: [0.4968, 0.5032]\n",
      "Epoch 175 Training Loss: 0.692 Training Accuracy: 0.5326 Val Loss: 0.6919 Val Accuracy: 0.5322\n"
     ]
    },
    {
     "name": "stderr",
     "output_type": "stream",
     "text": [
      "100%|██████████| 500/500 [00:35<00:00, 14.16it/s]\n",
      "  0%|          | 1/500 [00:00<01:33,  5.31it/s]"
     ]
    },
    {
     "name": "stdout",
     "output_type": "stream",
     "text": [
      "Example target: [1. 0.]\n",
      "Example prediction: [0.4755, 0.5245]\n",
      "Epoch 176 Training Loss: 0.692 Training Accuracy: 0.5326 Val Loss: 0.692 Val Accuracy: 0.5319\n"
     ]
    },
    {
     "name": "stderr",
     "output_type": "stream",
     "text": [
      "100%|██████████| 500/500 [00:35<00:00, 14.20it/s]\n",
      "  0%|          | 1/500 [00:00<01:33,  5.34it/s]"
     ]
    },
    {
     "name": "stdout",
     "output_type": "stream",
     "text": [
      "Example target: [0. 1.]\n",
      "Example prediction: [0.4668, 0.5332]\n",
      "Epoch 177 Training Loss: 0.692 Training Accuracy: 0.5325 Val Loss: 0.6919 Val Accuracy: 0.5329\n"
     ]
    },
    {
     "name": "stderr",
     "output_type": "stream",
     "text": [
      "100%|██████████| 500/500 [00:35<00:00, 14.14it/s]\n",
      "  0%|          | 1/500 [00:00<01:32,  5.39it/s]"
     ]
    },
    {
     "name": "stdout",
     "output_type": "stream",
     "text": [
      "Example target: [0. 1.]\n",
      "Example prediction: [0.4913, 0.5087]\n",
      "Epoch 178 Training Loss: 0.692 Training Accuracy: 0.5325 Val Loss: 0.6921 Val Accuracy: 0.5314\n"
     ]
    },
    {
     "name": "stderr",
     "output_type": "stream",
     "text": [
      "100%|██████████| 500/500 [00:35<00:00, 14.11it/s]\n",
      "  0%|          | 1/500 [00:00<01:30,  5.53it/s]"
     ]
    },
    {
     "name": "stdout",
     "output_type": "stream",
     "text": [
      "Example target: [1. 0.]\n",
      "Example prediction: [0.4734, 0.5266]\n",
      "Epoch 179 Training Loss: 0.692 Training Accuracy: 0.5328 Val Loss: 0.6919 Val Accuracy: 0.5322\n"
     ]
    },
    {
     "name": "stderr",
     "output_type": "stream",
     "text": [
      "100%|██████████| 500/500 [00:35<00:00, 14.20it/s]\n",
      "  0%|          | 1/500 [00:00<01:31,  5.47it/s]"
     ]
    },
    {
     "name": "stdout",
     "output_type": "stream",
     "text": [
      "Example target: [0. 1.]\n",
      "Example prediction: [0.4729, 0.5271]\n",
      "Epoch 180 Training Loss: 0.692 Training Accuracy: 0.5326 Val Loss: 0.692 Val Accuracy: 0.5322\n"
     ]
    },
    {
     "name": "stderr",
     "output_type": "stream",
     "text": [
      "100%|██████████| 500/500 [00:35<00:00, 14.23it/s]\n",
      "  0%|          | 1/500 [00:00<01:31,  5.44it/s]"
     ]
    },
    {
     "name": "stdout",
     "output_type": "stream",
     "text": [
      "Example target: [1. 0.]\n",
      "Example prediction: [0.505, 0.495]\n",
      "Epoch 181 Training Loss: 0.6921 Training Accuracy: 0.5326 Val Loss: 0.6919 Val Accuracy: 0.533\n"
     ]
    },
    {
     "name": "stderr",
     "output_type": "stream",
     "text": [
      "100%|██████████| 500/500 [00:35<00:00, 14.17it/s]\n",
      "  0%|          | 1/500 [00:00<01:31,  5.45it/s]"
     ]
    },
    {
     "name": "stdout",
     "output_type": "stream",
     "text": [
      "Example target: [0. 1.]\n",
      "Example prediction: [0.4571, 0.5429]\n",
      "Epoch 182 Training Loss: 0.692 Training Accuracy: 0.5324 Val Loss: 0.6919 Val Accuracy: 0.5324\n"
     ]
    },
    {
     "name": "stderr",
     "output_type": "stream",
     "text": [
      "100%|██████████| 500/500 [00:35<00:00, 14.14it/s]\n",
      "  0%|          | 1/500 [00:00<01:30,  5.53it/s]"
     ]
    },
    {
     "name": "stdout",
     "output_type": "stream",
     "text": [
      "Example target: [0. 1.]\n",
      "Example prediction: [0.4723, 0.5277]\n",
      "Epoch 183 Training Loss: 0.692 Training Accuracy: 0.5327 Val Loss: 0.6921 Val Accuracy: 0.5318\n"
     ]
    },
    {
     "name": "stderr",
     "output_type": "stream",
     "text": [
      "100%|██████████| 500/500 [00:35<00:00, 14.20it/s]\n",
      "  0%|          | 1/500 [00:00<01:33,  5.33it/s]"
     ]
    },
    {
     "name": "stdout",
     "output_type": "stream",
     "text": [
      "Example target: [0. 1.]\n",
      "Example prediction: [0.4556, 0.5444]\n",
      "Epoch 184 Training Loss: 0.6921 Training Accuracy: 0.5325 Val Loss: 0.6919 Val Accuracy: 0.5321\n"
     ]
    },
    {
     "name": "stderr",
     "output_type": "stream",
     "text": [
      "100%|██████████| 500/500 [00:35<00:00, 14.17it/s]\n",
      "  0%|          | 1/500 [00:00<01:31,  5.43it/s]"
     ]
    },
    {
     "name": "stdout",
     "output_type": "stream",
     "text": [
      "Example target: [1. 0.]\n",
      "Example prediction: [0.4254, 0.5746]\n",
      "Epoch 185 Training Loss: 0.6921 Training Accuracy: 0.5328 Val Loss: 0.6919 Val Accuracy: 0.5329\n"
     ]
    },
    {
     "name": "stderr",
     "output_type": "stream",
     "text": [
      "100%|██████████| 500/500 [00:35<00:00, 14.12it/s]\n",
      "  0%|          | 1/500 [00:00<01:31,  5.46it/s]"
     ]
    },
    {
     "name": "stdout",
     "output_type": "stream",
     "text": [
      "Example target: [0. 1.]\n",
      "Example prediction: [0.4973, 0.5027]\n",
      "Epoch 186 Training Loss: 0.6921 Training Accuracy: 0.5326 Val Loss: 0.6918 Val Accuracy: 0.5325\n"
     ]
    },
    {
     "name": "stderr",
     "output_type": "stream",
     "text": [
      "100%|██████████| 500/500 [00:35<00:00, 14.08it/s]\n",
      "  0%|          | 1/500 [00:00<01:29,  5.61it/s]"
     ]
    },
    {
     "name": "stdout",
     "output_type": "stream",
     "text": [
      "Example target: [1. 0.]\n",
      "Example prediction: [0.4795, 0.5205]\n",
      "Epoch 187 Training Loss: 0.692 Training Accuracy: 0.5329 Val Loss: 0.6918 Val Accuracy: 0.5326\n"
     ]
    },
    {
     "name": "stderr",
     "output_type": "stream",
     "text": [
      "100%|██████████| 500/500 [00:35<00:00, 14.09it/s]\n",
      "  0%|          | 1/500 [00:00<01:36,  5.15it/s]"
     ]
    },
    {
     "name": "stdout",
     "output_type": "stream",
     "text": [
      "Example target: [1. 0.]\n",
      "Example prediction: [0.4603, 0.5397]\n",
      "Epoch 188 Training Loss: 0.692 Training Accuracy: 0.5326 Val Loss: 0.6919 Val Accuracy: 0.5322\n"
     ]
    },
    {
     "name": "stderr",
     "output_type": "stream",
     "text": [
      "100%|██████████| 500/500 [00:35<00:00, 14.10it/s]\n",
      "  0%|          | 1/500 [00:00<01:31,  5.45it/s]"
     ]
    },
    {
     "name": "stdout",
     "output_type": "stream",
     "text": [
      "Example target: [1. 0.]\n",
      "Example prediction: [0.4455, 0.5545]\n",
      "Epoch 189 Training Loss: 0.692 Training Accuracy: 0.5327 Val Loss: 0.6919 Val Accuracy: 0.5323\n"
     ]
    },
    {
     "name": "stderr",
     "output_type": "stream",
     "text": [
      "100%|██████████| 500/500 [00:35<00:00, 14.21it/s]\n",
      "  0%|          | 1/500 [00:00<01:33,  5.31it/s]"
     ]
    },
    {
     "name": "stdout",
     "output_type": "stream",
     "text": [
      "Example target: [0. 1.]\n",
      "Example prediction: [0.4943, 0.5057]\n",
      "Epoch 190 Training Loss: 0.692 Training Accuracy: 0.5328 Val Loss: 0.6919 Val Accuracy: 0.5325\n"
     ]
    },
    {
     "name": "stderr",
     "output_type": "stream",
     "text": [
      "100%|██████████| 500/500 [00:35<00:00, 14.09it/s]\n",
      "  0%|          | 1/500 [00:00<01:33,  5.33it/s]"
     ]
    },
    {
     "name": "stdout",
     "output_type": "stream",
     "text": [
      "Example target: [0. 1.]\n",
      "Example prediction: [0.4853, 0.5147]\n",
      "Epoch 191 Training Loss: 0.692 Training Accuracy: 0.5327 Val Loss: 0.6919 Val Accuracy: 0.5322\n"
     ]
    },
    {
     "name": "stderr",
     "output_type": "stream",
     "text": [
      "100%|██████████| 500/500 [00:35<00:00, 14.15it/s]\n",
      "  0%|          | 1/500 [00:00<01:31,  5.48it/s]"
     ]
    },
    {
     "name": "stdout",
     "output_type": "stream",
     "text": [
      "Example target: [1. 0.]\n",
      "Example prediction: [0.4451, 0.5549]\n",
      "Epoch 192 Training Loss: 0.6921 Training Accuracy: 0.5326 Val Loss: 0.6919 Val Accuracy: 0.5328\n"
     ]
    },
    {
     "name": "stderr",
     "output_type": "stream",
     "text": [
      "100%|██████████| 500/500 [00:35<00:00, 14.24it/s]\n",
      "  0%|          | 1/500 [00:00<01:30,  5.51it/s]"
     ]
    },
    {
     "name": "stdout",
     "output_type": "stream",
     "text": [
      "Example target: [0. 1.]\n",
      "Example prediction: [0.4787, 0.5213]\n",
      "Epoch 193 Training Loss: 0.692 Training Accuracy: 0.5323 Val Loss: 0.6919 Val Accuracy: 0.5325\n"
     ]
    },
    {
     "name": "stderr",
     "output_type": "stream",
     "text": [
      "100%|██████████| 500/500 [00:35<00:00, 14.03it/s]\n",
      "  0%|          | 1/500 [00:00<01:35,  5.24it/s]"
     ]
    },
    {
     "name": "stdout",
     "output_type": "stream",
     "text": [
      "Example target: [0. 1.]\n",
      "Example prediction: [0.4904, 0.5096]\n",
      "Epoch 194 Training Loss: 0.692 Training Accuracy: 0.5328 Val Loss: 0.6919 Val Accuracy: 0.5324\n"
     ]
    },
    {
     "name": "stderr",
     "output_type": "stream",
     "text": [
      "100%|██████████| 500/500 [00:35<00:00, 14.21it/s]\n",
      "  0%|          | 1/500 [00:00<01:30,  5.50it/s]"
     ]
    },
    {
     "name": "stdout",
     "output_type": "stream",
     "text": [
      "Example target: [0. 1.]\n",
      "Example prediction: [0.4649, 0.5351]\n",
      "Epoch 195 Training Loss: 0.6921 Training Accuracy: 0.5324 Val Loss: 0.6918 Val Accuracy: 0.5329\n"
     ]
    },
    {
     "name": "stderr",
     "output_type": "stream",
     "text": [
      "100%|██████████| 500/500 [00:35<00:00, 14.18it/s]\n",
      "  0%|          | 1/500 [00:00<01:30,  5.51it/s]"
     ]
    },
    {
     "name": "stdout",
     "output_type": "stream",
     "text": [
      "Example target: [1. 0.]\n",
      "Example prediction: [0.4566, 0.5434]\n",
      "Epoch 196 Training Loss: 0.6921 Training Accuracy: 0.5325 Val Loss: 0.6918 Val Accuracy: 0.5326\n"
     ]
    },
    {
     "name": "stderr",
     "output_type": "stream",
     "text": [
      "100%|██████████| 500/500 [00:35<00:00, 14.18it/s]\n",
      "  0%|          | 1/500 [00:00<01:28,  5.62it/s]"
     ]
    },
    {
     "name": "stdout",
     "output_type": "stream",
     "text": [
      "Example target: [0. 1.]\n",
      "Example prediction: [0.4313, 0.5687]\n",
      "Epoch 197 Training Loss: 0.692 Training Accuracy: 0.5327 Val Loss: 0.6924 Val Accuracy: 0.5319\n"
     ]
    },
    {
     "name": "stderr",
     "output_type": "stream",
     "text": [
      "100%|██████████| 500/500 [00:35<00:00, 14.19it/s]\n",
      "  0%|          | 1/500 [00:00<01:30,  5.51it/s]"
     ]
    },
    {
     "name": "stdout",
     "output_type": "stream",
     "text": [
      "Example target: [0. 1.]\n",
      "Example prediction: [0.4825, 0.5175]\n",
      "Epoch 198 Training Loss: 0.6921 Training Accuracy: 0.5326 Val Loss: 0.692 Val Accuracy: 0.5318\n"
     ]
    },
    {
     "name": "stderr",
     "output_type": "stream",
     "text": [
      "100%|██████████| 500/500 [00:35<00:00, 14.22it/s]\n",
      "  0%|          | 1/500 [00:00<01:32,  5.39it/s]"
     ]
    },
    {
     "name": "stdout",
     "output_type": "stream",
     "text": [
      "Example target: [0. 1.]\n",
      "Example prediction: [0.4831, 0.5169]\n",
      "Epoch 199 Training Loss: 0.692 Training Accuracy: 0.5328 Val Loss: 0.6922 Val Accuracy: 0.5313\n"
     ]
    },
    {
     "name": "stderr",
     "output_type": "stream",
     "text": [
      "100%|██████████| 500/500 [00:37<00:00, 13.32it/s]\n",
      "  0%|          | 1/500 [00:00<01:31,  5.43it/s]"
     ]
    },
    {
     "name": "stdout",
     "output_type": "stream",
     "text": [
      "Example target: [0. 1.]\n",
      "Example prediction: [0.4843, 0.5157]\n",
      "Epoch 200 Training Loss: 0.6921 Training Accuracy: 0.5326 Val Loss: 0.6918 Val Accuracy: 0.5328\n"
     ]
    },
    {
     "name": "stderr",
     "output_type": "stream",
     "text": [
      "100%|██████████| 500/500 [00:35<00:00, 14.16it/s]\n",
      "  0%|          | 1/500 [00:00<01:30,  5.50it/s]"
     ]
    },
    {
     "name": "stdout",
     "output_type": "stream",
     "text": [
      "Example target: [1. 0.]\n",
      "Example prediction: [0.4795, 0.5205]\n",
      "Epoch 201 Training Loss: 0.6921 Training Accuracy: 0.5326 Val Loss: 0.6919 Val Accuracy: 0.5323\n"
     ]
    },
    {
     "name": "stderr",
     "output_type": "stream",
     "text": [
      "100%|██████████| 500/500 [00:35<00:00, 14.11it/s]\n",
      "  0%|          | 1/500 [00:00<01:35,  5.24it/s]"
     ]
    },
    {
     "name": "stdout",
     "output_type": "stream",
     "text": [
      "Example target: [0. 1.]\n",
      "Example prediction: [0.4684, 0.5316]\n",
      "Epoch 202 Training Loss: 0.6921 Training Accuracy: 0.5328 Val Loss: 0.6918 Val Accuracy: 0.5329\n"
     ]
    },
    {
     "name": "stderr",
     "output_type": "stream",
     "text": [
      "100%|██████████| 500/500 [00:35<00:00, 14.09it/s]\n",
      "  0%|          | 1/500 [00:00<01:32,  5.42it/s]"
     ]
    },
    {
     "name": "stdout",
     "output_type": "stream",
     "text": [
      "Example target: [0. 1.]\n",
      "Example prediction: [0.4587, 0.5413]\n",
      "Epoch 203 Training Loss: 0.6921 Training Accuracy: 0.5326 Val Loss: 0.6919 Val Accuracy: 0.5323\n"
     ]
    },
    {
     "name": "stderr",
     "output_type": "stream",
     "text": [
      "100%|██████████| 500/500 [00:35<00:00, 14.13it/s]\n",
      "  0%|          | 1/500 [00:00<01:30,  5.49it/s]"
     ]
    },
    {
     "name": "stdout",
     "output_type": "stream",
     "text": [
      "Example target: [0. 1.]\n",
      "Example prediction: [0.4714, 0.5286]\n",
      "Epoch 204 Training Loss: 0.6921 Training Accuracy: 0.5325 Val Loss: 0.692 Val Accuracy: 0.5322\n"
     ]
    },
    {
     "name": "stderr",
     "output_type": "stream",
     "text": [
      "100%|██████████| 500/500 [00:35<00:00, 13.99it/s]\n",
      "  0%|          | 0/500 [00:00<?, ?it/s]"
     ]
    },
    {
     "name": "stdout",
     "output_type": "stream",
     "text": [
      "Example target: [1. 0.]\n",
      "Example prediction: [0.4734, 0.5266]\n",
      "Epoch 205 Training Loss: 0.6921 Training Accuracy: 0.5326 Val Loss: 0.6919 Val Accuracy: 0.5329\n"
     ]
    },
    {
     "name": "stderr",
     "output_type": "stream",
     "text": [
      "100%|██████████| 500/500 [00:35<00:00, 14.19it/s]\n",
      "  0%|          | 1/500 [00:00<01:31,  5.47it/s]"
     ]
    },
    {
     "name": "stdout",
     "output_type": "stream",
     "text": [
      "Example target: [0. 1.]\n",
      "Example prediction: [0.4929, 0.5071]\n",
      "Epoch 206 Training Loss: 0.6921 Training Accuracy: 0.5326 Val Loss: 0.692 Val Accuracy: 0.532\n"
     ]
    },
    {
     "name": "stderr",
     "output_type": "stream",
     "text": [
      "100%|██████████| 500/500 [00:35<00:00, 14.20it/s]\n",
      "  0%|          | 1/500 [00:00<01:31,  5.48it/s]"
     ]
    },
    {
     "name": "stdout",
     "output_type": "stream",
     "text": [
      "Example target: [1. 0.]\n",
      "Example prediction: [0.4328, 0.5672]\n",
      "Epoch 207 Training Loss: 0.6921 Training Accuracy: 0.5323 Val Loss: 0.6918 Val Accuracy: 0.5325\n"
     ]
    },
    {
     "name": "stderr",
     "output_type": "stream",
     "text": [
      "100%|██████████| 500/500 [00:35<00:00, 14.15it/s]\n",
      "  0%|          | 1/500 [00:00<01:32,  5.38it/s]"
     ]
    },
    {
     "name": "stdout",
     "output_type": "stream",
     "text": [
      "Example target: [0. 1.]\n",
      "Example prediction: [0.4843, 0.5157]\n",
      "Epoch 208 Training Loss: 0.692 Training Accuracy: 0.5329 Val Loss: 0.6918 Val Accuracy: 0.5331\n"
     ]
    },
    {
     "name": "stderr",
     "output_type": "stream",
     "text": [
      "100%|██████████| 500/500 [00:35<00:00, 14.21it/s]\n",
      "  0%|          | 1/500 [00:00<01:34,  5.29it/s]"
     ]
    },
    {
     "name": "stdout",
     "output_type": "stream",
     "text": [
      "Example target: [1. 0.]\n",
      "Example prediction: [0.4534, 0.5466]\n",
      "Epoch 209 Training Loss: 0.6921 Training Accuracy: 0.5325 Val Loss: 0.6919 Val Accuracy: 0.5323\n"
     ]
    },
    {
     "name": "stderr",
     "output_type": "stream",
     "text": [
      "100%|██████████| 500/500 [00:35<00:00, 14.21it/s]\n",
      "  0%|          | 1/500 [00:00<01:39,  5.04it/s]"
     ]
    },
    {
     "name": "stdout",
     "output_type": "stream",
     "text": [
      "Example target: [0. 1.]\n",
      "Example prediction: [0.4979, 0.5021]\n",
      "Epoch 210 Training Loss: 0.6921 Training Accuracy: 0.5326 Val Loss: 0.6919 Val Accuracy: 0.5323\n"
     ]
    },
    {
     "name": "stderr",
     "output_type": "stream",
     "text": [
      "100%|██████████| 500/500 [00:35<00:00, 14.18it/s]\n",
      "  0%|          | 1/500 [00:00<01:28,  5.62it/s]"
     ]
    },
    {
     "name": "stdout",
     "output_type": "stream",
     "text": [
      "Example target: [0. 1.]\n",
      "Example prediction: [0.4594, 0.5406]\n",
      "Epoch 211 Training Loss: 0.6921 Training Accuracy: 0.5327 Val Loss: 0.6919 Val Accuracy: 0.5326\n"
     ]
    },
    {
     "name": "stderr",
     "output_type": "stream",
     "text": [
      "100%|██████████| 500/500 [00:35<00:00, 14.25it/s]\n",
      "  0%|          | 1/500 [00:00<01:32,  5.40it/s]"
     ]
    },
    {
     "name": "stdout",
     "output_type": "stream",
     "text": [
      "Example target: [1. 0.]\n",
      "Example prediction: [0.4623, 0.5377]\n",
      "Epoch 212 Training Loss: 0.6921 Training Accuracy: 0.5331 Val Loss: 0.6918 Val Accuracy: 0.5328\n"
     ]
    },
    {
     "name": "stderr",
     "output_type": "stream",
     "text": [
      "100%|██████████| 500/500 [00:35<00:00, 14.11it/s]\n",
      "  0%|          | 1/500 [00:00<01:37,  5.11it/s]"
     ]
    },
    {
     "name": "stdout",
     "output_type": "stream",
     "text": [
      "Example target: [1. 0.]\n",
      "Example prediction: [0.4629, 0.5371]\n",
      "Epoch 213 Training Loss: 0.6921 Training Accuracy: 0.5324 Val Loss: 0.6919 Val Accuracy: 0.5323\n"
     ]
    },
    {
     "name": "stderr",
     "output_type": "stream",
     "text": [
      "100%|██████████| 500/500 [00:35<00:00, 14.12it/s]\n",
      "  0%|          | 1/500 [00:00<01:34,  5.27it/s]"
     ]
    },
    {
     "name": "stdout",
     "output_type": "stream",
     "text": [
      "Example target: [0. 1.]\n",
      "Example prediction: [0.4418, 0.5582]\n",
      "Epoch 214 Training Loss: 0.6921 Training Accuracy: 0.5329 Val Loss: 0.6921 Val Accuracy: 0.5314\n"
     ]
    },
    {
     "name": "stderr",
     "output_type": "stream",
     "text": [
      "100%|██████████| 500/500 [00:38<00:00, 12.99it/s]\n",
      "  0%|          | 1/500 [00:00<01:30,  5.52it/s]"
     ]
    },
    {
     "name": "stdout",
     "output_type": "stream",
     "text": [
      "Example target: [0. 1.]\n",
      "Example prediction: [0.4624, 0.5376]\n",
      "Epoch 215 Training Loss: 0.6921 Training Accuracy: 0.5329 Val Loss: 0.6919 Val Accuracy: 0.533\n"
     ]
    },
    {
     "name": "stderr",
     "output_type": "stream",
     "text": [
      "100%|██████████| 500/500 [00:36<00:00, 14.24it/s]\n",
      "  0%|          | 1/500 [00:00<01:29,  5.55it/s]"
     ]
    },
    {
     "name": "stdout",
     "output_type": "stream",
     "text": [
      "Example target: [0. 1.]\n",
      "Example prediction: [0.4945, 0.5055]\n",
      "Epoch 216 Training Loss: 0.6921 Training Accuracy: 0.5324 Val Loss: 0.6918 Val Accuracy: 0.5325\n"
     ]
    },
    {
     "name": "stderr",
     "output_type": "stream",
     "text": [
      "100%|██████████| 500/500 [00:35<00:00, 14.01it/s]\n",
      "  0%|          | 1/500 [00:00<01:32,  5.38it/s]"
     ]
    },
    {
     "name": "stdout",
     "output_type": "stream",
     "text": [
      "Example target: [1. 0.]\n",
      "Example prediction: [0.4707, 0.5293]\n",
      "Epoch 217 Training Loss: 0.6921 Training Accuracy: 0.5326 Val Loss: 0.6919 Val Accuracy: 0.5325\n"
     ]
    },
    {
     "name": "stderr",
     "output_type": "stream",
     "text": [
      "100%|██████████| 500/500 [00:35<00:00, 13.94it/s]\n",
      "  0%|          | 1/500 [00:00<01:29,  5.56it/s]"
     ]
    },
    {
     "name": "stdout",
     "output_type": "stream",
     "text": [
      "Example target: [1. 0.]\n",
      "Example prediction: [0.4525, 0.5475]\n",
      "Epoch 218 Training Loss: 0.6921 Training Accuracy: 0.5326 Val Loss: 0.692 Val Accuracy: 0.5322\n"
     ]
    },
    {
     "name": "stderr",
     "output_type": "stream",
     "text": [
      "100%|██████████| 500/500 [00:35<00:00, 14.14it/s]\n",
      "  0%|          | 1/500 [00:00<01:30,  5.49it/s]"
     ]
    },
    {
     "name": "stdout",
     "output_type": "stream",
     "text": [
      "Example target: [0. 1.]\n",
      "Example prediction: [0.4856, 0.5144]\n",
      "Epoch 219 Training Loss: 0.692 Training Accuracy: 0.5323 Val Loss: 0.692 Val Accuracy: 0.5321\n"
     ]
    },
    {
     "name": "stderr",
     "output_type": "stream",
     "text": [
      "100%|██████████| 500/500 [00:35<00:00, 14.13it/s]\n",
      "  0%|          | 1/500 [00:00<01:31,  5.47it/s]"
     ]
    },
    {
     "name": "stdout",
     "output_type": "stream",
     "text": [
      "Example target: [1. 0.]\n",
      "Example prediction: [0.4875, 0.5125]\n",
      "Epoch 220 Training Loss: 0.6921 Training Accuracy: 0.533 Val Loss: 0.6918 Val Accuracy: 0.533\n"
     ]
    },
    {
     "name": "stderr",
     "output_type": "stream",
     "text": [
      "100%|██████████| 500/500 [00:35<00:00, 14.15it/s]\n",
      "  0%|          | 1/500 [00:00<01:28,  5.66it/s]"
     ]
    },
    {
     "name": "stdout",
     "output_type": "stream",
     "text": [
      "Example target: [0. 1.]\n",
      "Example prediction: [0.4594, 0.5406]\n",
      "Epoch 221 Training Loss: 0.6921 Training Accuracy: 0.5326 Val Loss: 0.6918 Val Accuracy: 0.5326\n"
     ]
    },
    {
     "name": "stderr",
     "output_type": "stream",
     "text": [
      "100%|██████████| 500/500 [00:35<00:00, 14.18it/s]\n",
      "  0%|          | 0/500 [00:00<?, ?it/s]"
     ]
    },
    {
     "name": "stdout",
     "output_type": "stream",
     "text": [
      "Example target: [1. 0.]\n",
      "Example prediction: [0.4618, 0.5382]\n",
      "Epoch 222 Training Loss: 0.6921 Training Accuracy: 0.5328 Val Loss: 0.6919 Val Accuracy: 0.5324\n"
     ]
    },
    {
     "name": "stderr",
     "output_type": "stream",
     "text": [
      "100%|██████████| 500/500 [00:35<00:00, 14.24it/s]\n",
      "  0%|          | 1/500 [00:00<01:35,  5.25it/s]"
     ]
    },
    {
     "name": "stdout",
     "output_type": "stream",
     "text": [
      "Example target: [1. 0.]\n",
      "Example prediction: [0.4473, 0.5527]\n",
      "Epoch 223 Training Loss: 0.6921 Training Accuracy: 0.5328 Val Loss: 0.6922 Val Accuracy: 0.5314\n"
     ]
    },
    {
     "name": "stderr",
     "output_type": "stream",
     "text": [
      "100%|██████████| 500/500 [00:35<00:00, 14.18it/s]\n",
      "  0%|          | 1/500 [00:00<01:28,  5.66it/s]"
     ]
    },
    {
     "name": "stdout",
     "output_type": "stream",
     "text": [
      "Example target: [0. 1.]\n",
      "Example prediction: [0.4782, 0.5218]\n",
      "Epoch 224 Training Loss: 0.6921 Training Accuracy: 0.5327 Val Loss: 0.692 Val Accuracy: 0.5323\n"
     ]
    },
    {
     "name": "stderr",
     "output_type": "stream",
     "text": [
      "100%|██████████| 500/500 [00:35<00:00, 14.24it/s]\n",
      "  0%|          | 1/500 [00:00<01:33,  5.34it/s]"
     ]
    },
    {
     "name": "stdout",
     "output_type": "stream",
     "text": [
      "Example target: [1. 0.]\n",
      "Example prediction: [0.435, 0.565]\n",
      "Epoch 225 Training Loss: 0.6921 Training Accuracy: 0.5325 Val Loss: 0.6918 Val Accuracy: 0.5326\n"
     ]
    },
    {
     "name": "stderr",
     "output_type": "stream",
     "text": [
      "100%|██████████| 500/500 [00:35<00:00, 14.16it/s]\n",
      "  0%|          | 1/500 [00:00<01:35,  5.25it/s]"
     ]
    },
    {
     "name": "stdout",
     "output_type": "stream",
     "text": [
      "Example target: [0. 1.]\n",
      "Example prediction: [0.4838, 0.5162]\n",
      "Epoch 226 Training Loss: 0.6921 Training Accuracy: 0.5328 Val Loss: 0.692 Val Accuracy: 0.5323\n"
     ]
    },
    {
     "name": "stderr",
     "output_type": "stream",
     "text": [
      "100%|██████████| 500/500 [00:34<00:00, 14.29it/s]\n",
      "  0%|          | 1/500 [00:00<01:32,  5.37it/s]"
     ]
    },
    {
     "name": "stdout",
     "output_type": "stream",
     "text": [
      "Example target: [1. 0.]\n",
      "Example prediction: [0.4717, 0.5283]\n",
      "Epoch 227 Training Loss: 0.6921 Training Accuracy: 0.5326 Val Loss: 0.692 Val Accuracy: 0.5324\n"
     ]
    },
    {
     "name": "stderr",
     "output_type": "stream",
     "text": [
      "100%|██████████| 500/500 [00:35<00:00, 14.09it/s]\n",
      "  0%|          | 1/500 [00:00<01:28,  5.63it/s]"
     ]
    },
    {
     "name": "stdout",
     "output_type": "stream",
     "text": [
      "Example target: [1. 0.]\n",
      "Example prediction: [0.4655, 0.5345]\n",
      "Epoch 228 Training Loss: 0.6921 Training Accuracy: 0.5327 Val Loss: 0.692 Val Accuracy: 0.5322\n"
     ]
    },
    {
     "name": "stderr",
     "output_type": "stream",
     "text": [
      "100%|██████████| 500/500 [00:35<00:00, 14.17it/s]\n",
      "  0%|          | 1/500 [00:00<01:33,  5.36it/s]"
     ]
    },
    {
     "name": "stdout",
     "output_type": "stream",
     "text": [
      "Example target: [1. 0.]\n",
      "Example prediction: [0.4807, 0.5193]\n",
      "Epoch 229 Training Loss: 0.6921 Training Accuracy: 0.5329 Val Loss: 0.692 Val Accuracy: 0.5324\n"
     ]
    },
    {
     "name": "stderr",
     "output_type": "stream",
     "text": [
      "100%|██████████| 500/500 [00:34<00:00, 14.31it/s]\n",
      "  0%|          | 1/500 [00:00<01:37,  5.09it/s]"
     ]
    },
    {
     "name": "stdout",
     "output_type": "stream",
     "text": [
      "Example target: [0. 1.]\n",
      "Example prediction: [0.4423, 0.5577]\n",
      "Epoch 230 Training Loss: 0.6921 Training Accuracy: 0.5326 Val Loss: 0.6919 Val Accuracy: 0.5329\n"
     ]
    },
    {
     "name": "stderr",
     "output_type": "stream",
     "text": [
      "100%|██████████| 500/500 [00:39<00:00, 12.76it/s]\n",
      "  0%|          | 1/500 [00:00<01:32,  5.37it/s]"
     ]
    },
    {
     "name": "stdout",
     "output_type": "stream",
     "text": [
      "Example target: [0. 1.]\n",
      "Example prediction: [0.4555, 0.5445]\n",
      "Epoch 231 Training Loss: 0.6921 Training Accuracy: 0.5325 Val Loss: 0.6921 Val Accuracy: 0.5322\n"
     ]
    },
    {
     "name": "stderr",
     "output_type": "stream",
     "text": [
      "100%|██████████| 500/500 [00:35<00:00, 14.25it/s]\n",
      "  0%|          | 1/500 [00:00<01:31,  5.46it/s]"
     ]
    },
    {
     "name": "stdout",
     "output_type": "stream",
     "text": [
      "Example target: [0. 1.]\n",
      "Example prediction: [0.4644, 0.5356]\n",
      "Epoch 232 Training Loss: 0.6921 Training Accuracy: 0.5326 Val Loss: 0.6919 Val Accuracy: 0.5322\n"
     ]
    },
    {
     "name": "stderr",
     "output_type": "stream",
     "text": [
      "100%|██████████| 500/500 [00:35<00:00, 14.22it/s]\n",
      "  0%|          | 1/500 [00:00<01:37,  5.13it/s]"
     ]
    },
    {
     "name": "stdout",
     "output_type": "stream",
     "text": [
      "Example target: [1. 0.]\n",
      "Example prediction: [0.4889, 0.5111]\n",
      "Epoch 233 Training Loss: 0.6921 Training Accuracy: 0.5326 Val Loss: 0.6921 Val Accuracy: 0.5315\n"
     ]
    },
    {
     "name": "stderr",
     "output_type": "stream",
     "text": [
      "100%|██████████| 500/500 [00:35<00:00, 14.18it/s]\n",
      "  0%|          | 1/500 [00:00<01:28,  5.62it/s]"
     ]
    },
    {
     "name": "stdout",
     "output_type": "stream",
     "text": [
      "Example target: [1. 0.]\n",
      "Example prediction: [0.5077, 0.4923]\n",
      "Epoch 234 Training Loss: 0.6921 Training Accuracy: 0.5327 Val Loss: 0.6919 Val Accuracy: 0.5324\n"
     ]
    },
    {
     "name": "stderr",
     "output_type": "stream",
     "text": [
      "100%|██████████| 500/500 [00:35<00:00, 14.28it/s]\n",
      "  0%|          | 1/500 [00:00<01:32,  5.41it/s]"
     ]
    },
    {
     "name": "stdout",
     "output_type": "stream",
     "text": [
      "Example target: [1. 0.]\n",
      "Example prediction: [0.4995, 0.5005]\n",
      "Epoch 235 Training Loss: 0.6921 Training Accuracy: 0.5328 Val Loss: 0.6919 Val Accuracy: 0.5327\n"
     ]
    },
    {
     "name": "stderr",
     "output_type": "stream",
     "text": [
      "100%|██████████| 500/500 [00:35<00:00, 14.24it/s]\n",
      "  0%|          | 1/500 [00:00<01:33,  5.34it/s]"
     ]
    },
    {
     "name": "stdout",
     "output_type": "stream",
     "text": [
      "Example target: [1. 0.]\n",
      "Example prediction: [0.4742, 0.5258]\n",
      "Epoch 236 Training Loss: 0.6921 Training Accuracy: 0.5328 Val Loss: 0.6919 Val Accuracy: 0.5326\n"
     ]
    },
    {
     "name": "stderr",
     "output_type": "stream",
     "text": [
      "100%|██████████| 500/500 [00:35<00:00, 14.13it/s]\n",
      "  0%|          | 1/500 [00:00<01:34,  5.29it/s]"
     ]
    },
    {
     "name": "stdout",
     "output_type": "stream",
     "text": [
      "Example target: [0. 1.]\n",
      "Example prediction: [0.4512, 0.5488]\n",
      "Epoch 237 Training Loss: 0.6921 Training Accuracy: 0.5325 Val Loss: 0.6918 Val Accuracy: 0.5327\n"
     ]
    },
    {
     "name": "stderr",
     "output_type": "stream",
     "text": [
      "100%|██████████| 500/500 [00:35<00:00, 14.11it/s]\n",
      "  0%|          | 1/500 [00:00<01:31,  5.43it/s]"
     ]
    },
    {
     "name": "stdout",
     "output_type": "stream",
     "text": [
      "Example target: [0. 1.]\n",
      "Example prediction: [0.4841, 0.5159]\n",
      "Epoch 238 Training Loss: 0.6921 Training Accuracy: 0.5324 Val Loss: 0.692 Val Accuracy: 0.5323\n"
     ]
    },
    {
     "name": "stderr",
     "output_type": "stream",
     "text": [
      "100%|██████████| 500/500 [00:35<00:00, 14.21it/s]\n",
      "  0%|          | 1/500 [00:00<01:32,  5.38it/s]"
     ]
    },
    {
     "name": "stdout",
     "output_type": "stream",
     "text": [
      "Example target: [1. 0.]\n",
      "Example prediction: [0.4881, 0.5119]\n",
      "Epoch 239 Training Loss: 0.6921 Training Accuracy: 0.5325 Val Loss: 0.6919 Val Accuracy: 0.5326\n"
     ]
    },
    {
     "name": "stderr",
     "output_type": "stream",
     "text": [
      "100%|██████████| 500/500 [00:35<00:00, 14.19it/s]\n",
      "  0%|          | 1/500 [00:00<01:30,  5.51it/s]"
     ]
    },
    {
     "name": "stdout",
     "output_type": "stream",
     "text": [
      "Example target: [1. 0.]\n",
      "Example prediction: [0.4721, 0.5279]\n",
      "Epoch 240 Training Loss: 0.6921 Training Accuracy: 0.5324 Val Loss: 0.6919 Val Accuracy: 0.5329\n"
     ]
    },
    {
     "name": "stderr",
     "output_type": "stream",
     "text": [
      "100%|██████████| 500/500 [00:35<00:00, 14.22it/s]\n",
      "  0%|          | 1/500 [00:00<01:37,  5.10it/s]"
     ]
    },
    {
     "name": "stdout",
     "output_type": "stream",
     "text": [
      "Example target: [1. 0.]\n",
      "Example prediction: [0.4562, 0.5438]\n",
      "Epoch 241 Training Loss: 0.6921 Training Accuracy: 0.5325 Val Loss: 0.692 Val Accuracy: 0.5322\n"
     ]
    },
    {
     "name": "stderr",
     "output_type": "stream",
     "text": [
      "100%|██████████| 500/500 [00:34<00:00, 14.30it/s]\n",
      "  0%|          | 1/500 [00:00<01:34,  5.28it/s]"
     ]
    },
    {
     "name": "stdout",
     "output_type": "stream",
     "text": [
      "Example target: [1. 0.]\n",
      "Example prediction: [0.4929, 0.5071]\n",
      "Epoch 242 Training Loss: 0.6921 Training Accuracy: 0.5327 Val Loss: 0.6921 Val Accuracy: 0.5321\n"
     ]
    },
    {
     "name": "stderr",
     "output_type": "stream",
     "text": [
      "100%|██████████| 500/500 [00:35<00:00, 14.27it/s]\n",
      "  0%|          | 1/500 [00:00<01:36,  5.19it/s]"
     ]
    },
    {
     "name": "stdout",
     "output_type": "stream",
     "text": [
      "Example target: [0. 1.]\n",
      "Example prediction: [0.4544, 0.5456]\n",
      "Epoch 243 Training Loss: 0.6921 Training Accuracy: 0.5329 Val Loss: 0.6919 Val Accuracy: 0.533\n"
     ]
    },
    {
     "name": "stderr",
     "output_type": "stream",
     "text": [
      "100%|██████████| 500/500 [00:35<00:00, 14.23it/s]\n",
      "  0%|          | 1/500 [00:00<01:31,  5.46it/s]"
     ]
    },
    {
     "name": "stdout",
     "output_type": "stream",
     "text": [
      "Example target: [0. 1.]\n",
      "Example prediction: [0.4388, 0.5612]\n",
      "Epoch 244 Training Loss: 0.6921 Training Accuracy: 0.5329 Val Loss: 0.692 Val Accuracy: 0.5322\n"
     ]
    },
    {
     "name": "stderr",
     "output_type": "stream",
     "text": [
      "100%|██████████| 500/500 [00:35<00:00, 14.21it/s]\n",
      "  0%|          | 1/500 [00:00<01:33,  5.32it/s]"
     ]
    },
    {
     "name": "stdout",
     "output_type": "stream",
     "text": [
      "Example target: [1. 0.]\n",
      "Example prediction: [0.4665, 0.5335]\n",
      "Epoch 245 Training Loss: 0.6921 Training Accuracy: 0.5331 Val Loss: 0.6919 Val Accuracy: 0.5324\n"
     ]
    },
    {
     "name": "stderr",
     "output_type": "stream",
     "text": [
      "100%|██████████| 500/500 [00:35<00:00, 14.23it/s]\n",
      "  0%|          | 1/500 [00:00<01:34,  5.28it/s]"
     ]
    },
    {
     "name": "stdout",
     "output_type": "stream",
     "text": [
      "Example target: [0. 1.]\n",
      "Example prediction: [0.4458, 0.5542]\n",
      "Epoch 246 Training Loss: 0.6921 Training Accuracy: 0.5326 Val Loss: 0.6919 Val Accuracy: 0.5326\n"
     ]
    },
    {
     "name": "stderr",
     "output_type": "stream",
     "text": [
      "100%|██████████| 500/500 [00:35<00:00, 13.95it/s]\n",
      "  0%|          | 1/500 [00:00<01:32,  5.39it/s]"
     ]
    },
    {
     "name": "stdout",
     "output_type": "stream",
     "text": [
      "Example target: [0. 1.]\n",
      "Example prediction: [0.4727, 0.5273]\n",
      "Epoch 247 Training Loss: 0.6921 Training Accuracy: 0.5327 Val Loss: 0.692 Val Accuracy: 0.5321\n"
     ]
    },
    {
     "name": "stderr",
     "output_type": "stream",
     "text": [
      "100%|██████████| 500/500 [00:35<00:00, 14.01it/s]\n",
      "  0%|          | 1/500 [00:00<01:30,  5.49it/s]"
     ]
    },
    {
     "name": "stdout",
     "output_type": "stream",
     "text": [
      "Example target: [0. 1.]\n",
      "Example prediction: [0.4912, 0.5088]\n",
      "Epoch 248 Training Loss: 0.6921 Training Accuracy: 0.5329 Val Loss: 0.6919 Val Accuracy: 0.5329\n"
     ]
    },
    {
     "name": "stderr",
     "output_type": "stream",
     "text": [
      "100%|██████████| 500/500 [00:35<00:00, 14.28it/s]\n",
      "  0%|          | 1/500 [00:00<01:38,  5.07it/s]"
     ]
    },
    {
     "name": "stdout",
     "output_type": "stream",
     "text": [
      "Example target: [0. 1.]\n",
      "Example prediction: [0.4809, 0.5191]\n",
      "Epoch 249 Training Loss: 0.6921 Training Accuracy: 0.5328 Val Loss: 0.6921 Val Accuracy: 0.5318\n"
     ]
    },
    {
     "name": "stderr",
     "output_type": "stream",
     "text": [
      "100%|██████████| 500/500 [00:35<00:00, 14.17it/s]\n",
      "  0%|          | 1/500 [00:00<01:29,  5.60it/s]"
     ]
    },
    {
     "name": "stdout",
     "output_type": "stream",
     "text": [
      "Example target: [0. 1.]\n",
      "Example prediction: [0.4699, 0.5301]\n",
      "Epoch 250 Training Loss: 0.6921 Training Accuracy: 0.5326 Val Loss: 0.6918 Val Accuracy: 0.5326\n"
     ]
    },
    {
     "name": "stderr",
     "output_type": "stream",
     "text": [
      "100%|██████████| 500/500 [00:34<00:00, 14.30it/s]\n",
      "  0%|          | 1/500 [00:00<01:33,  5.33it/s]"
     ]
    },
    {
     "name": "stdout",
     "output_type": "stream",
     "text": [
      "Example target: [0. 1.]\n",
      "Example prediction: [0.4442, 0.5558]\n",
      "Epoch 251 Training Loss: 0.6921 Training Accuracy: 0.5326 Val Loss: 0.692 Val Accuracy: 0.5322\n"
     ]
    },
    {
     "name": "stderr",
     "output_type": "stream",
     "text": [
      "100%|██████████| 500/500 [00:34<00:00, 14.31it/s]\n",
      "  0%|          | 1/500 [00:00<01:27,  5.69it/s]"
     ]
    },
    {
     "name": "stdout",
     "output_type": "stream",
     "text": [
      "Example target: [1. 0.]\n",
      "Example prediction: [0.4702, 0.5298]\n",
      "Epoch 252 Training Loss: 0.6921 Training Accuracy: 0.5328 Val Loss: 0.6919 Val Accuracy: 0.533\n"
     ]
    },
    {
     "name": "stderr",
     "output_type": "stream",
     "text": [
      "100%|██████████| 500/500 [00:35<00:00, 14.16it/s]\n",
      "  0%|          | 1/500 [00:00<01:29,  5.59it/s]"
     ]
    },
    {
     "name": "stdout",
     "output_type": "stream",
     "text": [
      "Example target: [1. 0.]\n",
      "Example prediction: [0.4881, 0.5119]\n",
      "Epoch 253 Training Loss: 0.6921 Training Accuracy: 0.533 Val Loss: 0.6919 Val Accuracy: 0.5327\n"
     ]
    },
    {
     "name": "stderr",
     "output_type": "stream",
     "text": [
      "100%|██████████| 500/500 [00:35<00:00, 14.26it/s]\n",
      "  0%|          | 1/500 [00:00<01:29,  5.59it/s]"
     ]
    },
    {
     "name": "stdout",
     "output_type": "stream",
     "text": [
      "Example target: [0. 1.]\n",
      "Example prediction: [0.4775, 0.5225]\n",
      "Epoch 254 Training Loss: 0.6921 Training Accuracy: 0.5329 Val Loss: 0.6919 Val Accuracy: 0.5324\n"
     ]
    },
    {
     "name": "stderr",
     "output_type": "stream",
     "text": [
      "100%|██████████| 500/500 [00:35<00:00, 14.26it/s]\n",
      "  0%|          | 1/500 [00:00<01:29,  5.60it/s]"
     ]
    },
    {
     "name": "stdout",
     "output_type": "stream",
     "text": [
      "Example target: [0. 1.]\n",
      "Example prediction: [0.4544, 0.5456]\n",
      "Epoch 255 Training Loss: 0.6921 Training Accuracy: 0.5325 Val Loss: 0.692 Val Accuracy: 0.532\n"
     ]
    },
    {
     "name": "stderr",
     "output_type": "stream",
     "text": [
      "100%|██████████| 500/500 [00:34<00:00, 14.29it/s]\n",
      "  0%|          | 1/500 [00:00<01:30,  5.50it/s]"
     ]
    },
    {
     "name": "stdout",
     "output_type": "stream",
     "text": [
      "Example target: [1. 0.]\n",
      "Example prediction: [0.4607, 0.5393]\n",
      "Epoch 256 Training Loss: 0.6921 Training Accuracy: 0.5328 Val Loss: 0.692 Val Accuracy: 0.5326\n"
     ]
    },
    {
     "name": "stderr",
     "output_type": "stream",
     "text": [
      "100%|██████████| 500/500 [00:35<00:00, 14.23it/s]\n",
      "  0%|          | 1/500 [00:00<01:34,  5.30it/s]"
     ]
    },
    {
     "name": "stdout",
     "output_type": "stream",
     "text": [
      "Example target: [0. 1.]\n",
      "Example prediction: [0.5015, 0.4985]\n",
      "Epoch 257 Training Loss: 0.6921 Training Accuracy: 0.5329 Val Loss: 0.6926 Val Accuracy: 0.5309\n"
     ]
    },
    {
     "name": "stderr",
     "output_type": "stream",
     "text": [
      "100%|██████████| 500/500 [00:34<00:00, 14.40it/s]\n",
      "  0%|          | 1/500 [00:00<01:31,  5.45it/s]"
     ]
    },
    {
     "name": "stdout",
     "output_type": "stream",
     "text": [
      "Example target: [1. 0.]\n",
      "Example prediction: [0.4907, 0.5093]\n",
      "Epoch 258 Training Loss: 0.6921 Training Accuracy: 0.5328 Val Loss: 0.692 Val Accuracy: 0.5325\n"
     ]
    },
    {
     "name": "stderr",
     "output_type": "stream",
     "text": [
      "100%|██████████| 500/500 [00:34<00:00, 14.31it/s]\n",
      "  0%|          | 1/500 [00:00<01:30,  5.49it/s]"
     ]
    },
    {
     "name": "stdout",
     "output_type": "stream",
     "text": [
      "Example target: [1. 0.]\n",
      "Example prediction: [0.4917, 0.5083]\n",
      "Epoch 259 Training Loss: 0.6921 Training Accuracy: 0.5328 Val Loss: 0.6922 Val Accuracy: 0.5317\n"
     ]
    },
    {
     "name": "stderr",
     "output_type": "stream",
     "text": [
      "100%|██████████| 500/500 [00:35<00:00, 13.55it/s]\n",
      "  0%|          | 1/500 [00:00<01:27,  5.70it/s]"
     ]
    },
    {
     "name": "stdout",
     "output_type": "stream",
     "text": [
      "Example target: [0. 1.]\n",
      "Example prediction: [0.4783, 0.5217]\n",
      "Epoch 260 Training Loss: 0.6921 Training Accuracy: 0.5325 Val Loss: 0.6918 Val Accuracy: 0.5326\n"
     ]
    },
    {
     "name": "stderr",
     "output_type": "stream",
     "text": [
      "100%|██████████| 500/500 [00:35<00:00, 14.27it/s]\n",
      "  0%|          | 1/500 [00:00<01:29,  5.55it/s]"
     ]
    },
    {
     "name": "stdout",
     "output_type": "stream",
     "text": [
      "Example target: [1. 0.]\n",
      "Example prediction: [0.4973, 0.5027]\n",
      "Epoch 261 Training Loss: 0.6921 Training Accuracy: 0.5326 Val Loss: 0.6919 Val Accuracy: 0.5326\n"
     ]
    },
    {
     "name": "stderr",
     "output_type": "stream",
     "text": [
      "100%|██████████| 500/500 [00:34<00:00, 14.32it/s]\n",
      "  0%|          | 1/500 [00:00<01:38,  5.09it/s]"
     ]
    },
    {
     "name": "stdout",
     "output_type": "stream",
     "text": [
      "Example target: [1. 0.]\n",
      "Example prediction: [0.4824, 0.5176]\n",
      "Epoch 262 Training Loss: 0.6921 Training Accuracy: 0.533 Val Loss: 0.692 Val Accuracy: 0.5325\n"
     ]
    },
    {
     "name": "stderr",
     "output_type": "stream",
     "text": [
      "100%|██████████| 500/500 [00:35<00:00, 14.24it/s]\n",
      "  0%|          | 1/500 [00:00<01:27,  5.70it/s]"
     ]
    },
    {
     "name": "stdout",
     "output_type": "stream",
     "text": [
      "Example target: [0. 1.]\n",
      "Example prediction: [0.4945, 0.5055]\n",
      "Epoch 263 Training Loss: 0.6921 Training Accuracy: 0.5327 Val Loss: 0.692 Val Accuracy: 0.5324\n"
     ]
    },
    {
     "name": "stderr",
     "output_type": "stream",
     "text": [
      "100%|██████████| 500/500 [00:35<00:00, 14.28it/s]\n",
      "  0%|          | 1/500 [00:00<01:29,  5.58it/s]"
     ]
    },
    {
     "name": "stdout",
     "output_type": "stream",
     "text": [
      "Example target: [0. 1.]\n",
      "Example prediction: [0.4913, 0.5087]\n",
      "Epoch 264 Training Loss: 0.6921 Training Accuracy: 0.5329 Val Loss: 0.692 Val Accuracy: 0.5323\n"
     ]
    },
    {
     "name": "stderr",
     "output_type": "stream",
     "text": [
      "100%|██████████| 500/500 [00:34<00:00, 14.32it/s]\n",
      "  0%|          | 1/500 [00:00<01:33,  5.32it/s]"
     ]
    },
    {
     "name": "stdout",
     "output_type": "stream",
     "text": [
      "Example target: [1. 0.]\n",
      "Example prediction: [0.447, 0.553]\n",
      "Epoch 265 Training Loss: 0.6921 Training Accuracy: 0.533 Val Loss: 0.6919 Val Accuracy: 0.5327\n"
     ]
    },
    {
     "name": "stderr",
     "output_type": "stream",
     "text": [
      "100%|██████████| 500/500 [00:35<00:00, 14.20it/s]\n",
      "  0%|          | 1/500 [00:00<01:33,  5.33it/s]"
     ]
    },
    {
     "name": "stdout",
     "output_type": "stream",
     "text": [
      "Example target: [1. 0.]\n",
      "Example prediction: [0.4699, 0.5301]\n",
      "Epoch 266 Training Loss: 0.6921 Training Accuracy: 0.533 Val Loss: 0.6918 Val Accuracy: 0.5325\n"
     ]
    },
    {
     "name": "stderr",
     "output_type": "stream",
     "text": [
      "100%|██████████| 500/500 [00:35<00:00, 14.28it/s]\n",
      "  0%|          | 1/500 [00:00<01:31,  5.44it/s]"
     ]
    },
    {
     "name": "stdout",
     "output_type": "stream",
     "text": [
      "Example target: [1. 0.]\n",
      "Example prediction: [0.4745, 0.5255]\n",
      "Epoch 267 Training Loss: 0.6921 Training Accuracy: 0.5327 Val Loss: 0.6922 Val Accuracy: 0.5313\n"
     ]
    },
    {
     "name": "stderr",
     "output_type": "stream",
     "text": [
      "100%|██████████| 500/500 [00:35<00:00, 14.25it/s]\n",
      "  0%|          | 1/500 [00:00<01:29,  5.56it/s]"
     ]
    },
    {
     "name": "stdout",
     "output_type": "stream",
     "text": [
      "Example target: [1. 0.]\n",
      "Example prediction: [0.4401, 0.5599]\n",
      "Epoch 268 Training Loss: 0.6921 Training Accuracy: 0.5332 Val Loss: 0.692 Val Accuracy: 0.5323\n"
     ]
    },
    {
     "name": "stderr",
     "output_type": "stream",
     "text": [
      "100%|██████████| 500/500 [00:35<00:00, 14.16it/s]\n",
      "  0%|          | 1/500 [00:00<01:36,  5.18it/s]"
     ]
    },
    {
     "name": "stdout",
     "output_type": "stream",
     "text": [
      "Example target: [1. 0.]\n",
      "Example prediction: [0.4662, 0.5338]\n",
      "Epoch 269 Training Loss: 0.6921 Training Accuracy: 0.5326 Val Loss: 0.6918 Val Accuracy: 0.5328\n"
     ]
    },
    {
     "name": "stderr",
     "output_type": "stream",
     "text": [
      "100%|██████████| 500/500 [00:35<00:00, 14.23it/s]\n",
      "  0%|          | 1/500 [00:00<01:32,  5.37it/s]"
     ]
    },
    {
     "name": "stdout",
     "output_type": "stream",
     "text": [
      "Example target: [1. 0.]\n",
      "Example prediction: [0.4901, 0.5099]\n",
      "Epoch 270 Training Loss: 0.6921 Training Accuracy: 0.533 Val Loss: 0.6921 Val Accuracy: 0.5322\n"
     ]
    },
    {
     "name": "stderr",
     "output_type": "stream",
     "text": [
      "100%|██████████| 500/500 [00:34<00:00, 14.33it/s]\n",
      "  0%|          | 1/500 [00:00<01:34,  5.28it/s]"
     ]
    },
    {
     "name": "stdout",
     "output_type": "stream",
     "text": [
      "Example target: [1. 0.]\n",
      "Example prediction: [0.496, 0.504]\n",
      "Epoch 271 Training Loss: 0.6921 Training Accuracy: 0.5327 Val Loss: 0.6921 Val Accuracy: 0.5323\n"
     ]
    },
    {
     "name": "stderr",
     "output_type": "stream",
     "text": [
      "100%|██████████| 500/500 [00:35<00:00, 14.26it/s]\n",
      "  0%|          | 1/500 [00:00<01:35,  5.23it/s]"
     ]
    },
    {
     "name": "stdout",
     "output_type": "stream",
     "text": [
      "Example target: [1. 0.]\n",
      "Example prediction: [0.4455, 0.5545]\n",
      "Epoch 272 Training Loss: 0.6921 Training Accuracy: 0.5332 Val Loss: 0.6919 Val Accuracy: 0.533\n"
     ]
    },
    {
     "name": "stderr",
     "output_type": "stream",
     "text": [
      "100%|██████████| 500/500 [00:35<00:00, 14.20it/s]\n",
      "  0%|          | 1/500 [00:00<01:35,  5.20it/s]"
     ]
    },
    {
     "name": "stdout",
     "output_type": "stream",
     "text": [
      "Example target: [0. 1.]\n",
      "Example prediction: [0.4954, 0.5046]\n",
      "Epoch 273 Training Loss: 0.6921 Training Accuracy: 0.5328 Val Loss: 0.6921 Val Accuracy: 0.5321\n"
     ]
    },
    {
     "name": "stderr",
     "output_type": "stream",
     "text": [
      "100%|██████████| 500/500 [00:35<00:00, 14.26it/s]\n",
      "  0%|          | 1/500 [00:00<01:31,  5.46it/s]"
     ]
    },
    {
     "name": "stdout",
     "output_type": "stream",
     "text": [
      "Example target: [0. 1.]\n",
      "Example prediction: [0.4665, 0.5335]\n",
      "Epoch 274 Training Loss: 0.6921 Training Accuracy: 0.533 Val Loss: 0.6919 Val Accuracy: 0.5328\n"
     ]
    },
    {
     "name": "stderr",
     "output_type": "stream",
     "text": [
      "100%|██████████| 500/500 [00:35<00:00, 14.14it/s]\n",
      "  0%|          | 0/500 [00:00<?, ?it/s]"
     ]
    },
    {
     "name": "stdout",
     "output_type": "stream",
     "text": [
      "Example target: [1. 0.]\n",
      "Example prediction: [0.4584, 0.5416]\n",
      "Epoch 275 Training Loss: 0.6921 Training Accuracy: 0.5331 Val Loss: 0.6919 Val Accuracy: 0.5327\n"
     ]
    },
    {
     "name": "stderr",
     "output_type": "stream",
     "text": [
      "100%|██████████| 500/500 [00:35<00:00, 14.25it/s]\n",
      "  0%|          | 1/500 [00:00<01:30,  5.51it/s]"
     ]
    },
    {
     "name": "stdout",
     "output_type": "stream",
     "text": [
      "Example target: [1. 0.]\n",
      "Example prediction: [0.4783, 0.5217]\n",
      "Epoch 276 Training Loss: 0.6921 Training Accuracy: 0.5325 Val Loss: 0.692 Val Accuracy: 0.5323\n"
     ]
    },
    {
     "name": "stderr",
     "output_type": "stream",
     "text": [
      "100%|██████████| 500/500 [00:35<00:00, 14.26it/s]\n",
      "  0%|          | 1/500 [00:00<01:30,  5.51it/s]"
     ]
    },
    {
     "name": "stdout",
     "output_type": "stream",
     "text": [
      "Example target: [1. 0.]\n",
      "Example prediction: [0.4545, 0.5455]\n",
      "Epoch 277 Training Loss: 0.6921 Training Accuracy: 0.533 Val Loss: 0.6919 Val Accuracy: 0.5331\n"
     ]
    },
    {
     "name": "stderr",
     "output_type": "stream",
     "text": [
      "100%|██████████| 500/500 [00:35<00:00, 14.23it/s]\n",
      "  0%|          | 0/500 [00:00<?, ?it/s]"
     ]
    },
    {
     "name": "stdout",
     "output_type": "stream",
     "text": [
      "Example target: [0. 1.]\n",
      "Example prediction: [0.4817, 0.5183]\n",
      "Epoch 278 Training Loss: 0.6921 Training Accuracy: 0.5328 Val Loss: 0.6921 Val Accuracy: 0.5322\n"
     ]
    },
    {
     "name": "stderr",
     "output_type": "stream",
     "text": [
      "100%|██████████| 500/500 [00:35<00:00, 14.23it/s]\n",
      "  0%|          | 1/500 [00:00<01:30,  5.51it/s]"
     ]
    },
    {
     "name": "stdout",
     "output_type": "stream",
     "text": [
      "Example target: [0. 1.]\n",
      "Example prediction: [0.4715, 0.5285]\n",
      "Epoch 279 Training Loss: 0.6921 Training Accuracy: 0.5328 Val Loss: 0.6922 Val Accuracy: 0.5316\n"
     ]
    },
    {
     "name": "stderr",
     "output_type": "stream",
     "text": [
      "100%|██████████| 500/500 [00:34<00:00, 14.29it/s]\n",
      "  0%|          | 1/500 [00:00<01:29,  5.61it/s]"
     ]
    },
    {
     "name": "stdout",
     "output_type": "stream",
     "text": [
      "Example target: [1. 0.]\n",
      "Example prediction: [0.4562, 0.5438]\n",
      "Epoch 280 Training Loss: 0.6921 Training Accuracy: 0.5328 Val Loss: 0.6922 Val Accuracy: 0.5315\n"
     ]
    },
    {
     "name": "stderr",
     "output_type": "stream",
     "text": [
      "100%|██████████| 500/500 [00:35<00:00, 14.28it/s]\n",
      "  0%|          | 1/500 [00:00<01:33,  5.33it/s]"
     ]
    },
    {
     "name": "stdout",
     "output_type": "stream",
     "text": [
      "Example target: [1. 0.]\n",
      "Example prediction: [0.4777, 0.5223]\n",
      "Epoch 281 Training Loss: 0.6921 Training Accuracy: 0.5329 Val Loss: 0.6919 Val Accuracy: 0.5325\n"
     ]
    },
    {
     "name": "stderr",
     "output_type": "stream",
     "text": [
      "100%|██████████| 500/500 [00:35<00:00, 14.28it/s]\n",
      "  0%|          | 1/500 [00:00<01:37,  5.14it/s]"
     ]
    },
    {
     "name": "stdout",
     "output_type": "stream",
     "text": [
      "Example target: [1. 0.]\n",
      "Example prediction: [0.459, 0.541]\n",
      "Epoch 282 Training Loss: 0.6921 Training Accuracy: 0.5329 Val Loss: 0.692 Val Accuracy: 0.532\n"
     ]
    },
    {
     "name": "stderr",
     "output_type": "stream",
     "text": [
      "100%|██████████| 500/500 [00:35<00:00, 14.26it/s]\n",
      "  0%|          | 1/500 [00:00<01:30,  5.52it/s]"
     ]
    },
    {
     "name": "stdout",
     "output_type": "stream",
     "text": [
      "Example target: [0. 1.]\n",
      "Example prediction: [0.47, 0.53]\n",
      "Epoch 283 Training Loss: 0.6921 Training Accuracy: 0.5331 Val Loss: 0.6919 Val Accuracy: 0.532\n"
     ]
    },
    {
     "name": "stderr",
     "output_type": "stream",
     "text": [
      "100%|██████████| 500/500 [00:35<00:00, 14.23it/s]\n",
      "  0%|          | 1/500 [00:00<01:31,  5.44it/s]"
     ]
    },
    {
     "name": "stdout",
     "output_type": "stream",
     "text": [
      "Example target: [0. 1.]\n",
      "Example prediction: [0.4532, 0.5468]\n",
      "Epoch 284 Training Loss: 0.6921 Training Accuracy: 0.5328 Val Loss: 0.692 Val Accuracy: 0.5325\n"
     ]
    },
    {
     "name": "stderr",
     "output_type": "stream",
     "text": [
      "100%|██████████| 500/500 [00:35<00:00, 14.16it/s]\n",
      "  0%|          | 1/500 [00:00<01:30,  5.51it/s]"
     ]
    },
    {
     "name": "stdout",
     "output_type": "stream",
     "text": [
      "Example target: [1. 0.]\n",
      "Example prediction: [0.4646, 0.5354]\n",
      "Epoch 285 Training Loss: 0.6921 Training Accuracy: 0.5328 Val Loss: 0.6919 Val Accuracy: 0.5327\n"
     ]
    },
    {
     "name": "stderr",
     "output_type": "stream",
     "text": [
      "100%|██████████| 500/500 [00:34<00:00, 14.29it/s]\n",
      "  0%|          | 1/500 [00:00<01:31,  5.46it/s]"
     ]
    },
    {
     "name": "stdout",
     "output_type": "stream",
     "text": [
      "Example target: [1. 0.]\n",
      "Example prediction: [0.4692, 0.5308]\n",
      "Epoch 286 Training Loss: 0.6921 Training Accuracy: 0.5328 Val Loss: 0.6918 Val Accuracy: 0.533\n"
     ]
    },
    {
     "name": "stderr",
     "output_type": "stream",
     "text": [
      "100%|██████████| 500/500 [00:34<00:00, 14.32it/s]\n",
      "  0%|          | 1/500 [00:00<01:34,  5.27it/s]"
     ]
    },
    {
     "name": "stdout",
     "output_type": "stream",
     "text": [
      "Example target: [1. 0.]\n",
      "Example prediction: [0.4968, 0.5032]\n",
      "Epoch 287 Training Loss: 0.6921 Training Accuracy: 0.5327 Val Loss: 0.6922 Val Accuracy: 0.5316\n"
     ]
    },
    {
     "name": "stderr",
     "output_type": "stream",
     "text": [
      "100%|██████████| 500/500 [00:35<00:00, 14.19it/s]\n",
      "  0%|          | 1/500 [00:00<01:35,  5.25it/s]"
     ]
    },
    {
     "name": "stdout",
     "output_type": "stream",
     "text": [
      "Example target: [1. 0.]\n",
      "Example prediction: [0.5023, 0.4977]\n",
      "Epoch 288 Training Loss: 0.6921 Training Accuracy: 0.533 Val Loss: 0.6919 Val Accuracy: 0.5327\n"
     ]
    },
    {
     "name": "stderr",
     "output_type": "stream",
     "text": [
      "100%|██████████| 500/500 [00:34<00:00, 14.29it/s]\n",
      "  0%|          | 0/500 [00:00<?, ?it/s]"
     ]
    },
    {
     "name": "stdout",
     "output_type": "stream",
     "text": [
      "Example target: [0. 1.]\n",
      "Example prediction: [0.4592, 0.5408]\n",
      "Epoch 289 Training Loss: 0.6921 Training Accuracy: 0.5327 Val Loss: 0.6918 Val Accuracy: 0.533\n"
     ]
    },
    {
     "name": "stderr",
     "output_type": "stream",
     "text": [
      "100%|██████████| 500/500 [00:34<00:00, 14.30it/s]\n",
      "  0%|          | 1/500 [00:00<01:30,  5.49it/s]"
     ]
    },
    {
     "name": "stdout",
     "output_type": "stream",
     "text": [
      "Example target: [0. 1.]\n",
      "Example prediction: [0.4563, 0.5437]\n",
      "Epoch 290 Training Loss: 0.6921 Training Accuracy: 0.5326 Val Loss: 0.6918 Val Accuracy: 0.5328\n"
     ]
    },
    {
     "name": "stderr",
     "output_type": "stream",
     "text": [
      "100%|██████████| 500/500 [00:35<00:00, 14.22it/s]\n",
      "  0%|          | 1/500 [00:00<01:31,  5.45it/s]"
     ]
    },
    {
     "name": "stdout",
     "output_type": "stream",
     "text": [
      "Example target: [0. 1.]\n",
      "Example prediction: [0.4853, 0.5147]\n",
      "Epoch 291 Training Loss: 0.6921 Training Accuracy: 0.5328 Val Loss: 0.692 Val Accuracy: 0.5327\n"
     ]
    },
    {
     "name": "stderr",
     "output_type": "stream",
     "text": [
      "100%|██████████| 500/500 [00:35<00:00, 14.22it/s]\n",
      "  0%|          | 1/500 [00:00<01:29,  5.55it/s]"
     ]
    },
    {
     "name": "stdout",
     "output_type": "stream",
     "text": [
      "Example target: [1. 0.]\n",
      "Example prediction: [0.4642, 0.5358]\n",
      "Epoch 292 Training Loss: 0.6921 Training Accuracy: 0.5328 Val Loss: 0.6919 Val Accuracy: 0.533\n"
     ]
    },
    {
     "name": "stderr",
     "output_type": "stream",
     "text": [
      "100%|██████████| 500/500 [00:34<00:00, 14.29it/s]\n",
      "  0%|          | 1/500 [00:00<01:35,  5.20it/s]"
     ]
    },
    {
     "name": "stdout",
     "output_type": "stream",
     "text": [
      "Example target: [1. 0.]\n",
      "Example prediction: [0.4724, 0.5276]\n",
      "Epoch 293 Training Loss: 0.6921 Training Accuracy: 0.5331 Val Loss: 0.6922 Val Accuracy: 0.5317\n"
     ]
    },
    {
     "name": "stderr",
     "output_type": "stream",
     "text": [
      "100%|██████████| 500/500 [00:35<00:00, 14.19it/s]\n",
      "  0%|          | 0/500 [00:00<?, ?it/s]"
     ]
    },
    {
     "name": "stdout",
     "output_type": "stream",
     "text": [
      "Example target: [0. 1.]\n",
      "Example prediction: [0.4616, 0.5384]\n",
      "Epoch 294 Training Loss: 0.6921 Training Accuracy: 0.5329 Val Loss: 0.6919 Val Accuracy: 0.5328\n"
     ]
    },
    {
     "name": "stderr",
     "output_type": "stream",
     "text": [
      "100%|██████████| 500/500 [00:35<00:00, 14.26it/s]\n",
      "  0%|          | 1/500 [00:00<01:30,  5.54it/s]"
     ]
    },
    {
     "name": "stdout",
     "output_type": "stream",
     "text": [
      "Example target: [1. 0.]\n",
      "Example prediction: [0.4756, 0.5244]\n",
      "Epoch 295 Training Loss: 0.6921 Training Accuracy: 0.5332 Val Loss: 0.6921 Val Accuracy: 0.5326\n"
     ]
    },
    {
     "name": "stderr",
     "output_type": "stream",
     "text": [
      "100%|██████████| 500/500 [00:35<00:00, 14.23it/s]\n",
      "  0%|          | 1/500 [00:00<01:32,  5.38it/s]"
     ]
    },
    {
     "name": "stdout",
     "output_type": "stream",
     "text": [
      "Example target: [1. 0.]\n",
      "Example prediction: [0.4595, 0.5405]\n",
      "Epoch 296 Training Loss: 0.6921 Training Accuracy: 0.5329 Val Loss: 0.692 Val Accuracy: 0.5323\n"
     ]
    },
    {
     "name": "stderr",
     "output_type": "stream",
     "text": [
      "100%|██████████| 500/500 [00:35<00:00, 14.24it/s]\n",
      "  0%|          | 1/500 [00:00<01:33,  5.35it/s]"
     ]
    },
    {
     "name": "stdout",
     "output_type": "stream",
     "text": [
      "Example target: [0. 1.]\n",
      "Example prediction: [0.4635, 0.5365]\n",
      "Epoch 297 Training Loss: 0.6921 Training Accuracy: 0.533 Val Loss: 0.6918 Val Accuracy: 0.5329\n"
     ]
    },
    {
     "name": "stderr",
     "output_type": "stream",
     "text": [
      "100%|██████████| 500/500 [00:34<00:00, 14.32it/s]\n",
      "  0%|          | 1/500 [00:00<01:34,  5.31it/s]"
     ]
    },
    {
     "name": "stdout",
     "output_type": "stream",
     "text": [
      "Example target: [1. 0.]\n",
      "Example prediction: [0.4919, 0.5081]\n",
      "Epoch 298 Training Loss: 0.6921 Training Accuracy: 0.5333 Val Loss: 0.6919 Val Accuracy: 0.5329\n"
     ]
    },
    {
     "name": "stderr",
     "output_type": "stream",
     "text": [
      "100%|██████████| 500/500 [00:35<00:00, 14.25it/s]\n",
      "  0%|          | 1/500 [00:00<01:34,  5.26it/s]"
     ]
    },
    {
     "name": "stdout",
     "output_type": "stream",
     "text": [
      "Example target: [1. 0.]\n",
      "Example prediction: [0.4694, 0.5306]\n",
      "Epoch 299 Training Loss: 0.6921 Training Accuracy: 0.5331 Val Loss: 0.6924 Val Accuracy: 0.5323\n"
     ]
    },
    {
     "name": "stderr",
     "output_type": "stream",
     "text": [
      "100%|██████████| 500/500 [00:35<00:00, 14.07it/s]\n",
      "  0%|          | 1/500 [00:00<01:32,  5.37it/s]"
     ]
    },
    {
     "name": "stdout",
     "output_type": "stream",
     "text": [
      "Example target: [1. 0.]\n",
      "Example prediction: [0.4816, 0.5184]\n",
      "Epoch 300 Training Loss: 0.6921 Training Accuracy: 0.5329 Val Loss: 0.6919 Val Accuracy: 0.5328\n"
     ]
    },
    {
     "name": "stderr",
     "output_type": "stream",
     "text": [
      "100%|██████████| 500/500 [00:35<00:00, 14.19it/s]\n",
      "  0%|          | 1/500 [00:00<01:33,  5.34it/s]"
     ]
    },
    {
     "name": "stdout",
     "output_type": "stream",
     "text": [
      "Example target: [1. 0.]\n",
      "Example prediction: [0.4641, 0.5359]\n",
      "Epoch 301 Training Loss: 0.6921 Training Accuracy: 0.533 Val Loss: 0.6919 Val Accuracy: 0.533\n"
     ]
    },
    {
     "name": "stderr",
     "output_type": "stream",
     "text": [
      "100%|██████████| 500/500 [00:35<00:00, 14.10it/s]\n",
      "  0%|          | 1/500 [00:00<01:32,  5.39it/s]"
     ]
    },
    {
     "name": "stdout",
     "output_type": "stream",
     "text": [
      "Example target: [0. 1.]\n",
      "Example prediction: [0.4567, 0.5433]\n",
      "Epoch 302 Training Loss: 0.6921 Training Accuracy: 0.5328 Val Loss: 0.6919 Val Accuracy: 0.5326\n"
     ]
    },
    {
     "name": "stderr",
     "output_type": "stream",
     "text": [
      "100%|██████████| 500/500 [00:35<00:00, 14.20it/s]\n",
      "  0%|          | 1/500 [00:00<01:34,  5.30it/s]"
     ]
    },
    {
     "name": "stdout",
     "output_type": "stream",
     "text": [
      "Example target: [0. 1.]\n",
      "Example prediction: [0.4535, 0.5465]\n",
      "Epoch 303 Training Loss: 0.6921 Training Accuracy: 0.5327 Val Loss: 0.6919 Val Accuracy: 0.5328\n"
     ]
    },
    {
     "name": "stderr",
     "output_type": "stream",
     "text": [
      "100%|██████████| 500/500 [00:35<00:00, 14.23it/s]\n",
      "  0%|          | 1/500 [00:00<01:32,  5.39it/s]"
     ]
    },
    {
     "name": "stdout",
     "output_type": "stream",
     "text": [
      "Example target: [0. 1.]\n",
      "Example prediction: [0.4518, 0.5482]\n",
      "Epoch 304 Training Loss: 0.6921 Training Accuracy: 0.5328 Val Loss: 0.6919 Val Accuracy: 0.5329\n"
     ]
    },
    {
     "name": "stderr",
     "output_type": "stream",
     "text": [
      "100%|██████████| 500/500 [00:35<00:00, 14.22it/s]\n",
      "  0%|          | 1/500 [00:00<01:30,  5.54it/s]"
     ]
    },
    {
     "name": "stdout",
     "output_type": "stream",
     "text": [
      "Example target: [0. 1.]\n",
      "Example prediction: [0.4694, 0.5306]\n",
      "Epoch 305 Training Loss: 0.6921 Training Accuracy: 0.5327 Val Loss: 0.6919 Val Accuracy: 0.5324\n"
     ]
    },
    {
     "name": "stderr",
     "output_type": "stream",
     "text": [
      "100%|██████████| 500/500 [00:35<00:00, 14.25it/s]\n",
      "  0%|          | 1/500 [00:00<01:32,  5.38it/s]"
     ]
    },
    {
     "name": "stdout",
     "output_type": "stream",
     "text": [
      "Example target: [0. 1.]\n",
      "Example prediction: [0.4757, 0.5243]\n",
      "Epoch 306 Training Loss: 0.6921 Training Accuracy: 0.533 Val Loss: 0.6918 Val Accuracy: 0.5327\n"
     ]
    },
    {
     "name": "stderr",
     "output_type": "stream",
     "text": [
      "100%|██████████| 500/500 [00:35<00:00, 14.10it/s]\n",
      "  0%|          | 1/500 [00:00<01:38,  5.07it/s]"
     ]
    },
    {
     "name": "stdout",
     "output_type": "stream",
     "text": [
      "Example target: [1. 0.]\n",
      "Example prediction: [0.4353, 0.5647]\n",
      "Epoch 307 Training Loss: 0.6921 Training Accuracy: 0.5327 Val Loss: 0.6919 Val Accuracy: 0.5327\n"
     ]
    },
    {
     "name": "stderr",
     "output_type": "stream",
     "text": [
      "100%|██████████| 500/500 [00:35<00:00, 14.19it/s]\n",
      "  0%|          | 1/500 [00:00<01:34,  5.28it/s]"
     ]
    },
    {
     "name": "stdout",
     "output_type": "stream",
     "text": [
      "Example target: [0. 1.]\n",
      "Example prediction: [0.4662, 0.5338]\n",
      "Epoch 308 Training Loss: 0.6921 Training Accuracy: 0.5331 Val Loss: 0.692 Val Accuracy: 0.5326\n"
     ]
    },
    {
     "name": "stderr",
     "output_type": "stream",
     "text": [
      "100%|██████████| 500/500 [00:35<00:00, 14.24it/s]\n",
      "  0%|          | 1/500 [00:00<01:35,  5.25it/s]"
     ]
    },
    {
     "name": "stdout",
     "output_type": "stream",
     "text": [
      "Example target: [1. 0.]\n",
      "Example prediction: [0.4987, 0.5013]\n",
      "Epoch 309 Training Loss: 0.6921 Training Accuracy: 0.5332 Val Loss: 0.6919 Val Accuracy: 0.5327\n"
     ]
    },
    {
     "name": "stderr",
     "output_type": "stream",
     "text": [
      "100%|██████████| 500/500 [00:40<00:00, 12.39it/s]\n",
      "  0%|          | 1/500 [00:00<01:33,  5.34it/s]"
     ]
    },
    {
     "name": "stdout",
     "output_type": "stream",
     "text": [
      "Example target: [0. 1.]\n",
      "Example prediction: [0.4626, 0.5374]\n",
      "Epoch 310 Training Loss: 0.6921 Training Accuracy: 0.5331 Val Loss: 0.6921 Val Accuracy: 0.5326\n"
     ]
    },
    {
     "name": "stderr",
     "output_type": "stream",
     "text": [
      "100%|██████████| 500/500 [00:35<00:00, 14.09it/s]\n",
      "  0%|          | 1/500 [00:00<01:32,  5.38it/s]"
     ]
    },
    {
     "name": "stdout",
     "output_type": "stream",
     "text": [
      "Example target: [0. 1.]\n",
      "Example prediction: [0.4496, 0.5504]\n",
      "Epoch 311 Training Loss: 0.6921 Training Accuracy: 0.5329 Val Loss: 0.6919 Val Accuracy: 0.5331\n"
     ]
    },
    {
     "name": "stderr",
     "output_type": "stream",
     "text": [
      "100%|██████████| 500/500 [00:35<00:00, 14.24it/s]\n",
      "  0%|          | 1/500 [00:00<01:27,  5.67it/s]"
     ]
    },
    {
     "name": "stdout",
     "output_type": "stream",
     "text": [
      "Example target: [1. 0.]\n",
      "Example prediction: [0.4747, 0.5253]\n",
      "Epoch 312 Training Loss: 0.6921 Training Accuracy: 0.5329 Val Loss: 0.692 Val Accuracy: 0.5325\n"
     ]
    },
    {
     "name": "stderr",
     "output_type": "stream",
     "text": [
      "100%|██████████| 500/500 [00:35<00:00, 14.16it/s]\n",
      "  0%|          | 1/500 [00:00<01:33,  5.35it/s]"
     ]
    },
    {
     "name": "stdout",
     "output_type": "stream",
     "text": [
      "Example target: [1. 0.]\n",
      "Example prediction: [0.471, 0.529]\n",
      "Epoch 313 Training Loss: 0.6921 Training Accuracy: 0.533 Val Loss: 0.6919 Val Accuracy: 0.5327\n"
     ]
    },
    {
     "name": "stderr",
     "output_type": "stream",
     "text": [
      "100%|██████████| 500/500 [00:35<00:00, 14.24it/s]\n",
      "  0%|          | 1/500 [00:00<01:35,  5.25it/s]"
     ]
    },
    {
     "name": "stdout",
     "output_type": "stream",
     "text": [
      "Example target: [1. 0.]\n",
      "Example prediction: [0.4575, 0.5425]\n",
      "Epoch 314 Training Loss: 0.6921 Training Accuracy: 0.533 Val Loss: 0.6921 Val Accuracy: 0.5319\n"
     ]
    },
    {
     "name": "stderr",
     "output_type": "stream",
     "text": [
      "100%|██████████| 500/500 [00:35<00:00, 14.16it/s]\n",
      "  0%|          | 1/500 [00:00<01:31,  5.46it/s]"
     ]
    },
    {
     "name": "stdout",
     "output_type": "stream",
     "text": [
      "Example target: [1. 0.]\n",
      "Example prediction: [0.4576, 0.5424]\n",
      "Epoch 315 Training Loss: 0.6921 Training Accuracy: 0.5329 Val Loss: 0.6919 Val Accuracy: 0.5329\n"
     ]
    },
    {
     "name": "stderr",
     "output_type": "stream",
     "text": [
      "100%|██████████| 500/500 [00:35<00:00, 14.08it/s]\n",
      "  0%|          | 1/500 [00:00<01:32,  5.37it/s]"
     ]
    },
    {
     "name": "stdout",
     "output_type": "stream",
     "text": [
      "Example target: [0. 1.]\n",
      "Example prediction: [0.453, 0.547]\n",
      "Epoch 316 Training Loss: 0.6921 Training Accuracy: 0.5328 Val Loss: 0.6919 Val Accuracy: 0.5332\n"
     ]
    },
    {
     "name": "stderr",
     "output_type": "stream",
     "text": [
      "100%|██████████| 500/500 [00:35<00:00, 14.28it/s]\n",
      "  0%|          | 1/500 [00:00<01:29,  5.56it/s]"
     ]
    },
    {
     "name": "stdout",
     "output_type": "stream",
     "text": [
      "Example target: [0. 1.]\n",
      "Example prediction: [0.4905, 0.5095]\n",
      "Epoch 317 Training Loss: 0.6921 Training Accuracy: 0.533 Val Loss: 0.6921 Val Accuracy: 0.5322\n"
     ]
    },
    {
     "name": "stderr",
     "output_type": "stream",
     "text": [
      "100%|██████████| 500/500 [00:34<00:00, 14.29it/s]\n",
      "  0%|          | 1/500 [00:00<01:30,  5.49it/s]"
     ]
    },
    {
     "name": "stdout",
     "output_type": "stream",
     "text": [
      "Example target: [1. 0.]\n",
      "Example prediction: [0.4809, 0.5191]\n",
      "Epoch 318 Training Loss: 0.6921 Training Accuracy: 0.5332 Val Loss: 0.6919 Val Accuracy: 0.5329\n"
     ]
    },
    {
     "name": "stderr",
     "output_type": "stream",
     "text": [
      "100%|██████████| 500/500 [00:35<00:00, 14.15it/s]\n",
      "  0%|          | 1/500 [00:00<01:34,  5.26it/s]"
     ]
    },
    {
     "name": "stdout",
     "output_type": "stream",
     "text": [
      "Example target: [1. 0.]\n",
      "Example prediction: [0.4578, 0.5422]\n",
      "Epoch 319 Training Loss: 0.6921 Training Accuracy: 0.5331 Val Loss: 0.6919 Val Accuracy: 0.5332\n"
     ]
    },
    {
     "name": "stderr",
     "output_type": "stream",
     "text": [
      "100%|██████████| 500/500 [00:35<00:00, 14.27it/s]\n",
      "  0%|          | 1/500 [00:00<01:29,  5.56it/s]"
     ]
    },
    {
     "name": "stdout",
     "output_type": "stream",
     "text": [
      "Example target: [1. 0.]\n",
      "Example prediction: [0.4629, 0.5371]\n",
      "Epoch 320 Training Loss: 0.6921 Training Accuracy: 0.5329 Val Loss: 0.692 Val Accuracy: 0.533\n"
     ]
    },
    {
     "name": "stderr",
     "output_type": "stream",
     "text": [
      "100%|██████████| 500/500 [00:35<00:00, 14.01it/s]\n",
      "  0%|          | 1/500 [00:00<01:34,  5.26it/s]"
     ]
    },
    {
     "name": "stdout",
     "output_type": "stream",
     "text": [
      "Example target: [0. 1.]\n",
      "Example prediction: [0.5087, 0.4913]\n",
      "Epoch 321 Training Loss: 0.6921 Training Accuracy: 0.5326 Val Loss: 0.6923 Val Accuracy: 0.5317\n"
     ]
    },
    {
     "name": "stderr",
     "output_type": "stream",
     "text": [
      "100%|██████████| 500/500 [00:34<00:00, 14.37it/s]\n",
      "  0%|          | 1/500 [00:00<01:33,  5.31it/s]"
     ]
    },
    {
     "name": "stdout",
     "output_type": "stream",
     "text": [
      "Example target: [1. 0.]\n",
      "Example prediction: [0.4476, 0.5524]\n",
      "Epoch 322 Training Loss: 0.6921 Training Accuracy: 0.533 Val Loss: 0.692 Val Accuracy: 0.5326\n"
     ]
    },
    {
     "name": "stderr",
     "output_type": "stream",
     "text": [
      "100%|██████████| 500/500 [00:35<00:00, 14.24it/s]\n",
      "  0%|          | 1/500 [00:00<01:39,  5.04it/s]"
     ]
    },
    {
     "name": "stdout",
     "output_type": "stream",
     "text": [
      "Example target: [0. 1.]\n",
      "Example prediction: [0.4843, 0.5157]\n",
      "Epoch 323 Training Loss: 0.6921 Training Accuracy: 0.5328 Val Loss: 0.692 Val Accuracy: 0.5329\n"
     ]
    },
    {
     "name": "stderr",
     "output_type": "stream",
     "text": [
      "100%|██████████| 500/500 [00:35<00:00, 14.23it/s]\n",
      "  0%|          | 1/500 [00:00<01:31,  5.46it/s]"
     ]
    },
    {
     "name": "stdout",
     "output_type": "stream",
     "text": [
      "Example target: [0. 1.]\n",
      "Example prediction: [0.4703, 0.5297]\n",
      "Epoch 324 Training Loss: 0.6921 Training Accuracy: 0.5328 Val Loss: 0.692 Val Accuracy: 0.5327\n"
     ]
    },
    {
     "name": "stderr",
     "output_type": "stream",
     "text": [
      "100%|██████████| 500/500 [00:35<00:00, 14.24it/s]\n",
      "  0%|          | 1/500 [00:00<01:32,  5.37it/s]"
     ]
    },
    {
     "name": "stdout",
     "output_type": "stream",
     "text": [
      "Example target: [0. 1.]\n",
      "Example prediction: [0.4565, 0.5435]\n",
      "Epoch 325 Training Loss: 0.6921 Training Accuracy: 0.533 Val Loss: 0.6919 Val Accuracy: 0.5328\n"
     ]
    },
    {
     "name": "stderr",
     "output_type": "stream",
     "text": [
      "100%|██████████| 500/500 [00:34<00:00, 14.32it/s]\n",
      "  0%|          | 1/500 [00:00<01:30,  5.49it/s]"
     ]
    },
    {
     "name": "stdout",
     "output_type": "stream",
     "text": [
      "Example target: [1. 0.]\n",
      "Example prediction: [0.4767, 0.5233]\n",
      "Epoch 326 Training Loss: 0.6921 Training Accuracy: 0.5329 Val Loss: 0.692 Val Accuracy: 0.5324\n"
     ]
    },
    {
     "name": "stderr",
     "output_type": "stream",
     "text": [
      "100%|██████████| 500/500 [00:35<00:00, 14.28it/s]\n",
      "  0%|          | 1/500 [00:00<01:34,  5.29it/s]"
     ]
    },
    {
     "name": "stdout",
     "output_type": "stream",
     "text": [
      "Example target: [0. 1.]\n",
      "Example prediction: [0.4446, 0.5554]\n",
      "Epoch 327 Training Loss: 0.6921 Training Accuracy: 0.5329 Val Loss: 0.692 Val Accuracy: 0.5325\n"
     ]
    },
    {
     "name": "stderr",
     "output_type": "stream",
     "text": [
      "100%|██████████| 500/500 [00:35<00:00, 14.27it/s]\n",
      "  0%|          | 0/500 [00:00<?, ?it/s]"
     ]
    },
    {
     "name": "stdout",
     "output_type": "stream",
     "text": [
      "Example target: [0. 1.]\n",
      "Example prediction: [0.4799, 0.5201]\n",
      "Epoch 328 Training Loss: 0.6921 Training Accuracy: 0.5328 Val Loss: 0.6921 Val Accuracy: 0.5325\n"
     ]
    },
    {
     "name": "stderr",
     "output_type": "stream",
     "text": [
      "100%|██████████| 500/500 [00:35<00:00, 14.27it/s]\n",
      "  0%|          | 1/500 [00:00<01:35,  5.23it/s]"
     ]
    },
    {
     "name": "stdout",
     "output_type": "stream",
     "text": [
      "Example target: [0. 1.]\n",
      "Example prediction: [0.4541, 0.5459]\n",
      "Epoch 329 Training Loss: 0.6921 Training Accuracy: 0.5328 Val Loss: 0.692 Val Accuracy: 0.5323\n"
     ]
    },
    {
     "name": "stderr",
     "output_type": "stream",
     "text": [
      "100%|██████████| 500/500 [00:35<00:00, 14.24it/s]\n",
      "  0%|          | 1/500 [00:00<01:36,  5.19it/s]"
     ]
    },
    {
     "name": "stdout",
     "output_type": "stream",
     "text": [
      "Example target: [1. 0.]\n",
      "Example prediction: [0.4806, 0.5194]\n",
      "Epoch 330 Training Loss: 0.6921 Training Accuracy: 0.533 Val Loss: 0.6921 Val Accuracy: 0.5325\n"
     ]
    },
    {
     "name": "stderr",
     "output_type": "stream",
     "text": [
      "100%|██████████| 500/500 [00:35<00:00, 14.23it/s]\n",
      "  0%|          | 1/500 [00:00<01:30,  5.53it/s]"
     ]
    },
    {
     "name": "stdout",
     "output_type": "stream",
     "text": [
      "Example target: [0. 1.]\n",
      "Example prediction: [0.4799, 0.5201]\n",
      "Epoch 331 Training Loss: 0.6921 Training Accuracy: 0.5328 Val Loss: 0.692 Val Accuracy: 0.5325\n"
     ]
    },
    {
     "name": "stderr",
     "output_type": "stream",
     "text": [
      "100%|██████████| 500/500 [00:37<00:00, 13.43it/s]\n",
      "  0%|          | 1/500 [00:00<01:38,  5.08it/s]"
     ]
    },
    {
     "name": "stdout",
     "output_type": "stream",
     "text": [
      "Example target: [1. 0.]\n",
      "Example prediction: [0.4447, 0.5553]\n",
      "Epoch 332 Training Loss: 0.6921 Training Accuracy: 0.5334 Val Loss: 0.692 Val Accuracy: 0.5323\n"
     ]
    },
    {
     "name": "stderr",
     "output_type": "stream",
     "text": [
      "100%|██████████| 500/500 [00:35<00:00, 14.30it/s]\n",
      "  0%|          | 1/500 [00:00<01:37,  5.11it/s]"
     ]
    },
    {
     "name": "stdout",
     "output_type": "stream",
     "text": [
      "Example target: [1. 0.]\n",
      "Example prediction: [0.5134, 0.4866]\n",
      "Epoch 333 Training Loss: 0.6921 Training Accuracy: 0.5329 Val Loss: 0.6919 Val Accuracy: 0.5326\n"
     ]
    },
    {
     "name": "stderr",
     "output_type": "stream",
     "text": [
      "100%|██████████| 500/500 [00:35<00:00, 14.27it/s]\n",
      "  0%|          | 1/500 [00:00<01:30,  5.49it/s]"
     ]
    },
    {
     "name": "stdout",
     "output_type": "stream",
     "text": [
      "Example target: [1. 0.]\n",
      "Example prediction: [0.4585, 0.5415]\n",
      "Epoch 334 Training Loss: 0.6921 Training Accuracy: 0.5327 Val Loss: 0.692 Val Accuracy: 0.5323\n"
     ]
    },
    {
     "name": "stderr",
     "output_type": "stream",
     "text": [
      "100%|██████████| 500/500 [00:35<00:00, 14.15it/s]\n",
      "  0%|          | 1/500 [00:00<01:37,  5.12it/s]"
     ]
    },
    {
     "name": "stdout",
     "output_type": "stream",
     "text": [
      "Example target: [1. 0.]\n",
      "Example prediction: [0.4404, 0.5596]\n",
      "Epoch 335 Training Loss: 0.6921 Training Accuracy: 0.533 Val Loss: 0.6919 Val Accuracy: 0.5329\n"
     ]
    },
    {
     "name": "stderr",
     "output_type": "stream",
     "text": [
      "100%|██████████| 500/500 [00:35<00:00, 14.27it/s]\n",
      "  0%|          | 1/500 [00:00<01:33,  5.36it/s]"
     ]
    },
    {
     "name": "stdout",
     "output_type": "stream",
     "text": [
      "Example target: [1. 0.]\n",
      "Example prediction: [0.5233, 0.4767]\n",
      "Epoch 336 Training Loss: 0.6921 Training Accuracy: 0.5329 Val Loss: 0.6919 Val Accuracy: 0.5327\n"
     ]
    },
    {
     "name": "stderr",
     "output_type": "stream",
     "text": [
      "100%|██████████| 500/500 [00:34<00:00, 14.33it/s]\n",
      "  0%|          | 1/500 [00:00<01:29,  5.57it/s]"
     ]
    },
    {
     "name": "stdout",
     "output_type": "stream",
     "text": [
      "Example target: [1. 0.]\n",
      "Example prediction: [0.4688, 0.5312]\n",
      "Epoch 337 Training Loss: 0.6921 Training Accuracy: 0.5329 Val Loss: 0.6919 Val Accuracy: 0.5328\n"
     ]
    },
    {
     "name": "stderr",
     "output_type": "stream",
     "text": [
      "100%|██████████| 500/500 [00:35<00:00, 14.20it/s]\n",
      "  0%|          | 1/500 [00:00<01:31,  5.46it/s]"
     ]
    },
    {
     "name": "stdout",
     "output_type": "stream",
     "text": [
      "Example target: [0. 1.]\n",
      "Example prediction: [0.4729, 0.5271]\n",
      "Epoch 338 Training Loss: 0.6921 Training Accuracy: 0.5331 Val Loss: 0.692 Val Accuracy: 0.5325\n"
     ]
    },
    {
     "name": "stderr",
     "output_type": "stream",
     "text": [
      "100%|██████████| 500/500 [00:35<00:00, 14.21it/s]\n",
      "  0%|          | 1/500 [00:00<01:30,  5.50it/s]"
     ]
    },
    {
     "name": "stdout",
     "output_type": "stream",
     "text": [
      "Example target: [0. 1.]\n",
      "Example prediction: [0.4686, 0.5314]\n",
      "Epoch 339 Training Loss: 0.6921 Training Accuracy: 0.5332 Val Loss: 0.6921 Val Accuracy: 0.5327\n"
     ]
    },
    {
     "name": "stderr",
     "output_type": "stream",
     "text": [
      "100%|██████████| 500/500 [00:35<00:00, 14.23it/s]\n",
      "  0%|          | 1/500 [00:00<01:35,  5.24it/s]"
     ]
    },
    {
     "name": "stdout",
     "output_type": "stream",
     "text": [
      "Example target: [1. 0.]\n",
      "Example prediction: [0.4679, 0.5321]\n",
      "Epoch 340 Training Loss: 0.6921 Training Accuracy: 0.5332 Val Loss: 0.692 Val Accuracy: 0.5325\n"
     ]
    },
    {
     "name": "stderr",
     "output_type": "stream",
     "text": [
      "100%|██████████| 500/500 [00:35<00:00, 14.15it/s]\n",
      "  0%|          | 1/500 [00:00<01:35,  5.24it/s]"
     ]
    },
    {
     "name": "stdout",
     "output_type": "stream",
     "text": [
      "Example target: [0. 1.]\n",
      "Example prediction: [0.4744, 0.5256]\n",
      "Epoch 341 Training Loss: 0.6921 Training Accuracy: 0.5331 Val Loss: 0.692 Val Accuracy: 0.5325\n"
     ]
    },
    {
     "name": "stderr",
     "output_type": "stream",
     "text": [
      "100%|██████████| 500/500 [00:35<00:00, 14.23it/s]\n",
      "  0%|          | 1/500 [00:00<01:29,  5.55it/s]"
     ]
    },
    {
     "name": "stdout",
     "output_type": "stream",
     "text": [
      "Example target: [0. 1.]\n",
      "Example prediction: [0.5053, 0.4947]\n",
      "Epoch 342 Training Loss: 0.6921 Training Accuracy: 0.5331 Val Loss: 0.6922 Val Accuracy: 0.532\n"
     ]
    },
    {
     "name": "stderr",
     "output_type": "stream",
     "text": [
      "100%|██████████| 500/500 [00:35<00:00, 14.18it/s]\n",
      "  0%|          | 1/500 [00:00<01:37,  5.11it/s]"
     ]
    },
    {
     "name": "stdout",
     "output_type": "stream",
     "text": [
      "Example target: [0. 1.]\n",
      "Example prediction: [0.4704, 0.5296]\n",
      "Epoch 343 Training Loss: 0.6921 Training Accuracy: 0.5329 Val Loss: 0.6919 Val Accuracy: 0.533\n"
     ]
    },
    {
     "name": "stderr",
     "output_type": "stream",
     "text": [
      "100%|██████████| 500/500 [00:35<00:00, 14.15it/s]\n",
      "  0%|          | 1/500 [00:00<01:31,  5.47it/s]"
     ]
    },
    {
     "name": "stdout",
     "output_type": "stream",
     "text": [
      "Example target: [0. 1.]\n",
      "Example prediction: [0.5002, 0.4998]\n",
      "Epoch 344 Training Loss: 0.6921 Training Accuracy: 0.533 Val Loss: 0.6922 Val Accuracy: 0.532\n"
     ]
    },
    {
     "name": "stderr",
     "output_type": "stream",
     "text": [
      "100%|██████████| 500/500 [00:35<00:00, 14.23it/s]\n",
      "  0%|          | 1/500 [00:00<01:31,  5.47it/s]"
     ]
    },
    {
     "name": "stdout",
     "output_type": "stream",
     "text": [
      "Example target: [1. 0.]\n",
      "Example prediction: [0.4873, 0.5127]\n",
      "Epoch 345 Training Loss: 0.6921 Training Accuracy: 0.5331 Val Loss: 0.6919 Val Accuracy: 0.5332\n"
     ]
    },
    {
     "name": "stderr",
     "output_type": "stream",
     "text": [
      "100%|██████████| 500/500 [00:35<00:00, 14.23it/s]\n",
      "  0%|          | 1/500 [00:00<01:31,  5.47it/s]"
     ]
    },
    {
     "name": "stdout",
     "output_type": "stream",
     "text": [
      "Example target: [0. 1.]\n",
      "Example prediction: [0.4618, 0.5382]\n",
      "Epoch 346 Training Loss: 0.6921 Training Accuracy: 0.5327 Val Loss: 0.6919 Val Accuracy: 0.5326\n"
     ]
    },
    {
     "name": "stderr",
     "output_type": "stream",
     "text": [
      "100%|██████████| 500/500 [00:35<00:00, 14.17it/s]\n",
      "  0%|          | 1/500 [00:00<01:33,  5.34it/s]"
     ]
    },
    {
     "name": "stdout",
     "output_type": "stream",
     "text": [
      "Example target: [1. 0.]\n",
      "Example prediction: [0.4746, 0.5254]\n",
      "Epoch 347 Training Loss: 0.6921 Training Accuracy: 0.533 Val Loss: 0.6925 Val Accuracy: 0.5317\n"
     ]
    },
    {
     "name": "stderr",
     "output_type": "stream",
     "text": [
      "100%|██████████| 500/500 [00:35<00:00, 14.21it/s]\n",
      "  0%|          | 1/500 [00:00<01:33,  5.36it/s]"
     ]
    },
    {
     "name": "stdout",
     "output_type": "stream",
     "text": [
      "Example target: [0. 1.]\n",
      "Example prediction: [0.4601, 0.5399]\n",
      "Epoch 348 Training Loss: 0.6921 Training Accuracy: 0.5331 Val Loss: 0.6921 Val Accuracy: 0.5328\n"
     ]
    },
    {
     "name": "stderr",
     "output_type": "stream",
     "text": [
      "100%|██████████| 500/500 [00:35<00:00, 14.23it/s]\n",
      "  0%|          | 1/500 [00:00<01:31,  5.42it/s]"
     ]
    },
    {
     "name": "stdout",
     "output_type": "stream",
     "text": [
      "Example target: [1. 0.]\n",
      "Example prediction: [0.4666, 0.5334]\n",
      "Epoch 349 Training Loss: 0.6921 Training Accuracy: 0.533 Val Loss: 0.6919 Val Accuracy: 0.5329\n"
     ]
    },
    {
     "name": "stderr",
     "output_type": "stream",
     "text": [
      "100%|██████████| 500/500 [00:35<00:00, 14.27it/s]\n",
      "  0%|          | 0/500 [00:00<?, ?it/s]"
     ]
    },
    {
     "name": "stdout",
     "output_type": "stream",
     "text": [
      "Example target: [0. 1.]\n",
      "Example prediction: [0.4549, 0.5451]\n",
      "Epoch 350 Training Loss: 0.6921 Training Accuracy: 0.5329 Val Loss: 0.6922 Val Accuracy: 0.5319\n"
     ]
    },
    {
     "name": "stderr",
     "output_type": "stream",
     "text": [
      "100%|██████████| 500/500 [00:35<00:00, 14.19it/s]\n",
      "  0%|          | 1/500 [00:00<01:32,  5.39it/s]"
     ]
    },
    {
     "name": "stdout",
     "output_type": "stream",
     "text": [
      "Example target: [0. 1.]\n",
      "Example prediction: [0.4944, 0.5056]\n",
      "Epoch 351 Training Loss: 0.6921 Training Accuracy: 0.5333 Val Loss: 0.6919 Val Accuracy: 0.5327\n"
     ]
    },
    {
     "name": "stderr",
     "output_type": "stream",
     "text": [
      "100%|██████████| 500/500 [00:34<00:00, 14.32it/s]\n",
      "  0%|          | 1/500 [00:00<01:33,  5.36it/s]"
     ]
    },
    {
     "name": "stdout",
     "output_type": "stream",
     "text": [
      "Example target: [1. 0.]\n",
      "Example prediction: [0.4503, 0.5497]\n",
      "Epoch 352 Training Loss: 0.6921 Training Accuracy: 0.5331 Val Loss: 0.692 Val Accuracy: 0.5326\n"
     ]
    },
    {
     "name": "stderr",
     "output_type": "stream",
     "text": [
      "100%|██████████| 500/500 [00:35<00:00, 14.15it/s]\n",
      "  0%|          | 1/500 [00:00<01:29,  5.55it/s]"
     ]
    },
    {
     "name": "stdout",
     "output_type": "stream",
     "text": [
      "Example target: [1. 0.]\n",
      "Example prediction: [0.4765, 0.5235]\n",
      "Epoch 353 Training Loss: 0.6921 Training Accuracy: 0.533 Val Loss: 0.692 Val Accuracy: 0.5327\n"
     ]
    },
    {
     "name": "stderr",
     "output_type": "stream",
     "text": [
      "100%|██████████| 500/500 [00:35<00:00, 14.17it/s]\n",
      "  0%|          | 1/500 [00:00<01:29,  5.56it/s]"
     ]
    },
    {
     "name": "stdout",
     "output_type": "stream",
     "text": [
      "Example target: [0. 1.]\n",
      "Example prediction: [0.4596, 0.5404]\n",
      "Epoch 354 Training Loss: 0.6922 Training Accuracy: 0.5329 Val Loss: 0.6922 Val Accuracy: 0.5323\n"
     ]
    },
    {
     "name": "stderr",
     "output_type": "stream",
     "text": [
      "100%|██████████| 500/500 [00:34<00:00, 14.29it/s]\n",
      "  0%|          | 1/500 [00:00<01:33,  5.32it/s]"
     ]
    },
    {
     "name": "stdout",
     "output_type": "stream",
     "text": [
      "Example target: [0. 1.]\n",
      "Example prediction: [0.4696, 0.5304]\n",
      "Epoch 355 Training Loss: 0.6921 Training Accuracy: 0.5332 Val Loss: 0.6921 Val Accuracy: 0.5324\n"
     ]
    },
    {
     "name": "stderr",
     "output_type": "stream",
     "text": [
      "100%|██████████| 500/500 [00:34<00:00, 14.30it/s]\n",
      "  0%|          | 1/500 [00:00<01:37,  5.13it/s]"
     ]
    },
    {
     "name": "stdout",
     "output_type": "stream",
     "text": [
      "Example target: [0. 1.]\n",
      "Example prediction: [0.4742, 0.5258]\n",
      "Epoch 356 Training Loss: 0.6921 Training Accuracy: 0.5331 Val Loss: 0.6919 Val Accuracy: 0.5329\n"
     ]
    },
    {
     "name": "stderr",
     "output_type": "stream",
     "text": [
      "100%|██████████| 500/500 [00:35<00:00, 14.18it/s]\n",
      "  0%|          | 1/500 [00:00<01:32,  5.42it/s]"
     ]
    },
    {
     "name": "stdout",
     "output_type": "stream",
     "text": [
      "Example target: [0. 1.]\n",
      "Example prediction: [0.473, 0.527]\n",
      "Epoch 357 Training Loss: 0.6921 Training Accuracy: 0.5329 Val Loss: 0.6921 Val Accuracy: 0.5327\n"
     ]
    },
    {
     "name": "stderr",
     "output_type": "stream",
     "text": [
      "100%|██████████| 500/500 [00:35<00:00, 14.26it/s]\n",
      "  0%|          | 1/500 [00:00<01:30,  5.49it/s]"
     ]
    },
    {
     "name": "stdout",
     "output_type": "stream",
     "text": [
      "Example target: [1. 0.]\n",
      "Example prediction: [0.4822, 0.5178]\n",
      "Epoch 358 Training Loss: 0.6921 Training Accuracy: 0.5329 Val Loss: 0.692 Val Accuracy: 0.5324\n"
     ]
    },
    {
     "name": "stderr",
     "output_type": "stream",
     "text": [
      "100%|██████████| 500/500 [00:34<00:00, 14.36it/s]\n",
      "  0%|          | 1/500 [00:00<01:33,  5.36it/s]"
     ]
    },
    {
     "name": "stdout",
     "output_type": "stream",
     "text": [
      "Example target: [0. 1.]\n",
      "Example prediction: [0.4928, 0.5072]\n",
      "Epoch 359 Training Loss: 0.6922 Training Accuracy: 0.5329 Val Loss: 0.692 Val Accuracy: 0.533\n"
     ]
    },
    {
     "name": "stderr",
     "output_type": "stream",
     "text": [
      "100%|██████████| 500/500 [00:35<00:00, 14.16it/s]\n",
      "  0%|          | 1/500 [00:00<01:36,  5.17it/s]"
     ]
    },
    {
     "name": "stdout",
     "output_type": "stream",
     "text": [
      "Example target: [1. 0.]\n",
      "Example prediction: [0.4351, 0.5649]\n",
      "Epoch 360 Training Loss: 0.6921 Training Accuracy: 0.5332 Val Loss: 0.6919 Val Accuracy: 0.5327\n"
     ]
    },
    {
     "name": "stderr",
     "output_type": "stream",
     "text": [
      "100%|██████████| 500/500 [00:35<00:00, 14.10it/s]\n",
      "  0%|          | 1/500 [00:00<01:38,  5.08it/s]"
     ]
    },
    {
     "name": "stdout",
     "output_type": "stream",
     "text": [
      "Example target: [0. 1.]\n",
      "Example prediction: [0.4653, 0.5347]\n",
      "Epoch 361 Training Loss: 0.6921 Training Accuracy: 0.5328 Val Loss: 0.6919 Val Accuracy: 0.533\n"
     ]
    },
    {
     "name": "stderr",
     "output_type": "stream",
     "text": [
      "100%|██████████| 500/500 [00:35<00:00, 14.24it/s]\n",
      "  0%|          | 1/500 [00:00<01:31,  5.43it/s]"
     ]
    },
    {
     "name": "stdout",
     "output_type": "stream",
     "text": [
      "Example target: [0. 1.]\n",
      "Example prediction: [0.4492, 0.5508]\n",
      "Epoch 362 Training Loss: 0.6922 Training Accuracy: 0.533 Val Loss: 0.692 Val Accuracy: 0.5327\n"
     ]
    },
    {
     "name": "stderr",
     "output_type": "stream",
     "text": [
      "100%|██████████| 500/500 [00:35<00:00, 14.14it/s]\n",
      "  0%|          | 1/500 [00:00<01:32,  5.37it/s]"
     ]
    },
    {
     "name": "stdout",
     "output_type": "stream",
     "text": [
      "Example target: [0. 1.]\n",
      "Example prediction: [0.4852, 0.5148]\n",
      "Epoch 363 Training Loss: 0.6921 Training Accuracy: 0.5334 Val Loss: 0.6921 Val Accuracy: 0.5329\n"
     ]
    },
    {
     "name": "stderr",
     "output_type": "stream",
     "text": [
      "100%|██████████| 500/500 [00:35<00:00, 14.28it/s]\n",
      "  0%|          | 1/500 [00:00<01:37,  5.12it/s]"
     ]
    },
    {
     "name": "stdout",
     "output_type": "stream",
     "text": [
      "Example target: [0. 1.]\n",
      "Example prediction: [0.4906, 0.5094]\n",
      "Epoch 364 Training Loss: 0.6921 Training Accuracy: 0.5331 Val Loss: 0.6924 Val Accuracy: 0.5326\n"
     ]
    },
    {
     "name": "stderr",
     "output_type": "stream",
     "text": [
      "100%|██████████| 500/500 [00:35<00:00, 14.28it/s]\n",
      "  0%|          | 1/500 [00:00<01:30,  5.54it/s]"
     ]
    },
    {
     "name": "stdout",
     "output_type": "stream",
     "text": [
      "Example target: [0. 1.]\n",
      "Example prediction: [0.481, 0.519]\n",
      "Epoch 365 Training Loss: 0.6921 Training Accuracy: 0.5331 Val Loss: 0.6922 Val Accuracy: 0.532\n"
     ]
    },
    {
     "name": "stderr",
     "output_type": "stream",
     "text": [
      "100%|██████████| 500/500 [00:35<00:00, 14.20it/s]\n",
      "  0%|          | 1/500 [00:00<01:35,  5.22it/s]"
     ]
    },
    {
     "name": "stdout",
     "output_type": "stream",
     "text": [
      "Example target: [0. 1.]\n",
      "Example prediction: [0.4867, 0.5133]\n",
      "Epoch 366 Training Loss: 0.6922 Training Accuracy: 0.5328 Val Loss: 0.6921 Val Accuracy: 0.5325\n"
     ]
    },
    {
     "name": "stderr",
     "output_type": "stream",
     "text": [
      "100%|██████████| 500/500 [00:35<00:00, 14.26it/s]\n",
      "  0%|          | 0/500 [00:00<?, ?it/s]"
     ]
    },
    {
     "name": "stdout",
     "output_type": "stream",
     "text": [
      "Example target: [1. 0.]\n",
      "Example prediction: [0.4512, 0.5488]\n",
      "Epoch 367 Training Loss: 0.6922 Training Accuracy: 0.5332 Val Loss: 0.6919 Val Accuracy: 0.5329\n"
     ]
    },
    {
     "name": "stderr",
     "output_type": "stream",
     "text": [
      "100%|██████████| 500/500 [00:34<00:00, 14.30it/s]\n",
      "  0%|          | 1/500 [00:00<01:36,  5.15it/s]"
     ]
    },
    {
     "name": "stdout",
     "output_type": "stream",
     "text": [
      "Example target: [1. 0.]\n",
      "Example prediction: [0.5052, 0.4948]\n",
      "Epoch 368 Training Loss: 0.6921 Training Accuracy: 0.5334 Val Loss: 0.6921 Val Accuracy: 0.5327\n"
     ]
    },
    {
     "name": "stderr",
     "output_type": "stream",
     "text": [
      "100%|██████████| 500/500 [00:35<00:00, 14.22it/s]\n",
      "  0%|          | 1/500 [00:00<01:30,  5.49it/s]"
     ]
    },
    {
     "name": "stdout",
     "output_type": "stream",
     "text": [
      "Example target: [1. 0.]\n",
      "Example prediction: [0.4988, 0.5012]\n",
      "Epoch 369 Training Loss: 0.6922 Training Accuracy: 0.5331 Val Loss: 0.6919 Val Accuracy: 0.533\n"
     ]
    },
    {
     "name": "stderr",
     "output_type": "stream",
     "text": [
      "100%|██████████| 500/500 [00:35<00:00, 14.25it/s]\n",
      "  0%|          | 1/500 [00:00<01:28,  5.63it/s]"
     ]
    },
    {
     "name": "stdout",
     "output_type": "stream",
     "text": [
      "Example target: [1. 0.]\n",
      "Example prediction: [0.4676, 0.5324]\n",
      "Epoch 370 Training Loss: 0.6921 Training Accuracy: 0.533 Val Loss: 0.6922 Val Accuracy: 0.5323\n"
     ]
    },
    {
     "name": "stderr",
     "output_type": "stream",
     "text": [
      "100%|██████████| 500/500 [00:35<00:00, 14.19it/s]\n",
      "  0%|          | 1/500 [00:00<01:35,  5.25it/s]"
     ]
    },
    {
     "name": "stdout",
     "output_type": "stream",
     "text": [
      "Example target: [1. 0.]\n",
      "Example prediction: [0.4342, 0.5658]\n",
      "Epoch 371 Training Loss: 0.6922 Training Accuracy: 0.5332 Val Loss: 0.6919 Val Accuracy: 0.5331\n"
     ]
    },
    {
     "name": "stderr",
     "output_type": "stream",
     "text": [
      "100%|██████████| 500/500 [00:35<00:00, 14.24it/s]\n",
      "  0%|          | 0/500 [00:00<?, ?it/s]"
     ]
    },
    {
     "name": "stdout",
     "output_type": "stream",
     "text": [
      "Example target: [1. 0.]\n",
      "Example prediction: [0.4442, 0.5558]\n",
      "Epoch 372 Training Loss: 0.6922 Training Accuracy: 0.533 Val Loss: 0.692 Val Accuracy: 0.5325\n"
     ]
    },
    {
     "name": "stderr",
     "output_type": "stream",
     "text": [
      "100%|██████████| 500/500 [00:35<00:00, 14.27it/s]\n",
      "  0%|          | 1/500 [00:00<01:35,  5.22it/s]"
     ]
    },
    {
     "name": "stdout",
     "output_type": "stream",
     "text": [
      "Example target: [0. 1.]\n",
      "Example prediction: [0.4609, 0.5391]\n",
      "Epoch 373 Training Loss: 0.6922 Training Accuracy: 0.5332 Val Loss: 0.6919 Val Accuracy: 0.5328\n"
     ]
    },
    {
     "name": "stderr",
     "output_type": "stream",
     "text": [
      "100%|██████████| 500/500 [00:35<00:00, 14.26it/s]\n",
      "  0%|          | 1/500 [00:00<01:32,  5.40it/s]"
     ]
    },
    {
     "name": "stdout",
     "output_type": "stream",
     "text": [
      "Example target: [1. 0.]\n",
      "Example prediction: [0.4897, 0.5103]\n",
      "Epoch 374 Training Loss: 0.6921 Training Accuracy: 0.5331 Val Loss: 0.6919 Val Accuracy: 0.5327\n"
     ]
    },
    {
     "name": "stderr",
     "output_type": "stream",
     "text": [
      "100%|██████████| 500/500 [00:35<00:00, 14.26it/s]\n",
      "  0%|          | 0/500 [00:00<?, ?it/s]"
     ]
    },
    {
     "name": "stdout",
     "output_type": "stream",
     "text": [
      "Example target: [1. 0.]\n",
      "Example prediction: [0.4423, 0.5577]\n",
      "Epoch 375 Training Loss: 0.6922 Training Accuracy: 0.533 Val Loss: 0.692 Val Accuracy: 0.5326\n"
     ]
    },
    {
     "name": "stderr",
     "output_type": "stream",
     "text": [
      "100%|██████████| 500/500 [00:35<00:00, 14.23it/s]\n",
      "  0%|          | 1/500 [00:00<01:31,  5.44it/s]"
     ]
    },
    {
     "name": "stdout",
     "output_type": "stream",
     "text": [
      "Example target: [1. 0.]\n",
      "Example prediction: [0.5016, 0.4984]\n",
      "Epoch 376 Training Loss: 0.6922 Training Accuracy: 0.5331 Val Loss: 0.6919 Val Accuracy: 0.5334\n"
     ]
    },
    {
     "name": "stderr",
     "output_type": "stream",
     "text": [
      "100%|██████████| 500/500 [00:35<00:00, 14.24it/s]\n",
      "  0%|          | 1/500 [00:00<01:34,  5.30it/s]"
     ]
    },
    {
     "name": "stdout",
     "output_type": "stream",
     "text": [
      "Example target: [0. 1.]\n",
      "Example prediction: [0.4796, 0.5204]\n",
      "Epoch 377 Training Loss: 0.6921 Training Accuracy: 0.5331 Val Loss: 0.6919 Val Accuracy: 0.5332\n"
     ]
    },
    {
     "name": "stderr",
     "output_type": "stream",
     "text": [
      "100%|██████████| 500/500 [00:35<00:00, 14.28it/s]\n",
      "  0%|          | 1/500 [00:00<01:29,  5.56it/s]"
     ]
    },
    {
     "name": "stdout",
     "output_type": "stream",
     "text": [
      "Example target: [1. 0.]\n",
      "Example prediction: [0.4422, 0.5578]\n",
      "Epoch 378 Training Loss: 0.6922 Training Accuracy: 0.5331 Val Loss: 0.6919 Val Accuracy: 0.533\n"
     ]
    },
    {
     "name": "stderr",
     "output_type": "stream",
     "text": [
      "100%|██████████| 500/500 [00:35<00:00, 14.09it/s]\n",
      "  0%|          | 1/500 [00:00<01:32,  5.38it/s]"
     ]
    },
    {
     "name": "stdout",
     "output_type": "stream",
     "text": [
      "Example target: [0. 1.]\n",
      "Example prediction: [0.4539, 0.5461]\n",
      "Epoch 379 Training Loss: 0.6921 Training Accuracy: 0.5331 Val Loss: 0.6919 Val Accuracy: 0.5327\n"
     ]
    },
    {
     "name": "stderr",
     "output_type": "stream",
     "text": [
      "100%|██████████| 500/500 [00:35<00:00, 14.09it/s]\n",
      "  0%|          | 1/500 [00:00<01:35,  5.24it/s]"
     ]
    },
    {
     "name": "stdout",
     "output_type": "stream",
     "text": [
      "Example target: [1. 0.]\n",
      "Example prediction: [0.4913, 0.5087]\n",
      "Epoch 380 Training Loss: 0.6922 Training Accuracy: 0.5331 Val Loss: 0.692 Val Accuracy: 0.5325\n"
     ]
    },
    {
     "name": "stderr",
     "output_type": "stream",
     "text": [
      "100%|██████████| 500/500 [00:34<00:00, 14.29it/s]\n",
      "  0%|          | 1/500 [00:00<01:31,  5.43it/s]"
     ]
    },
    {
     "name": "stdout",
     "output_type": "stream",
     "text": [
      "Example target: [0. 1.]\n",
      "Example prediction: [0.486, 0.514]\n",
      "Epoch 381 Training Loss: 0.6922 Training Accuracy: 0.5333 Val Loss: 0.6922 Val Accuracy: 0.5322\n"
     ]
    },
    {
     "name": "stderr",
     "output_type": "stream",
     "text": [
      "100%|██████████| 500/500 [00:35<00:00, 14.11it/s]\n",
      "  0%|          | 1/500 [00:00<01:32,  5.41it/s]"
     ]
    },
    {
     "name": "stdout",
     "output_type": "stream",
     "text": [
      "Example target: [0. 1.]\n",
      "Example prediction: [0.5076, 0.4924]\n",
      "Epoch 382 Training Loss: 0.6922 Training Accuracy: 0.533 Val Loss: 0.692 Val Accuracy: 0.5327\n"
     ]
    },
    {
     "name": "stderr",
     "output_type": "stream",
     "text": [
      "100%|██████████| 500/500 [00:35<00:00, 14.26it/s]\n",
      "  0%|          | 1/500 [00:00<01:31,  5.43it/s]"
     ]
    },
    {
     "name": "stdout",
     "output_type": "stream",
     "text": [
      "Example target: [1. 0.]\n",
      "Example prediction: [0.4593, 0.5407]\n",
      "Epoch 383 Training Loss: 0.6921 Training Accuracy: 0.533 Val Loss: 0.6919 Val Accuracy: 0.5331\n"
     ]
    },
    {
     "name": "stderr",
     "output_type": "stream",
     "text": [
      "100%|██████████| 500/500 [00:35<00:00, 14.26it/s]\n",
      "  0%|          | 1/500 [00:00<01:34,  5.27it/s]"
     ]
    },
    {
     "name": "stdout",
     "output_type": "stream",
     "text": [
      "Example target: [1. 0.]\n",
      "Example prediction: [0.474, 0.526]\n",
      "Epoch 384 Training Loss: 0.6922 Training Accuracy: 0.533 Val Loss: 0.692 Val Accuracy: 0.533\n"
     ]
    },
    {
     "name": "stderr",
     "output_type": "stream",
     "text": [
      "100%|██████████| 500/500 [00:35<00:00, 14.18it/s]\n",
      "  0%|          | 1/500 [00:00<01:30,  5.51it/s]"
     ]
    },
    {
     "name": "stdout",
     "output_type": "stream",
     "text": [
      "Example target: [1. 0.]\n",
      "Example prediction: [0.4874, 0.5126]\n",
      "Epoch 385 Training Loss: 0.6922 Training Accuracy: 0.5331 Val Loss: 0.6919 Val Accuracy: 0.5331\n"
     ]
    },
    {
     "name": "stderr",
     "output_type": "stream",
     "text": [
      "100%|██████████| 500/500 [00:35<00:00, 14.26it/s]\n",
      "  0%|          | 1/500 [00:00<01:31,  5.43it/s]"
     ]
    },
    {
     "name": "stdout",
     "output_type": "stream",
     "text": [
      "Example target: [1. 0.]\n",
      "Example prediction: [0.4658, 0.5342]\n",
      "Epoch 386 Training Loss: 0.6921 Training Accuracy: 0.5328 Val Loss: 0.6919 Val Accuracy: 0.5331\n"
     ]
    },
    {
     "name": "stderr",
     "output_type": "stream",
     "text": [
      "100%|██████████| 500/500 [00:35<00:00, 14.22it/s]\n",
      "  0%|          | 1/500 [00:00<01:34,  5.29it/s]"
     ]
    },
    {
     "name": "stdout",
     "output_type": "stream",
     "text": [
      "Example target: [1. 0.]\n",
      "Example prediction: [0.5026, 0.4974]\n",
      "Epoch 387 Training Loss: 0.6922 Training Accuracy: 0.533 Val Loss: 0.692 Val Accuracy: 0.5327\n"
     ]
    },
    {
     "name": "stderr",
     "output_type": "stream",
     "text": [
      "100%|██████████| 500/500 [00:35<00:00, 14.13it/s]\n",
      "  0%|          | 1/500 [00:00<01:34,  5.28it/s]"
     ]
    },
    {
     "name": "stdout",
     "output_type": "stream",
     "text": [
      "Example target: [0. 1.]\n",
      "Example prediction: [0.4941, 0.5059]\n",
      "Epoch 388 Training Loss: 0.6922 Training Accuracy: 0.5329 Val Loss: 0.6921 Val Accuracy: 0.5328\n"
     ]
    },
    {
     "name": "stderr",
     "output_type": "stream",
     "text": [
      "100%|██████████| 500/500 [00:35<00:00, 14.20it/s]\n",
      "  0%|          | 1/500 [00:00<01:31,  5.45it/s]"
     ]
    },
    {
     "name": "stdout",
     "output_type": "stream",
     "text": [
      "Example target: [0. 1.]\n",
      "Example prediction: [0.4504, 0.5496]\n",
      "Epoch 389 Training Loss: 0.6922 Training Accuracy: 0.5329 Val Loss: 0.692 Val Accuracy: 0.5325\n"
     ]
    },
    {
     "name": "stderr",
     "output_type": "stream",
     "text": [
      "100%|██████████| 500/500 [00:34<00:00, 14.32it/s]\n",
      "  0%|          | 1/500 [00:00<01:31,  5.45it/s]"
     ]
    },
    {
     "name": "stdout",
     "output_type": "stream",
     "text": [
      "Example target: [0. 1.]\n",
      "Example prediction: [0.4794, 0.5206]\n",
      "Epoch 390 Training Loss: 0.6922 Training Accuracy: 0.5332 Val Loss: 0.6923 Val Accuracy: 0.532\n"
     ]
    },
    {
     "name": "stderr",
     "output_type": "stream",
     "text": [
      "100%|██████████| 500/500 [00:35<00:00, 14.19it/s]\n",
      "  0%|          | 1/500 [00:00<01:35,  5.25it/s]"
     ]
    },
    {
     "name": "stdout",
     "output_type": "stream",
     "text": [
      "Example target: [0. 1.]\n",
      "Example prediction: [0.4773, 0.5227]\n",
      "Epoch 391 Training Loss: 0.6922 Training Accuracy: 0.5333 Val Loss: 0.6923 Val Accuracy: 0.532\n"
     ]
    },
    {
     "name": "stderr",
     "output_type": "stream",
     "text": [
      "100%|██████████| 500/500 [00:34<00:00, 14.29it/s]\n",
      "  0%|          | 1/500 [00:00<01:33,  5.33it/s]"
     ]
    },
    {
     "name": "stdout",
     "output_type": "stream",
     "text": [
      "Example target: [1. 0.]\n",
      "Example prediction: [0.4878, 0.5122]\n",
      "Epoch 392 Training Loss: 0.6922 Training Accuracy: 0.5331 Val Loss: 0.6919 Val Accuracy: 0.5332\n"
     ]
    },
    {
     "name": "stderr",
     "output_type": "stream",
     "text": [
      "100%|██████████| 500/500 [00:35<00:00, 14.14it/s]\n",
      "  0%|          | 1/500 [00:00<01:34,  5.30it/s]"
     ]
    },
    {
     "name": "stdout",
     "output_type": "stream",
     "text": [
      "Example target: [1. 0.]\n",
      "Example prediction: [0.4394, 0.5606]\n",
      "Epoch 393 Training Loss: 0.6922 Training Accuracy: 0.5331 Val Loss: 0.6921 Val Accuracy: 0.5329\n"
     ]
    },
    {
     "name": "stderr",
     "output_type": "stream",
     "text": [
      "100%|██████████| 500/500 [00:35<00:00, 14.21it/s]\n",
      "  0%|          | 1/500 [00:00<01:30,  5.49it/s]"
     ]
    },
    {
     "name": "stdout",
     "output_type": "stream",
     "text": [
      "Example target: [1. 0.]\n",
      "Example prediction: [0.4786, 0.5214]\n",
      "Epoch 394 Training Loss: 0.6921 Training Accuracy: 0.5334 Val Loss: 0.6921 Val Accuracy: 0.5326\n"
     ]
    },
    {
     "name": "stderr",
     "output_type": "stream",
     "text": [
      "100%|██████████| 500/500 [00:35<00:00, 14.20it/s]\n",
      "  0%|          | 1/500 [00:00<01:32,  5.37it/s]"
     ]
    },
    {
     "name": "stdout",
     "output_type": "stream",
     "text": [
      "Example target: [0. 1.]\n",
      "Example prediction: [0.4854, 0.5146]\n",
      "Epoch 395 Training Loss: 0.6922 Training Accuracy: 0.533 Val Loss: 0.692 Val Accuracy: 0.5328\n"
     ]
    },
    {
     "name": "stderr",
     "output_type": "stream",
     "text": [
      "100%|██████████| 500/500 [00:34<00:00, 14.31it/s]\n",
      "  0%|          | 1/500 [00:00<01:37,  5.10it/s]"
     ]
    },
    {
     "name": "stdout",
     "output_type": "stream",
     "text": [
      "Example target: [0. 1.]\n",
      "Example prediction: [0.4833, 0.5167]\n",
      "Epoch 396 Training Loss: 0.6921 Training Accuracy: 0.5331 Val Loss: 0.6922 Val Accuracy: 0.5324\n"
     ]
    },
    {
     "name": "stderr",
     "output_type": "stream",
     "text": [
      "100%|██████████| 500/500 [00:34<00:00, 14.38it/s]\n",
      "  0%|          | 1/500 [00:00<01:34,  5.31it/s]"
     ]
    },
    {
     "name": "stdout",
     "output_type": "stream",
     "text": [
      "Example target: [0. 1.]\n",
      "Example prediction: [0.4966, 0.5034]\n",
      "Epoch 397 Training Loss: 0.6922 Training Accuracy: 0.5333 Val Loss: 0.692 Val Accuracy: 0.5332\n"
     ]
    },
    {
     "name": "stderr",
     "output_type": "stream",
     "text": [
      "100%|██████████| 500/500 [00:35<00:00, 14.27it/s]\n",
      "  0%|          | 1/500 [00:00<01:36,  5.17it/s]"
     ]
    },
    {
     "name": "stdout",
     "output_type": "stream",
     "text": [
      "Example target: [0. 1.]\n",
      "Example prediction: [0.454, 0.546]\n",
      "Epoch 398 Training Loss: 0.6922 Training Accuracy: 0.5333 Val Loss: 0.692 Val Accuracy: 0.5328\n"
     ]
    },
    {
     "name": "stderr",
     "output_type": "stream",
     "text": [
      "100%|██████████| 500/500 [00:35<00:00, 13.94it/s]\n"
     ]
    },
    {
     "name": "stdout",
     "output_type": "stream",
     "text": [
      "Example target: [1. 0.]\n",
      "Example prediction: [0.4447, 0.5553]\n",
      "Epoch 399 Training Loss: 0.6922 Training Accuracy: 0.5329 Val Loss: 0.6922 Val Accuracy: 0.5322\n"
     ]
    },
    {
     "data": {
      "text/html": [
       "<div>\n",
       "<style scoped>\n",
       "    .dataframe tbody tr th:only-of-type {\n",
       "        vertical-align: middle;\n",
       "    }\n",
       "\n",
       "    .dataframe tbody tr th {\n",
       "        vertical-align: top;\n",
       "    }\n",
       "\n",
       "    .dataframe thead th {\n",
       "        text-align: right;\n",
       "    }\n",
       "</style>\n",
       "<table border=\"1\" class=\"dataframe\">\n",
       "  <thead>\n",
       "    <tr style=\"text-align: right;\">\n",
       "      <th></th>\n",
       "      <th>Id</th>\n",
       "      <th>Category</th>\n",
       "    </tr>\n",
       "  </thead>\n",
       "  <tbody>\n",
       "    <tr>\n",
       "      <td>0</td>\n",
       "      <td>0</td>\n",
       "      <td>1</td>\n",
       "    </tr>\n",
       "    <tr>\n",
       "      <td>1</td>\n",
       "      <td>1</td>\n",
       "      <td>1</td>\n",
       "    </tr>\n",
       "    <tr>\n",
       "      <td>2</td>\n",
       "      <td>2</td>\n",
       "      <td>1</td>\n",
       "    </tr>\n",
       "    <tr>\n",
       "      <td>3</td>\n",
       "      <td>3</td>\n",
       "      <td>0</td>\n",
       "    </tr>\n",
       "    <tr>\n",
       "      <td>4</td>\n",
       "      <td>4</td>\n",
       "      <td>1</td>\n",
       "    </tr>\n",
       "    <tr>\n",
       "      <td>...</td>\n",
       "      <td>...</td>\n",
       "      <td>...</td>\n",
       "    </tr>\n",
       "    <tr>\n",
       "      <td>99995</td>\n",
       "      <td>99995</td>\n",
       "      <td>1</td>\n",
       "    </tr>\n",
       "    <tr>\n",
       "      <td>99996</td>\n",
       "      <td>99996</td>\n",
       "      <td>1</td>\n",
       "    </tr>\n",
       "    <tr>\n",
       "      <td>99997</td>\n",
       "      <td>99997</td>\n",
       "      <td>1</td>\n",
       "    </tr>\n",
       "    <tr>\n",
       "      <td>99998</td>\n",
       "      <td>99998</td>\n",
       "      <td>1</td>\n",
       "    </tr>\n",
       "    <tr>\n",
       "      <td>99999</td>\n",
       "      <td>99999</td>\n",
       "      <td>1</td>\n",
       "    </tr>\n",
       "  </tbody>\n",
       "</table>\n",
       "<p>100000 rows × 2 columns</p>\n",
       "</div>"
      ],
      "text/plain": [
       "          Id  Category\n",
       "0          0         1\n",
       "1          1         1\n",
       "2          2         1\n",
       "3          3         0\n",
       "4          4         1\n",
       "...      ...       ...\n",
       "99995  99995         1\n",
       "99996  99996         1\n",
       "99997  99997         1\n",
       "99998  99998         1\n",
       "99999  99999         1\n",
       "\n",
       "[100000 rows x 2 columns]"
      ]
     },
     "execution_count": 1,
     "metadata": {},
     "output_type": "execute_result"
    }
   ],
   "source": [
    "\"\"\"\n",
    "Step 1: Define layer arguments\n",
    "\n",
    "- Define the arguments for each layer in an attribute dictionary (AttrDict).\n",
    "- An attribute dictionary is exactly like a dictionary, except you can access the values as attributes rather than keys...for cleaner code :)\n",
    "- See layers.py for the arguments expected by each layer type.\n",
    "\"\"\"\n",
    "\n",
    "from neural_networks.utils.data_structures import AttrDict\n",
    "from os import walk\n",
    "\n",
    "layer_1 = AttrDict(\n",
    "    {\n",
    "        \"name\": \"fully_connected\",\n",
    "        \"activation\": 'relu',  # YOUR CODE HERE,\n",
    "        \"weight_init\": \"xavier_uniform\",\n",
    "        \"n_out\": 20 # YOUR CODE HERE,\n",
    "    }\n",
    ")\n",
    "\n",
    "layer_2 = AttrDict(\n",
    "    {\n",
    "        \"name\": \"fully_connected\",\n",
    "        \"activation\": 'relu',  # YOUR CODE HERE,\n",
    "        \"weight_init\": \"xavier_uniform\",\n",
    "        \"n_out\": 10 # YOUR CODE HERE,\n",
    "    }\n",
    ")\n",
    "\n",
    "layer_3 = AttrDict(\n",
    "    {\n",
    "        \"name\": \"fully_connected\",\n",
    "        \"activation\": 'relu',  # YOUR CODE HERE,\n",
    "        \"weight_init\": \"xavier_uniform\",\n",
    "        \"n_out\": 5 # YOUR CODE HERE,\n",
    "    }\n",
    ")\n",
    "\n",
    "layer_4 = AttrDict(\n",
    "    {\n",
    "        \"name\": \"fully_connected\",\n",
    "        \"activation\": 'relu',  # YOUR CODE HERE,\n",
    "        \"weight_init\": \"xavier_uniform\",\n",
    "        \"n_out\": 8 # YOUR CODE HERE,\n",
    "    }\n",
    ")\n",
    "\n",
    "layer_5 = AttrDict(\n",
    "    {\n",
    "        \"name\": \"fully_connected\",\n",
    "        \"activation\": 'relu',  # YOUR CODE HERE,\n",
    "        \"weight_init\": \"xavier_uniform\",\n",
    "        \"n_out\": 4 # YOUR CODE HERE,\n",
    "    }\n",
    ")\n",
    "\n",
    "layer_6 = AttrDict(\n",
    "    {\n",
    "        \"name\": \"fully_connected\",\n",
    "        \"activation\": 'relu',  # YOUR CODE HERE,\n",
    "        \"weight_init\": \"xavier_uniform\",\n",
    "        \"n_out\": 3 # YOUR CODE HERE,\n",
    "    }\n",
    ")\n",
    "\n",
    "layer_out = AttrDict(\n",
    "    {\n",
    "        \"name\": \"fully_connected\",\n",
    "        \"activation\": 'softmax', # YOUR CODE HERE,\n",
    "        \"weight_init\": \"xavier_uniform\",\n",
    "        \"n_out\": None\n",
    "        # n_out is not defined for last layer. This will be set by the dataset.\n",
    "    }\n",
    ")\n",
    "\n",
    "\"\"\"\n",
    "Step 2: Collect layer argument dictionaries into a list.\n",
    "\n",
    "- This defines the order of layers in the network.\n",
    "\"\"\"\n",
    "\n",
    "layer_args = [layer_1\n",
    "              , layer_2\n",
    "              #, layer_3\n",
    "              #, layer_4\n",
    "              #, layer_5\n",
    "              #, layer_6\n",
    "              , layer_out]\n",
    "\n",
    "\"\"\"\n",
    "Step 3: Define model, data, and logger arguments\n",
    "\n",
    "- The list of layer_args is passed to the model initializer.\n",
    "\"\"\"\n",
    "\n",
    "optimizer_args = AttrDict(\n",
    "    {\n",
    "        \"name\": \"SGD\",\n",
    "        \"lr\": 0.01, # YOUR CODE HERE,\n",
    "        \"lr_scheduler\": 'constant', # YOUR CODE HERE,\n",
    "        #\"lr_decay\": # YOUR CODE HERE,\n",
    "        #\"stage_length\": # YOUR CODE HERE,\n",
    "        #\"staircase\": # YOUR CODE HERE,\n",
    "        \"clip_norm\": 1.0, # YOUR CODE HERE,\n",
    "        \"momentum\": .2 # YOUR CODE HERE,\n",
    "    }\n",
    ")\n",
    "\n",
    "model_args = AttrDict(\n",
    "    {\n",
    "        \"loss\": 'cross_entropy', # YOUR CODE HERE,\n",
    "        \"layer_args\": layer_args,\n",
    "        \"optimizer_args\": optimizer_args,\n",
    "        \"seed\": 0, # YOUR CODE HERE,\n",
    "    }\n",
    ")\n",
    "\n",
    "data_args = AttrDict(\n",
    "    {\n",
    "        \"name\": 'higgs', # YOUR CODE HERE, name of dataset, e.g. \"iris\"\n",
    "        \"batch_size\": 1000 # YOUR CODE HERE,\n",
    "    }\n",
    ")\n",
    "\n",
    "log_args = AttrDict(\n",
    "    {\"save\": True, \"plot\": True, \"save_dir\": \"experiments/\",}\n",
    ")\n",
    "\n",
    "\"\"\"\n",
    "Step 4: Set random seed\n",
    "\n",
    "Warning! Random seed must be set before importing other modules.\n",
    "\"\"\"\n",
    "\n",
    "import numpy as np\n",
    "\n",
    "np.random.seed(model_args.seed)\n",
    "\n",
    "\"\"\"\n",
    "Step 5: Define model name for saving\n",
    "\"\"\"\n",
    "\n",
    "for root, dirnames, filenames in walk('experiments'):\n",
    "    n_exp = len(dirnames) + 1\n",
    "    break\n",
    "\n",
    "hidden_units = ''\n",
    "for layer in layer_args[:-1]:\n",
    "    hidden_units += str(layer['n_out']) + ','\n",
    "    \n",
    "model_name = (str(n_exp) + '_' \n",
    "              + data_args['name'] \n",
    "              + '_' \n",
    "              + layer_1['name'] \n",
    "              + ' (' \n",
    "              + str(len(layer_args)) \n",
    "              + ' - ' \n",
    "              + hidden_units[:-1]\n",
    "              + '), lr=' \n",
    "              + str(optimizer_args['lr']) \n",
    "              + ', n_batch=' \n",
    "              + str(data_args['batch_size']) \n",
    "              + ', mom=' + str(optimizer_args['momentum']) \n",
    "              + ', '\n",
    "              + optimizer_args['name'])\n",
    "            \n",
    "\n",
    "\"\"\"\n",
    "Step 6: Initialize logger, model, and dataset\n",
    "\n",
    "- model_name, model_args, and data_args are passed to the logger for saving\n",
    "- The logger is passed to the model.\n",
    "\"\"\"\n",
    "\n",
    "from neural_networks.models import initialize_model\n",
    "from neural_networks.datasets import initialize_dataset\n",
    "from neural_networks.logs import Logger\n",
    "\n",
    "\n",
    "logger = Logger(\n",
    "    model_name=model_name,\n",
    "    model_args=model_args,\n",
    "    data_args=data_args,\n",
    "    save=log_args.save,\n",
    "    plot=log_args.plot,\n",
    "    save_dir=log_args.save_dir,\n",
    ")\n",
    "\n",
    "\n",
    "model = initialize_model(\n",
    "    name=model_name,\n",
    "    loss=model_args.loss,\n",
    "    layer_args=model_args.layer_args,\n",
    "    optimizer_args=model_args.optimizer_args,\n",
    "    logger=logger,\n",
    ")\n",
    "\n",
    "\n",
    "dataset = initialize_dataset(\n",
    "    name=data_args.name,\n",
    "    batch_size=data_args.batch_size,\n",
    ")\n",
    "\n",
    "\n",
    "\"\"\"\n",
    "Step 7: Train model!\n",
    "\"\"\"\n",
    "\n",
    "epochs = 400\n",
    "\n",
    "print(\n",
    "    \"Training {} neural network on {} with {} for {} epochs...\".format(\n",
    "        model_name, data_args.name, optimizer_args.name, epochs\n",
    "    )\n",
    ")\n",
    "\n",
    "print(\"Optimizer:\")\n",
    "print(optimizer_args)\n",
    "\n",
    "model.train(dataset, epochs=epochs)\n",
    "model.test_kaggle(dataset) # For Higgs, call test_kaggle() to generate the Kaggle file."
   ]
  },
  {
   "cell_type": "code",
   "execution_count": null,
   "metadata": {},
   "outputs": [],
   "source": []
  }
 ],
 "metadata": {
  "kernelspec": {
   "display_name": "Python 3",
   "language": "python",
   "name": "python3"
  },
  "language_info": {
   "codemirror_mode": {
    "name": "ipython",
    "version": 3
   },
   "file_extension": ".py",
   "mimetype": "text/x-python",
   "name": "python",
   "nbconvert_exporter": "python",
   "pygments_lexer": "ipython3",
   "version": "3.7.3"
  }
 },
 "nbformat": 4,
 "nbformat_minor": 4
}

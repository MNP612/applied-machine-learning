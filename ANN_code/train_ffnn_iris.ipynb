{
 "cells": [
  {
   "cell_type": "code",
   "execution_count": 1,
   "metadata": {},
   "outputs": [
    {
     "name": "stderr",
     "output_type": "stream",
     "text": [
      "100%|██████████| 3/3 [00:00<00:00, 259.71it/s]"
     ]
    },
    {
     "name": "stdout",
     "output_type": "stream",
     "text": [
      "Training iris_fully_connected, lr 0.1, hidden units 40, batch_size 35, momentum 0.3, optimizer SGD neural network on iris with SGD for 200 epochs...\n",
      "Optimizer:\n",
      "{'name': 'SGD', 'lr': 0.1, 'lr_scheduler': 'constant', 'clip_norm': 1.0, 'momentum': 0.3}\n"
     ]
    },
    {
     "name": "stderr",
     "output_type": "stream",
     "text": [
      "\n",
      "100%|██████████| 3/3 [00:00<00:00, 261.14it/s]"
     ]
    },
    {
     "name": "stdout",
     "output_type": "stream",
     "text": [
      "Example target: [1. 0. 0.]\n",
      "Example prediction: [0.0153, 0.2708, 0.7138]\n",
      "Epoch 0 Training Loss: 4.1183 Training Accuracy: 0.3143 Val Loss: 3.2204 Val Accuracy: 0.2667\n"
     ]
    },
    {
     "name": "stderr",
     "output_type": "stream",
     "text": [
      "\n",
      "100%|██████████| 3/3 [00:00<00:00, 263.51it/s]"
     ]
    },
    {
     "name": "stdout",
     "output_type": "stream",
     "text": [
      "Example target: [1. 0. 0.]\n",
      "Example prediction: [0.0045, 0.4468, 0.5487]\n",
      "Epoch 1 Training Loss: 3.4243 Training Accuracy: 0.3143 Val Loss: 3.9986 Val Accuracy: 0.2667\n"
     ]
    },
    {
     "name": "stderr",
     "output_type": "stream",
     "text": [
      "\n",
      "100%|██████████| 3/3 [00:00<00:00, 260.24it/s]"
     ]
    },
    {
     "name": "stdout",
     "output_type": "stream",
     "text": [
      "Example target: [0. 1. 0.]\n",
      "Example prediction: [0.0, 0.0, 0.9999]\n",
      "Epoch 2 Training Loss: 3.0703 Training Accuracy: 0.2952 Val Loss: 5.8949 Val Accuracy: 0.2667\n"
     ]
    },
    {
     "name": "stderr",
     "output_type": "stream",
     "text": [
      "\n",
      "100%|██████████| 3/3 [00:00<00:00, 254.22it/s]"
     ]
    },
    {
     "name": "stdout",
     "output_type": "stream",
     "text": [
      "Example target: [0. 1. 0.]\n",
      "Example prediction: [0.7217, 0.1771, 0.1012]\n",
      "Epoch 3 Training Loss: 4.7259 Training Accuracy: 0.3333 Val Loss: 1.1699 Val Accuracy: 0.5333\n"
     ]
    },
    {
     "name": "stderr",
     "output_type": "stream",
     "text": [
      "\n",
      "100%|██████████| 3/3 [00:00<00:00, 227.21it/s]"
     ]
    },
    {
     "name": "stdout",
     "output_type": "stream",
     "text": [
      "Example target: [0. 1. 0.]\n",
      "Example prediction: [0.0039, 0.301, 0.6951]\n",
      "Epoch 4 Training Loss: 4.2206 Training Accuracy: 0.3238 Val Loss: 2.7658 Val Accuracy: 0.2667\n"
     ]
    },
    {
     "name": "stderr",
     "output_type": "stream",
     "text": [
      "\n",
      "100%|██████████| 3/3 [00:00<00:00, 264.88it/s]"
     ]
    },
    {
     "name": "stdout",
     "output_type": "stream",
     "text": [
      "Example target: [0. 0. 1.]\n",
      "Example prediction: [0.0304, 0.0587, 0.9109]\n",
      "Epoch 5 Training Loss: 4.2444 Training Accuracy: 0.2667 Val Loss: 2.0434 Val Accuracy: 0.2667\n"
     ]
    },
    {
     "name": "stderr",
     "output_type": "stream",
     "text": [
      "\n",
      "100%|██████████| 3/3 [00:00<00:00, 275.40it/s]"
     ]
    },
    {
     "name": "stdout",
     "output_type": "stream",
     "text": [
      "Example target: [1. 0. 0.]\n",
      "Example prediction: [0.0571, 0.888, 0.0549]\n",
      "Epoch 6 Training Loss: 2.2282 Training Accuracy: 0.3238 Val Loss: 2.7984 Val Accuracy: 0.2\n"
     ]
    },
    {
     "name": "stderr",
     "output_type": "stream",
     "text": [
      "\n",
      "100%|██████████| 3/3 [00:00<00:00, 137.44it/s]"
     ]
    },
    {
     "name": "stdout",
     "output_type": "stream",
     "text": [
      "Example target: [1. 0. 0.]\n",
      "Example prediction: [0.0242, 0.112, 0.8638]\n",
      "Epoch 7 Training Loss: 2.5789 Training Accuracy: 0.3333 Val Loss: 2.9941 Val Accuracy: 0.2667\n"
     ]
    },
    {
     "name": "stderr",
     "output_type": "stream",
     "text": [
      "\n",
      "100%|██████████| 3/3 [00:00<00:00, 252.69it/s]"
     ]
    },
    {
     "name": "stdout",
     "output_type": "stream",
     "text": [
      "Example target: [1. 0. 0.]\n",
      "Example prediction: [0.0055, 0.0836, 0.9109]\n",
      "Epoch 8 Training Loss: 2.7668 Training Accuracy: 0.3238 Val Loss: 4.1571 Val Accuracy: 0.2667\n"
     ]
    },
    {
     "name": "stderr",
     "output_type": "stream",
     "text": [
      "\n",
      "100%|██████████| 3/3 [00:00<00:00, 275.18it/s]"
     ]
    },
    {
     "name": "stdout",
     "output_type": "stream",
     "text": [
      "Example target: [0. 0. 1.]\n",
      "Example prediction: [0.0032, 0.9966, 0.0002]\n",
      "Epoch 9 Training Loss: 3.3472 Training Accuracy: 0.3048 Val Loss: 4.51 Val Accuracy: 0.2\n"
     ]
    },
    {
     "name": "stderr",
     "output_type": "stream",
     "text": [
      "\n",
      "100%|██████████| 3/3 [00:00<00:00, 233.41it/s]"
     ]
    },
    {
     "name": "stdout",
     "output_type": "stream",
     "text": [
      "Example target: [0. 0. 1.]\n",
      "Example prediction: [0.0005, 0.9971, 0.0024]\n",
      "Epoch 10 Training Loss: 3.1694 Training Accuracy: 0.3524 Val Loss: 4.4819 Val Accuracy: 0.2\n"
     ]
    },
    {
     "name": "stderr",
     "output_type": "stream",
     "text": [
      "\n",
      "100%|██████████| 3/3 [00:00<00:00, 241.92it/s]"
     ]
    },
    {
     "name": "stdout",
     "output_type": "stream",
     "text": [
      "Example target: [0. 1. 0.]\n",
      "Example prediction: [0.0069, 0.0102, 0.9829]\n",
      "Epoch 11 Training Loss: 2.9195 Training Accuracy: 0.3429 Val Loss: 3.8276 Val Accuracy: 0.2667\n"
     ]
    },
    {
     "name": "stderr",
     "output_type": "stream",
     "text": [
      "\n",
      "100%|██████████| 3/3 [00:00<00:00, 262.65it/s]"
     ]
    },
    {
     "name": "stdout",
     "output_type": "stream",
     "text": [
      "Example target: [1. 0. 0.]\n",
      "Example prediction: [0.9462, 0.0346, 0.0192]\n",
      "Epoch 12 Training Loss: 2.7891 Training Accuracy: 0.3429 Val Loss: 1.9212 Val Accuracy: 0.5333\n"
     ]
    },
    {
     "name": "stderr",
     "output_type": "stream",
     "text": [
      "\n",
      "100%|██████████| 3/3 [00:00<00:00, 256.92it/s]"
     ]
    },
    {
     "name": "stdout",
     "output_type": "stream",
     "text": [
      "Example target: [0. 0. 1.]\n",
      "Example prediction: [0.6188, 0.1077, 0.2736]\n",
      "Epoch 13 Training Loss: 3.2809 Training Accuracy: 0.3619 Val Loss: 1.0281 Val Accuracy: 0.5333\n"
     ]
    },
    {
     "name": "stderr",
     "output_type": "stream",
     "text": [
      "\n",
      "100%|██████████| 3/3 [00:00<00:00, 235.52it/s]"
     ]
    },
    {
     "name": "stdout",
     "output_type": "stream",
     "text": [
      "Example target: [1. 0. 0.]\n",
      "Example prediction: [0.0894, 0.8354, 0.0752]\n",
      "Epoch 14 Training Loss: 3.1484 Training Accuracy: 0.3143 Val Loss: 2.2084 Val Accuracy: 0.2\n"
     ]
    },
    {
     "name": "stderr",
     "output_type": "stream",
     "text": [
      "\n",
      "100%|██████████| 3/3 [00:00<00:00, 258.31it/s]"
     ]
    },
    {
     "name": "stdout",
     "output_type": "stream",
     "text": [
      "Example target: [1. 0. 0.]\n",
      "Example prediction: [0.0027, 0.9859, 0.0114]\n",
      "Epoch 15 Training Loss: 2.988 Training Accuracy: 0.2476 Val Loss: 4.8923 Val Accuracy: 0.2\n"
     ]
    },
    {
     "name": "stderr",
     "output_type": "stream",
     "text": [
      "\n",
      "100%|██████████| 3/3 [00:00<00:00, 252.89it/s]"
     ]
    },
    {
     "name": "stdout",
     "output_type": "stream",
     "text": [
      "Example target: [1. 0. 0.]\n",
      "Example prediction: [0.2441, 0.4462, 0.3097]\n",
      "Epoch 16 Training Loss: 2.7463 Training Accuracy: 0.4095 Val Loss: 1.3226 Val Accuracy: 0.2\n"
     ]
    },
    {
     "name": "stderr",
     "output_type": "stream",
     "text": [
      "\n",
      "100%|██████████| 3/3 [00:00<00:00, 236.85it/s]"
     ]
    },
    {
     "name": "stdout",
     "output_type": "stream",
     "text": [
      "Example target: [1. 0. 0.]\n",
      "Example prediction: [0.6878, 0.3094, 0.0028]\n",
      "Epoch 17 Training Loss: 3.5957 Training Accuracy: 0.3143 Val Loss: 2.1339 Val Accuracy: 0.5333\n"
     ]
    },
    {
     "name": "stderr",
     "output_type": "stream",
     "text": [
      "\n",
      "100%|██████████| 3/3 [00:00<00:00, 235.44it/s]"
     ]
    },
    {
     "name": "stdout",
     "output_type": "stream",
     "text": [
      "Example target: [0. 0. 1.]\n",
      "Example prediction: [0.3728, 0.2433, 0.384]\n",
      "Epoch 18 Training Loss: 3.3348 Training Accuracy: 0.3714 Val Loss: 1.0503 Val Accuracy: 0.8\n"
     ]
    },
    {
     "name": "stderr",
     "output_type": "stream",
     "text": [
      "\n",
      "100%|██████████| 3/3 [00:00<00:00, 238.36it/s]"
     ]
    },
    {
     "name": "stdout",
     "output_type": "stream",
     "text": [
      "Example target: [0. 1. 0.]\n",
      "Example prediction: [0.0894, 0.8948, 0.0158]\n",
      "Epoch 19 Training Loss: 3.0992 Training Accuracy: 0.4286 Val Loss: 1.9739 Val Accuracy: 0.2\n"
     ]
    },
    {
     "name": "stderr",
     "output_type": "stream",
     "text": [
      "\n",
      "100%|██████████| 3/3 [00:00<00:00, 251.44it/s]"
     ]
    },
    {
     "name": "stdout",
     "output_type": "stream",
     "text": [
      "Example target: [1. 0. 0.]\n",
      "Example prediction: [0.0163, 0.9405, 0.0433]\n",
      "Epoch 20 Training Loss: 2.8651 Training Accuracy: 0.3048 Val Loss: 4.1368 Val Accuracy: 0.2\n"
     ]
    },
    {
     "name": "stderr",
     "output_type": "stream",
     "text": [
      "\n",
      "100%|██████████| 3/3 [00:00<00:00, 256.83it/s]"
     ]
    },
    {
     "name": "stdout",
     "output_type": "stream",
     "text": [
      "Example target: [0. 0. 1.]\n",
      "Example prediction: [0.0008, 0.0049, 0.9943]\n",
      "Epoch 21 Training Loss: 2.5321 Training Accuracy: 0.4381 Val Loss: 3.9826 Val Accuracy: 0.2667\n"
     ]
    },
    {
     "name": "stderr",
     "output_type": "stream",
     "text": [
      "\n",
      "100%|██████████| 3/3 [00:00<00:00, 237.31it/s]"
     ]
    },
    {
     "name": "stdout",
     "output_type": "stream",
     "text": [
      "Example target: [1. 0. 0.]\n",
      "Example prediction: [0.7538, 0.1703, 0.0759]\n",
      "Epoch 22 Training Loss: 2.9492 Training Accuracy: 0.2952 Val Loss: 1.2497 Val Accuracy: 0.5333\n"
     ]
    },
    {
     "name": "stderr",
     "output_type": "stream",
     "text": [
      "\n",
      "100%|██████████| 3/3 [00:00<00:00, 264.90it/s]"
     ]
    },
    {
     "name": "stdout",
     "output_type": "stream",
     "text": [
      "Example target: [1. 0. 0.]\n",
      "Example prediction: [0.6317, 0.1237, 0.2445]\n",
      "Epoch 23 Training Loss: 3.0331 Training Accuracy: 0.2952 Val Loss: 1.0454 Val Accuracy: 0.5333\n"
     ]
    },
    {
     "name": "stderr",
     "output_type": "stream",
     "text": [
      "\n",
      "100%|██████████| 3/3 [00:00<00:00, 261.30it/s]"
     ]
    },
    {
     "name": "stdout",
     "output_type": "stream",
     "text": [
      "Example target: [1. 0. 0.]\n",
      "Example prediction: [0.6707, 0.2774, 0.0519]\n",
      "Epoch 24 Training Loss: 2.2816 Training Accuracy: 0.381 Val Loss: 1.2902 Val Accuracy: 0.5333\n"
     ]
    },
    {
     "name": "stderr",
     "output_type": "stream",
     "text": [
      "\n",
      "100%|██████████| 3/3 [00:00<00:00, 263.15it/s]"
     ]
    },
    {
     "name": "stdout",
     "output_type": "stream",
     "text": [
      "Example target: [1. 0. 0.]\n",
      "Example prediction: [0.1684, 0.1009, 0.7308]\n",
      "Epoch 25 Training Loss: 3.1862 Training Accuracy: 0.3048 Val Loss: 1.6878 Val Accuracy: 0.2667\n"
     ]
    },
    {
     "name": "stderr",
     "output_type": "stream",
     "text": [
      "\n",
      "100%|██████████| 3/3 [00:00<00:00, 273.87it/s]"
     ]
    },
    {
     "name": "stdout",
     "output_type": "stream",
     "text": [
      "Example target: [1. 0. 0.]\n",
      "Example prediction: [0.1443, 0.5348, 0.3209]\n",
      "Epoch 26 Training Loss: 2.9655 Training Accuracy: 0.3238 Val Loss: 1.7345 Val Accuracy: 0.2\n"
     ]
    },
    {
     "name": "stderr",
     "output_type": "stream",
     "text": [
      "\n",
      "100%|██████████| 3/3 [00:00<00:00, 275.33it/s]"
     ]
    },
    {
     "name": "stdout",
     "output_type": "stream",
     "text": [
      "Example target: [0. 0. 1.]\n",
      "Example prediction: [0.0033, 0.6256, 0.371]\n",
      "Epoch 27 Training Loss: 2.5866 Training Accuracy: 0.3333 Val Loss: 2.6636 Val Accuracy: 0.2\n"
     ]
    },
    {
     "name": "stderr",
     "output_type": "stream",
     "text": [
      "\n",
      "100%|██████████| 3/3 [00:00<00:00, 283.48it/s]"
     ]
    },
    {
     "name": "stdout",
     "output_type": "stream",
     "text": [
      "Example target: [1. 0. 0.]\n",
      "Example prediction: [0.1415, 0.8311, 0.0274]\n",
      "Epoch 28 Training Loss: 1.8513 Training Accuracy: 0.3905 Val Loss: 2.5658 Val Accuracy: 0.2\n"
     ]
    },
    {
     "name": "stderr",
     "output_type": "stream",
     "text": [
      "\n",
      "100%|██████████| 3/3 [00:00<00:00, 256.99it/s]"
     ]
    },
    {
     "name": "stdout",
     "output_type": "stream",
     "text": [
      "Example target: [0. 0. 1.]\n",
      "Example prediction: [0.0118, 0.9622, 0.026]\n",
      "Epoch 29 Training Loss: 2.4991 Training Accuracy: 0.381 Val Loss: 2.7721 Val Accuracy: 0.2\n"
     ]
    },
    {
     "name": "stderr",
     "output_type": "stream",
     "text": [
      "\n",
      "100%|██████████| 3/3 [00:00<00:00, 264.57it/s]"
     ]
    },
    {
     "name": "stdout",
     "output_type": "stream",
     "text": [
      "Example target: [1. 0. 0.]\n",
      "Example prediction: [0.0486, 0.8158, 0.1356]\n",
      "Epoch 30 Training Loss: 2.2421 Training Accuracy: 0.3143 Val Loss: 2.7448 Val Accuracy: 0.2\n"
     ]
    },
    {
     "name": "stderr",
     "output_type": "stream",
     "text": [
      "\n",
      "100%|██████████| 3/3 [00:00<00:00, 256.04it/s]"
     ]
    },
    {
     "name": "stdout",
     "output_type": "stream",
     "text": [
      "Example target: [1. 0. 0.]\n",
      "Example prediction: [0.8203, 0.1782, 0.0015]\n",
      "Epoch 31 Training Loss: 2.5617 Training Accuracy: 0.3429 Val Loss: 2.5646 Val Accuracy: 0.5333\n"
     ]
    },
    {
     "name": "stderr",
     "output_type": "stream",
     "text": [
      "\n",
      "100%|██████████| 3/3 [00:00<00:00, 245.33it/s]"
     ]
    },
    {
     "name": "stdout",
     "output_type": "stream",
     "text": [
      "Example target: [1. 0. 0.]\n",
      "Example prediction: [0.0601, 0.8814, 0.0585]\n",
      "Epoch 32 Training Loss: 3.1748 Training Accuracy: 0.3905 Val Loss: 3.0252 Val Accuracy: 0.2\n"
     ]
    },
    {
     "name": "stderr",
     "output_type": "stream",
     "text": [
      "\n",
      "100%|██████████| 3/3 [00:00<00:00, 253.31it/s]"
     ]
    },
    {
     "name": "stdout",
     "output_type": "stream",
     "text": [
      "Example target: [1. 0. 0.]\n",
      "Example prediction: [0.4753, 0.1032, 0.4215]\n",
      "Epoch 33 Training Loss: 2.1059 Training Accuracy: 0.381 Val Loss: 1.1976 Val Accuracy: 0.6\n"
     ]
    },
    {
     "name": "stderr",
     "output_type": "stream",
     "text": [
      "\n",
      "100%|██████████| 3/3 [00:00<00:00, 244.69it/s]"
     ]
    },
    {
     "name": "stdout",
     "output_type": "stream",
     "text": [
      "Example target: [0. 0. 1.]\n",
      "Example prediction: [0.2009, 0.7852, 0.0139]\n",
      "Epoch 34 Training Loss: 2.2352 Training Accuracy: 0.3524 Val Loss: 1.6886 Val Accuracy: 0.2\n"
     ]
    },
    {
     "name": "stderr",
     "output_type": "stream",
     "text": [
      "\n",
      "100%|██████████| 3/3 [00:00<00:00, 248.38it/s]"
     ]
    },
    {
     "name": "stdout",
     "output_type": "stream",
     "text": [
      "Example target: [0. 0. 1.]\n",
      "Example prediction: [0.3511, 0.033, 0.6159]\n",
      "Epoch 35 Training Loss: 1.9235 Training Accuracy: 0.4 Val Loss: 1.2073 Val Accuracy: 0.8\n"
     ]
    },
    {
     "name": "stderr",
     "output_type": "stream",
     "text": [
      "\n",
      "100%|██████████| 3/3 [00:00<00:00, 256.15it/s]"
     ]
    },
    {
     "name": "stdout",
     "output_type": "stream",
     "text": [
      "Example target: [1. 0. 0.]\n",
      "Example prediction: [0.0491, 0.6315, 0.3194]\n",
      "Epoch 36 Training Loss: 1.7066 Training Accuracy: 0.5524 Val Loss: 2.6401 Val Accuracy: 0.2\n"
     ]
    },
    {
     "name": "stderr",
     "output_type": "stream",
     "text": [
      "\n",
      "100%|██████████| 3/3 [00:00<00:00, 238.91it/s]"
     ]
    },
    {
     "name": "stdout",
     "output_type": "stream",
     "text": [
      "Example target: [1. 0. 0.]\n",
      "Example prediction: [0.0302, 0.5679, 0.402]\n",
      "Epoch 37 Training Loss: 2.2059 Training Accuracy: 0.2952 Val Loss: 2.5722 Val Accuracy: 0.2\n"
     ]
    },
    {
     "name": "stderr",
     "output_type": "stream",
     "text": [
      "\n",
      "100%|██████████| 3/3 [00:00<00:00, 251.78it/s]"
     ]
    },
    {
     "name": "stdout",
     "output_type": "stream",
     "text": [
      "Example target: [0. 0. 1.]\n",
      "Example prediction: [0.0378, 0.0543, 0.9078]\n",
      "Epoch 38 Training Loss: 1.9119 Training Accuracy: 0.4952 Val Loss: 1.5737 Val Accuracy: 0.2667\n"
     ]
    },
    {
     "name": "stderr",
     "output_type": "stream",
     "text": [
      "\n",
      "100%|██████████| 3/3 [00:00<00:00, 268.84it/s]"
     ]
    },
    {
     "name": "stdout",
     "output_type": "stream",
     "text": [
      "Example target: [1. 0. 0.]\n",
      "Example prediction: [0.0455, 0.4767, 0.4778]\n",
      "Epoch 39 Training Loss: 1.9998 Training Accuracy: 0.3524 Val Loss: 2.5613 Val Accuracy: 0.2667\n"
     ]
    },
    {
     "name": "stderr",
     "output_type": "stream",
     "text": [
      "\n",
      "100%|██████████| 3/3 [00:00<00:00, 276.04it/s]"
     ]
    },
    {
     "name": "stdout",
     "output_type": "stream",
     "text": [
      "Example target: [0. 1. 0.]\n",
      "Example prediction: [0.4518, 0.4469, 0.1013]\n",
      "Epoch 40 Training Loss: 1.9813 Training Accuracy: 0.2667 Val Loss: 1.23 Val Accuracy: 0.6\n"
     ]
    },
    {
     "name": "stderr",
     "output_type": "stream",
     "text": [
      "\n",
      "100%|██████████| 3/3 [00:00<00:00, 279.99it/s]"
     ]
    },
    {
     "name": "stdout",
     "output_type": "stream",
     "text": [
      "Example target: [1. 0. 0.]\n",
      "Example prediction: [0.0268, 0.0687, 0.9045]\n",
      "Epoch 41 Training Loss: 1.7262 Training Accuracy: 0.5619 Val Loss: 3.0313 Val Accuracy: 0.2667\n"
     ]
    },
    {
     "name": "stderr",
     "output_type": "stream",
     "text": [
      "\n",
      "100%|██████████| 3/3 [00:00<00:00, 248.42it/s]"
     ]
    },
    {
     "name": "stdout",
     "output_type": "stream",
     "text": [
      "Example target: [1. 0. 0.]\n",
      "Example prediction: [0.688, 0.2472, 0.0648]\n",
      "Epoch 42 Training Loss: 2.542 Training Accuracy: 0.2667 Val Loss: 1.2353 Val Accuracy: 0.5333\n"
     ]
    },
    {
     "name": "stderr",
     "output_type": "stream",
     "text": [
      "\n",
      "100%|██████████| 3/3 [00:00<00:00, 211.76it/s]"
     ]
    },
    {
     "name": "stdout",
     "output_type": "stream",
     "text": [
      "Example target: [1. 0. 0.]\n",
      "Example prediction: [0.0784, 0.7315, 0.19]\n",
      "Epoch 43 Training Loss: 1.6243 Training Accuracy: 0.3429 Val Loss: 2.5103 Val Accuracy: 0.2\n"
     ]
    },
    {
     "name": "stderr",
     "output_type": "stream",
     "text": [
      "\n",
      "100%|██████████| 3/3 [00:00<00:00, 175.01it/s]"
     ]
    },
    {
     "name": "stdout",
     "output_type": "stream",
     "text": [
      "Example target: [0. 1. 0.]\n",
      "Example prediction: [0.007, 0.3576, 0.6354]\n",
      "Epoch 44 Training Loss: 1.9554 Training Accuracy: 0.3905 Val Loss: 2.2741 Val Accuracy: 0.2667\n"
     ]
    },
    {
     "name": "stderr",
     "output_type": "stream",
     "text": [
      "\n",
      "100%|██████████| 3/3 [00:00<00:00, 153.02it/s]"
     ]
    },
    {
     "name": "stdout",
     "output_type": "stream",
     "text": [
      "Example target: [1. 0. 0.]\n",
      "Example prediction: [0.5194, 0.3779, 0.1028]\n",
      "Epoch 45 Training Loss: 2.066 Training Accuracy: 0.3905 Val Loss: 1.2513 Val Accuracy: 0.6667\n"
     ]
    },
    {
     "name": "stderr",
     "output_type": "stream",
     "text": [
      "\n",
      "100%|██████████| 3/3 [00:00<00:00, 231.25it/s]"
     ]
    },
    {
     "name": "stdout",
     "output_type": "stream",
     "text": [
      "Example target: [1. 0. 0.]\n",
      "Example prediction: [0.0407, 0.2875, 0.6718]\n",
      "Epoch 46 Training Loss: 1.6631 Training Accuracy: 0.4762 Val Loss: 2.4383 Val Accuracy: 0.2667\n"
     ]
    },
    {
     "name": "stderr",
     "output_type": "stream",
     "text": [
      "\n",
      "100%|██████████| 3/3 [00:00<00:00, 267.43it/s]"
     ]
    },
    {
     "name": "stdout",
     "output_type": "stream",
     "text": [
      "Example target: [0. 0. 1.]\n",
      "Example prediction: [0.0007, 0.0206, 0.9787]\n",
      "Epoch 47 Training Loss: 1.8488 Training Accuracy: 0.4476 Val Loss: 3.2399 Val Accuracy: 0.2667\n"
     ]
    },
    {
     "name": "stderr",
     "output_type": "stream",
     "text": [
      "\n",
      "100%|██████████| 3/3 [00:00<00:00, 228.50it/s]"
     ]
    },
    {
     "name": "stdout",
     "output_type": "stream",
     "text": [
      "Example target: [1. 0. 0.]\n",
      "Example prediction: [0.5202, 0.4235, 0.0563]\n",
      "Epoch 48 Training Loss: 2.636 Training Accuracy: 0.2857 Val Loss: 1.4853 Val Accuracy: 0.5333\n"
     ]
    },
    {
     "name": "stderr",
     "output_type": "stream",
     "text": [
      "\n",
      "100%|██████████| 3/3 [00:00<00:00, 206.10it/s]"
     ]
    },
    {
     "name": "stdout",
     "output_type": "stream",
     "text": [
      "Example target: [1. 0. 0.]\n",
      "Example prediction: [0.4604, 0.092, 0.4476]\n",
      "Epoch 49 Training Loss: 1.7756 Training Accuracy: 0.5048 Val Loss: 1.4092 Val Accuracy: 0.4\n"
     ]
    },
    {
     "name": "stderr",
     "output_type": "stream",
     "text": [
      "\n",
      "100%|██████████| 3/3 [00:00<00:00, 243.46it/s]"
     ]
    },
    {
     "name": "stdout",
     "output_type": "stream",
     "text": [
      "Example target: [0. 0. 1.]\n",
      "Example prediction: [0.0546, 0.9223, 0.0231]\n",
      "Epoch 50 Training Loss: 1.6187 Training Accuracy: 0.5238 Val Loss: 2.0845 Val Accuracy: 0.2\n"
     ]
    },
    {
     "name": "stderr",
     "output_type": "stream",
     "text": [
      "\n",
      "100%|██████████| 3/3 [00:00<00:00, 240.78it/s]"
     ]
    },
    {
     "name": "stdout",
     "output_type": "stream",
     "text": [
      "Example target: [0. 1. 0.]\n",
      "Example prediction: [0.1435, 0.8195, 0.0369]\n",
      "Epoch 51 Training Loss: 1.7506 Training Accuracy: 0.5048 Val Loss: 2.1011 Val Accuracy: 0.2\n"
     ]
    },
    {
     "name": "stderr",
     "output_type": "stream",
     "text": [
      "\n",
      "100%|██████████| 3/3 [00:00<00:00, 247.77it/s]"
     ]
    },
    {
     "name": "stdout",
     "output_type": "stream",
     "text": [
      "Example target: [0. 1. 0.]\n",
      "Example prediction: [0.2677, 0.03, 0.7023]\n",
      "Epoch 52 Training Loss: 1.9419 Training Accuracy: 0.381 Val Loss: 1.2753 Val Accuracy: 0.8\n"
     ]
    },
    {
     "name": "stderr",
     "output_type": "stream",
     "text": [
      "\n",
      "100%|██████████| 3/3 [00:00<00:00, 264.25it/s]"
     ]
    },
    {
     "name": "stdout",
     "output_type": "stream",
     "text": [
      "Example target: [0. 1. 0.]\n",
      "Example prediction: [0.0941, 0.8619, 0.044]\n",
      "Epoch 53 Training Loss: 1.85 Training Accuracy: 0.4762 Val Loss: 1.6897 Val Accuracy: 0.2\n"
     ]
    },
    {
     "name": "stderr",
     "output_type": "stream",
     "text": [
      "\n",
      "100%|██████████| 3/3 [00:00<00:00, 246.37it/s]"
     ]
    },
    {
     "name": "stdout",
     "output_type": "stream",
     "text": [
      "Example target: [0. 1. 0.]\n",
      "Example prediction: [0.4925, 0.07, 0.4374]\n",
      "Epoch 54 Training Loss: 1.6964 Training Accuracy: 0.4476 Val Loss: 1.2088 Val Accuracy: 0.8\n"
     ]
    },
    {
     "name": "stderr",
     "output_type": "stream",
     "text": [
      "\n",
      "100%|██████████| 3/3 [00:00<00:00, 240.21it/s]"
     ]
    },
    {
     "name": "stdout",
     "output_type": "stream",
     "text": [
      "Example target: [1. 0. 0.]\n",
      "Example prediction: [0.7808, 0.1714, 0.0478]\n",
      "Epoch 55 Training Loss: 1.7555 Training Accuracy: 0.4476 Val Loss: 1.2929 Val Accuracy: 0.5333\n"
     ]
    },
    {
     "name": "stderr",
     "output_type": "stream",
     "text": [
      "\n",
      "100%|██████████| 3/3 [00:00<00:00, 250.84it/s]"
     ]
    },
    {
     "name": "stdout",
     "output_type": "stream",
     "text": [
      "Example target: [1. 0. 0.]\n",
      "Example prediction: [0.6722, 0.1941, 0.1337]\n",
      "Epoch 56 Training Loss: 2.1186 Training Accuracy: 0.3048 Val Loss: 1.0517 Val Accuracy: 0.5333\n"
     ]
    },
    {
     "name": "stderr",
     "output_type": "stream",
     "text": [
      "\n",
      "100%|██████████| 3/3 [00:00<00:00, 245.14it/s]"
     ]
    },
    {
     "name": "stdout",
     "output_type": "stream",
     "text": [
      "Example target: [1. 0. 0.]\n",
      "Example prediction: [0.3962, 0.3699, 0.2339]\n",
      "Epoch 57 Training Loss: 2.2814 Training Accuracy: 0.2762 Val Loss: 1.2826 Val Accuracy: 0.5333\n"
     ]
    },
    {
     "name": "stderr",
     "output_type": "stream",
     "text": [
      "\n",
      "100%|██████████| 3/3 [00:00<00:00, 248.18it/s]"
     ]
    },
    {
     "name": "stdout",
     "output_type": "stream",
     "text": [
      "Example target: [0. 0. 1.]\n",
      "Example prediction: [0.2172, 0.6041, 0.1787]\n",
      "Epoch 58 Training Loss: 2.0239 Training Accuracy: 0.4095 Val Loss: 1.209 Val Accuracy: 0.6667\n"
     ]
    },
    {
     "name": "stderr",
     "output_type": "stream",
     "text": [
      "\n",
      "100%|██████████| 3/3 [00:00<00:00, 222.44it/s]"
     ]
    },
    {
     "name": "stdout",
     "output_type": "stream",
     "text": [
      "Example target: [1. 0. 0.]\n",
      "Example prediction: [0.4692, 0.0712, 0.4596]\n",
      "Epoch 59 Training Loss: 1.6468 Training Accuracy: 0.4667 Val Loss: 1.5189 Val Accuracy: 0.6\n"
     ]
    },
    {
     "name": "stderr",
     "output_type": "stream",
     "text": [
      "\n",
      "100%|██████████| 3/3 [00:00<00:00, 181.48it/s]"
     ]
    },
    {
     "name": "stdout",
     "output_type": "stream",
     "text": [
      "Example target: [1. 0. 0.]\n",
      "Example prediction: [0.3984, 0.4992, 0.1024]\n",
      "Epoch 60 Training Loss: 1.8015 Training Accuracy: 0.4571 Val Loss: 1.5174 Val Accuracy: 0.2\n"
     ]
    },
    {
     "name": "stderr",
     "output_type": "stream",
     "text": [
      "\n",
      "100%|██████████| 3/3 [00:00<00:00, 216.73it/s]"
     ]
    },
    {
     "name": "stdout",
     "output_type": "stream",
     "text": [
      "Example target: [0. 1. 0.]\n",
      "Example prediction: [0.1163, 0.0364, 0.8473]\n",
      "Epoch 61 Training Loss: 1.6071 Training Accuracy: 0.5143 Val Loss: 1.4197 Val Accuracy: 0.6\n"
     ]
    },
    {
     "name": "stderr",
     "output_type": "stream",
     "text": [
      "\n",
      "100%|██████████| 3/3 [00:00<00:00, 205.14it/s]"
     ]
    },
    {
     "name": "stdout",
     "output_type": "stream",
     "text": [
      "Example target: [1. 0. 0.]\n",
      "Example prediction: [0.4384, 0.4726, 0.089]\n",
      "Epoch 62 Training Loss: 1.6358 Training Accuracy: 0.6 Val Loss: 1.3193 Val Accuracy: 0.6667\n"
     ]
    },
    {
     "name": "stderr",
     "output_type": "stream",
     "text": [
      "\n",
      "100%|██████████| 3/3 [00:00<00:00, 186.96it/s]"
     ]
    },
    {
     "name": "stdout",
     "output_type": "stream",
     "text": [
      "Example target: [0. 0. 1.]\n",
      "Example prediction: [0.0211, 0.0869, 0.892]\n",
      "Epoch 63 Training Loss: 1.4195 Training Accuracy: 0.6571 Val Loss: 1.718 Val Accuracy: 0.2667\n"
     ]
    },
    {
     "name": "stderr",
     "output_type": "stream",
     "text": [
      "\n",
      "100%|██████████| 3/3 [00:00<00:00, 221.14it/s]"
     ]
    },
    {
     "name": "stdout",
     "output_type": "stream",
     "text": [
      "Example target: [1. 0. 0.]\n",
      "Example prediction: [0.3876, 0.5418, 0.0705]\n",
      "Epoch 64 Training Loss: 1.642 Training Accuracy: 0.4952 Val Loss: 1.5371 Val Accuracy: 0.4\n"
     ]
    },
    {
     "name": "stderr",
     "output_type": "stream",
     "text": [
      "\n",
      "100%|██████████| 3/3 [00:00<00:00, 218.15it/s]"
     ]
    },
    {
     "name": "stdout",
     "output_type": "stream",
     "text": [
      "Example target: [1. 0. 0.]\n",
      "Example prediction: [0.4867, 0.1362, 0.3771]\n",
      "Epoch 65 Training Loss: 1.5914 Training Accuracy: 0.5333 Val Loss: 1.3594 Val Accuracy: 0.6\n"
     ]
    },
    {
     "name": "stderr",
     "output_type": "stream",
     "text": [
      "\n",
      "100%|██████████| 3/3 [00:00<00:00, 247.34it/s]"
     ]
    },
    {
     "name": "stdout",
     "output_type": "stream",
     "text": [
      "Example target: [0. 0. 1.]\n",
      "Example prediction: [0.1054, 0.8265, 0.0681]\n",
      "Epoch 66 Training Loss: 1.4909 Training Accuracy: 0.6667 Val Loss: 1.5259 Val Accuracy: 0.4\n"
     ]
    },
    {
     "name": "stderr",
     "output_type": "stream",
     "text": [
      "\n",
      "100%|██████████| 3/3 [00:00<00:00, 213.61it/s]"
     ]
    },
    {
     "name": "stdout",
     "output_type": "stream",
     "text": [
      "Example target: [0. 1. 0.]\n",
      "Example prediction: [0.0585, 0.0497, 0.8919]\n",
      "Epoch 67 Training Loss: 1.5652 Training Accuracy: 0.5048 Val Loss: 1.5521 Val Accuracy: 0.4\n"
     ]
    },
    {
     "name": "stderr",
     "output_type": "stream",
     "text": [
      "\n",
      "100%|██████████| 3/3 [00:00<00:00, 255.65it/s]"
     ]
    },
    {
     "name": "stdout",
     "output_type": "stream",
     "text": [
      "Example target: [1. 0. 0.]\n",
      "Example prediction: [0.4195, 0.478, 0.1025]\n",
      "Epoch 68 Training Loss: 1.7212 Training Accuracy: 0.5714 Val Loss: 1.3973 Val Accuracy: 0.5333\n"
     ]
    },
    {
     "name": "stderr",
     "output_type": "stream",
     "text": [
      "\n",
      "100%|██████████| 3/3 [00:00<00:00, 158.10it/s]"
     ]
    },
    {
     "name": "stdout",
     "output_type": "stream",
     "text": [
      "Example target: [1. 0. 0.]\n",
      "Example prediction: [0.4707, 0.1242, 0.405]\n",
      "Epoch 69 Training Loss: 1.6388 Training Accuracy: 0.5524 Val Loss: 1.4676 Val Accuracy: 0.6\n"
     ]
    },
    {
     "name": "stderr",
     "output_type": "stream",
     "text": [
      "\n",
      "100%|██████████| 3/3 [00:00<00:00, 262.93it/s]"
     ]
    },
    {
     "name": "stdout",
     "output_type": "stream",
     "text": [
      "Example target: [0. 1. 0.]\n",
      "Example prediction: [0.031, 0.9113, 0.0577]\n",
      "Epoch 70 Training Loss: 1.523 Training Accuracy: 0.6 Val Loss: 1.9581 Val Accuracy: 0.2\n"
     ]
    },
    {
     "name": "stderr",
     "output_type": "stream",
     "text": [
      "\n",
      "100%|██████████| 3/3 [00:00<00:00, 270.96it/s]"
     ]
    },
    {
     "name": "stdout",
     "output_type": "stream",
     "text": [
      "Example target: [1. 0. 0.]\n",
      "Example prediction: [0.5645, 0.1727, 0.2628]\n",
      "Epoch 71 Training Loss: 1.7135 Training Accuracy: 0.4857 Val Loss: 1.2763 Val Accuracy: 0.7333\n"
     ]
    },
    {
     "name": "stderr",
     "output_type": "stream",
     "text": [
      "\n",
      "100%|██████████| 3/3 [00:00<00:00, 256.72it/s]"
     ]
    },
    {
     "name": "stdout",
     "output_type": "stream",
     "text": [
      "Example target: [0. 0. 1.]\n",
      "Example prediction: [0.0501, 0.8931, 0.0569]\n",
      "Epoch 72 Training Loss: 1.6685 Training Accuracy: 0.5429 Val Loss: 1.7193 Val Accuracy: 0.2\n"
     ]
    },
    {
     "name": "stderr",
     "output_type": "stream",
     "text": [
      "\n",
      "100%|██████████| 3/3 [00:00<00:00, 253.44it/s]"
     ]
    },
    {
     "name": "stdout",
     "output_type": "stream",
     "text": [
      "Example target: [1. 0. 0.]\n",
      "Example prediction: [0.6147, 0.1344, 0.2509]\n",
      "Epoch 73 Training Loss: 1.6706 Training Accuracy: 0.5143 Val Loss: 1.1991 Val Accuracy: 0.8\n"
     ]
    },
    {
     "name": "stderr",
     "output_type": "stream",
     "text": [
      "\n",
      "100%|██████████| 3/3 [00:00<00:00, 236.22it/s]"
     ]
    },
    {
     "name": "stdout",
     "output_type": "stream",
     "text": [
      "Example target: [0. 0. 1.]\n",
      "Example prediction: [0.0372, 0.884, 0.0787]\n",
      "Epoch 74 Training Loss: 1.6169 Training Accuracy: 0.5524 Val Loss: 1.7154 Val Accuracy: 0.2\n"
     ]
    },
    {
     "name": "stderr",
     "output_type": "stream",
     "text": [
      "\n",
      "100%|██████████| 3/3 [00:00<00:00, 197.39it/s]"
     ]
    },
    {
     "name": "stdout",
     "output_type": "stream",
     "text": [
      "Example target: [1. 0. 0.]\n",
      "Example prediction: [0.5286, 0.1641, 0.3073]\n",
      "Epoch 75 Training Loss: 1.5154 Training Accuracy: 0.5714 Val Loss: 1.3813 Val Accuracy: 0.6667\n"
     ]
    },
    {
     "name": "stderr",
     "output_type": "stream",
     "text": [
      "\n",
      "100%|██████████| 3/3 [00:00<00:00, 252.67it/s]"
     ]
    },
    {
     "name": "stdout",
     "output_type": "stream",
     "text": [
      "Example target: [1. 0. 0.]\n",
      "Example prediction: [0.3842, 0.4918, 0.1241]\n",
      "Epoch 76 Training Loss: 1.5831 Training Accuracy: 0.6 Val Loss: 1.7958 Val Accuracy: 0.2\n"
     ]
    },
    {
     "name": "stderr",
     "output_type": "stream",
     "text": [
      "\n",
      "100%|██████████| 3/3 [00:00<00:00, 262.65it/s]"
     ]
    },
    {
     "name": "stdout",
     "output_type": "stream",
     "text": [
      "Example target: [1. 0. 0.]\n",
      "Example prediction: [0.61, 0.0972, 0.2929]\n",
      "Epoch 77 Training Loss: 1.7154 Training Accuracy: 0.4571 Val Loss: 1.3711 Val Accuracy: 0.7333\n"
     ]
    },
    {
     "name": "stderr",
     "output_type": "stream",
     "text": [
      "\n",
      "100%|██████████| 3/3 [00:00<00:00, 250.10it/s]"
     ]
    },
    {
     "name": "stdout",
     "output_type": "stream",
     "text": [
      "Example target: [0. 0. 1.]\n",
      "Example prediction: [0.0585, 0.7764, 0.1651]\n",
      "Epoch 78 Training Loss: 1.6612 Training Accuracy: 0.6381 Val Loss: 1.3463 Val Accuracy: 0.6667\n"
     ]
    },
    {
     "name": "stderr",
     "output_type": "stream",
     "text": [
      "\n",
      "100%|██████████| 3/3 [00:00<00:00, 163.18it/s]"
     ]
    },
    {
     "name": "stdout",
     "output_type": "stream",
     "text": [
      "Example target: [0. 0. 1.]\n",
      "Example prediction: [0.0398, 0.0603, 0.8999]\n",
      "Epoch 79 Training Loss: 1.4644 Training Accuracy: 0.6857 Val Loss: 1.5186 Val Accuracy: 0.6667\n"
     ]
    },
    {
     "name": "stderr",
     "output_type": "stream",
     "text": [
      "\n",
      "100%|██████████| 3/3 [00:00<00:00, 234.47it/s]"
     ]
    },
    {
     "name": "stdout",
     "output_type": "stream",
     "text": [
      "Example target: [1. 0. 0.]\n",
      "Example prediction: [0.6307, 0.2801, 0.0892]\n",
      "Epoch 80 Training Loss: 1.6829 Training Accuracy: 0.6095 Val Loss: 1.3285 Val Accuracy: 0.7333\n"
     ]
    },
    {
     "name": "stderr",
     "output_type": "stream",
     "text": [
      "\n",
      "100%|██████████| 3/3 [00:00<00:00, 201.86it/s]"
     ]
    },
    {
     "name": "stdout",
     "output_type": "stream",
     "text": [
      "Example target: [0. 0. 1.]\n",
      "Example prediction: [0.0888, 0.078, 0.8332]\n",
      "Epoch 81 Training Loss: 1.6425 Training Accuracy: 0.581 Val Loss: 1.4315 Val Accuracy: 0.7333\n"
     ]
    },
    {
     "name": "stderr",
     "output_type": "stream",
     "text": [
      "\n",
      "100%|██████████| 3/3 [00:00<00:00, 167.67it/s]"
     ]
    },
    {
     "name": "stdout",
     "output_type": "stream",
     "text": [
      "Example target: [0. 1. 0.]\n",
      "Example prediction: [0.051, 0.8127, 0.1363]\n",
      "Epoch 82 Training Loss: 1.6107 Training Accuracy: 0.6095 Val Loss: 1.624 Val Accuracy: 0.4667\n"
     ]
    },
    {
     "name": "stderr",
     "output_type": "stream",
     "text": [
      "\n",
      "100%|██████████| 3/3 [00:00<00:00, 233.99it/s]"
     ]
    },
    {
     "name": "stdout",
     "output_type": "stream",
     "text": [
      "Example target: [0. 1. 0.]\n",
      "Example prediction: [0.1309, 0.116, 0.7531]\n",
      "Epoch 83 Training Loss: 1.658 Training Accuracy: 0.5619 Val Loss: 1.2934 Val Accuracy: 0.8\n"
     ]
    },
    {
     "name": "stderr",
     "output_type": "stream",
     "text": [
      "\n",
      "100%|██████████| 3/3 [00:00<00:00, 229.08it/s]"
     ]
    },
    {
     "name": "stdout",
     "output_type": "stream",
     "text": [
      "Example target: [0. 0. 1.]\n",
      "Example prediction: [0.019, 0.8853, 0.0957]\n",
      "Epoch 84 Training Loss: 1.4584 Training Accuracy: 0.7048 Val Loss: 1.6019 Val Accuracy: 0.5333\n"
     ]
    },
    {
     "name": "stderr",
     "output_type": "stream",
     "text": [
      "\n",
      "100%|██████████| 3/3 [00:00<00:00, 161.12it/s]"
     ]
    },
    {
     "name": "stdout",
     "output_type": "stream",
     "text": [
      "Example target: [0. 0. 1.]\n",
      "Example prediction: [0.0905, 0.1464, 0.7631]\n",
      "Epoch 85 Training Loss: 1.5867 Training Accuracy: 0.619 Val Loss: 1.368 Val Accuracy: 0.8\n"
     ]
    },
    {
     "name": "stderr",
     "output_type": "stream",
     "text": [
      "\n",
      "100%|██████████| 3/3 [00:00<00:00, 150.23it/s]"
     ]
    },
    {
     "name": "stdout",
     "output_type": "stream",
     "text": [
      "Example target: [1. 0. 0.]\n",
      "Example prediction: [0.6346, 0.2923, 0.0731]\n",
      "Epoch 86 Training Loss: 1.55 Training Accuracy: 0.6667 Val Loss: 1.4329 Val Accuracy: 0.7333\n"
     ]
    },
    {
     "name": "stderr",
     "output_type": "stream",
     "text": [
      "\n",
      "100%|██████████| 3/3 [00:00<00:00, 149.00it/s]"
     ]
    },
    {
     "name": "stdout",
     "output_type": "stream",
     "text": [
      "Example target: [1. 0. 0.]\n",
      "Example prediction: [0.7437, 0.1103, 0.1461]\n",
      "Epoch 87 Training Loss: 1.5697 Training Accuracy: 0.6286 Val Loss: 1.2135 Val Accuracy: 0.8\n"
     ]
    },
    {
     "name": "stderr",
     "output_type": "stream",
     "text": [
      "\n",
      "100%|██████████| 3/3 [00:00<00:00, 184.81it/s]"
     ]
    },
    {
     "name": "stdout",
     "output_type": "stream",
     "text": [
      "Example target: [1. 0. 0.]\n",
      "Example prediction: [0.6074, 0.3044, 0.0881]\n",
      "Epoch 88 Training Loss: 1.53 Training Accuracy: 0.6667 Val Loss: 1.4254 Val Accuracy: 0.7333\n"
     ]
    },
    {
     "name": "stderr",
     "output_type": "stream",
     "text": [
      "\n",
      "100%|██████████| 3/3 [00:00<00:00, 264.57it/s]"
     ]
    },
    {
     "name": "stdout",
     "output_type": "stream",
     "text": [
      "Example target: [0. 1. 0.]\n",
      "Example prediction: [0.3917, 0.1531, 0.4552]\n",
      "Epoch 89 Training Loss: 1.5977 Training Accuracy: 0.619 Val Loss: 1.3034 Val Accuracy: 0.8\n"
     ]
    },
    {
     "name": "stderr",
     "output_type": "stream",
     "text": [
      "\n",
      "100%|██████████| 3/3 [00:00<00:00, 165.76it/s]"
     ]
    },
    {
     "name": "stdout",
     "output_type": "stream",
     "text": [
      "Example target: [0. 1. 0.]\n",
      "Example prediction: [0.3191, 0.5422, 0.1386]\n",
      "Epoch 90 Training Loss: 1.6477 Training Accuracy: 0.6095 Val Loss: 1.4369 Val Accuracy: 0.7333\n"
     ]
    },
    {
     "name": "stderr",
     "output_type": "stream",
     "text": [
      "\n",
      "100%|██████████| 3/3 [00:00<00:00, 169.64it/s]"
     ]
    },
    {
     "name": "stdout",
     "output_type": "stream",
     "text": [
      "Example target: [1. 0. 0.]\n",
      "Example prediction: [0.6734, 0.1262, 0.2004]\n",
      "Epoch 91 Training Loss: 1.558 Training Accuracy: 0.6667 Val Loss: 1.3479 Val Accuracy: 0.8\n"
     ]
    },
    {
     "name": "stderr",
     "output_type": "stream",
     "text": [
      "\n",
      "100%|██████████| 3/3 [00:00<00:00, 157.94it/s]"
     ]
    },
    {
     "name": "stdout",
     "output_type": "stream",
     "text": [
      "Example target: [1. 0. 0.]\n",
      "Example prediction: [0.6367, 0.2753, 0.088]\n",
      "Epoch 92 Training Loss: 1.63 Training Accuracy: 0.6476 Val Loss: 1.3959 Val Accuracy: 0.7333\n"
     ]
    },
    {
     "name": "stderr",
     "output_type": "stream",
     "text": [
      "\n",
      "100%|██████████| 3/3 [00:00<00:00, 243.61it/s]"
     ]
    },
    {
     "name": "stdout",
     "output_type": "stream",
     "text": [
      "Example target: [0. 1. 0.]\n",
      "Example prediction: [0.1653, 0.1384, 0.6963]\n",
      "Epoch 93 Training Loss: 1.4647 Training Accuracy: 0.7238 Val Loss: 1.2819 Val Accuracy: 0.8\n"
     ]
    },
    {
     "name": "stderr",
     "output_type": "stream",
     "text": [
      "\n",
      "100%|██████████| 3/3 [00:00<00:00, 173.39it/s]"
     ]
    },
    {
     "name": "stdout",
     "output_type": "stream",
     "text": [
      "Example target: [1. 0. 0.]\n",
      "Example prediction: [0.6055, 0.2992, 0.0953]\n",
      "Epoch 94 Training Loss: 1.5634 Training Accuracy: 0.6476 Val Loss: 1.528 Val Accuracy: 0.6667\n"
     ]
    },
    {
     "name": "stderr",
     "output_type": "stream",
     "text": [
      "\n",
      "100%|██████████| 3/3 [00:00<00:00, 193.19it/s]"
     ]
    },
    {
     "name": "stdout",
     "output_type": "stream",
     "text": [
      "Example target: [1. 0. 0.]\n",
      "Example prediction: [0.7129, 0.1209, 0.1662]\n",
      "Epoch 95 Training Loss: 1.6583 Training Accuracy: 0.6286 Val Loss: 1.367 Val Accuracy: 0.8\n"
     ]
    },
    {
     "name": "stderr",
     "output_type": "stream",
     "text": [
      "\n",
      "100%|██████████| 3/3 [00:00<00:00, 166.42it/s]"
     ]
    },
    {
     "name": "stdout",
     "output_type": "stream",
     "text": [
      "Example target: [0. 0. 1.]\n",
      "Example prediction: [0.0761, 0.7448, 0.1792]\n",
      "Epoch 96 Training Loss: 1.6052 Training Accuracy: 0.6476 Val Loss: 1.4954 Val Accuracy: 0.7333\n"
     ]
    },
    {
     "name": "stderr",
     "output_type": "stream",
     "text": [
      "\n",
      "100%|██████████| 3/3 [00:00<00:00, 170.28it/s]"
     ]
    },
    {
     "name": "stdout",
     "output_type": "stream",
     "text": [
      "Example target: [0. 1. 0.]\n",
      "Example prediction: [0.0907, 0.1627, 0.7465]\n",
      "Epoch 97 Training Loss: 1.6591 Training Accuracy: 0.6381 Val Loss: 1.3928 Val Accuracy: 0.8\n"
     ]
    },
    {
     "name": "stderr",
     "output_type": "stream",
     "text": [
      "\n",
      "100%|██████████| 3/3 [00:00<00:00, 256.94it/s]"
     ]
    },
    {
     "name": "stdout",
     "output_type": "stream",
     "text": [
      "Example target: [0. 1. 0.]\n",
      "Example prediction: [0.0615, 0.745, 0.1934]\n",
      "Epoch 98 Training Loss: 1.5833 Training Accuracy: 0.6762 Val Loss: 1.5428 Val Accuracy: 0.7333\n"
     ]
    },
    {
     "name": "stderr",
     "output_type": "stream",
     "text": [
      "\n",
      "100%|██████████| 3/3 [00:00<00:00, 158.41it/s]"
     ]
    },
    {
     "name": "stdout",
     "output_type": "stream",
     "text": [
      "Example target: [1. 0. 0.]\n",
      "Example prediction: [0.7423, 0.1163, 0.1414]\n",
      "Epoch 99 Training Loss: 1.564 Training Accuracy: 0.7143 Val Loss: 1.4312 Val Accuracy: 0.8\n"
     ]
    },
    {
     "name": "stderr",
     "output_type": "stream",
     "text": [
      "\n",
      "100%|██████████| 3/3 [00:00<00:00, 154.07it/s]"
     ]
    },
    {
     "name": "stdout",
     "output_type": "stream",
     "text": [
      "Example target: [0. 1. 0.]\n",
      "Example prediction: [0.3113, 0.5282, 0.1605]\n",
      "Epoch 100 Training Loss: 1.639 Training Accuracy: 0.6571 Val Loss: 1.4796 Val Accuracy: 0.7333\n"
     ]
    },
    {
     "name": "stderr",
     "output_type": "stream",
     "text": [
      "\n",
      "100%|██████████| 3/3 [00:00<00:00, 182.12it/s]"
     ]
    },
    {
     "name": "stdout",
     "output_type": "stream",
     "text": [
      "Example target: [0. 1. 0.]\n",
      "Example prediction: [0.0901, 0.1723, 0.7376]\n",
      "Epoch 101 Training Loss: 1.5674 Training Accuracy: 0.6667 Val Loss: 1.4184 Val Accuracy: 0.8\n"
     ]
    },
    {
     "name": "stderr",
     "output_type": "stream",
     "text": [
      "\n",
      "100%|██████████| 3/3 [00:00<00:00, 221.70it/s]"
     ]
    },
    {
     "name": "stdout",
     "output_type": "stream",
     "text": [
      "Example target: [1. 0. 0.]\n",
      "Example prediction: [0.6726, 0.2396, 0.0879]\n",
      "Epoch 102 Training Loss: 1.6829 Training Accuracy: 0.619 Val Loss: 1.5396 Val Accuracy: 0.7333\n"
     ]
    },
    {
     "name": "stderr",
     "output_type": "stream",
     "text": [
      "\n",
      "100%|██████████| 3/3 [00:00<00:00, 137.76it/s]"
     ]
    },
    {
     "name": "stdout",
     "output_type": "stream",
     "text": [
      "Example target: [1. 0. 0.]\n",
      "Example prediction: [0.6435, 0.1542, 0.2022]\n",
      "Epoch 103 Training Loss: 1.6253 Training Accuracy: 0.6857 Val Loss: 1.5071 Val Accuracy: 0.8\n"
     ]
    },
    {
     "name": "stderr",
     "output_type": "stream",
     "text": [
      "\n",
      "100%|██████████| 3/3 [00:00<00:00, 146.91it/s]"
     ]
    },
    {
     "name": "stdout",
     "output_type": "stream",
     "text": [
      "Example target: [0. 0. 1.]\n",
      "Example prediction: [0.0357, 0.7578, 0.2066]\n",
      "Epoch 104 Training Loss: 1.6756 Training Accuracy: 0.6571 Val Loss: 1.5382 Val Accuracy: 0.7333\n"
     ]
    },
    {
     "name": "stderr",
     "output_type": "stream",
     "text": [
      "\n",
      "100%|██████████| 3/3 [00:00<00:00, 231.52it/s]"
     ]
    },
    {
     "name": "stdout",
     "output_type": "stream",
     "text": [
      "Example target: [0. 0. 1.]\n",
      "Example prediction: [0.0574, 0.1931, 0.7496]\n",
      "Epoch 105 Training Loss: 1.6998 Training Accuracy: 0.6381 Val Loss: 1.4974 Val Accuracy: 0.8\n"
     ]
    },
    {
     "name": "stderr",
     "output_type": "stream",
     "text": [
      "\n",
      "100%|██████████| 3/3 [00:00<00:00, 258.47it/s]"
     ]
    },
    {
     "name": "stdout",
     "output_type": "stream",
     "text": [
      "Example target: [0. 0. 1.]\n",
      "Example prediction: [0.0274, 0.7499, 0.2227]\n",
      "Epoch 106 Training Loss: 1.6531 Training Accuracy: 0.6571 Val Loss: 1.5899 Val Accuracy: 0.7333\n"
     ]
    },
    {
     "name": "stderr",
     "output_type": "stream",
     "text": [
      "\n",
      "100%|██████████| 3/3 [00:00<00:00, 157.85it/s]"
     ]
    },
    {
     "name": "stdout",
     "output_type": "stream",
     "text": [
      "Example target: [1. 0. 0.]\n",
      "Example prediction: [0.7872, 0.1079, 0.1049]\n",
      "Epoch 107 Training Loss: 1.6906 Training Accuracy: 0.6762 Val Loss: 1.5631 Val Accuracy: 0.8\n"
     ]
    },
    {
     "name": "stderr",
     "output_type": "stream",
     "text": [
      "\n",
      "100%|██████████| 3/3 [00:00<00:00, 152.83it/s]"
     ]
    },
    {
     "name": "stdout",
     "output_type": "stream",
     "text": [
      "Example target: [1. 0. 0.]\n",
      "Example prediction: [0.7778, 0.1606, 0.0616]\n",
      "Epoch 108 Training Loss: 1.7011 Training Accuracy: 0.6857 Val Loss: 1.5973 Val Accuracy: 0.7333\n"
     ]
    },
    {
     "name": "stderr",
     "output_type": "stream",
     "text": [
      "\n",
      "100%|██████████| 3/3 [00:00<00:00, 179.00it/s]"
     ]
    },
    {
     "name": "stdout",
     "output_type": "stream",
     "text": [
      "Example target: [0. 1. 0.]\n",
      "Example prediction: [0.0453, 0.2269, 0.7279]\n",
      "Epoch 109 Training Loss: 1.652 Training Accuracy: 0.7143 Val Loss: 1.6086 Val Accuracy: 0.8\n"
     ]
    },
    {
     "name": "stderr",
     "output_type": "stream",
     "text": [
      "\n",
      "100%|██████████| 3/3 [00:00<00:00, 187.54it/s]"
     ]
    },
    {
     "name": "stdout",
     "output_type": "stream",
     "text": [
      "Example target: [1. 0. 0.]\n",
      "Example prediction: [0.8056, 0.1397, 0.0547]\n",
      "Epoch 110 Training Loss: 1.8376 Training Accuracy: 0.619 Val Loss: 1.6468 Val Accuracy: 0.7333\n"
     ]
    },
    {
     "name": "stderr",
     "output_type": "stream",
     "text": [
      "\n",
      "100%|██████████| 3/3 [00:00<00:00, 164.19it/s]"
     ]
    },
    {
     "name": "stdout",
     "output_type": "stream",
     "text": [
      "Example target: [0. 1. 0.]\n",
      "Example prediction: [0.284, 0.2622, 0.4538]\n",
      "Epoch 111 Training Loss: 1.8109 Training Accuracy: 0.6286 Val Loss: 1.6027 Val Accuracy: 0.8\n"
     ]
    },
    {
     "name": "stderr",
     "output_type": "stream",
     "text": [
      "\n",
      "100%|██████████| 3/3 [00:00<00:00, 175.39it/s]"
     ]
    },
    {
     "name": "stdout",
     "output_type": "stream",
     "text": [
      "Example target: [0. 0. 1.]\n",
      "Example prediction: [0.0338, 0.7292, 0.237]\n",
      "Epoch 112 Training Loss: 1.7989 Training Accuracy: 0.6667 Val Loss: 1.6981 Val Accuracy: 0.7333\n"
     ]
    },
    {
     "name": "stderr",
     "output_type": "stream",
     "text": [
      "\n",
      "100%|██████████| 3/3 [00:00<00:00, 162.00it/s]"
     ]
    },
    {
     "name": "stdout",
     "output_type": "stream",
     "text": [
      "Example target: [0. 0. 1.]\n",
      "Example prediction: [0.0162, 0.2104, 0.7734]\n",
      "Epoch 113 Training Loss: 1.7569 Training Accuracy: 0.6857 Val Loss: 1.6503 Val Accuracy: 0.8\n"
     ]
    },
    {
     "name": "stderr",
     "output_type": "stream",
     "text": [
      "\n",
      "100%|██████████| 3/3 [00:00<00:00, 169.21it/s]"
     ]
    },
    {
     "name": "stdout",
     "output_type": "stream",
     "text": [
      "Example target: [1. 0. 0.]\n",
      "Example prediction: [0.8347, 0.1174, 0.0479]\n",
      "Epoch 114 Training Loss: 1.8461 Training Accuracy: 0.6476 Val Loss: 1.7288 Val Accuracy: 0.7333\n"
     ]
    },
    {
     "name": "stderr",
     "output_type": "stream",
     "text": [
      "\n",
      "100%|██████████| 3/3 [00:00<00:00, 172.09it/s]"
     ]
    },
    {
     "name": "stdout",
     "output_type": "stream",
     "text": [
      "Example target: [1. 0. 0.]\n",
      "Example prediction: [0.6797, 0.1599, 0.1605]\n",
      "Epoch 115 Training Loss: 1.9536 Training Accuracy: 0.5619 Val Loss: 1.7191 Val Accuracy: 0.8\n"
     ]
    },
    {
     "name": "stderr",
     "output_type": "stream",
     "text": [
      "\n",
      "100%|██████████| 3/3 [00:00<00:00, 159.99it/s]"
     ]
    },
    {
     "name": "stdout",
     "output_type": "stream",
     "text": [
      "Example target: [0. 0. 1.]\n",
      "Example prediction: [0.0115, 0.7322, 0.2563]\n",
      "Epoch 116 Training Loss: 1.9783 Training Accuracy: 0.6 Val Loss: 1.7952 Val Accuracy: 0.7333\n"
     ]
    },
    {
     "name": "stderr",
     "output_type": "stream",
     "text": [
      "\n",
      "100%|██████████| 3/3 [00:00<00:00, 286.67it/s]"
     ]
    },
    {
     "name": "stdout",
     "output_type": "stream",
     "text": [
      "Example target: [1. 0. 0.]\n",
      "Example prediction: [0.8839, 0.0672, 0.0489]\n",
      "Epoch 117 Training Loss: 1.9221 Training Accuracy: 0.6476 Val Loss: 1.7737 Val Accuracy: 0.8\n"
     ]
    },
    {
     "name": "stderr",
     "output_type": "stream",
     "text": [
      "\n",
      "100%|██████████| 3/3 [00:00<00:00, 197.07it/s]"
     ]
    },
    {
     "name": "stdout",
     "output_type": "stream",
     "text": [
      "Example target: [1. 0. 0.]\n",
      "Example prediction: [0.7149, 0.2006, 0.0845]\n",
      "Epoch 118 Training Loss: 1.9853 Training Accuracy: 0.6381 Val Loss: 1.8442 Val Accuracy: 0.7333\n"
     ]
    },
    {
     "name": "stderr",
     "output_type": "stream",
     "text": [
      "\n",
      "100%|██████████| 3/3 [00:00<00:00, 183.49it/s]"
     ]
    },
    {
     "name": "stdout",
     "output_type": "stream",
     "text": [
      "Example target: [0. 0. 1.]\n",
      "Example prediction: [0.0014, 0.1814, 0.8172]\n",
      "Epoch 119 Training Loss: 1.9767 Training Accuracy: 0.6476 Val Loss: 1.857 Val Accuracy: 0.8\n"
     ]
    },
    {
     "name": "stderr",
     "output_type": "stream",
     "text": [
      "\n",
      "100%|██████████| 3/3 [00:00<00:00, 163.67it/s]"
     ]
    },
    {
     "name": "stdout",
     "output_type": "stream",
     "text": [
      "Example target: [1. 0. 0.]\n",
      "Example prediction: [0.8953, 0.0727, 0.032]\n",
      "Epoch 120 Training Loss: 2.0695 Training Accuracy: 0.619 Val Loss: 1.9275 Val Accuracy: 0.7333\n"
     ]
    },
    {
     "name": "stderr",
     "output_type": "stream",
     "text": [
      "\n",
      "100%|██████████| 3/3 [00:00<00:00, 187.16it/s]"
     ]
    },
    {
     "name": "stdout",
     "output_type": "stream",
     "text": [
      "Example target: [1. 0. 0.]\n",
      "Example prediction: [0.9113, 0.0535, 0.0352]\n",
      "Epoch 121 Training Loss: 2.0964 Training Accuracy: 0.6 Val Loss: 1.9076 Val Accuracy: 0.8\n"
     ]
    },
    {
     "name": "stderr",
     "output_type": "stream",
     "text": [
      "\n",
      "100%|██████████| 3/3 [00:00<00:00, 253.68it/s]"
     ]
    },
    {
     "name": "stdout",
     "output_type": "stream",
     "text": [
      "Example target: [1. 0. 0.]\n",
      "Example prediction: [0.7728, 0.1573, 0.0699]\n",
      "Epoch 122 Training Loss: 2.0705 Training Accuracy: 0.6476 Val Loss: 2.0015 Val Accuracy: 0.7333\n"
     ]
    },
    {
     "name": "stderr",
     "output_type": "stream",
     "text": [
      "\n",
      "100%|██████████| 3/3 [00:00<00:00, 169.88it/s]"
     ]
    },
    {
     "name": "stdout",
     "output_type": "stream",
     "text": [
      "Example target: [1. 0. 0.]\n",
      "Example prediction: [0.9106, 0.0542, 0.0352]\n",
      "Epoch 123 Training Loss: 2.1234 Training Accuracy: 0.6286 Val Loss: 2.0166 Val Accuracy: 0.8\n"
     ]
    },
    {
     "name": "stderr",
     "output_type": "stream",
     "text": [
      "\n",
      "100%|██████████| 3/3 [00:00<00:00, 183.24it/s]"
     ]
    },
    {
     "name": "stdout",
     "output_type": "stream",
     "text": [
      "Example target: [1. 0. 0.]\n",
      "Example prediction: [0.9265, 0.0505, 0.023]\n",
      "Epoch 124 Training Loss: 2.1869 Training Accuracy: 0.6476 Val Loss: 2.0946 Val Accuracy: 0.7333\n"
     ]
    },
    {
     "name": "stderr",
     "output_type": "stream",
     "text": [
      "\n",
      "100%|██████████| 3/3 [00:00<00:00, 252.71it/s]"
     ]
    },
    {
     "name": "stdout",
     "output_type": "stream",
     "text": [
      "Example target: [1. 0. 0.]\n",
      "Example prediction: [0.9005, 0.0605, 0.039]\n",
      "Epoch 125 Training Loss: 2.1855 Training Accuracy: 0.6286 Val Loss: 2.1144 Val Accuracy: 0.8\n"
     ]
    },
    {
     "name": "stderr",
     "output_type": "stream",
     "text": [
      "\n",
      "100%|██████████| 3/3 [00:00<00:00, 143.83it/s]"
     ]
    },
    {
     "name": "stdout",
     "output_type": "stream",
     "text": [
      "Example target: [0. 1. 0.]\n",
      "Example prediction: [0.0201, 0.6903, 0.2897]\n",
      "Epoch 126 Training Loss: 2.2998 Training Accuracy: 0.6381 Val Loss: 2.2013 Val Accuracy: 0.7333\n"
     ]
    },
    {
     "name": "stderr",
     "output_type": "stream",
     "text": [
      "\n",
      "100%|██████████| 3/3 [00:00<00:00, 158.93it/s]"
     ]
    },
    {
     "name": "stdout",
     "output_type": "stream",
     "text": [
      "Example target: [1. 0. 0.]\n",
      "Example prediction: [0.9476, 0.0336, 0.0189]\n",
      "Epoch 127 Training Loss: 2.3265 Training Accuracy: 0.6762 Val Loss: 2.2643 Val Accuracy: 0.8\n"
     ]
    },
    {
     "name": "stderr",
     "output_type": "stream",
     "text": [
      "\n",
      "100%|██████████| 3/3 [00:00<00:00, 168.43it/s]"
     ]
    },
    {
     "name": "stdout",
     "output_type": "stream",
     "text": [
      "Example target: [1. 0. 0.]\n",
      "Example prediction: [0.9282, 0.0493, 0.0225]\n",
      "Epoch 128 Training Loss: 2.4395 Training Accuracy: 0.6857 Val Loss: 2.3497 Val Accuracy: 0.7333\n"
     ]
    },
    {
     "name": "stderr",
     "output_type": "stream",
     "text": [
      "\n",
      "100%|██████████| 3/3 [00:00<00:00, 244.08it/s]"
     ]
    },
    {
     "name": "stdout",
     "output_type": "stream",
     "text": [
      "Example target: [0. 1. 0.]\n",
      "Example prediction: [0.1279, 0.3901, 0.482]\n",
      "Epoch 129 Training Loss: 2.5245 Training Accuracy: 0.6 Val Loss: 2.3557 Val Accuracy: 0.8\n"
     ]
    },
    {
     "name": "stderr",
     "output_type": "stream",
     "text": [
      "\n",
      "100%|██████████| 3/3 [00:00<00:00, 163.90it/s]"
     ]
    },
    {
     "name": "stdout",
     "output_type": "stream",
     "text": [
      "Example target: [1. 0. 0.]\n",
      "Example prediction: [0.9465, 0.0367, 0.0168]\n",
      "Epoch 130 Training Loss: 2.5412 Training Accuracy: 0.6571 Val Loss: 2.441 Val Accuracy: 0.7333\n"
     ]
    },
    {
     "name": "stderr",
     "output_type": "stream",
     "text": [
      "\n",
      "100%|██████████| 3/3 [00:00<00:00, 155.85it/s]"
     ]
    },
    {
     "name": "stdout",
     "output_type": "stream",
     "text": [
      "Example target: [0. 0. 1.]\n",
      "Example prediction: [0.0011, 0.2861, 0.7128]\n",
      "Epoch 131 Training Loss: 2.5619 Training Accuracy: 0.6667 Val Loss: 2.4705 Val Accuracy: 0.8\n"
     ]
    },
    {
     "name": "stderr",
     "output_type": "stream",
     "text": [
      "\n",
      "100%|██████████| 3/3 [00:00<00:00, 128.28it/s]"
     ]
    },
    {
     "name": "stdout",
     "output_type": "stream",
     "text": [
      "Example target: [1. 0. 0.]\n",
      "Example prediction: [0.8988, 0.0695, 0.0317]\n",
      "Epoch 132 Training Loss: 2.6475 Training Accuracy: 0.6476 Val Loss: 2.5533 Val Accuracy: 0.7333\n"
     ]
    },
    {
     "name": "stderr",
     "output_type": "stream",
     "text": [
      "\n",
      "100%|██████████| 3/3 [00:00<00:00, 174.71it/s]"
     ]
    },
    {
     "name": "stdout",
     "output_type": "stream",
     "text": [
      "Example target: [1. 0. 0.]\n",
      "Example prediction: [0.9662, 0.0235, 0.0103]\n",
      "Epoch 133 Training Loss: 2.5896 Training Accuracy: 0.7429 Val Loss: 2.6456 Val Accuracy: 0.7333\n"
     ]
    },
    {
     "name": "stderr",
     "output_type": "stream",
     "text": [
      "\n",
      "100%|██████████| 3/3 [00:00<00:00, 240.23it/s]"
     ]
    },
    {
     "name": "stdout",
     "output_type": "stream",
     "text": [
      "Example target: [1. 0. 0.]\n",
      "Example prediction: [0.9689, 0.021, 0.01]\n",
      "Epoch 134 Training Loss: 2.7478 Training Accuracy: 0.6571 Val Loss: 2.656 Val Accuracy: 0.8\n"
     ]
    },
    {
     "name": "stderr",
     "output_type": "stream",
     "text": [
      "\n",
      "100%|██████████| 3/3 [00:00<00:00, 155.63it/s]"
     ]
    },
    {
     "name": "stdout",
     "output_type": "stream",
     "text": [
      "Example target: [1. 0. 0.]\n",
      "Example prediction: [0.9743, 0.0178, 0.0079]\n",
      "Epoch 135 Training Loss: 2.8352 Training Accuracy: 0.6381 Val Loss: 2.7301 Val Accuracy: 0.8\n"
     ]
    },
    {
     "name": "stderr",
     "output_type": "stream",
     "text": [
      "\n",
      "100%|██████████| 3/3 [00:00<00:00, 137.77it/s]"
     ]
    },
    {
     "name": "stdout",
     "output_type": "stream",
     "text": [
      "Example target: [0. 1. 0.]\n",
      "Example prediction: [0.1013, 0.5899, 0.3088]\n",
      "Epoch 136 Training Loss: 2.78 Training Accuracy: 0.619 Val Loss: 2.7286 Val Accuracy: 0.7333\n"
     ]
    },
    {
     "name": "stderr",
     "output_type": "stream",
     "text": [
      "\n",
      "100%|██████████| 3/3 [00:00<00:00, 144.89it/s]"
     ]
    },
    {
     "name": "stdout",
     "output_type": "stream",
     "text": [
      "Example target: [0. 0. 1.]\n",
      "Example prediction: [0.0018, 0.2998, 0.6985]\n",
      "Epoch 137 Training Loss: 2.8288 Training Accuracy: 0.6571 Val Loss: 2.7858 Val Accuracy: 0.8\n"
     ]
    },
    {
     "name": "stderr",
     "output_type": "stream",
     "text": [
      "\n",
      "100%|██████████| 3/3 [00:00<00:00, 152.25it/s]"
     ]
    },
    {
     "name": "stdout",
     "output_type": "stream",
     "text": [
      "Example target: [1. 0. 0.]\n",
      "Example prediction: [0.9804, 0.0144, 0.0053]\n",
      "Epoch 138 Training Loss: 2.8969 Training Accuracy: 0.6571 Val Loss: 2.8103 Val Accuracy: 0.7333\n"
     ]
    },
    {
     "name": "stderr",
     "output_type": "stream",
     "text": [
      "\n",
      "100%|██████████| 3/3 [00:00<00:00, 102.57it/s]"
     ]
    },
    {
     "name": "stdout",
     "output_type": "stream",
     "text": [
      "Example target: [0. 0. 1.]\n",
      "Example prediction: [0.0012, 0.406, 0.5928]\n",
      "Epoch 139 Training Loss: 2.8562 Training Accuracy: 0.8095 Val Loss: 2.8855 Val Accuracy: 0.9333\n"
     ]
    },
    {
     "name": "stderr",
     "output_type": "stream",
     "text": [
      "\n",
      "100%|██████████| 3/3 [00:00<00:00, 135.28it/s]"
     ]
    },
    {
     "name": "stdout",
     "output_type": "stream",
     "text": [
      "Example target: [1. 0. 0.]\n",
      "Example prediction: [0.9804, 0.0143, 0.0053]\n",
      "Epoch 140 Training Loss: 3.0075 Training Accuracy: 0.6952 Val Loss: 3.0434 Val Accuracy: 0.8\n"
     ]
    },
    {
     "name": "stderr",
     "output_type": "stream",
     "text": [
      "\n",
      "100%|██████████| 3/3 [00:00<00:00, 195.55it/s]"
     ]
    },
    {
     "name": "stdout",
     "output_type": "stream",
     "text": [
      "Example target: [1. 0. 0.]\n",
      "Example prediction: [0.9801, 0.0148, 0.0051]\n",
      "Epoch 141 Training Loss: 3.1219 Training Accuracy: 0.6571 Val Loss: 2.8615 Val Accuracy: 0.9333\n"
     ]
    },
    {
     "name": "stderr",
     "output_type": "stream",
     "text": [
      "\n",
      "100%|██████████| 3/3 [00:00<00:00, 142.92it/s]"
     ]
    },
    {
     "name": "stdout",
     "output_type": "stream",
     "text": [
      "Example target: [0. 1. 0.]\n",
      "Example prediction: [0.1461, 0.4025, 0.4514]\n",
      "Epoch 142 Training Loss: 2.9735 Training Accuracy: 0.7619 Val Loss: 2.8971 Val Accuracy: 0.8\n"
     ]
    },
    {
     "name": "stderr",
     "output_type": "stream",
     "text": [
      "\n",
      "100%|██████████| 3/3 [00:00<00:00, 221.62it/s]"
     ]
    },
    {
     "name": "stdout",
     "output_type": "stream",
     "text": [
      "Example target: [1. 0. 0.]\n",
      "Example prediction: [0.9791, 0.0162, 0.0047]\n",
      "Epoch 143 Training Loss: 3.0494 Training Accuracy: 0.7524 Val Loss: 2.8396 Val Accuracy: 0.8\n"
     ]
    },
    {
     "name": "stderr",
     "output_type": "stream",
     "text": [
      "\n",
      "100%|██████████| 3/3 [00:00<00:00, 119.80it/s]"
     ]
    },
    {
     "name": "stdout",
     "output_type": "stream",
     "text": [
      "Example target: [0. 1. 0.]\n",
      "Example prediction: [0.1022, 0.4585, 0.4393]\n",
      "Epoch 144 Training Loss: 2.9142 Training Accuracy: 0.8762 Val Loss: 2.9566 Val Accuracy: 0.9333\n"
     ]
    },
    {
     "name": "stderr",
     "output_type": "stream",
     "text": [
      "\n",
      "100%|██████████| 3/3 [00:00<00:00, 162.36it/s]"
     ]
    },
    {
     "name": "stdout",
     "output_type": "stream",
     "text": [
      "Example target: [0. 1. 0.]\n",
      "Example prediction: [0.1333, 0.5231, 0.3436]\n",
      "Epoch 145 Training Loss: 3.1265 Training Accuracy: 0.7333 Val Loss: 2.9504 Val Accuracy: 0.9333\n"
     ]
    },
    {
     "name": "stderr",
     "output_type": "stream",
     "text": [
      "\n",
      "100%|██████████| 3/3 [00:00<00:00, 229.25it/s]"
     ]
    },
    {
     "name": "stdout",
     "output_type": "stream",
     "text": [
      "Example target: [1. 0. 0.]\n",
      "Example prediction: [0.9784, 0.0172, 0.0045]\n",
      "Epoch 146 Training Loss: 3.1417 Training Accuracy: 0.8 Val Loss: 3.1385 Val Accuracy: 0.8\n"
     ]
    },
    {
     "name": "stderr",
     "output_type": "stream",
     "text": [
      "\n",
      "100%|██████████| 3/3 [00:00<00:00, 169.80it/s]"
     ]
    },
    {
     "name": "stdout",
     "output_type": "stream",
     "text": [
      "Example target: [1. 0. 0.]\n",
      "Example prediction: [0.978, 0.0176, 0.0044]\n",
      "Epoch 147 Training Loss: 3.2877 Training Accuracy: 0.6286 Val Loss: 2.9099 Val Accuracy: 0.8\n"
     ]
    },
    {
     "name": "stderr",
     "output_type": "stream",
     "text": [
      "\n",
      "100%|██████████| 3/3 [00:00<00:00, 165.93it/s]"
     ]
    },
    {
     "name": "stdout",
     "output_type": "stream",
     "text": [
      "Example target: [0. 0. 1.]\n",
      "Example prediction: [0.0, 0.7508, 0.2492]\n",
      "Epoch 148 Training Loss: 3.1895 Training Accuracy: 0.7905 Val Loss: 2.9982 Val Accuracy: 0.7333\n"
     ]
    },
    {
     "name": "stderr",
     "output_type": "stream",
     "text": [
      "\n",
      "100%|██████████| 3/3 [00:00<00:00, 122.57it/s]"
     ]
    },
    {
     "name": "stdout",
     "output_type": "stream",
     "text": [
      "Example target: [1. 0. 0.]\n",
      "Example prediction: [0.9775, 0.0182, 0.0043]\n",
      "Epoch 149 Training Loss: 3.2087 Training Accuracy: 0.781 Val Loss: 2.9506 Val Accuracy: 0.9333\n"
     ]
    },
    {
     "name": "stderr",
     "output_type": "stream",
     "text": [
      "\n",
      "100%|██████████| 3/3 [00:00<00:00, 119.65it/s]"
     ]
    },
    {
     "name": "stdout",
     "output_type": "stream",
     "text": [
      "Example target: [0. 1. 0.]\n",
      "Example prediction: [0.13, 0.5486, 0.3214]\n",
      "Epoch 150 Training Loss: 3.036 Training Accuracy: 0.7238 Val Loss: 3.0346 Val Accuracy: 1.0\n"
     ]
    },
    {
     "name": "stderr",
     "output_type": "stream",
     "text": [
      "\n",
      "100%|██████████| 3/3 [00:00<00:00, 184.80it/s]"
     ]
    },
    {
     "name": "stdout",
     "output_type": "stream",
     "text": [
      "Example target: [1. 0. 0.]\n",
      "Example prediction: [0.977, 0.0188, 0.0042]\n",
      "Epoch 151 Training Loss: 3.2707 Training Accuracy: 0.8095 Val Loss: 3.0383 Val Accuracy: 0.9333\n"
     ]
    },
    {
     "name": "stderr",
     "output_type": "stream",
     "text": [
      "\n",
      "100%|██████████| 3/3 [00:00<00:00, 169.13it/s]"
     ]
    },
    {
     "name": "stdout",
     "output_type": "stream",
     "text": [
      "Example target: [0. 1. 0.]\n",
      "Example prediction: [0.0095, 0.5925, 0.398]\n",
      "Epoch 152 Training Loss: 3.2489 Training Accuracy: 0.8476 Val Loss: 3.0211 Val Accuracy: 0.9333\n"
     ]
    },
    {
     "name": "stderr",
     "output_type": "stream",
     "text": [
      "\n",
      "100%|██████████| 3/3 [00:00<00:00, 124.21it/s]"
     ]
    },
    {
     "name": "stdout",
     "output_type": "stream",
     "text": [
      "Example target: [0. 0. 1.]\n",
      "Example prediction: [0.0001, 0.2248, 0.7751]\n",
      "Epoch 153 Training Loss: 3.2288 Training Accuracy: 0.8762 Val Loss: 3.0878 Val Accuracy: 0.9333\n"
     ]
    },
    {
     "name": "stderr",
     "output_type": "stream",
     "text": [
      "\n",
      "100%|██████████| 3/3 [00:00<00:00, 207.53it/s]"
     ]
    },
    {
     "name": "stdout",
     "output_type": "stream",
     "text": [
      "Example target: [0. 0. 1.]\n",
      "Example prediction: [0.0001, 0.2406, 0.7593]\n",
      "Epoch 154 Training Loss: 3.2745 Training Accuracy: 0.8762 Val Loss: 3.1148 Val Accuracy: 0.9333\n"
     ]
    },
    {
     "name": "stderr",
     "output_type": "stream",
     "text": [
      "\n",
      "100%|██████████| 3/3 [00:00<00:00, 182.95it/s]"
     ]
    },
    {
     "name": "stdout",
     "output_type": "stream",
     "text": [
      "Example target: [0. 0. 1.]\n",
      "Example prediction: [0.0001, 0.5509, 0.449]\n",
      "Epoch 155 Training Loss: 3.3536 Training Accuracy: 0.8286 Val Loss: 3.1102 Val Accuracy: 0.8\n"
     ]
    },
    {
     "name": "stderr",
     "output_type": "stream",
     "text": [
      "\n",
      "100%|██████████| 3/3 [00:00<00:00, 169.26it/s]"
     ]
    },
    {
     "name": "stdout",
     "output_type": "stream",
     "text": [
      "Example target: [1. 0. 0.]\n",
      "Example prediction: [0.9745, 0.0218, 0.0037]\n",
      "Epoch 156 Training Loss: 3.2651 Training Accuracy: 0.8762 Val Loss: 3.2078 Val Accuracy: 0.9333\n"
     ]
    },
    {
     "name": "stderr",
     "output_type": "stream",
     "text": [
      "\n",
      "100%|██████████| 3/3 [00:00<00:00, 172.15it/s]"
     ]
    },
    {
     "name": "stdout",
     "output_type": "stream",
     "text": [
      "Example target: [0. 0. 1.]\n",
      "Example prediction: [0.0001, 0.5027, 0.4972]\n",
      "Epoch 157 Training Loss: 3.4496 Training Accuracy: 0.8 Val Loss: 3.141 Val Accuracy: 0.8\n"
     ]
    },
    {
     "name": "stderr",
     "output_type": "stream",
     "text": [
      "\n",
      "100%|██████████| 3/3 [00:00<00:00, 144.12it/s]"
     ]
    },
    {
     "name": "stdout",
     "output_type": "stream",
     "text": [
      "Example target: [0. 1. 0.]\n",
      "Example prediction: [0.0992, 0.6281, 0.2727]\n",
      "Epoch 158 Training Loss: 3.167 Training Accuracy: 0.8667 Val Loss: 3.1488 Val Accuracy: 1.0\n"
     ]
    },
    {
     "name": "stderr",
     "output_type": "stream",
     "text": [
      "\n",
      "100%|██████████| 3/3 [00:00<00:00, 116.89it/s]"
     ]
    },
    {
     "name": "stdout",
     "output_type": "stream",
     "text": [
      "Example target: [1. 0. 0.]\n",
      "Example prediction: [0.9728, 0.0238, 0.0034]\n",
      "Epoch 159 Training Loss: 3.3275 Training Accuracy: 0.9429 Val Loss: 3.3008 Val Accuracy: 0.9333\n"
     ]
    },
    {
     "name": "stderr",
     "output_type": "stream",
     "text": [
      "\n",
      "100%|██████████| 3/3 [00:00<00:00, 155.84it/s]"
     ]
    },
    {
     "name": "stdout",
     "output_type": "stream",
     "text": [
      "Example target: [1. 0. 0.]\n",
      "Example prediction: [0.9721, 0.0246, 0.0033]\n",
      "Epoch 160 Training Loss: 3.496 Training Accuracy: 0.8762 Val Loss: 3.2449 Val Accuracy: 1.0\n"
     ]
    },
    {
     "name": "stderr",
     "output_type": "stream",
     "text": [
      "\n",
      "100%|██████████| 3/3 [00:00<00:00, 161.87it/s]"
     ]
    },
    {
     "name": "stdout",
     "output_type": "stream",
     "text": [
      "Example target: [1. 0. 0.]\n",
      "Example prediction: [0.9717, 0.0251, 0.0032]\n",
      "Epoch 161 Training Loss: 3.4331 Training Accuracy: 0.8762 Val Loss: 3.3564 Val Accuracy: 0.9333\n"
     ]
    },
    {
     "name": "stderr",
     "output_type": "stream",
     "text": [
      "\n",
      "100%|██████████| 3/3 [00:00<00:00, 168.41it/s]"
     ]
    },
    {
     "name": "stdout",
     "output_type": "stream",
     "text": [
      "Example target: [1. 0. 0.]\n",
      "Example prediction: [0.9709, 0.026, 0.0031]\n",
      "Epoch 162 Training Loss: 3.5231 Training Accuracy: 0.8476 Val Loss: 3.24 Val Accuracy: 1.0\n"
     ]
    },
    {
     "name": "stderr",
     "output_type": "stream",
     "text": [
      "\n",
      "100%|██████████| 3/3 [00:00<00:00, 202.18it/s]"
     ]
    },
    {
     "name": "stdout",
     "output_type": "stream",
     "text": [
      "Example target: [1. 0. 0.]\n",
      "Example prediction: [0.9704, 0.0266, 0.003]\n",
      "Epoch 163 Training Loss: 3.5139 Training Accuracy: 0.9524 Val Loss: 3.3537 Val Accuracy: 0.9333\n"
     ]
    },
    {
     "name": "stderr",
     "output_type": "stream",
     "text": [
      "\n",
      "100%|██████████| 3/3 [00:00<00:00, 130.47it/s]"
     ]
    },
    {
     "name": "stdout",
     "output_type": "stream",
     "text": [
      "Example target: [1. 0. 0.]\n",
      "Example prediction: [0.9696, 0.0275, 0.0029]\n",
      "Epoch 164 Training Loss: 3.5748 Training Accuracy: 0.8476 Val Loss: 3.2611 Val Accuracy: 1.0\n"
     ]
    },
    {
     "name": "stderr",
     "output_type": "stream",
     "text": [
      "\n",
      "100%|██████████| 3/3 [00:00<00:00, 94.07it/s]"
     ]
    },
    {
     "name": "stdout",
     "output_type": "stream",
     "text": [
      "Example target: [1. 0. 0.]\n",
      "Example prediction: [0.9694, 0.0276, 0.0029]\n",
      "Epoch 165 Training Loss: 3.5883 Training Accuracy: 0.8667 Val Loss: 3.4684 Val Accuracy: 1.0\n"
     ]
    },
    {
     "name": "stderr",
     "output_type": "stream",
     "text": [
      "\n",
      "100%|██████████| 3/3 [00:00<00:00, 269.13it/s]"
     ]
    },
    {
     "name": "stdout",
     "output_type": "stream",
     "text": [
      "Example target: [1. 0. 0.]\n",
      "Example prediction: [0.9688, 0.0284, 0.0029]\n",
      "Epoch 166 Training Loss: 3.5963 Training Accuracy: 0.8952 Val Loss: 3.3842 Val Accuracy: 1.0\n"
     ]
    },
    {
     "name": "stderr",
     "output_type": "stream",
     "text": [
      "\n",
      "100%|██████████| 3/3 [00:00<00:00, 177.02it/s]"
     ]
    },
    {
     "name": "stdout",
     "output_type": "stream",
     "text": [
      "Example target: [1. 0. 0.]\n",
      "Example prediction: [0.9687, 0.0284, 0.0029]\n",
      "Epoch 167 Training Loss: 3.5042 Training Accuracy: 0.8571 Val Loss: 3.5323 Val Accuracy: 1.0\n"
     ]
    },
    {
     "name": "stderr",
     "output_type": "stream",
     "text": [
      "\n",
      "100%|██████████| 3/3 [00:00<00:00, 165.11it/s]"
     ]
    },
    {
     "name": "stdout",
     "output_type": "stream",
     "text": [
      "Example target: [0. 0. 1.]\n",
      "Example prediction: [0.0, 0.4523, 0.5477]\n",
      "Epoch 168 Training Loss: 3.8298 Training Accuracy: 0.8476 Val Loss: 3.4235 Val Accuracy: 0.9333\n"
     ]
    },
    {
     "name": "stderr",
     "output_type": "stream",
     "text": [
      "\n",
      "100%|██████████| 3/3 [00:00<00:00, 164.52it/s]"
     ]
    },
    {
     "name": "stdout",
     "output_type": "stream",
     "text": [
      "Example target: [0. 1. 0.]\n",
      "Example prediction: [0.0082, 0.6637, 0.3281]\n",
      "Epoch 169 Training Loss: 3.7045 Training Accuracy: 0.8857 Val Loss: 3.3383 Val Accuracy: 1.0\n"
     ]
    },
    {
     "name": "stderr",
     "output_type": "stream",
     "text": [
      "\n",
      "100%|██████████| 3/3 [00:00<00:00, 147.01it/s]"
     ]
    },
    {
     "name": "stdout",
     "output_type": "stream",
     "text": [
      "Example target: [0. 1. 0.]\n",
      "Example prediction: [0.0939, 0.7236, 0.1825]\n",
      "Epoch 170 Training Loss: 3.42 Training Accuracy: 0.9048 Val Loss: 3.3512 Val Accuracy: 0.9333\n"
     ]
    },
    {
     "name": "stderr",
     "output_type": "stream",
     "text": [
      "\n",
      "100%|██████████| 3/3 [00:00<00:00, 185.26it/s]"
     ]
    },
    {
     "name": "stdout",
     "output_type": "stream",
     "text": [
      "Example target: [0. 0. 1.]\n",
      "Example prediction: [0.0, 0.3644, 0.6356]\n",
      "Epoch 171 Training Loss: 3.6464 Training Accuracy: 0.9143 Val Loss: 3.4189 Val Accuracy: 1.0\n"
     ]
    },
    {
     "name": "stderr",
     "output_type": "stream",
     "text": [
      "\n",
      "100%|██████████| 3/3 [00:00<00:00, 165.62it/s]"
     ]
    },
    {
     "name": "stdout",
     "output_type": "stream",
     "text": [
      "Example target: [0. 1. 0.]\n",
      "Example prediction: [0.0065, 0.6886, 0.3049]\n",
      "Epoch 172 Training Loss: 3.6183 Training Accuracy: 0.9333 Val Loss: 3.4387 Val Accuracy: 0.9333\n"
     ]
    },
    {
     "name": "stderr",
     "output_type": "stream",
     "text": [
      "\n",
      "100%|██████████| 3/3 [00:00<00:00, 135.26it/s]"
     ]
    },
    {
     "name": "stdout",
     "output_type": "stream",
     "text": [
      "Example target: [1. 0. 0.]\n",
      "Example prediction: [0.9653, 0.0322, 0.0025]\n",
      "Epoch 173 Training Loss: 3.5816 Training Accuracy: 0.9048 Val Loss: 3.6094 Val Accuracy: 1.0\n"
     ]
    },
    {
     "name": "stderr",
     "output_type": "stream",
     "text": [
      "\n",
      "100%|██████████| 3/3 [00:00<00:00, 105.09it/s]"
     ]
    },
    {
     "name": "stdout",
     "output_type": "stream",
     "text": [
      "Example target: [0. 0. 1.]\n",
      "Example prediction: [0.0, 0.5039, 0.4961]\n",
      "Epoch 174 Training Loss: 3.7429 Training Accuracy: 0.8762 Val Loss: 3.4681 Val Accuracy: 0.8667\n"
     ]
    },
    {
     "name": "stderr",
     "output_type": "stream",
     "text": [
      "\n",
      "100%|██████████| 3/3 [00:00<00:00, 193.08it/s]"
     ]
    },
    {
     "name": "stdout",
     "output_type": "stream",
     "text": [
      "Example target: [1. 0. 0.]\n",
      "Example prediction: [0.9638, 0.0338, 0.0024]\n",
      "Epoch 175 Training Loss: 3.7658 Training Accuracy: 0.9238 Val Loss: 3.4835 Val Accuracy: 0.9333\n"
     ]
    },
    {
     "name": "stderr",
     "output_type": "stream",
     "text": [
      "\n",
      "100%|██████████| 3/3 [00:00<00:00, 131.32it/s]"
     ]
    },
    {
     "name": "stdout",
     "output_type": "stream",
     "text": [
      "Example target: [0. 1. 0.]\n",
      "Example prediction: [0.1332, 0.7528, 0.1141]\n",
      "Epoch 176 Training Loss: 3.7771 Training Accuracy: 0.9333 Val Loss: 3.4871 Val Accuracy: 0.8\n"
     ]
    },
    {
     "name": "stderr",
     "output_type": "stream",
     "text": [
      "\n",
      "100%|██████████| 3/3 [00:00<00:00, 165.91it/s]"
     ]
    },
    {
     "name": "stdout",
     "output_type": "stream",
     "text": [
      "Example target: [1. 0. 0.]\n",
      "Example prediction: [0.9628, 0.0349, 0.0023]\n",
      "Epoch 177 Training Loss: 3.8022 Training Accuracy: 0.8952 Val Loss: 3.5637 Val Accuracy: 0.8\n"
     ]
    },
    {
     "name": "stderr",
     "output_type": "stream",
     "text": [
      "\n",
      "100%|██████████| 3/3 [00:00<00:00, 199.41it/s]"
     ]
    },
    {
     "name": "stdout",
     "output_type": "stream",
     "text": [
      "Example target: [1. 0. 0.]\n",
      "Example prediction: [0.9623, 0.0354, 0.0023]\n",
      "Epoch 178 Training Loss: 3.8406 Training Accuracy: 0.9429 Val Loss: 3.6044 Val Accuracy: 0.9333\n"
     ]
    },
    {
     "name": "stderr",
     "output_type": "stream",
     "text": [
      "\n",
      "100%|██████████| 3/3 [00:00<00:00, 141.66it/s]"
     ]
    },
    {
     "name": "stdout",
     "output_type": "stream",
     "text": [
      "Example target: [0. 0. 1.]\n",
      "Example prediction: [0.0, 0.4434, 0.5565]\n",
      "Epoch 179 Training Loss: 3.8283 Training Accuracy: 0.9333 Val Loss: 3.6704 Val Accuracy: 1.0\n"
     ]
    },
    {
     "name": "stderr",
     "output_type": "stream",
     "text": [
      "\n",
      "100%|██████████| 3/3 [00:00<00:00, 105.75it/s]"
     ]
    },
    {
     "name": "stdout",
     "output_type": "stream",
     "text": [
      "Example target: [1. 0. 0.]\n",
      "Example prediction: [0.961, 0.0368, 0.0021]\n",
      "Epoch 180 Training Loss: 3.9356 Training Accuracy: 0.9048 Val Loss: 3.6056 Val Accuracy: 1.0\n"
     ]
    },
    {
     "name": "stderr",
     "output_type": "stream",
     "text": [
      "\n",
      "100%|██████████| 3/3 [00:00<00:00, 132.70it/s]"
     ]
    },
    {
     "name": "stdout",
     "output_type": "stream",
     "text": [
      "Example target: [1. 0. 0.]\n",
      "Example prediction: [0.9602, 0.0377, 0.0021]\n",
      "Epoch 181 Training Loss: 3.8956 Training Accuracy: 0.9048 Val Loss: 3.5984 Val Accuracy: 1.0\n"
     ]
    },
    {
     "name": "stderr",
     "output_type": "stream",
     "text": [
      "\n",
      "100%|██████████| 3/3 [00:00<00:00, 170.60it/s]"
     ]
    },
    {
     "name": "stdout",
     "output_type": "stream",
     "text": [
      "Example target: [1. 0. 0.]\n",
      "Example prediction: [0.9595, 0.0385, 0.0021]\n",
      "Epoch 182 Training Loss: 3.8833 Training Accuracy: 0.9619 Val Loss: 3.6514 Val Accuracy: 1.0\n"
     ]
    },
    {
     "name": "stderr",
     "output_type": "stream",
     "text": [
      "\n",
      "100%|██████████| 3/3 [00:00<00:00, 126.89it/s]"
     ]
    },
    {
     "name": "stdout",
     "output_type": "stream",
     "text": [
      "Example target: [0. 1. 0.]\n",
      "Example prediction: [0.005, 0.8318, 0.1631]\n",
      "Epoch 183 Training Loss: 3.9413 Training Accuracy: 0.9429 Val Loss: 3.6461 Val Accuracy: 0.8\n"
     ]
    },
    {
     "name": "stderr",
     "output_type": "stream",
     "text": [
      "\n",
      "100%|██████████| 3/3 [00:00<00:00, 156.82it/s]"
     ]
    },
    {
     "name": "stdout",
     "output_type": "stream",
     "text": [
      "Example target: [1. 0. 0.]\n",
      "Example prediction: [0.9587, 0.0393, 0.002]\n",
      "Epoch 184 Training Loss: 3.9032 Training Accuracy: 0.8762 Val Loss: 3.7793 Val Accuracy: 0.9333\n"
     ]
    },
    {
     "name": "stderr",
     "output_type": "stream",
     "text": [
      "\n",
      "100%|██████████| 3/3 [00:00<00:00, 184.68it/s]"
     ]
    },
    {
     "name": "stdout",
     "output_type": "stream",
     "text": [
      "Example target: [0. 0. 1.]\n",
      "Example prediction: [0.0, 0.5069, 0.4931]\n",
      "Epoch 185 Training Loss: 4.0037 Training Accuracy: 0.9429 Val Loss: 3.7265 Val Accuracy: 0.8667\n"
     ]
    },
    {
     "name": "stderr",
     "output_type": "stream",
     "text": [
      "\n",
      "100%|██████████| 3/3 [00:00<00:00, 127.18it/s]"
     ]
    },
    {
     "name": "stdout",
     "output_type": "stream",
     "text": [
      "Example target: [0. 0. 1.]\n",
      "Example prediction: [0.0, 0.5449, 0.4551]\n",
      "Epoch 186 Training Loss: 4.0645 Training Accuracy: 0.9143 Val Loss: 3.7422 Val Accuracy: 0.8\n"
     ]
    },
    {
     "name": "stderr",
     "output_type": "stream",
     "text": [
      "\n",
      "100%|██████████| 3/3 [00:00<00:00, 156.86it/s]"
     ]
    },
    {
     "name": "stdout",
     "output_type": "stream",
     "text": [
      "Example target: [0. 1. 0.]\n",
      "Example prediction: [0.0493, 0.8271, 0.1236]\n",
      "Epoch 187 Training Loss: 3.9814 Training Accuracy: 0.9143 Val Loss: 3.7946 Val Accuracy: 0.8\n"
     ]
    },
    {
     "name": "stderr",
     "output_type": "stream",
     "text": [
      "\n",
      "100%|██████████| 3/3 [00:00<00:00, 177.40it/s]"
     ]
    },
    {
     "name": "stdout",
     "output_type": "stream",
     "text": [
      "Example target: [1. 0. 0.]\n",
      "Example prediction: [0.9569, 0.0412, 0.0018]\n",
      "Epoch 188 Training Loss: 3.9908 Training Accuracy: 0.9429 Val Loss: 3.8402 Val Accuracy: 1.0\n"
     ]
    },
    {
     "name": "stderr",
     "output_type": "stream",
     "text": [
      "\n",
      "100%|██████████| 3/3 [00:00<00:00, 154.90it/s]"
     ]
    },
    {
     "name": "stdout",
     "output_type": "stream",
     "text": [
      "Example target: [1. 0. 0.]\n",
      "Example prediction: [0.9562, 0.042, 0.0018]\n",
      "Epoch 189 Training Loss: 4.1054 Training Accuracy: 0.9429 Val Loss: 3.7809 Val Accuracy: 1.0\n"
     ]
    },
    {
     "name": "stderr",
     "output_type": "stream",
     "text": [
      "\n",
      "100%|██████████| 3/3 [00:00<00:00, 160.28it/s]"
     ]
    },
    {
     "name": "stdout",
     "output_type": "stream",
     "text": [
      "Example target: [1. 0. 0.]\n",
      "Example prediction: [0.9558, 0.0424, 0.0018]\n",
      "Epoch 190 Training Loss: 4.0388 Training Accuracy: 0.9619 Val Loss: 3.9726 Val Accuracy: 1.0\n"
     ]
    },
    {
     "name": "stderr",
     "output_type": "stream",
     "text": [
      "\n",
      "100%|██████████| 3/3 [00:00<00:00, 167.74it/s]"
     ]
    },
    {
     "name": "stdout",
     "output_type": "stream",
     "text": [
      "Example target: [1. 0. 0.]\n",
      "Example prediction: [0.9552, 0.0431, 0.0017]\n",
      "Epoch 191 Training Loss: 4.2173 Training Accuracy: 0.9238 Val Loss: 3.9258 Val Accuracy: 1.0\n"
     ]
    },
    {
     "name": "stderr",
     "output_type": "stream",
     "text": [
      "\n",
      "100%|██████████| 3/3 [00:00<00:00, 209.01it/s]"
     ]
    },
    {
     "name": "stdout",
     "output_type": "stream",
     "text": [
      "Example target: [1. 0. 0.]\n",
      "Example prediction: [0.9547, 0.0436, 0.0017]\n",
      "Epoch 192 Training Loss: 4.1802 Training Accuracy: 0.9429 Val Loss: 3.8623 Val Accuracy: 1.0\n"
     ]
    },
    {
     "name": "stderr",
     "output_type": "stream",
     "text": [
      "\n",
      "100%|██████████| 3/3 [00:00<00:00, 142.67it/s]"
     ]
    },
    {
     "name": "stdout",
     "output_type": "stream",
     "text": [
      "Example target: [1. 0. 0.]\n",
      "Example prediction: [0.9541, 0.0442, 0.0017]\n",
      "Epoch 193 Training Loss: 4.1172 Training Accuracy: 0.9333 Val Loss: 3.973 Val Accuracy: 1.0\n"
     ]
    },
    {
     "name": "stderr",
     "output_type": "stream",
     "text": [
      "\n",
      "100%|██████████| 3/3 [00:00<00:00, 165.82it/s]"
     ]
    },
    {
     "name": "stdout",
     "output_type": "stream",
     "text": [
      "Example target: [0. 0. 1.]\n",
      "Example prediction: [0.0, 0.5426, 0.4574]\n",
      "Epoch 194 Training Loss: 4.1782 Training Accuracy: 0.9429 Val Loss: 3.852 Val Accuracy: 0.8\n"
     ]
    },
    {
     "name": "stderr",
     "output_type": "stream",
     "text": [
      "\n",
      "100%|██████████| 3/3 [00:00<00:00, 157.69it/s]"
     ]
    },
    {
     "name": "stdout",
     "output_type": "stream",
     "text": [
      "Example target: [0. 1. 0.]\n",
      "Example prediction: [0.003, 0.7308, 0.2661]\n",
      "Epoch 195 Training Loss: 4.1859 Training Accuracy: 0.9619 Val Loss: 3.936 Val Accuracy: 1.0\n"
     ]
    },
    {
     "name": "stderr",
     "output_type": "stream",
     "text": [
      "\n",
      "100%|██████████| 3/3 [00:00<00:00, 144.62it/s]"
     ]
    },
    {
     "name": "stdout",
     "output_type": "stream",
     "text": [
      "Example target: [0. 0. 1.]\n",
      "Example prediction: [0.0, 0.3784, 0.6216]\n",
      "Epoch 196 Training Loss: 3.7343 Training Accuracy: 0.9333 Val Loss: 3.7245 Val Accuracy: 0.9333\n"
     ]
    },
    {
     "name": "stderr",
     "output_type": "stream",
     "text": [
      "\n",
      "100%|██████████| 3/3 [00:00<00:00, 166.58it/s]"
     ]
    },
    {
     "name": "stdout",
     "output_type": "stream",
     "text": [
      "Example target: [1. 0. 0.]\n",
      "Example prediction: [0.9512, 0.0473, 0.0015]\n",
      "Epoch 197 Training Loss: 4.0106 Training Accuracy: 0.9524 Val Loss: 3.8724 Val Accuracy: 1.0\n"
     ]
    },
    {
     "name": "stderr",
     "output_type": "stream",
     "text": [
      "\n",
      "100%|██████████| 3/3 [00:00<00:00, 236.02it/s]"
     ]
    },
    {
     "name": "stdout",
     "output_type": "stream",
     "text": [
      "Example target: [1. 0. 0.]\n",
      "Example prediction: [0.9506, 0.0479, 0.0015]\n",
      "Epoch 198 Training Loss: 4.1809 Training Accuracy: 0.9619 Val Loss: 3.9954 Val Accuracy: 1.0\n"
     ]
    },
    {
     "name": "stderr",
     "output_type": "stream",
     "text": [
      "\n"
     ]
    },
    {
     "name": "stdout",
     "output_type": "stream",
     "text": [
      "Example target: [1. 0. 0.]\n",
      "Example prediction: [0.9499, 0.0486, 0.0015]\n",
      "Epoch 199 Training Loss: 4.3019 Training Accuracy: 0.9238 Val Loss: 3.9802 Val Accuracy: 0.8667\n",
      "Test Loss: 4.3956 Test Accuracy: 0.9333\n"
     ]
    }
   ],
   "source": [
    "\"\"\"\n",
    "Step 1: Define layer arguments\n",
    "\n",
    "- Define the arguments for each layer in an attribute dictionary (AttrDict).\n",
    "- An attribute dictionary is exactly like a dictionary, except you can access the values as attributes rather than keys...for cleaner code :)\n",
    "- See layers.py for the arguments expected by each layer type.\n",
    "\"\"\"\n",
    "\n",
    "from neural_networks.utils.data_structures import AttrDict\n",
    "\n",
    "layer_1 = AttrDict(\n",
    "    {\n",
    "        \"name\": \"fully_connected\",\n",
    "        \"activation\": 'relu',  # YOUR CODE HERE,\n",
    "        \"weight_init\": \"xavier_uniform\",\n",
    "        \"n_out\": 40 # YOUR CODE HERE,\n",
    "    }\n",
    ")\n",
    "\n",
    "layer_out = AttrDict(\n",
    "    {\n",
    "        \"name\": \"fully_connected\",\n",
    "        \"activation\": 'softmax', # YOUR CODE HERE,\n",
    "        \"weight_init\": \"xavier_uniform\",\n",
    "        \"n_out\": None\n",
    "        # n_out is not defined for last layer. This will be set by the dataset.\n",
    "    }\n",
    ")\n",
    "\n",
    "\"\"\"\n",
    "Step 2: Collect layer argument dictionaries into a list.\n",
    "\n",
    "- This defines the order of layers in the network.\n",
    "\"\"\"\n",
    "\n",
    "layer_args = [layer_1, layer_out]\n",
    "\n",
    "\"\"\"\n",
    "Step 3: Define model, data, and logger arguments\n",
    "\n",
    "- The list of layer_args is passed to the model initializer.\n",
    "\"\"\"\n",
    "\n",
    "optimizer_args = AttrDict(\n",
    "    {\n",
    "        \"name\": \"SGD\",\n",
    "        \"lr\": 0.1, # YOUR CODE HERE,\n",
    "        \"lr_scheduler\": 'constant', # YOUR CODE HERE,\n",
    "        #\"lr_decay\": # YOUR CODE HERE,\n",
    "        #\"stage_length\": # YOUR CODE HERE,\n",
    "        #\"staircase\": # YOUR CODE HERE,\n",
    "        \"clip_norm\": 1.0, # YOUR CODE HERE,\n",
    "        \"momentum\": 0.3 # YOUR CODE HERE,\n",
    "    }\n",
    ")\n",
    "\n",
    "model_args = AttrDict(\n",
    "    {\n",
    "        \"loss\": 'cross_entropy', # YOUR CODE HERE,\n",
    "        \"layer_args\": layer_args,\n",
    "        \"optimizer_args\": optimizer_args,\n",
    "        \"seed\": 0, # YOUR CODE HERE,\n",
    "    }\n",
    ")\n",
    "\n",
    "data_args = AttrDict(\n",
    "    {\n",
    "        \"name\": 'iris', # YOUR CODE HERE, name of dataset, e.g. \"iris\"\n",
    "        \"batch_size\": 35 # YOUR CODE HERE,\n",
    "    }\n",
    ")\n",
    "\n",
    "log_args = AttrDict(\n",
    "    {\"save\": True, \"plot\": True, \"save_dir\": \"experiments/\",}\n",
    ")\n",
    "\n",
    "\"\"\"\n",
    "Step 4: Set random seed\n",
    "\n",
    "Warning! Random seed must be set before importing other modules.\n",
    "\"\"\"\n",
    "\n",
    "import numpy as np\n",
    "\n",
    "np.random.seed(model_args.seed)\n",
    "\n",
    "\"\"\"\n",
    "Step 5: Define model name for saving\n",
    "\"\"\"\n",
    "\n",
    "model_name = data_args['name'] + '_' + layer_1['name'] + ', lr ' + str(optimizer_args['lr']) + ', hidden units ' + str(layer_1['n_out']) + ', batch_size ' + str(data_args['batch_size']) + ', momentum ' + str(optimizer_args['momentum']) + ', optimizer ' + optimizer_args['name']\n",
    "            \n",
    "\n",
    "\"\"\"\n",
    "Step 6: Initialize logger, model, and dataset\n",
    "\n",
    "- model_name, model_args, and data_args are passed to the logger for saving\n",
    "- The logger is passed to the model.\n",
    "\"\"\"\n",
    "\n",
    "from neural_networks.models import initialize_model\n",
    "from neural_networks.datasets import initialize_dataset\n",
    "from neural_networks.logs import Logger\n",
    "\n",
    "\n",
    "logger = Logger(\n",
    "    model_name=model_name,\n",
    "    model_args=model_args,\n",
    "    data_args=data_args,\n",
    "    save=log_args.save,\n",
    "    plot=log_args.plot,\n",
    "    save_dir=log_args.save_dir,\n",
    ")\n",
    "\n",
    "\n",
    "model = initialize_model(\n",
    "    name=model_name,\n",
    "    loss=model_args.loss,\n",
    "    layer_args=model_args.layer_args,\n",
    "    optimizer_args=model_args.optimizer_args,\n",
    "    logger=logger,\n",
    ")\n",
    "\n",
    "\n",
    "dataset = initialize_dataset(\n",
    "    name=data_args.name,\n",
    "    batch_size=data_args.batch_size,\n",
    ")\n",
    "\n",
    "\n",
    "\"\"\"\n",
    "Step 7: Train model!\n",
    "\"\"\"\n",
    "\n",
    "epochs = 200\n",
    "\n",
    "print(\n",
    "    \"Training {} neural network on {} with {} for {} epochs...\".format(\n",
    "        model_name, data_args.name, optimizer_args.name, epochs\n",
    "    )\n",
    ")\n",
    "\n",
    "print(\"Optimizer:\")\n",
    "print(optimizer_args)\n",
    "\n",
    "model.train(dataset, epochs=epochs)\n",
    "model.test(dataset) # For Higgs, call test_kaggle() to generate the Kaggle file."
   ]
  },
  {
   "cell_type": "code",
   "execution_count": null,
   "metadata": {},
   "outputs": [],
   "source": []
  }
 ],
 "metadata": {
  "kernelspec": {
   "display_name": "Python 3",
   "language": "python",
   "name": "python3"
  },
  "language_info": {
   "codemirror_mode": {
    "name": "ipython",
    "version": 3
   },
   "file_extension": ".py",
   "mimetype": "text/x-python",
   "name": "python",
   "nbconvert_exporter": "python",
   "pygments_lexer": "ipython3",
   "version": "3.7.3"
  }
 },
 "nbformat": 4,
 "nbformat_minor": 4
}

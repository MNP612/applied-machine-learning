{
 "cells": [
  {
   "cell_type": "code",
   "execution_count": 85,
   "metadata": {},
   "outputs": [],
   "source": [
    "import numpy as np\n",
    "from numpy import linalg as LA"
   ]
  },
  {
   "cell_type": "code",
   "execution_count": 149,
   "metadata": {},
   "outputs": [],
   "source": [
    "y = np.array([1,1,0,0])\n",
    "X = np.array([[0.2,3.1,1],[1.0,3.0,1],[-0.2,1.2,1],[1.0,1.1,1]])\n",
    "w_0 = np.array([-1,1,0])"
   ]
  },
  {
   "cell_type": "code",
   "execution_count": 152,
   "metadata": {},
   "outputs": [],
   "source": [
    "def log(X,w):\n",
    "    Xw = X.dot(w)\n",
    "    s = 1 / (1 + np.exp(-Xw))\n",
    "    return s"
   ]
  },
  {
   "cell_type": "code",
   "execution_count": 153,
   "metadata": {},
   "outputs": [],
   "source": [
    "def newton(X,s):\n",
    "    D1 = (X**2).T.dot(s*(1 - s))\n",
    "    D2 = - X.T.dot(s - y)\n",
    "    e = D2/D1\n",
    "    return D1, D2, e"
   ]
  },
  {
   "cell_type": "code",
   "execution_count": 154,
   "metadata": {},
   "outputs": [],
   "source": [
    "def eq_system(w,e):\n",
    "    w_new = w + e\n",
    "    return w_new"
   ]
  },
  {
   "cell_type": "code",
   "execution_count": 155,
   "metadata": {},
   "outputs": [
    {
     "name": "stdout",
     "output_type": "stream",
     "text": [
      "s(0) = [0.94784644 0.88079708 0.80218389 0.52497919]\n"
     ]
    }
   ],
   "source": [
    "s_0 = log(X,w_0)\n",
    "print('s(0) = ' + str(s_0))"
   ]
  },
  {
   "cell_type": "code",
   "execution_count": 156,
   "metadata": {},
   "outputs": [
    {
     "name": "stdout",
     "output_type": "stream",
     "text": [
      "D1(0) = [0.36269436 1.95025013 0.56248809]\n",
      "D2(0) = [-0.23490878 -1.02081296 -1.15580659]\n",
      "e(0) = [-0.64767694 -0.52342669 -2.05481077]\n"
     ]
    }
   ],
   "source": [
    "D1, D2, e = newton(X,s_0)\n",
    "print ('D1(0) = ' + str(D1))\n",
    "print ('D2(0) = ' + str(D2))\n",
    "print ('e(0) = ' + str(D2/D1))"
   ]
  },
  {
   "cell_type": "code",
   "execution_count": 157,
   "metadata": {},
   "outputs": [
    {
     "name": "stdout",
     "output_type": "stream",
     "text": [
      "w(1) = [-1.64767694  0.47657331 -2.05481077]\n"
     ]
    }
   ],
   "source": [
    "w_1 = eq_system(w_0,e)\n",
    "print ('w(1) = ' + str(w_1))"
   ]
  },
  {
   "cell_type": "code",
   "execution_count": 158,
   "metadata": {},
   "outputs": [
    {
     "name": "stdout",
     "output_type": "stream",
     "text": [
      "s(1) = [0.2876205  0.09340358 0.2398709  0.0399922 ]\n"
     ]
    }
   ],
   "source": [
    "s_1 = log(X,w_1)\n",
    "print('s(1) = ' + str(s_1))"
   ]
  },
  {
   "cell_type": "code",
   "execution_count": 159,
   "metadata": {},
   "outputs": [
    {
     "name": "stdout",
     "output_type": "stream",
     "text": [
      "D1(1) = [0.13856128 3.04016919 0.51029997]\n",
      "D2(1) = [1.05705431 4.59632923 1.33911283]\n",
      "e(1) = [7.62878566 1.51186626 2.62416796]\n"
     ]
    }
   ],
   "source": [
    "D1, D2, e = newton(X,s_1)\n",
    "print ('D1(1) = ' + str(D1))\n",
    "print ('D2(1) = ' + str(D2))\n",
    "print ('e(1) = ' + str(D2/D1))"
   ]
  },
  {
   "cell_type": "code",
   "execution_count": 160,
   "metadata": {},
   "outputs": [
    {
     "name": "stdout",
     "output_type": "stream",
     "text": [
      "w(2) = [5.98110873 1.98843958 0.56935719]\n"
     ]
    }
   ],
   "source": [
    "w_2 = eq_system(w_1,e)\n",
    "print ('w(2) = ' + str(w_2))"
   ]
  },
  {
   "cell_type": "code",
   "execution_count": null,
   "metadata": {},
   "outputs": [],
   "source": []
  }
 ],
 "metadata": {
  "kernelspec": {
   "display_name": "Python 3",
   "language": "python",
   "name": "python3"
  },
  "language_info": {
   "codemirror_mode": {
    "name": "ipython",
    "version": 3
   },
   "file_extension": ".py",
   "mimetype": "text/x-python",
   "name": "python",
   "nbconvert_exporter": "python",
   "pygments_lexer": "ipython3",
   "version": "3.7.3"
  }
 },
 "nbformat": 4,
 "nbformat_minor": 4
}

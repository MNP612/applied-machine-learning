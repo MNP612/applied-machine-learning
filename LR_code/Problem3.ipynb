{
 "cells": [
  {
   "cell_type": "code",
   "execution_count": 1,
   "metadata": {},
   "outputs": [
    {
     "name": "stdout",
     "output_type": "stream",
     "text": [
      "\n",
      "loaded data!\n",
      "y (6000, 1)\n",
      "X (6000, 12)\n",
      "X_test (497, 12)\n"
     ]
    }
   ],
   "source": [
    "import warnings\n",
    "warnings.filterwarnings(\"ignore\")\n",
    "\n",
    "import sys\n",
    "if sys.version_info[0] < 3:\n",
    "    raise Exception(\"Python 3 not detected.\")\n",
    "    \n",
    "import numpy as np\n",
    "import matplotlib.pyplot as plt\n",
    "from scipy import io\n",
    "from numpy import linalg as LA\n",
    "from scipy.special import expit\n",
    "\n",
    "data = io.loadmat(\"data/data.mat\")\n",
    "print(\"\\nloaded data!\")\n",
    "fields = \"y\", \"X\", \"X_test\"\n",
    "for field in fields:\n",
    "    print(field, data[field].shape)"
   ]
  },
  {
   "cell_type": "code",
   "execution_count": 2,
   "metadata": {},
   "outputs": [],
   "source": [
    "# normalize data\n",
    "\n",
    "n_data = len(data['X'])\n",
    "n_data_test = len(data['X_test'])\n",
    "dim = len(data['X'][0])\n",
    "\n",
    "# train data\n",
    "L2_norm_train = np.array([LA.norm(data['X'][i]) for i in range(n_data)])\n",
    "data['X'] = np.array([data['X'][i]/L2_norm_train[i] for i in range(n_data)])\n",
    "\n",
    "# test data\n",
    "L2_norm_test = np.array([LA.norm(data['X_test'][i]) for i in range(n_data_test)])\n",
    "data['X_test'] = np.array([data['X_test'][i]/L2_norm_test[i] for i in range(n_data_test)])"
   ]
  },
  {
   "cell_type": "code",
   "execution_count": 3,
   "metadata": {},
   "outputs": [],
   "source": [
    "# train-test split data\n",
    "\n",
    "split = 0.2\n",
    "\n",
    "n_train = int((1-split)*n_data)\n",
    "n_valid = int(split*n_data)\n",
    "\n",
    "X_train = data['X'][:n_train]\n",
    "X_valid = data['X'][n_train:]\n",
    "\n",
    "y_train = data['y'][:n_train]\n",
    "y_valid = data['y'][n_train:]"
   ]
  },
  {
   "cell_type": "code",
   "execution_count": 4,
   "metadata": {},
   "outputs": [],
   "source": [
    "# Batch Gradient Descent\n",
    "# estimate weights (w) and alpha (additional dimension in w)\n",
    "\n",
    "def grad_desc(X_train, y_train, learning_rate, n_iterations, regularization):\n",
    "    \n",
    "    w = np.zeros(dim+1)\n",
    "    X = np.array([np.append(xi,1) for xi in X_train])\n",
    "\n",
    "    for i in range(n_iterations):\n",
    "\n",
    "        Xw = X.dot(w)\n",
    "        s = expit(Xw)\n",
    "        w = w + learning_rate*(X.T.dot(y_train.ravel() - expit(Xw)) - regularization * abs(w.dot(w)))\n",
    "    \n",
    "    return w"
   ]
  },
  {
   "cell_type": "code",
   "execution_count": 7,
   "metadata": {},
   "outputs": [
    {
     "data": {
      "text/plain": [
       "array([14.94900738, -0.91998058, -2.63710362, -5.02081644, -2.46366521,\n",
       "        3.2787129 , -5.94383336, -1.13844914,  3.27464917, -0.96319639,\n",
       "       10.84197083, -2.03179668,  0.76129997])"
      ]
     },
     "execution_count": 7,
     "metadata": {},
     "output_type": "execute_result"
    }
   ],
   "source": [
    "w = grad_desc(X_train, y_train, 0.001, 1000, 0.01)\n",
    "w"
   ]
  },
  {
   "cell_type": "code",
   "execution_count": 8,
   "metadata": {},
   "outputs": [],
   "source": [
    "# prediction\n",
    "# P(X) = w*X + alpha\n",
    "# Two classes: 1 if P(x) >= 0.5, else 0\n",
    "\n",
    "def predict(X_valid, w):\n",
    "    \n",
    "    y_prediction = []\n",
    "    y_prediction_class = []\n",
    "    n_valid = len(X_valid)\n",
    "    \n",
    "    for i in range(n_valid):\n",
    "        y = w.dot(np.append(X_valid[i],1))\n",
    "        \n",
    "        if y < 0.5:\n",
    "            pred = 0\n",
    "        else:\n",
    "            pred = 1\n",
    "            \n",
    "        y_prediction.append(y)\n",
    "        y_prediction_class.append(pred)\n",
    "        \n",
    "    return np.array(y_prediction_class), np.array(y_prediction)"
   ]
  },
  {
   "cell_type": "code",
   "execution_count": 9,
   "metadata": {},
   "outputs": [
    {
     "name": "stdout",
     "output_type": "stream",
     "text": [
      "[1 0 1 ... 0 0 0]\n",
      "[ 4.67508434 -1.5562997   6.60448543 ... -1.73294285 -1.32751478\n",
      " -3.27403359]\n"
     ]
    }
   ],
   "source": [
    "y_prediction_class, y_prediction = predict(X_valid, w)\n",
    "print(y_prediction_class)\n",
    "print(y_prediction)"
   ]
  },
  {
   "cell_type": "code",
   "execution_count": 10,
   "metadata": {},
   "outputs": [],
   "source": [
    "# calculate error\n",
    "\n",
    "def error(y_pred, y_valid):\n",
    "    count = list(y_pred == y_valid.ravel()).count(False)\n",
    "    \n",
    "    return count/n_valid"
   ]
  },
  {
   "cell_type": "code",
   "execution_count": 11,
   "metadata": {},
   "outputs": [
    {
     "data": {
      "text/plain": [
       "0.08666666666666667"
      ]
     },
     "execution_count": 11,
     "metadata": {},
     "output_type": "execute_result"
    }
   ],
   "source": [
    "error_rate = error(y_prediction_class, y_valid)\n",
    "error_rate"
   ]
  },
  {
   "cell_type": "code",
   "execution_count": 12,
   "metadata": {},
   "outputs": [],
   "source": [
    "# define cost function\n",
    "\n",
    "def cost_fn(X_train, y_train, weights, regularization):\n",
    "    \n",
    "    J = 0\n",
    "    for i in range(n_train):\n",
    "        xW = np.append(X_train[i],1).dot(w)\n",
    "        y = y_train[i]\n",
    "        Ji = -sum(y * np.log(expit(xW)) + (1 - y) * np.log(1 - expit(xW)))\n",
    "        J += Ji + regularization * sum(w.dot(w))\n",
    "    \n",
    "    return J"
   ]
  },
  {
   "cell_type": "markdown",
   "metadata": {},
   "source": [
    "# Tune Hyperparameter"
   ]
  },
  {
   "cell_type": "code",
   "execution_count": 880,
   "metadata": {},
   "outputs": [
    {
     "name": "stdout",
     "output_type": "stream",
     "text": [
      "lowest error at: learning rate =  0.003463157894736842\n"
     ]
    },
    {
     "data": {
      "image/png": "[encoded data removed]",
      "text/plain": [
       "<Figure size 432x288 with 1 Axes>"
      ]
     },
     "metadata": {
      "needs_background": "light"
     },
     "output_type": "display_data"
    }
   ],
   "source": [
    "# check best learning rate\n",
    "\n",
    "iterations = np.linspace(0.0034,0.0036,20)\n",
    "\n",
    "error_rate_list = []\n",
    "for i in iterations:\n",
    "    w = grad_desc(X_train, y_train, i, 10000, 0)\n",
    "    y_prediction_class, y_prediction = predict(X_valid, w)\n",
    "    error_rate = error(y_prediction_class, y_valid)\n",
    "    \n",
    "    error_rate_list.append(error_rate)\n",
    "    \n",
    "print('lowest error at: learning rate =  ' + str(iterations[np.argmin(error_rate_list)]))   \n",
    "    \n",
    "plt.plot(iterations, error_rate_list)\n",
    "plt.xlabel('learning rate')\n",
    "plt.ylabel('error rate')\n",
    "plt.show()"
   ]
  },
  {
   "cell_type": "code",
   "execution_count": 1001,
   "metadata": {},
   "outputs": [
    {
     "name": "stdout",
     "output_type": "stream",
     "text": [
      "lowest error at: regularization parameter =  0.0\n"
     ]
    },
    {
     "data": {
      "image/png": "[encoded data removed]",
      "text/plain": [
       "<Figure size 432x288 with 1 Axes>"
      ]
     },
     "metadata": {
      "needs_background": "light"
     },
     "output_type": "display_data"
    }
   ],
   "source": [
    "# check best regularization parameter\n",
    "\n",
    "iterations = np.linspace(0,.0001,50)\n",
    "\n",
    "error_rate_list = []\n",
    "for i in iterations:\n",
    "    w = grad_desc(X_train, y_train, 0.003463157894736842, 10000, i)\n",
    "    y_prediction_class, y_prediction = predict(X_valid, w)\n",
    "    error_rate = error(y_prediction_class, y_valid)\n",
    "    \n",
    "    error_rate_list.append(error_rate)\n",
    "\n",
    "print('lowest error at: regularization parameter =  ' + str(iterations[np.argmin(error_rate_list)]))\n",
    "    \n",
    "plt.plot(iterations, error_rate_list)\n",
    "plt.xlabel('regularization parameter')\n",
    "plt.ylabel('error rate')\n",
    "plt.show()"
   ]
  },
  {
   "cell_type": "code",
   "execution_count": 1002,
   "metadata": {},
   "outputs": [
    {
     "name": "stdout",
     "output_type": "stream",
     "text": [
      "final error = 0.049166666666666664\n"
     ]
    },
    {
     "data": {
      "image/png": "[encoded data removed]",
      "text/plain": [
       "<Figure size 432x288 with 1 Axes>"
      ]
     },
     "metadata": {
      "needs_background": "light"
     },
     "output_type": "display_data"
    }
   ],
   "source": [
    "# error vs number of iterations\n",
    "\n",
    "iterations = [10,50,100,200,500,1000,2000,5000,7000,10000,20000,50000,100000\n",
    "             ]\n",
    "\n",
    "error_rate_list = []\n",
    "for i in iterations:\n",
    "    w = grad_desc(X_train, y_train, 0.003463157894736842, i, 0)\n",
    "    y_prediction_class, y_prediction = predict(X_valid, w)\n",
    "    error_rate = error(y_prediction_class, y_valid)\n",
    "    \n",
    "    error_rate_list.append(error_rate)\n",
    "\n",
    "print('final error = ' + str(error_rate))    \n",
    "    \n",
    "plt.plot(iterations, error_rate_list)\n",
    "plt.xlabel('number of iterations')\n",
    "plt.ylabel('error rate')\n",
    "plt.show()\n"
   ]
  },
  {
   "cell_type": "code",
   "execution_count": 1003,
   "metadata": {},
   "outputs": [
    {
     "data": {
      "image/png": "[encoded data removed]",
      "text/plain": [
       "<Figure size 432x288 with 1 Axes>"
      ]
     },
     "metadata": {
      "needs_background": "light"
     },
     "output_type": "display_data"
    }
   ],
   "source": [
    "# cost vs number of iterations\n",
    "\n",
    "iterations = [10,50,100,200,500,1000,2000,5000,7000,10000,20000,50000,100000\n",
    "             ]\n",
    "\n",
    "cost_list = []\n",
    "for i in iterations:\n",
    "    w = grad_desc(X_train, y_train, 0.003463157894736842, i, 0)\n",
    "    y_prediction_class, y_prediction = predict(X_valid, w)\n",
    "    cost = cost_fn(X_train, y_train, w, 0)\n",
    "    \n",
    "    cost_list.append(cost)\n",
    "\n",
    "plt.plot(iterations, cost_list)\n",
    "plt.xlabel('number of iterations')\n",
    "plt.ylabel('cost')\n",
    "plt.show()\n"
   ]
  },
  {
   "cell_type": "markdown",
   "metadata": {},
   "source": [
    "# SGD"
   ]
  },
  {
   "cell_type": "code",
   "execution_count": 1016,
   "metadata": {},
   "outputs": [],
   "source": [
    "# Stochastic gradient descent\n",
    "\n",
    "def grad_desc_stoch(X_train, y_train, learning_rate, n_iterations, regularization):\n",
    "    \n",
    "    np.random.seed(42)\n",
    "    order = list(range(n_train))\n",
    "    np.random.shuffle(order)\n",
    "    \n",
    "    w = np.zeros(dim+1)\n",
    "    \n",
    "    y = y_train[order]\n",
    "    X = np.array([np.append(xi,1) for xi in X_train])\n",
    "    X = X[order]\n",
    "\n",
    "    for i in range(n_iterations):\n",
    "        if i < n_train:\n",
    "            Xw = X[i].dot(w)\n",
    "            s = expit(Xw)\n",
    "            w = w + learning_rate*(X.T.dot(y.ravel() - expit(Xw)) - regularization * abs(w.dot(w)))\n",
    "        \n",
    "        else:\n",
    "            i = i%n_train\n",
    "            Xw = X[i].dot(w)\n",
    "            s = expit(Xw)\n",
    "            w = w + learning_rate*(X.T.dot(y.ravel() - expit(Xw)) - regularization * abs(w.dot(w)))\n",
    "        \n",
    "    \n",
    "    return w"
   ]
  },
  {
   "cell_type": "code",
   "execution_count": 1028,
   "metadata": {},
   "outputs": [],
   "source": [
    "# Stochastic gradient descent v2 (shrinking learning rate)\n",
    "\n",
    "def grad_desc_stoch2(X_train, y_train, learning_rate, n_iterations, regularization):\n",
    "    \n",
    "    np.random.seed(42)\n",
    "    order = list(range(n_train))\n",
    "    np.random.shuffle(order)\n",
    "    \n",
    "    w = np.zeros(dim+1)\n",
    "    \n",
    "    y = y_train[order]\n",
    "    X = np.array([np.append(xi,1) for xi in X_train])\n",
    "    X = X[order]\n",
    "\n",
    "    for i in range(n_iterations):\n",
    "        if i < n_train:\n",
    "            Xw = X[i].dot(w)\n",
    "            s = expit(Xw)\n",
    "            w = w + learning_rate*(X.T.dot(y.ravel() - expit(Xw)) - regularization * abs(w.dot(w)))/(i+1)\n",
    "        \n",
    "        else:\n",
    "            i = i%n_train\n",
    "            Xw = X[i].dot(w)\n",
    "            s = expit(Xw)\n",
    "            w = w + learning_rate*(X.T.dot(y.ravel() - expit(Xw)) - regularization * abs(w.dot(w)))\n",
    "        \n",
    "    \n",
    "    return w"
   ]
  },
  {
   "cell_type": "markdown",
   "metadata": {},
   "source": [
    "# Tune Hyperparameter"
   ]
  },
  {
   "cell_type": "code",
   "execution_count": 1007,
   "metadata": {},
   "outputs": [
    {
     "name": "stdout",
     "output_type": "stream",
     "text": [
      "lowest error at: learning rate =  0.02631578947368421\n"
     ]
    },
    {
     "data": {
      "image/png": "[encoded data removed]",
      "text/plain": [
       "<Figure size 432x288 with 1 Axes>"
      ]
     },
     "metadata": {
      "needs_background": "light"
     },
     "output_type": "display_data"
    }
   ],
   "source": [
    "# check best learning rate (v1)\n",
    "\n",
    "iterations = np.linspace(0,0.1,20)\n",
    "\n",
    "error_rate_list = []\n",
    "for i in iterations:\n",
    "    w = grad_desc_stoch(X_train, y_train, i, 10000, 0)\n",
    "    y_prediction_class, y_prediction = predict(X_valid, w)\n",
    "    error_rate = error(y_prediction_class, y_valid)\n",
    "    \n",
    "    error_rate_list.append(error_rate)\n",
    "    \n",
    "print('lowest error at: learning rate =  ' + str(iterations[np.argmin(error_rate_list)]))   \n",
    "    \n",
    "plt.plot(iterations, error_rate_list)\n",
    "plt.xlabel('learning rate')\n",
    "plt.ylabel('error rate')\n",
    "plt.show()"
   ]
  },
  {
   "cell_type": "code",
   "execution_count": 1009,
   "metadata": {},
   "outputs": [
    {
     "name": "stdout",
     "output_type": "stream",
     "text": [
      "lowest error at: regularization parameter =  0.0\n"
     ]
    },
    {
     "data": {
      "image/png": "[encoded data removed]",
      "text/plain": [
       "<Figure size 432x288 with 1 Axes>"
      ]
     },
     "metadata": {
      "needs_background": "light"
     },
     "output_type": "display_data"
    }
   ],
   "source": [
    "# check best regularization parameter (v1)\n",
    "\n",
    "iterations = np.linspace(0,.0001,50)\n",
    "\n",
    "error_rate_list = []\n",
    "for i in iterations:\n",
    "    w = grad_desc_stoch(X_train, y_train, 0.02631578947368421, 10000, i)\n",
    "    y_prediction_class, y_prediction = predict(X_valid, w)\n",
    "    error_rate = error(y_prediction_class, y_valid)\n",
    "    \n",
    "    error_rate_list.append(error_rate)\n",
    "\n",
    "print('lowest error at: regularization parameter =  ' + str(iterations[np.argmin(error_rate_list)]))\n",
    "    \n",
    "plt.plot(iterations, error_rate_list)\n",
    "plt.xlabel('regularization parameter')\n",
    "plt.ylabel('error rate')\n",
    "plt.show()"
   ]
  },
  {
   "cell_type": "code",
   "execution_count": 1010,
   "metadata": {},
   "outputs": [
    {
     "name": "stdout",
     "output_type": "stream",
     "text": [
      "10\n",
      "50\n",
      "100\n",
      "200\n",
      "500\n",
      "1000\n",
      "2000\n",
      "5000\n",
      "7000\n",
      "10000\n",
      "20000\n",
      "50000\n",
      "100000\n",
      "final error = 0.07166666666666667\n"
     ]
    },
    {
     "data": {
      "image/png": "[encoded data removed]",
      "text/plain": [
       "<Figure size 432x288 with 1 Axes>"
      ]
     },
     "metadata": {
      "needs_background": "light"
     },
     "output_type": "display_data"
    }
   ],
   "source": [
    "# error vs number of iterations (v1)\n",
    "\n",
    "iterations = [10,50,100,200,500,1000,2000,5000,7000,10000,20000,50000,100000\n",
    "             ]\n",
    "\n",
    "error_rate_list = []\n",
    "for i in iterations:\n",
    "    \n",
    "    w = grad_desc_stoch(X_train, y_train, 0.02631578947368421, i, 0)\n",
    "    y_prediction_class, y_prediction = predict(X_valid, w)\n",
    "    error_rate = error(y_prediction_class, y_valid)\n",
    "    \n",
    "    error_rate_list.append(error_rate)\n",
    "    print(i)\n",
    "print('final error = ' + str(error_rate))    \n",
    "    \n",
    "plt.plot(iterations, error_rate_list)\n",
    "plt.xlabel('number of iterations')\n",
    "plt.ylabel('error rate')\n",
    "plt.show()"
   ]
  },
  {
   "cell_type": "code",
   "execution_count": null,
   "metadata": {},
   "outputs": [],
   "source": []
  },
  {
   "cell_type": "code",
   "execution_count": 1031,
   "metadata": {},
   "outputs": [
    {
     "name": "stdout",
     "output_type": "stream",
     "text": [
      "lowest error at: learning rate =  0.47368421052631576\n"
     ]
    },
    {
     "data": {
      "image/png": "[encoded data removed]",
      "text/plain": [
       "<Figure size 432x288 with 1 Axes>"
      ]
     },
     "metadata": {
      "needs_background": "light"
     },
     "output_type": "display_data"
    }
   ],
   "source": [
    "# check best learning rate (v2)\n",
    "\n",
    "iterations = np.linspace(0.46,0.48,20)\n",
    "\n",
    "error_rate_list = []\n",
    "for i in iterations:\n",
    "    w = grad_desc_stoch2(X_train, y_train, i, 10000, 0)\n",
    "    y_prediction_class, y_prediction = predict(X_valid, w)\n",
    "    error_rate = error(y_prediction_class, y_valid)\n",
    "    \n",
    "    error_rate_list.append(error_rate)\n",
    "    \n",
    "print('lowest error at: learning rate =  ' + str(iterations[np.argmin(error_rate_list)]))   \n",
    "    \n",
    "plt.plot(iterations, error_rate_list)\n",
    "plt.xlabel('learning rate')\n",
    "plt.ylabel('error rate')\n",
    "plt.show()"
   ]
  },
  {
   "cell_type": "code",
   "execution_count": 1032,
   "metadata": {},
   "outputs": [
    {
     "name": "stdout",
     "output_type": "stream",
     "text": [
      "lowest error at: regularization parameter =  0.0\n"
     ]
    },
    {
     "data": {
      "image/png": "[encoded data removed]",
      "text/plain": [
       "<Figure size 432x288 with 1 Axes>"
      ]
     },
     "metadata": {
      "needs_background": "light"
     },
     "output_type": "display_data"
    }
   ],
   "source": [
    "# check best regularization parameter (v2)\n",
    "\n",
    "iterations = np.linspace(0,.0001,50)\n",
    "\n",
    "error_rate_list = []\n",
    "for i in iterations:\n",
    "    w = grad_desc_stoch2(X_train, y_train, 0.47368421052631576, 10000, i)\n",
    "    y_prediction_class, y_prediction = predict(X_valid, w)\n",
    "    error_rate = error(y_prediction_class, y_valid)\n",
    "    \n",
    "    error_rate_list.append(error_rate)\n",
    "\n",
    "print('lowest error at: regularization parameter =  ' + str(iterations[np.argmin(error_rate_list)]))\n",
    "    \n",
    "plt.plot(iterations, error_rate_list)\n",
    "plt.xlabel('regularization parameter')\n",
    "plt.ylabel('error rate')\n",
    "plt.show()"
   ]
  },
  {
   "cell_type": "code",
   "execution_count": 1040,
   "metadata": {},
   "outputs": [
    {
     "name": "stdout",
     "output_type": "stream",
     "text": [
      "10\n",
      "50\n",
      "100\n",
      "200\n",
      "500\n",
      "1000\n",
      "2000\n",
      "5000\n",
      "7000\n",
      "10000\n",
      "20000\n",
      "50000\n",
      "100000\n",
      "final error = 0.07166666666666667\n"
     ]
    },
    {
     "data": {
      "image/png": "[encoded data removed]",
      "text/plain": [
       "<Figure size 432x288 with 1 Axes>"
      ]
     },
     "metadata": {
      "needs_background": "light"
     },
     "output_type": "display_data"
    }
   ],
   "source": [
    "# error vs number of iterations (v1)\n",
    "\n",
    "iterations = [10,50,100,200,500,1000,2000,5000,7000,10000,20000,50000,100000\n",
    "             ]\n",
    "\n",
    "error_rate_list = []\n",
    "for i in iterations:\n",
    "    \n",
    "    w = grad_desc_stoch2(X_train, y_train, 0.47368421052631576, i, 0)\n",
    "    y_prediction_class, y_prediction = predict(X_valid, w)\n",
    "    error_rate = error(y_prediction_class, y_valid)\n",
    "    \n",
    "    error_rate_list.append(error_rate)\n",
    "    print(i)\n",
    "print('final error = ' + str(error_rate))    \n",
    "    \n",
    "plt.plot(iterations, error_rate_list)\n",
    "plt.xlabel('number of iterations')\n",
    "plt.ylabel('error rate')\n",
    "plt.show()"
   ]
  },
  {
   "cell_type": "markdown",
   "metadata": {},
   "source": [
    "# Predict test data"
   ]
  },
  {
   "cell_type": "code",
   "execution_count": 15,
   "metadata": {},
   "outputs": [],
   "source": [
    "# predict for Kaggle (BGD)\n",
    "\n",
    "w = grad_desc(X_train, y_train, 0.003463157894736842, 10000000, 0)\n",
    "y_prediction_class, y_prediction = predict(data['X_test'], w)"
   ]
  },
  {
   "cell_type": "code",
   "execution_count": 16,
   "metadata": {},
   "outputs": [
    {
     "name": "stdout",
     "output_type": "stream",
     "text": [
      "finish\n"
     ]
    }
   ],
   "source": [
    "# A code snippet to help you save your results into a kaggle accepted csv\n",
    "import pandas as pd\n",
    "\n",
    "# Usage results_to_csv(clf.predict(X_test))\n",
    "def results_to_csv(y_test):\n",
    "    y_test = y_test.astype(int)\n",
    "    df = pd.DataFrame({'Category': y_test})\n",
    "    df.index += 1  # Ensures that the index starts at 1. \n",
    "    df.to_csv('submission.csv', index_label='Id')\n",
    "\n",
    "results_to_csv(np.array(y_prediction_class))\n",
    "print('finish')"
   ]
  },
  {
   "cell_type": "code",
   "execution_count": null,
   "metadata": {},
   "outputs": [],
   "source": []
  },
  {
   "cell_type": "code",
   "execution_count": null,
   "metadata": {},
   "outputs": [],
   "source": []
  },
  {
   "cell_type": "code",
   "execution_count": 1033,
   "metadata": {},
   "outputs": [],
   "source": [
    "# predict for Kaggle (SGD)\n",
    "\n",
    "w = grad_desc_stoch2(X_train, y_train, 0.47368421052631576, 100000, 0)\n",
    "y_prediction_class, y_prediction = predict(data['X_test'], w)"
   ]
  },
  {
   "cell_type": "code",
   "execution_count": 1035,
   "metadata": {},
   "outputs": [
    {
     "name": "stdout",
     "output_type": "stream",
     "text": [
      "finish\n"
     ]
    }
   ],
   "source": [
    "# A code snippet to help you save your results into a kaggle accepted csv\n",
    "import pandas as pd\n",
    "\n",
    "# Usage results_to_csv(clf.predict(X_test))\n",
    "def results_to_csv(y_test):\n",
    "    y_test = y_test.astype(int)\n",
    "    df = pd.DataFrame({'Category': y_test})\n",
    "    df.index += 1  # Ensures that the index starts at 1. \n",
    "    df.to_csv('submission_sgd.csv', index_label='Id')\n",
    "\n",
    "results_to_csv(np.array(y_prediction_class))\n",
    "print('finish')"
   ]
  },
  {
   "cell_type": "code",
   "execution_count": null,
   "metadata": {},
   "outputs": [],
   "source": []
  }
 ],
 "metadata": {
  "kernelspec": {
   "display_name": "Python 3",
   "language": "python",
   "name": "python3"
  },
  "language_info": {
   "codemirror_mode": {
    "name": "ipython",
    "version": 3
   },
   "file_extension": ".py",
   "mimetype": "text/x-python",
   "name": "python",
   "nbconvert_exporter": "python",
   "pygments_lexer": "ipython3",
   "version": "3.7.3"
  }
 },
 "nbformat": 4,
 "nbformat_minor": 4
}

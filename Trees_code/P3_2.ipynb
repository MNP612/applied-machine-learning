{
 "cells": [
  {
   "cell_type": "code",
   "execution_count": 1,
   "metadata": {},
   "outputs": [],
   "source": [
    "import warnings\n",
    "warnings.filterwarnings(\"ignore\")\n",
    "\n",
    "import io\n",
    "import random\n",
    "import numpy as np\n",
    "from scipy import io\n",
    "from scipy import stats\n",
    "import pandas as pd\n",
    "from matplotlib import pyplot as plt\n",
    "from graphviz import Digraph\n",
    "import math\n",
    "\n",
    "eps = 1e-5  # a small number"
   ]
  },
  {
   "cell_type": "markdown",
   "metadata": {},
   "source": [
    "# Code Trees and Forrests"
   ]
  },
  {
   "cell_type": "code",
   "execution_count": 2,
   "metadata": {},
   "outputs": [],
   "source": [
    "class DecisionTree:\n",
    "    def __init__(self, max_depth=3, feature_labels=None, m=0):\n",
    "        self.max_depth = max_depth\n",
    "        self.features = feature_labels\n",
    "        self.left, self.right = None, None  # for non-leaf nodes\n",
    "        self.split_idx, self.thresh = None, None  # for non-leaf nodes\n",
    "        self.data, self.pred = None, None  # for leaf nodes\n",
    "        self.m = m\n",
    "        \n",
    "    def reduce_feature(self, X, y):        \n",
    "        if self.m == 0:\n",
    "            self.X = X\n",
    "            self.y = y            \n",
    "        else:\n",
    "            random.seed(42)\n",
    "            random_idx_m = [random.randint(0,len(X[0])-1) for i in range(self.m)]\n",
    "            self.X = X.T[random_idx_m].T\n",
    "            self.y = y\n",
    "        \n",
    "        return self.X, self.y\n",
    "        \n",
    "    @staticmethod\n",
    "    def information_gain(X, y, thresh):\n",
    "        n = len(y)\n",
    "        n_class0 = list(y).count(0)\n",
    "        n_class1 = list(y).count(1)\n",
    "\n",
    "        H = -n_class0/n * np.log2(n_class0/n) - n_class1/n * np.log2(n_class1/n) # initial entropy\n",
    "\n",
    "        left, right = [], []\n",
    "        for idx in range(n): \n",
    "            if X[idx] < thresh:\n",
    "                left.append(y[idx])\n",
    "            else: right.append(y[idx])\n",
    "\n",
    "        left_n_class0 = list(left).count(0)\n",
    "        left_n_class1 = list(left).count(1)\n",
    "        right_n_class0 = list(right).count(0)\n",
    "        right_n_class1 = list(right).count(1)\n",
    "\n",
    "        left_H = -left_n_class0/n * np.log2(left_n_class0/n) - left_n_class1/n * np.log2(left_n_class1/n)\n",
    "        right_H = -right_n_class0/n * np.log2(right_n_class0/n) - right_n_class1/n * np.log2(right_n_class1/n)\n",
    "        H_after = (len(left)*left_H + len(right)*right_H)/n\n",
    "\n",
    "        gain = H - H_after\n",
    "        \n",
    "        return gain\n",
    "\n",
    "    def split(self, X, y, idx, thresh):\n",
    "        X0, idx0, X1, idx1 = self.split_test(X, idx=idx, thresh=thresh)\n",
    "        y0, y1 = y[idx0], y[idx1]\n",
    "\n",
    "        return X0, y0, X1, y1\n",
    "\n",
    "    def split_test(self, X, idx, thresh):\n",
    "        idx0 = np.where(X[:, idx] < thresh)[0]\n",
    "        idx1 = np.where(X[:, idx] >= thresh)[0]\n",
    "        X0, X1 = X[idx0, :], X[idx1, :]\n",
    "\n",
    "        return X0, idx0, X1, idx1\n",
    "\n",
    "    def fit(self, X_in, y_in):\n",
    "        # reduce column space for random forrest\n",
    "        X, y = self.reduce_feature(X_in, y_in)\n",
    "        \n",
    "        if self.max_depth > 0:            \n",
    "            # compute entropy gain for all single-dimension splits,\n",
    "            # thresholding with a linear interpolation of 10 values\n",
    "            gains = []\n",
    "            # The following logic prevents thresholding on exactly the minimum\n",
    "            # or maximum values, which may not lead to any meaningful node\n",
    "            # splits.\n",
    "            thresh = np.array([\n",
    "                np.linspace(np.min(X[:, i]) + eps, np.max(X[:, i]) - eps, num=10)\n",
    "                for i in range(X.shape[1])\n",
    "            ])\n",
    "            for i in range(X.shape[1]):\n",
    "                gains.append([self.information_gain(X[:, i], y, t) for t in thresh[i, :]])\n",
    "\n",
    "            gains = np.nan_to_num(np.array(gains))\n",
    "            self.split_idx, thresh_idx = np.unravel_index(np.argmax(gains), gains.shape)            \n",
    "            self.thresh = thresh[self.split_idx, thresh_idx]\n",
    "            X0, y0, X1, y1 = self.split(X, y, idx=self.split_idx, thresh=self.thresh)                       \n",
    "            \n",
    "            if X0.size > 0 and X1.size > 0:                \n",
    "                self.left = DecisionTree(\n",
    "                    max_depth=self.max_depth - 1, feature_labels=self.features)\n",
    "                self.left.fit(X0, y0)\n",
    "                self.right = DecisionTree(\n",
    "                    max_depth=self.max_depth - 1, feature_labels=self.features)\n",
    "                self.right.fit(X1, y1) \n",
    "                \n",
    "            else:\n",
    "                self.max_depth = 0\n",
    "                self.data, self.labels = X, y\n",
    "                self.pred = stats.mode(y).mode[0]\n",
    "            \n",
    "        else:           \n",
    "            self.data, self.labels = X, y\n",
    "            self.pred = stats.mode(y).mode[0]\n",
    "\n",
    "        return self\n",
    "    \n",
    "    def predict(self, X):\n",
    "        if self.max_depth == 0:\n",
    "            return self.pred * np.ones(X.shape[0])\n",
    "        else:\n",
    "            X0, idx0, X1, idx1 = self.split_test(X, idx=self.split_idx, thresh=self.thresh)\n",
    "            yhat = np.zeros(X.shape[0])\n",
    "            yhat[idx0] = self.left.predict(X0)\n",
    "            yhat[idx1] = self.right.predict(X1)\n",
    "            return yhat\n"
   ]
  },
  {
   "cell_type": "code",
   "execution_count": 3,
   "metadata": {},
   "outputs": [],
   "source": [
    "class BaggedTrees:\n",
    "    def __init__(self, params=None, n_trees=200, max_depth=2, m = 0):\n",
    "        \n",
    "        if params is None:\n",
    "            params = {}\n",
    "        self.params = params\n",
    "        if n_trees % 2 != 0:\n",
    "            self.n_trees = n_trees\n",
    "        else:\n",
    "            self.n_trees = n_trees +1\n",
    "        self.max_depth = max_depth\n",
    "        self.m = m\n",
    "        self.decision_trees = [DecisionTree(max_depth=self.max_depth, m = self.m) for i in range(self.n_trees)]\n",
    "\n",
    "    def bootstrap(self, X, y):\n",
    "        self.random_idx = [random.randint(0,len(X)-1) for i in range(len(X))]\n",
    "        self.X_random = X[self.random_idx]\n",
    "        self.y_random = y[self.random_idx]\n",
    "        \n",
    "        return self.X_random, self.y_random\n",
    "    \n",
    "    def fit(self, X, y):\n",
    "        self.fits = []\n",
    "        random.seed(42)\n",
    "        for tree in self.decision_trees:\n",
    "            X, y = BaggedTrees.bootstrap(self, X, y)\n",
    "            self.fits.append(tree.fit(X, y))\n",
    "                      \n",
    "        return self\n",
    "\n",
    "    def predict(self, X):\n",
    "        yhat_list = []\n",
    "        for fit in self.fits:\n",
    "            yhat = fit.predict(X)\n",
    "            yhat_list.append(yhat)\n",
    "        \n",
    "        yhat_list = np.ravel(yhat_list).reshape(self.n_trees,-1)\n",
    "        \n",
    "        # majority vote\n",
    "        yhat = []\n",
    "        for i in range(len(X)):\n",
    "            yhat.append(stats.mode(yhat_list[:,i])[0][0])\n",
    "        \n",
    "        return yhat"
   ]
  },
  {
   "cell_type": "code",
   "execution_count": null,
   "metadata": {},
   "outputs": [],
   "source": []
  },
  {
   "cell_type": "markdown",
   "metadata": {},
   "source": [
    "# Evaluate TITANIC dataset\n",
    "\n",
    "## Load data"
   ]
  },
  {
   "cell_type": "code",
   "execution_count": 4,
   "metadata": {},
   "outputs": [],
   "source": [
    "# Titanic data set"
   ]
  },
  {
   "cell_type": "code",
   "execution_count": 5,
   "metadata": {},
   "outputs": [
    {
     "name": "stdout",
     "output_type": "stream",
     "text": [
      "(999, 22)\n"
     ]
    },
    {
     "data": {
      "text/html": [
       "<div>\n",
       "<style scoped>\n",
       "    .dataframe tbody tr th:only-of-type {\n",
       "        vertical-align: middle;\n",
       "    }\n",
       "\n",
       "    .dataframe tbody tr th {\n",
       "        vertical-align: top;\n",
       "    }\n",
       "\n",
       "    .dataframe thead th {\n",
       "        text-align: right;\n",
       "    }\n",
       "</style>\n",
       "<table border=\"1\" class=\"dataframe\">\n",
       "  <thead>\n",
       "    <tr style=\"text-align: right;\">\n",
       "      <th></th>\n",
       "      <th>survived</th>\n",
       "      <th>age</th>\n",
       "      <th>sibsp</th>\n",
       "      <th>parch</th>\n",
       "      <th>fare</th>\n",
       "      <th>sex_female</th>\n",
       "      <th>sex_male</th>\n",
       "      <th>embarked_C</th>\n",
       "      <th>embarked_Q</th>\n",
       "      <th>embarked_S</th>\n",
       "      <th>...</th>\n",
       "      <th>cabin_B</th>\n",
       "      <th>cabin_C</th>\n",
       "      <th>cabin_D</th>\n",
       "      <th>cabin_E</th>\n",
       "      <th>cabin_F</th>\n",
       "      <th>cabin_G</th>\n",
       "      <th>cabin_T</th>\n",
       "      <th>pclass_1.0</th>\n",
       "      <th>pclass_2.0</th>\n",
       "      <th>pclass_3.0</th>\n",
       "    </tr>\n",
       "  </thead>\n",
       "  <tbody>\n",
       "    <tr>\n",
       "      <td>0</td>\n",
       "      <td>0.0</td>\n",
       "      <td>30.0</td>\n",
       "      <td>0.0</td>\n",
       "      <td>0.0</td>\n",
       "      <td>8.0500</td>\n",
       "      <td>0</td>\n",
       "      <td>1</td>\n",
       "      <td>0</td>\n",
       "      <td>0</td>\n",
       "      <td>1</td>\n",
       "      <td>...</td>\n",
       "      <td>0</td>\n",
       "      <td>0</td>\n",
       "      <td>0</td>\n",
       "      <td>0</td>\n",
       "      <td>0</td>\n",
       "      <td>1</td>\n",
       "      <td>0</td>\n",
       "      <td>0</td>\n",
       "      <td>0</td>\n",
       "      <td>1</td>\n",
       "    </tr>\n",
       "    <tr>\n",
       "      <td>1</td>\n",
       "      <td>0.0</td>\n",
       "      <td>22.0</td>\n",
       "      <td>0.0</td>\n",
       "      <td>0.0</td>\n",
       "      <td>135.6333</td>\n",
       "      <td>0</td>\n",
       "      <td>1</td>\n",
       "      <td>1</td>\n",
       "      <td>0</td>\n",
       "      <td>0</td>\n",
       "      <td>...</td>\n",
       "      <td>0</td>\n",
       "      <td>0</td>\n",
       "      <td>0</td>\n",
       "      <td>0</td>\n",
       "      <td>0</td>\n",
       "      <td>1</td>\n",
       "      <td>0</td>\n",
       "      <td>1</td>\n",
       "      <td>0</td>\n",
       "      <td>0</td>\n",
       "    </tr>\n",
       "    <tr>\n",
       "      <td>2</td>\n",
       "      <td>0.0</td>\n",
       "      <td>23.0</td>\n",
       "      <td>0.0</td>\n",
       "      <td>0.0</td>\n",
       "      <td>15.0458</td>\n",
       "      <td>0</td>\n",
       "      <td>1</td>\n",
       "      <td>1</td>\n",
       "      <td>0</td>\n",
       "      <td>0</td>\n",
       "      <td>...</td>\n",
       "      <td>0</td>\n",
       "      <td>0</td>\n",
       "      <td>0</td>\n",
       "      <td>0</td>\n",
       "      <td>0</td>\n",
       "      <td>1</td>\n",
       "      <td>0</td>\n",
       "      <td>0</td>\n",
       "      <td>1</td>\n",
       "      <td>0</td>\n",
       "    </tr>\n",
       "    <tr>\n",
       "      <td>3</td>\n",
       "      <td>0.0</td>\n",
       "      <td>42.0</td>\n",
       "      <td>0.0</td>\n",
       "      <td>0.0</td>\n",
       "      <td>13.0000</td>\n",
       "      <td>0</td>\n",
       "      <td>1</td>\n",
       "      <td>0</td>\n",
       "      <td>0</td>\n",
       "      <td>1</td>\n",
       "      <td>...</td>\n",
       "      <td>0</td>\n",
       "      <td>0</td>\n",
       "      <td>0</td>\n",
       "      <td>0</td>\n",
       "      <td>0</td>\n",
       "      <td>1</td>\n",
       "      <td>0</td>\n",
       "      <td>0</td>\n",
       "      <td>1</td>\n",
       "      <td>0</td>\n",
       "    </tr>\n",
       "    <tr>\n",
       "      <td>4</td>\n",
       "      <td>0.0</td>\n",
       "      <td>20.0</td>\n",
       "      <td>0.0</td>\n",
       "      <td>0.0</td>\n",
       "      <td>9.8458</td>\n",
       "      <td>0</td>\n",
       "      <td>1</td>\n",
       "      <td>0</td>\n",
       "      <td>0</td>\n",
       "      <td>1</td>\n",
       "      <td>...</td>\n",
       "      <td>0</td>\n",
       "      <td>0</td>\n",
       "      <td>0</td>\n",
       "      <td>0</td>\n",
       "      <td>0</td>\n",
       "      <td>1</td>\n",
       "      <td>0</td>\n",
       "      <td>0</td>\n",
       "      <td>0</td>\n",
       "      <td>1</td>\n",
       "    </tr>\n",
       "  </tbody>\n",
       "</table>\n",
       "<p>5 rows × 22 columns</p>\n",
       "</div>"
      ],
      "text/plain": [
       "   survived   age  sibsp  parch      fare  sex_female  sex_male  embarked_C  \\\n",
       "0       0.0  30.0    0.0    0.0    8.0500           0         1           0   \n",
       "1       0.0  22.0    0.0    0.0  135.6333           0         1           1   \n",
       "2       0.0  23.0    0.0    0.0   15.0458           0         1           1   \n",
       "3       0.0  42.0    0.0    0.0   13.0000           0         1           0   \n",
       "4       0.0  20.0    0.0    0.0    9.8458           0         1           0   \n",
       "\n",
       "   embarked_Q  embarked_S  ...  cabin_B  cabin_C  cabin_D  cabin_E  cabin_F  \\\n",
       "0           0           1  ...        0        0        0        0        0   \n",
       "1           0           0  ...        0        0        0        0        0   \n",
       "2           0           0  ...        0        0        0        0        0   \n",
       "3           0           1  ...        0        0        0        0        0   \n",
       "4           0           1  ...        0        0        0        0        0   \n",
       "\n",
       "   cabin_G  cabin_T  pclass_1.0  pclass_2.0  pclass_3.0  \n",
       "0        1        0           0           0           1  \n",
       "1        1        0           1           0           0  \n",
       "2        1        0           0           1           0  \n",
       "3        1        0           0           1           0  \n",
       "4        1        0           0           0           1  \n",
       "\n",
       "[5 rows x 22 columns]"
      ]
     },
     "execution_count": 5,
     "metadata": {},
     "output_type": "execute_result"
    }
   ],
   "source": [
    "# import titanic data\n",
    "\n",
    "data = pd.read_csv(\"titanic_clean_train.csv\")\n",
    "\n",
    "print(data.shape)\n",
    "data.head()"
   ]
  },
  {
   "cell_type": "code",
   "execution_count": 6,
   "metadata": {},
   "outputs": [],
   "source": [
    "X_train = data.to_numpy()[:800,1:]\n",
    "y_train = data.to_numpy()[:800,:1][:,0]\n",
    "\n",
    "X_valid = data.to_numpy()[800:,1:]\n",
    "y_valid = data.to_numpy()[800:,:1][:,0]"
   ]
  },
  {
   "cell_type": "markdown",
   "metadata": {},
   "source": [
    "## Predict data and tune hyperparameter\n",
    "\n",
    "### Decision Trees"
   ]
  },
  {
   "cell_type": "code",
   "execution_count": 7,
   "metadata": {},
   "outputs": [
    {
     "name": "stdout",
     "output_type": "stream",
     "text": [
      "5.0% (1.0 max. depth) - valid. accuracy: 0.7939698492462312\n",
      "10.0% (2.0 max. depth) - valid. accuracy: 0.7638190954773869\n",
      "15.0% (3.0 max. depth) - valid. accuracy: 0.8090452261306532\n",
      "20.0% (4.0 max. depth) - valid. accuracy: 0.8140703517587939\n",
      "25.0% (5.0 max. depth) - valid. accuracy: 0.8040201005025126\n",
      "30.0% (6.0 max. depth) - valid. accuracy: 0.8040201005025126\n",
      "35.0% (7.0 max. depth) - valid. accuracy: 0.8241206030150754\n",
      "40.0% (8.0 max. depth) - valid. accuracy: 0.8291457286432161\n",
      "45.0% (9.0 max. depth) - valid. accuracy: 0.8090452261306532\n",
      "50.0% (10.0 max. depth) - valid. accuracy: 0.8140703517587939\n",
      "55.0% (11.0 max. depth) - valid. accuracy: 0.8040201005025126\n",
      "60.0% (12.0 max. depth) - valid. accuracy: 0.7939698492462312\n",
      "65.0% (13.0 max. depth) - valid. accuracy: 0.7989949748743719\n",
      "70.0% (14.0 max. depth) - valid. accuracy: 0.7939698492462312\n",
      "75.0% (15.0 max. depth) - valid. accuracy: 0.7989949748743719\n",
      "80.0% (16.0 max. depth) - valid. accuracy: 0.8040201005025126\n",
      "85.0% (17.0 max. depth) - valid. accuracy: 0.8040201005025126\n",
      "90.0% (18.0 max. depth) - valid. accuracy: 0.8040201005025126\n",
      "95.0% (19.0 max. depth) - valid. accuracy: 0.8040201005025126\n",
      "100.0% (20.0 max. depth) - valid. accuracy: 0.8040201005025126\n"
     ]
    }
   ],
   "source": [
    "# DECISION TREES\n",
    "\n",
    "accuracy_train = []\n",
    "accuracy_valid = []\n",
    "\n",
    "minimum = 1\n",
    "maximum = 20\n",
    "steps = 20\n",
    "\n",
    "lst = np.linspace(minimum,maximum,steps)\n",
    "for i, idx in enumerate(lst):\n",
    "    dt = DecisionTree(max_depth=np.round(idx))\n",
    "    dt.fit(X_train,y_train)\n",
    "    y_train_predict = dt.predict(X_train)\n",
    "    y_valid_predict = dt.predict(X_valid)\n",
    "    \n",
    "    accuracy_train.append(list(y_train_predict-y_train).count(0) / len(y_train))\n",
    "    accuracy_valid.append(list(y_valid_predict-y_valid).count(0) / len(y_valid))\n",
    "    \n",
    "    print(str(100*(i+1)/steps) + '% (' + str(np.round(idx)) + ' max. depth) - ' + 'valid. accuracy: ' + str(accuracy_valid[i]))"
   ]
  },
  {
   "cell_type": "code",
   "execution_count": 8,
   "metadata": {},
   "outputs": [
    {
     "data": {
      "text/plain": [
       "<matplotlib.legend.Legend at 0x1a1faa5ac8>"
      ]
     },
     "execution_count": 8,
     "metadata": {},
     "output_type": "execute_result"
    },
    {
     "data": {
      "image/png": "[encoded data removed]",
      "text/plain": [
       "<Figure size 432x288 with 1 Axes>"
      ]
     },
     "metadata": {
      "needs_background": "light"
     },
     "output_type": "display_data"
    }
   ],
   "source": [
    "fig, ax = plt.subplots()\n",
    "ax.plot(lst, accuracy_train, label='training') \n",
    "ax.plot(lst, accuracy_valid, label='validation')\n",
    "plt.title('Decision Tree')\n",
    "plt.xlabel('tree depth')\n",
    "plt.ylabel('accuracy')\n",
    "plt.legend()"
   ]
  },
  {
   "cell_type": "code",
   "execution_count": null,
   "metadata": {},
   "outputs": [],
   "source": []
  },
  {
   "cell_type": "markdown",
   "metadata": {},
   "source": [
    "### Bagged Trees"
   ]
  },
  {
   "cell_type": "code",
   "execution_count": 9,
   "metadata": {},
   "outputs": [
    {
     "name": "stdout",
     "output_type": "stream",
     "text": [
      "10.0% (10.0 trees) - accuracy: 0.79375\n",
      "20.0% (20.0 trees) - accuracy: 0.7925\n",
      "30.0% (30.0 trees) - accuracy: 0.79125\n",
      "40.0% (40.0 trees) - accuracy: 0.7825\n",
      "50.0% (50.0 trees) - accuracy: 0.7825\n",
      "60.0% (60.0 trees) - accuracy: 0.7825\n",
      "70.0% (70.0 trees) - accuracy: 0.78125\n",
      "80.0% (80.0 trees) - accuracy: 0.7825\n",
      "90.0% (90.0 trees) - accuracy: 0.7825\n",
      "100.0% (100.0 trees) - accuracy: 0.75375\n"
     ]
    }
   ],
   "source": [
    "# BAGGED TREES\n",
    "\n",
    "accuracy_train = []\n",
    "accuracy_valid = []\n",
    "\n",
    "minimum = 10\n",
    "maximum = 100\n",
    "steps = 10\n",
    "lst = np.linspace(minimum,maximum,10)\n",
    "for i, idx in enumerate(lst):\n",
    "    bt = BaggedTrees(n_trees=int(np.round(idx)), max_depth=3)\n",
    "    bt.fit(X_train,y_train)\n",
    "    y_train_predict = bt.predict(X_train)\n",
    "    y_valid_predict = bt.predict(X_valid)\n",
    "    \n",
    "    accuracy_train.append(list(y_train_predict-y_train).count(0) / len(y_train))\n",
    "    accuracy_valid.append(list(y_valid_predict-y_valid).count(0) / len(y_valid))\n",
    "    \n",
    "    print(str(100*(i+1)/steps) + '% (' + str(np.round(idx)) + ' trees) - ' + 'accuracy: ' + str(accuracy_train[i]))"
   ]
  },
  {
   "cell_type": "code",
   "execution_count": 10,
   "metadata": {},
   "outputs": [
    {
     "data": {
      "text/plain": [
       "<matplotlib.legend.Legend at 0x1a22fd59e8>"
      ]
     },
     "execution_count": 10,
     "metadata": {},
     "output_type": "execute_result"
    },
    {
     "data": {
      "image/png": "[encoded data removed]",
      "text/plain": [
       "<Figure size 432x288 with 1 Axes>"
      ]
     },
     "metadata": {
      "needs_background": "light"
     },
     "output_type": "display_data"
    }
   ],
   "source": [
    "fig, ax = plt.subplots()\n",
    "ax.plot(lst, accuracy_train, label='training') \n",
    "ax.plot(lst, accuracy_valid, label='validation')\n",
    "plt.title('Bagged Trees')\n",
    "plt.xlabel('number of trees')\n",
    "plt.ylabel('accuracy')\n",
    "plt.legend()"
   ]
  },
  {
   "cell_type": "code",
   "execution_count": null,
   "metadata": {},
   "outputs": [],
   "source": []
  },
  {
   "cell_type": "markdown",
   "metadata": {},
   "source": [
    "### Random Forrests"
   ]
  },
  {
   "cell_type": "code",
   "execution_count": 11,
   "metadata": {},
   "outputs": [
    {
     "name": "stdout",
     "output_type": "stream",
     "text": [
      "10.0% (1.0 features) - accuracy: 0.61\n",
      "20.0% (3.0 features) - accuracy: 0.61\n",
      "30.0% (5.0 features) - accuracy: 0.3925\n",
      "40.0% (8.0 features) - accuracy: 0.6325\n",
      "50.0% (10.0 features) - accuracy: 0.61875\n",
      "60.0% (12.0 features) - accuracy: 0.6325\n",
      "70.0% (14.0 features) - accuracy: 0.3925\n",
      "80.0% (17.0 features) - accuracy: 0.61125\n",
      "90.0% (19.0 features) - accuracy: 0.6325\n",
      "100.0% (21.0 features) - accuracy: 0.63625\n"
     ]
    }
   ],
   "source": [
    "# Random Forrest\n",
    "# To use a Random Forrest, I initiate a Bagged Tree estimator with m!=0\n",
    "\n",
    "accuracy_train = []\n",
    "accuracy_valid = []\n",
    "\n",
    "minimum = 1\n",
    "maximum = 21\n",
    "steps = 10\n",
    "lst = np.linspace(minimum,maximum,10)\n",
    "for i, idx in enumerate(lst):\n",
    "    rf = BaggedTrees(m=int(np.round(idx)), max_depth=2, n_trees = 120)\n",
    "    rf.fit(X_train,y_train)\n",
    "    y_train_predict = rf.predict(X_train)\n",
    "    y_valid_predict = rf.predict(X_valid)\n",
    "    \n",
    "    accuracy_train.append(list(y_train_predict-y_train).count(0) / len(y_train))\n",
    "    accuracy_valid.append(list(y_valid_predict-y_valid).count(0) / len(y_valid))\n",
    "    \n",
    "    print(str(100*(i+1)/steps) + '% (' + str(np.round(idx)) + ' features) - ' + 'accuracy: ' + str(accuracy_train[i]))"
   ]
  },
  {
   "cell_type": "code",
   "execution_count": 12,
   "metadata": {},
   "outputs": [
    {
     "data": {
      "text/plain": [
       "<matplotlib.legend.Legend at 0x1a2335a9b0>"
      ]
     },
     "execution_count": 12,
     "metadata": {},
     "output_type": "execute_result"
    },
    {
     "data": {
      "image/png": "[encoded data removed]",
      "text/plain": [
       "<Figure size 432x288 with 1 Axes>"
      ]
     },
     "metadata": {
      "needs_background": "light"
     },
     "output_type": "display_data"
    }
   ],
   "source": [
    "fig, ax = plt.subplots()\n",
    "ax.plot(lst, accuracy_train, label='training') \n",
    "ax.plot(lst, accuracy_valid, label='validation')\n",
    "plt.title('Random Forrest (tune m)')\n",
    "plt.xlabel('number of features per node')\n",
    "plt.ylabel('accuracy')\n",
    "plt.legend()"
   ]
  },
  {
   "cell_type": "code",
   "execution_count": 13,
   "metadata": {},
   "outputs": [
    {
     "name": "stdout",
     "output_type": "stream",
     "text": [
      "10.0% (10.0 trees) - accuracy: 0.61\n",
      "20.0% (31.0 trees) - accuracy: 0.3925\n",
      "30.0% (52.0 trees) - accuracy: 0.3925\n",
      "40.0% (73.0 trees) - accuracy: 0.3925\n",
      "50.0% (94.0 trees) - accuracy: 0.3925\n",
      "60.0% (116.0 trees) - accuracy: 0.3925\n",
      "70.0% (137.0 trees) - accuracy: 0.3925\n",
      "80.0% (158.0 trees) - accuracy: 0.3925\n",
      "90.0% (179.0 trees) - accuracy: 0.3925\n",
      "100.0% (200.0 trees) - accuracy: 0.3925\n"
     ]
    }
   ],
   "source": [
    "accuracy_train = []\n",
    "accuracy_valid = []\n",
    "\n",
    "minimum = 10\n",
    "maximum = 200\n",
    "steps = 10\n",
    "lst = np.linspace(minimum,maximum,10)\n",
    "for i, idx in enumerate(lst):\n",
    "    rf = BaggedTrees(n_trees=int(np.round(idx)), max_depth=2, m = 5)\n",
    "    rf.fit(X_train,y_train)\n",
    "    y_train_predict = rf.predict(X_train)\n",
    "    y_valid_predict = rf.predict(X_valid)\n",
    "    \n",
    "    accuracy_train.append(list(y_train_predict-y_train).count(0) / len(y_train))\n",
    "    accuracy_valid.append(list(y_valid_predict-y_valid).count(0) / len(y_valid))\n",
    "    \n",
    "    print(str(100*(i+1)/steps) + '% (' + str(np.round(idx)) + ' trees) - ' + 'accuracy: ' + str(accuracy_train[i]))"
   ]
  },
  {
   "cell_type": "code",
   "execution_count": 14,
   "metadata": {},
   "outputs": [
    {
     "data": {
      "text/plain": [
       "<matplotlib.legend.Legend at 0x1a234aef28>"
      ]
     },
     "execution_count": 14,
     "metadata": {},
     "output_type": "execute_result"
    },
    {
     "data": {
      "image/png": "[encoded data removed]",
      "text/plain": [
       "<Figure size 432x288 with 1 Axes>"
      ]
     },
     "metadata": {
      "needs_background": "light"
     },
     "output_type": "display_data"
    }
   ],
   "source": [
    "fig, ax = plt.subplots()\n",
    "ax.plot(lst, accuracy_train, label='training') \n",
    "ax.plot(lst, accuracy_valid, label='validation')\n",
    "plt.title('Random Forrest (tune n_trees)')\n",
    "plt.xlabel('number of trees')\n",
    "plt.ylabel('accuracy')\n",
    "plt.legend()"
   ]
  },
  {
   "cell_type": "code",
   "execution_count": null,
   "metadata": {},
   "outputs": [],
   "source": []
  },
  {
   "cell_type": "markdown",
   "metadata": {},
   "source": [
    "## Final prediction with best estimator"
   ]
  },
  {
   "cell_type": "code",
   "execution_count": 96,
   "metadata": {},
   "outputs": [
    {
     "data": {
      "text/html": [
       "<div>\n",
       "<style scoped>\n",
       "    .dataframe tbody tr th:only-of-type {\n",
       "        vertical-align: middle;\n",
       "    }\n",
       "\n",
       "    .dataframe tbody tr th {\n",
       "        vertical-align: top;\n",
       "    }\n",
       "\n",
       "    .dataframe thead th {\n",
       "        text-align: right;\n",
       "    }\n",
       "</style>\n",
       "<table border=\"1\" class=\"dataframe\">\n",
       "  <thead>\n",
       "    <tr style=\"text-align: right;\">\n",
       "      <th></th>\n",
       "      <th>survived</th>\n",
       "      <th>age</th>\n",
       "      <th>sibsp</th>\n",
       "      <th>parch</th>\n",
       "      <th>fare</th>\n",
       "      <th>sex_female</th>\n",
       "      <th>sex_male</th>\n",
       "      <th>embarked_C</th>\n",
       "      <th>embarked_Q</th>\n",
       "      <th>embarked_S</th>\n",
       "      <th>...</th>\n",
       "      <th>cabin_B</th>\n",
       "      <th>cabin_C</th>\n",
       "      <th>cabin_D</th>\n",
       "      <th>cabin_E</th>\n",
       "      <th>cabin_F</th>\n",
       "      <th>cabin_G</th>\n",
       "      <th>cabin_T</th>\n",
       "      <th>pclass_1.0</th>\n",
       "      <th>pclass_2.0</th>\n",
       "      <th>pclass_3.0</th>\n",
       "    </tr>\n",
       "  </thead>\n",
       "  <tbody>\n",
       "    <tr>\n",
       "      <td>0</td>\n",
       "      <td>0.0</td>\n",
       "      <td>24.0</td>\n",
       "      <td>0.0</td>\n",
       "      <td>0.0</td>\n",
       "      <td>69.3000</td>\n",
       "      <td>1</td>\n",
       "      <td>0</td>\n",
       "      <td>1</td>\n",
       "      <td>0</td>\n",
       "      <td>0</td>\n",
       "      <td>...</td>\n",
       "      <td>1</td>\n",
       "      <td>0</td>\n",
       "      <td>0</td>\n",
       "      <td>0</td>\n",
       "      <td>0</td>\n",
       "      <td>0</td>\n",
       "      <td>0.0</td>\n",
       "      <td>1</td>\n",
       "      <td>0</td>\n",
       "      <td>0</td>\n",
       "    </tr>\n",
       "    <tr>\n",
       "      <td>1</td>\n",
       "      <td>0.0</td>\n",
       "      <td>44.0</td>\n",
       "      <td>0.0</td>\n",
       "      <td>1.0</td>\n",
       "      <td>57.9792</td>\n",
       "      <td>1</td>\n",
       "      <td>0</td>\n",
       "      <td>1</td>\n",
       "      <td>0</td>\n",
       "      <td>0</td>\n",
       "      <td>...</td>\n",
       "      <td>1</td>\n",
       "      <td>0</td>\n",
       "      <td>0</td>\n",
       "      <td>0</td>\n",
       "      <td>0</td>\n",
       "      <td>0</td>\n",
       "      <td>0.0</td>\n",
       "      <td>1</td>\n",
       "      <td>0</td>\n",
       "      <td>0</td>\n",
       "    </tr>\n",
       "    <tr>\n",
       "      <td>2</td>\n",
       "      <td>0.0</td>\n",
       "      <td>1.0</td>\n",
       "      <td>5.0</td>\n",
       "      <td>2.0</td>\n",
       "      <td>46.9000</td>\n",
       "      <td>0</td>\n",
       "      <td>1</td>\n",
       "      <td>0</td>\n",
       "      <td>0</td>\n",
       "      <td>1</td>\n",
       "      <td>...</td>\n",
       "      <td>0</td>\n",
       "      <td>0</td>\n",
       "      <td>0</td>\n",
       "      <td>0</td>\n",
       "      <td>0</td>\n",
       "      <td>1</td>\n",
       "      <td>0.0</td>\n",
       "      <td>0</td>\n",
       "      <td>0</td>\n",
       "      <td>1</td>\n",
       "    </tr>\n",
       "    <tr>\n",
       "      <td>3</td>\n",
       "      <td>0.0</td>\n",
       "      <td>29.0</td>\n",
       "      <td>0.0</td>\n",
       "      <td>0.0</td>\n",
       "      <td>7.8750</td>\n",
       "      <td>0</td>\n",
       "      <td>1</td>\n",
       "      <td>0</td>\n",
       "      <td>0</td>\n",
       "      <td>1</td>\n",
       "      <td>...</td>\n",
       "      <td>0</td>\n",
       "      <td>0</td>\n",
       "      <td>0</td>\n",
       "      <td>0</td>\n",
       "      <td>0</td>\n",
       "      <td>1</td>\n",
       "      <td>0.0</td>\n",
       "      <td>0</td>\n",
       "      <td>0</td>\n",
       "      <td>1</td>\n",
       "    </tr>\n",
       "    <tr>\n",
       "      <td>4</td>\n",
       "      <td>0.0</td>\n",
       "      <td>30.0</td>\n",
       "      <td>0.0</td>\n",
       "      <td>0.0</td>\n",
       "      <td>13.0000</td>\n",
       "      <td>0</td>\n",
       "      <td>1</td>\n",
       "      <td>0</td>\n",
       "      <td>0</td>\n",
       "      <td>1</td>\n",
       "      <td>...</td>\n",
       "      <td>0</td>\n",
       "      <td>0</td>\n",
       "      <td>0</td>\n",
       "      <td>0</td>\n",
       "      <td>0</td>\n",
       "      <td>1</td>\n",
       "      <td>0.0</td>\n",
       "      <td>0</td>\n",
       "      <td>1</td>\n",
       "      <td>0</td>\n",
       "    </tr>\n",
       "  </tbody>\n",
       "</table>\n",
       "<p>5 rows × 22 columns</p>\n",
       "</div>"
      ],
      "text/plain": [
       "   survived   age  sibsp  parch     fare  sex_female  sex_male  embarked_C  \\\n",
       "0       0.0  24.0    0.0    0.0  69.3000           1         0           1   \n",
       "1       0.0  44.0    0.0    1.0  57.9792           1         0           1   \n",
       "2       0.0   1.0    5.0    2.0  46.9000           0         1           0   \n",
       "3       0.0  29.0    0.0    0.0   7.8750           0         1           0   \n",
       "4       0.0  30.0    0.0    0.0  13.0000           0         1           0   \n",
       "\n",
       "   embarked_Q  embarked_S  ...  cabin_B  cabin_C  cabin_D  cabin_E  cabin_F  \\\n",
       "0           0           0  ...        1        0        0        0        0   \n",
       "1           0           0  ...        1        0        0        0        0   \n",
       "2           0           1  ...        0        0        0        0        0   \n",
       "3           0           1  ...        0        0        0        0        0   \n",
       "4           0           1  ...        0        0        0        0        0   \n",
       "\n",
       "   cabin_G  cabin_T  pclass_1.0  pclass_2.0  pclass_3.0  \n",
       "0        0      0.0           1           0           0  \n",
       "1        0      0.0           1           0           0  \n",
       "2        1      0.0           0           0           1  \n",
       "3        1      0.0           0           0           1  \n",
       "4        1      0.0           0           1           0  \n",
       "\n",
       "[5 rows x 22 columns]"
      ]
     },
     "execution_count": 96,
     "metadata": {},
     "output_type": "execute_result"
    }
   ],
   "source": [
    "# predict test data for Kaggle competition\n",
    "\n",
    "data_test = pd.read_csv(\"titanic_clean_test.csv\")\n",
    "data_test.head()"
   ]
  },
  {
   "cell_type": "code",
   "execution_count": 97,
   "metadata": {},
   "outputs": [],
   "source": [
    "X_test = data_test.to_numpy()"
   ]
  },
  {
   "cell_type": "code",
   "execution_count": 128,
   "metadata": {},
   "outputs": [],
   "source": [
    "dt = BaggedTrees(max_depth=2, n_trees=40)\n",
    "dt.fit(X_train,y_train)\n",
    "\n",
    "y_test_predict = dt.predict(X_test)"
   ]
  },
  {
   "cell_type": "code",
   "execution_count": 129,
   "metadata": {},
   "outputs": [],
   "source": [
    "# A code snippet to help you save your results into a kaggle accepted csv\n",
    "# Usage results_to_csv(clf.predict(X_test))\n",
    "def results_to_csv(y_test):\n",
    "    y_test = y_test.astype(int)\n",
    "    df = pd.DataFrame({'Category': y_test})\n",
    "    df.index += 1  # Ensures that the index starts at 1. \n",
    "    df.to_csv('submission_titanic.csv', index_label='Id')\n",
    "\n",
    "results_to_csv(np.array(y_test_predict))"
   ]
  },
  {
   "cell_type": "code",
   "execution_count": null,
   "metadata": {},
   "outputs": [],
   "source": []
  },
  {
   "cell_type": "markdown",
   "metadata": {},
   "source": [
    "# SPAM dataset\n",
    "\n",
    "## Load data"
   ]
  },
  {
   "cell_type": "code",
   "execution_count": 4,
   "metadata": {},
   "outputs": [
    {
     "name": "stdout",
     "output_type": "stream",
     "text": [
      "\n",
      "loaded data!\n",
      "test_data (5857, 32)\n",
      "training_data (5172, 32)\n",
      "training_labels (1, 5172)\n"
     ]
    }
   ],
   "source": [
    "data = io.loadmat(\"data/spam_data.mat\")\n",
    "print(\"\\nloaded data!\")\n",
    "fields = \"test_data\", \"training_data\", \"training_labels\"\n",
    "for field in fields:\n",
    "    print(field, data[field].shape)"
   ]
  },
  {
   "cell_type": "code",
   "execution_count": 6,
   "metadata": {},
   "outputs": [],
   "source": [
    "X_train = data['training_data'][:4100]\n",
    "y_train = data['training_labels'][0][:4100]\n",
    "X_valid = data['training_data'][4100:]\n",
    "y_valid = data['training_labels'][0][4100:]\n",
    "\n",
    "X_test = np.array(data['test_data'])"
   ]
  },
  {
   "cell_type": "markdown",
   "metadata": {},
   "source": [
    "## Predict data and tune hyperparameter\n",
    "\n",
    "### Decision Trees"
   ]
  },
  {
   "cell_type": "code",
   "execution_count": 17,
   "metadata": {},
   "outputs": [
    {
     "name": "stdout",
     "output_type": "stream",
     "text": [
      "5.0% (1.0 max. depth) - valid. accuracy: 0.8348880597014925\n",
      "10.0% (2.0 max. depth) - valid. accuracy: 0.8600746268656716\n",
      "15.0% (3.0 max. depth) - valid. accuracy: 0.8647388059701493\n",
      "20.0% (4.0 max. depth) - valid. accuracy: 0.8740671641791045\n",
      "25.0% (5.0 max. depth) - valid. accuracy: 0.8134328358208955\n",
      "30.0% (6.0 max. depth) - valid. accuracy: 0.8106343283582089\n",
      "35.0% (7.0 max. depth) - valid. accuracy: 0.832089552238806\n",
      "40.0% (8.0 max. depth) - valid. accuracy: 0.8302238805970149\n",
      "45.0% (9.0 max. depth) - valid. accuracy: 0.8246268656716418\n",
      "50.0% (10.0 max. depth) - valid. accuracy: 0.8302238805970149\n",
      "55.0% (11.0 max. depth) - valid. accuracy: 0.8376865671641791\n",
      "60.0% (12.0 max. depth) - valid. accuracy: 0.835820895522388\n",
      "65.0% (13.0 max. depth) - valid. accuracy: 0.8311567164179104\n",
      "70.0% (14.0 max. depth) - valid. accuracy: 0.8376865671641791\n",
      "75.0% (15.0 max. depth) - valid. accuracy: 0.8395522388059702\n",
      "80.0% (16.0 max. depth) - valid. accuracy: 0.8423507462686567\n",
      "85.0% (17.0 max. depth) - valid. accuracy: 0.8423507462686567\n",
      "90.0% (18.0 max. depth) - valid. accuracy: 0.8451492537313433\n",
      "95.0% (19.0 max. depth) - valid. accuracy: 0.8451492537313433\n",
      "100.0% (20.0 max. depth) - valid. accuracy: 0.8451492537313433\n"
     ]
    }
   ],
   "source": [
    "# DECISION TREES\n",
    "\n",
    "accuracy_train = []\n",
    "accuracy_valid = []\n",
    "\n",
    "minimum = 1\n",
    "maximum = 20\n",
    "steps = 20\n",
    "\n",
    "lst = np.linspace(minimum,maximum,steps)\n",
    "for i, idx in enumerate(lst):\n",
    "    dt = DecisionTree(max_depth=np.round(idx))\n",
    "    dt.fit(X_train,y_train)\n",
    "    y_train_predict = dt.predict(X_train)\n",
    "    y_valid_predict = dt.predict(X_valid)\n",
    "    \n",
    "    accuracy_train.append(list(y_train_predict-y_train).count(0) / len(y_train))\n",
    "    accuracy_valid.append(list(y_valid_predict-y_valid).count(0) / len(y_valid))\n",
    "    \n",
    "    print(str(100*(i+1)/steps) + '% (' + str(np.round(idx)) + ' max. depth) - ' + 'valid. accuracy: ' + str(accuracy_valid[i]))"
   ]
  },
  {
   "cell_type": "code",
   "execution_count": 18,
   "metadata": {},
   "outputs": [
    {
     "data": {
      "text/plain": [
       "<matplotlib.legend.Legend at 0x1a23a9b160>"
      ]
     },
     "execution_count": 18,
     "metadata": {},
     "output_type": "execute_result"
    },
    {
     "data": {
      "image/png": "[encoded data removed]",
      "text/plain": [
       "<Figure size 432x288 with 1 Axes>"
      ]
     },
     "metadata": {
      "needs_background": "light"
     },
     "output_type": "display_data"
    }
   ],
   "source": [
    "fig, ax = plt.subplots()\n",
    "ax.plot(lst, accuracy_train, label='training') \n",
    "ax.plot(lst, accuracy_valid, label='validation')\n",
    "plt.title('Decision Tree')\n",
    "plt.xlabel('tree depth')\n",
    "plt.ylabel('accuracy')\n",
    "plt.legend()"
   ]
  },
  {
   "cell_type": "code",
   "execution_count": null,
   "metadata": {},
   "outputs": [],
   "source": []
  },
  {
   "cell_type": "markdown",
   "metadata": {},
   "source": [
    "### Bagged Trees"
   ]
  },
  {
   "cell_type": "code",
   "execution_count": 19,
   "metadata": {},
   "outputs": [
    {
     "name": "stdout",
     "output_type": "stream",
     "text": [
      "10.0% (1.0 trees) - valid. accuracy: 0.8078358208955224\n",
      "20.0% (2.0 trees) - valid. accuracy: 0.8460820895522388\n",
      "30.0% (3.0 trees) - valid. accuracy: 0.8460820895522388\n",
      "40.0% (4.0 trees) - valid. accuracy: 0.8610074626865671\n",
      "50.0% (5.0 trees) - valid. accuracy: 0.8610074626865671\n",
      "60.0% (6.0 trees) - valid. accuracy: 0.8628731343283582\n",
      "70.0% (7.0 trees) - valid. accuracy: 0.8628731343283582\n",
      "80.0% (8.0 trees) - valid. accuracy: 0.8488805970149254\n",
      "90.0% (9.0 trees) - valid. accuracy: 0.8488805970149254\n",
      "100.0% (10.0 trees) - valid. accuracy: 0.8460820895522388\n"
     ]
    }
   ],
   "source": [
    "# BAGGED TREES\n",
    "\n",
    "accuracy_train = []\n",
    "accuracy_valid = []\n",
    "\n",
    "minimum = 1\n",
    "maximum = 10\n",
    "steps = 10\n",
    "lst = np.linspace(minimum,maximum,10)\n",
    "for i, idx in enumerate(lst):\n",
    "    bt = BaggedTrees(n_trees=int(np.round(idx)), max_depth=4)\n",
    "    bt.fit(X_train,y_train)\n",
    "    y_train_predict = bt.predict(X_train)\n",
    "    y_valid_predict = bt.predict(X_valid)\n",
    "    \n",
    "    accuracy_train.append(list(y_train_predict-y_train).count(0) / len(y_train))\n",
    "    accuracy_valid.append(list(y_valid_predict-y_valid).count(0) / len(y_valid))\n",
    "    \n",
    "    print(str(100*(i+1)/steps) + '% (' + str(np.round(idx)) + ' trees) - ' + 'valid. accuracy: ' + str(accuracy_valid[i]))"
   ]
  },
  {
   "cell_type": "code",
   "execution_count": 20,
   "metadata": {},
   "outputs": [
    {
     "data": {
      "text/plain": [
       "<matplotlib.legend.Legend at 0x1a201ecfd0>"
      ]
     },
     "execution_count": 20,
     "metadata": {},
     "output_type": "execute_result"
    },
    {
     "data": {
      "image/png": "[encoded data removed]",
      "text/plain": [
       "<Figure size 432x288 with 1 Axes>"
      ]
     },
     "metadata": {
      "needs_background": "light"
     },
     "output_type": "display_data"
    }
   ],
   "source": [
    "fig, ax = plt.subplots()\n",
    "ax.plot(lst, accuracy_train, label='training') \n",
    "ax.plot(lst, accuracy_valid, label='validation')\n",
    "plt.title('Bagged Trees')\n",
    "plt.xlabel('number of trees')\n",
    "plt.ylabel('accuracy')\n",
    "plt.legend()"
   ]
  },
  {
   "cell_type": "code",
   "execution_count": null,
   "metadata": {},
   "outputs": [],
   "source": []
  },
  {
   "cell_type": "markdown",
   "metadata": {},
   "source": [
    "### Random Forrests"
   ]
  },
  {
   "cell_type": "code",
   "execution_count": 21,
   "metadata": {},
   "outputs": [
    {
     "name": "stdout",
     "output_type": "stream",
     "text": [
      "10.0% (1.0 features) - valid. accuracy: 1.0\n",
      "20.0% (3.0 features) - valid. accuracy: 0.9934701492537313\n",
      "30.0% (5.0 features) - valid. accuracy: 0.976679104477612\n",
      "40.0% (8.0 features) - valid. accuracy: 1.0\n",
      "50.0% (10.0 features) - valid. accuracy: 0.9972014925373134\n",
      "60.0% (12.0 features) - valid. accuracy: 0.976679104477612\n",
      "70.0% (14.0 features) - valid. accuracy: 0.980410447761194\n",
      "80.0% (17.0 features) - valid. accuracy: 0.9151119402985075\n",
      "90.0% (19.0 features) - valid. accuracy: 0.957089552238806\n",
      "100.0% (21.0 features) - valid. accuracy: 0.957089552238806\n"
     ]
    }
   ],
   "source": [
    "# Random Forrest\n",
    "# To use a Random Forrest, I initiate a Bagged Tree estimator with m!=0\n",
    "\n",
    "accuracy_train = []\n",
    "accuracy_valid = []\n",
    "\n",
    "minimum = 1\n",
    "maximum = 21\n",
    "steps = 10\n",
    "lst = np.linspace(minimum,maximum,10)\n",
    "for i, idx in enumerate(lst):\n",
    "    rf = BaggedTrees(m=int(np.round(idx)), max_depth=2, n_trees = 10)\n",
    "    rf.fit(X_train,y_train)\n",
    "    y_train_predict = rf.predict(X_train)\n",
    "    y_valid_predict = rf.predict(X_valid)\n",
    "    \n",
    "    accuracy_train.append(list(y_train_predict-y_train).count(0) / len(y_train))\n",
    "    accuracy_valid.append(list(y_valid_predict-y_valid).count(0) / len(y_valid))\n",
    "    \n",
    "    print(str(100*(i+1)/steps) + '% (' + str(np.round(idx)) + ' features) - ' + 'valid. accuracy: ' + str(accuracy_valid[i]))"
   ]
  },
  {
   "cell_type": "code",
   "execution_count": 22,
   "metadata": {},
   "outputs": [
    {
     "data": {
      "text/plain": [
       "<matplotlib.legend.Legend at 0x1a20b5ef60>"
      ]
     },
     "execution_count": 22,
     "metadata": {},
     "output_type": "execute_result"
    },
    {
     "data": {
      "image/png": "[encoded data removed]",
      "text/plain": [
       "<Figure size 432x288 with 1 Axes>"
      ]
     },
     "metadata": {
      "needs_background": "light"
     },
     "output_type": "display_data"
    }
   ],
   "source": [
    "fig, ax = plt.subplots()\n",
    "ax.plot(lst, accuracy_train, label='training') \n",
    "ax.plot(lst, accuracy_valid, label='validation')\n",
    "plt.title('Random Forrest (tune m)')\n",
    "plt.xlabel('number of features per node')\n",
    "plt.ylabel('accuracy')\n",
    "plt.legend()"
   ]
  },
  {
   "cell_type": "code",
   "execution_count": 23,
   "metadata": {},
   "outputs": [
    {
     "name": "stdout",
     "output_type": "stream",
     "text": [
      "10.0% (1.0 trees) - valid. accuracy: 0.976679104477612\n",
      "20.0% (3.0 trees) - valid. accuracy: 0.976679104477612\n",
      "30.0% (5.0 trees) - valid. accuracy: 1.0\n",
      "40.0% (7.0 trees) - valid. accuracy: 1.0\n",
      "50.0% (9.0 trees) - valid. accuracy: 1.0\n",
      "60.0% (12.0 trees) - valid. accuracy: 1.0\n",
      "70.0% (14.0 trees) - valid. accuracy: 1.0\n",
      "80.0% (16.0 trees) - valid. accuracy: 1.0\n",
      "90.0% (18.0 trees) - valid. accuracy: 1.0\n",
      "100.0% (20.0 trees) - valid. accuracy: 1.0\n"
     ]
    }
   ],
   "source": [
    "accuracy_train = []\n",
    "accuracy_valid = []\n",
    "\n",
    "minimum = 1\n",
    "maximum = 20\n",
    "steps = 10\n",
    "lst = np.linspace(minimum,maximum,10)\n",
    "for i, idx in enumerate(lst):\n",
    "    rf = BaggedTrees(n_trees=int(np.round(idx)), max_depth=2, m = 8)\n",
    "    rf.fit(X_train,y_train)\n",
    "    y_train_predict = rf.predict(X_train)\n",
    "    y_valid_predict = rf.predict(X_valid)\n",
    "    \n",
    "    accuracy_train.append(list(y_train_predict-y_train).count(0) / len(y_train))\n",
    "    accuracy_valid.append(list(y_valid_predict-y_valid).count(0) / len(y_valid))\n",
    "    \n",
    "    print(str(100*(i+1)/steps) + '% (' + str(np.round(idx)) + ' trees) - ' + 'valid. accuracy: ' + str(accuracy_valid[i]))"
   ]
  },
  {
   "cell_type": "code",
   "execution_count": 24,
   "metadata": {},
   "outputs": [
    {
     "data": {
      "text/plain": [
       "<matplotlib.legend.Legend at 0x1a24432940>"
      ]
     },
     "execution_count": 24,
     "metadata": {},
     "output_type": "execute_result"
    },
    {
     "data": {
      "image/png": "[encoded data removed]",
      "text/plain": [
       "<Figure size 432x288 with 1 Axes>"
      ]
     },
     "metadata": {
      "needs_background": "light"
     },
     "output_type": "display_data"
    }
   ],
   "source": [
    "fig, ax = plt.subplots()\n",
    "ax.plot(lst, accuracy_train, label='training') \n",
    "ax.plot(lst, accuracy_valid, label='validation')\n",
    "plt.title('Random Forrest (tune n_trees)')\n",
    "plt.xlabel('number of trees')\n",
    "plt.ylabel('accuracy')\n",
    "plt.legend()"
   ]
  },
  {
   "cell_type": "markdown",
   "metadata": {},
   "source": [
    "## Final prediction with best estimator"
   ]
  },
  {
   "cell_type": "code",
   "execution_count": 7,
   "metadata": {},
   "outputs": [],
   "source": [
    "X_train = data['training_data']\n",
    "y_train = data['training_labels'][0]"
   ]
  },
  {
   "cell_type": "code",
   "execution_count": 8,
   "metadata": {},
   "outputs": [],
   "source": [
    "dt = BaggedTrees(max_depth=2, n_trees=10, m=8)\n",
    "dt.fit(X_train,y_train)\n",
    "\n",
    "y_test_predict = dt.predict(X_test)"
   ]
  },
  {
   "cell_type": "code",
   "execution_count": 9,
   "metadata": {},
   "outputs": [],
   "source": [
    "# A code snippet to help you save your results into a kaggle accepted csv\n",
    "# Usage results_to_csv(clf.predict(X_test))\n",
    "def results_to_csv(y_test):\n",
    "    y_test = y_test.astype(int)\n",
    "    df = pd.DataFrame({'Category': y_test})\n",
    "    df.index += 1  # Ensures that the index starts at 1. \n",
    "    df.to_csv('submission_spam.csv', index_label='Id')\n",
    "\n",
    "results_to_csv(np.array(y_test_predict))"
   ]
  },
  {
   "cell_type": "code",
   "execution_count": null,
   "metadata": {},
   "outputs": [],
   "source": []
  },
  {
   "cell_type": "code",
   "execution_count": null,
   "metadata": {},
   "outputs": [],
   "source": []
  }
 ],
 "metadata": {
  "kernelspec": {
   "display_name": "Python 3",
   "language": "python",
   "name": "python3"
  },
  "language_info": {
   "codemirror_mode": {
    "name": "ipython",
    "version": 3
   },
   "file_extension": ".py",
   "mimetype": "text/x-python",
   "name": "python",
   "nbconvert_exporter": "python",
   "pygments_lexer": "ipython3",
   "version": "3.7.3"
  }
 },
 "nbformat": 4,
 "nbformat_minor": 4
}

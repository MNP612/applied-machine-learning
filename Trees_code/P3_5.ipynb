{
 "cells": [
  {
   "cell_type": "markdown",
   "metadata": {},
   "source": [
    "# Vizualize a shallow single tree"
   ]
  },
  {
   "cell_type": "code",
   "execution_count": 1,
   "metadata": {},
   "outputs": [],
   "source": [
    "import warnings\n",
    "warnings.filterwarnings(\"ignore\")\n",
    "\n",
    "\n",
    "import numpy as np\n",
    "from scipy import io\n",
    "from scipy import stats\n",
    "from graphviz import Digraph\n",
    "import math\n",
    "\n",
    "eps = 1e-5  # a small number"
   ]
  },
  {
   "cell_type": "code",
   "execution_count": 2,
   "metadata": {},
   "outputs": [
    {
     "name": "stdout",
     "output_type": "stream",
     "text": [
      "\n",
      "loaded data!\n",
      "test_data (5857, 32)\n",
      "training_data (5172, 32)\n",
      "training_labels (1, 5172)\n"
     ]
    }
   ],
   "source": [
    "data = io.loadmat(\"data/spam_data.mat\")\n",
    "print(\"\\nloaded data!\")\n",
    "fields = \"test_data\", \"training_data\", \"training_labels\"\n",
    "for field in fields:\n",
    "    print(field, data[field].shape)"
   ]
  },
  {
   "cell_type": "code",
   "execution_count": 3,
   "metadata": {},
   "outputs": [],
   "source": [
    "X_train = data['training_data']\n",
    "y_train = data['training_labels'][0]"
   ]
  },
  {
   "cell_type": "code",
   "execution_count": 4,
   "metadata": {},
   "outputs": [],
   "source": [
    "class DecisionTree:\n",
    "    def __init__(self, max_depth=3, feature_labels=None, m=0, count=0, count_list=[]):\n",
    "        self.max_depth = max_depth\n",
    "        self.features = feature_labels\n",
    "        self.left, self.right = None, None  # for non-leaf nodes\n",
    "        self.split_idx, self.thresh = None, None  # for non-leaf nodes\n",
    "        self.data, self.pred = None, None  # for leaf nodes\n",
    "        self.m = m\n",
    "        \n",
    "        #visualization\n",
    "        f = Digraph('graph', filename='graph')\n",
    "        f.attr('node', shape='circle')\n",
    "        \n",
    "    def reduce_feature(self, X, y):        \n",
    "        if self.m == 0:\n",
    "            self.X = X\n",
    "            self.y = y            \n",
    "        else:\n",
    "            random.seed(42)\n",
    "            random_idx_m = [random.randint(0,len(X[0])-1) for i in range(self.m)]\n",
    "            self.X = X.T[random_idx_m].T\n",
    "            self.y = y\n",
    "        \n",
    "        return self.X, self.y\n",
    "    \n",
    "    \n",
    "    @staticmethod\n",
    "    def information_gain(X, y, thresh):\n",
    "        n = len(y)\n",
    "        n_class0 = list(y).count(0)\n",
    "        n_class1 = list(y).count(1)\n",
    "\n",
    "        H = -n_class0/n * np.log2(n_class0/n) - n_class1/n * np.log2(n_class1/n) # initial entropy\n",
    "\n",
    "        left, right = [], []\n",
    "        for idx in range(n): \n",
    "            if X[idx] < thresh:\n",
    "                left.append(y[idx])\n",
    "            else: right.append(y[idx])\n",
    "\n",
    "        left_n_class0 = list(left).count(0)\n",
    "        left_n_class1 = list(left).count(1)\n",
    "        right_n_class0 = list(right).count(0)\n",
    "        right_n_class1 = list(right).count(1)\n",
    "\n",
    "        left_H = -left_n_class0/n * np.log2(left_n_class0/n) - left_n_class1/n * np.log2(left_n_class1/n)\n",
    "        right_H = -right_n_class0/n * np.log2(right_n_class0/n) - right_n_class1/n * np.log2(right_n_class1/n)\n",
    "        H_after = (len(left)*left_H + len(right)*right_H)/n\n",
    "\n",
    "        gain = H - H_after\n",
    "        \n",
    "        return gain\n",
    "\n",
    "    @staticmethod\n",
    "    def gini_impurity(X, y, thresh):\n",
    "        # TODO implement gini_impurity function\n",
    "        pass\n",
    "\n",
    "    def split(self, X, y, idx, thresh):\n",
    "        X0, idx0, X1, idx1 = self.split_test(X, idx=idx, thresh=thresh)\n",
    "        y0, y1 = y[idx0], y[idx1]\n",
    "\n",
    "        return X0, y0, X1, y1\n",
    "\n",
    "    def split_test(self, X, idx, thresh):\n",
    "        idx0 = np.where(X[:, idx] < thresh)[0]\n",
    "        idx1 = np.where(X[:, idx] >= thresh)[0]\n",
    "        X0, X1 = X[idx0, :], X[idx1, :]\n",
    "\n",
    "        return X0, idx0, X1, idx1\n",
    "\n",
    "    def fit(self, X_in, y_in, count=0, count_list=[]):\n",
    "        \n",
    "        \n",
    "        # reduce column space for random forrest\n",
    "        X, y = self.reduce_feature(X_in, y_in)\n",
    "\n",
    "        \n",
    "        if self.max_depth > 0:\n",
    "\n",
    "            \n",
    "            # compute entropy gain for all single-dimension splits,\n",
    "            # thresholding with a linear interpolation of 10 values\n",
    "            gains = []\n",
    "            # The following logic prevents thresholding on exactly the minimum\n",
    "            # or maximum values, which may not lead to any meaningful node\n",
    "            # splits.\n",
    "            thresh = np.array([\n",
    "                np.linspace(np.min(X[:, i]) + eps, np.max(X[:, i]) - eps, num=10)\n",
    "                for i in range(X.shape[1])\n",
    "            ])\n",
    "            for i in range(X.shape[1]):\n",
    "                gains.append([self.information_gain(X[:, i], y, t) for t in thresh[i, :]])\n",
    "\n",
    "            gains = np.nan_to_num(np.array(gains))\n",
    "            self.split_idx, thresh_idx = np.unravel_index(np.argmax(gains), gains.shape)            \n",
    "            self.thresh = thresh[self.split_idx, thresh_idx]\n",
    "            X0, y0, X1, y1 = self.split(X, y, idx=self.split_idx, thresh=self.thresh)           \n",
    "            \n",
    "            print('\\n' + '\"' + str(self.features[self.split_idx]) + '\" (frequence > ' + str(math.trunc(self.thresh)) + ')')\n",
    "            print('# left: ' + str(len(X0)) + ' -- # right: ' + str(len(X1)))\n",
    "            \n",
    "            \n",
    "            \n",
    "            if X0.size > 0 and X1.size > 0:\n",
    "                count+=1\n",
    "                count_list.append(count)\n",
    "                count_list.append(str(self.features[self.split_idx]) + '_' + str(count) + '\" (frequence > ' + str(math.trunc(self.thresh)) + ')')\n",
    "                #print(count)\n",
    "                #print(count_list)\n",
    "                \n",
    "                self.left = DecisionTree(\n",
    "                    max_depth=self.max_depth - 1, feature_labels=self.features)\n",
    "                self.left.fit(X0, y0, count, count_list)\n",
    "                self.right = DecisionTree(\n",
    "                    max_depth=self.max_depth - 1, feature_labels=self.features)\n",
    "                self.right.fit(X1, y1, count, count_list) \n",
    "                \n",
    "            else:\n",
    "                self.max_depth = 0\n",
    "                self.data, self.labels = X, y\n",
    "                self.pred = stats.mode(y).mode[0]\n",
    "            \n",
    "        else:\n",
    "            \n",
    "            self.data, self.labels = X, y\n",
    "            self.pred = stats.mode(y).mode[0]\n",
    " \n",
    "        #f.view()\n",
    "        count_list = np.sort(np.array(count_list).reshape(-1,2), axis=1)\n",
    "        \n",
    "        count_list = np.array((sorted(count_list, key = lambda x: float(x[0]))))\n",
    "        count_list = count_list.reshape(-1,2)\n",
    "        #print(np.sort(count_list, axis=0))\n",
    "        #print(count)\n",
    "        \n",
    "        \n",
    "        return self, count, count_list\n",
    "    \n",
    "    def predict(self, X):\n",
    "        if self.max_depth == 0:\n",
    "            return self.pred * np.ones(X.shape[0])\n",
    "        else:\n",
    "            X0, idx0, X1, idx1 = self.split_test(X, idx=self.split_idx, thresh=self.thresh)\n",
    "            yhat = np.zeros(X.shape[0])\n",
    "            yhat[idx0] = self.left.predict(X0)\n",
    "            yhat[idx1] = self.right.predict(X1)\n",
    "            return yhat\n"
   ]
  },
  {
   "cell_type": "code",
   "execution_count": 5,
   "metadata": {},
   "outputs": [
    {
     "name": "stdout",
     "output_type": "stream",
     "text": [
      "\n",
      "\"exclamation\" (frequence > 0)\n",
      "# left: 3917 -- # right: 1255\n",
      "\n",
      "\"pain\" (frequence > 0)\n",
      "# left: 3878 -- # right: 39\n",
      "\n",
      "\"money\" (frequence > 0)\n",
      "# left: 3788 -- # right: 90\n",
      "\n",
      "\"pain\" (frequence > 1)\n",
      "# left: 33 -- # right: 6\n",
      "\n",
      "\"and\" (frequence > 0)\n",
      "# left: 1100 -- # right: 155\n",
      "\n",
      "\"message\" (frequence > 1)\n",
      "# left: 995 -- # right: 105\n",
      "\n",
      "\"money\" (frequence > 0)\n",
      "# left: 146 -- # right: 9\n"
     ]
    }
   ],
   "source": [
    "label = ['pain','private','bank','money','drug','spam','prescription','creative','height','featured','differ','width','other','energy','business','message','volumes','revision','path','meter','memo','planning','pleased','record','out','semicolon','dollar','sharp','exclamation','para','bracket','and']\n",
    "dt = DecisionTree(max_depth=3, feature_labels=label)\n",
    "count_list = dt.fit(X_train, y_train)[2]"
   ]
  },
  {
   "cell_type": "code",
   "execution_count": 6,
   "metadata": {},
   "outputs": [
    {
     "data": {
      "text/plain": [
       "'graph.pdf'"
      ]
     },
     "execution_count": 6,
     "metadata": {},
     "output_type": "execute_result"
    }
   ],
   "source": [
    "f = Digraph('graph', filename='graph')\n",
    "f.attr('node', shape='circle')\n",
    "for i in range(3):\n",
    "    j = 2*(i+1)-1\n",
    "    k = 2*(i+1)\n",
    "    f.edge(count_list[i,1], count_list[j,1], label='true')\n",
    "    f.edge(count_list[i,1], count_list[k,1], label='flase')\n",
    "f.view()"
   ]
  },
  {
   "cell_type": "code",
   "execution_count": null,
   "metadata": {},
   "outputs": [],
   "source": []
  }
 ],
 "metadata": {
  "kernelspec": {
   "display_name": "Python 3",
   "language": "python",
   "name": "python3"
  },
  "language_info": {
   "codemirror_mode": {
    "name": "ipython",
    "version": 3
   },
   "file_extension": ".py",
   "mimetype": "text/x-python",
   "name": "python",
   "nbconvert_exporter": "python",
   "pygments_lexer": "ipython3",
   "version": "3.7.3"
  }
 },
 "nbformat": 4,
 "nbformat_minor": 4
}

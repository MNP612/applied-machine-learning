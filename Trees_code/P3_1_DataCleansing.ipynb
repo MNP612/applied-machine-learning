{
 "cells": [
  {
   "cell_type": "markdown",
   "metadata": {},
   "source": [
    "# Data cleansing"
   ]
  },
  {
   "cell_type": "code",
   "execution_count": 1,
   "metadata": {},
   "outputs": [
    {
     "data": {
      "text/html": [
       "<div>\n",
       "<style scoped>\n",
       "    .dataframe tbody tr th:only-of-type {\n",
       "        vertical-align: middle;\n",
       "    }\n",
       "\n",
       "    .dataframe tbody tr th {\n",
       "        vertical-align: top;\n",
       "    }\n",
       "\n",
       "    .dataframe thead th {\n",
       "        text-align: right;\n",
       "    }\n",
       "</style>\n",
       "<table border=\"1\" class=\"dataframe\">\n",
       "  <thead>\n",
       "    <tr style=\"text-align: right;\">\n",
       "      <th></th>\n",
       "      <th>survived</th>\n",
       "      <th>pclass</th>\n",
       "      <th>sex</th>\n",
       "      <th>age</th>\n",
       "      <th>sibsp</th>\n",
       "      <th>parch</th>\n",
       "      <th>ticket</th>\n",
       "      <th>fare</th>\n",
       "      <th>cabin</th>\n",
       "      <th>embarked</th>\n",
       "    </tr>\n",
       "  </thead>\n",
       "  <tbody>\n",
       "    <tr>\n",
       "      <td>0</td>\n",
       "      <td>0.0</td>\n",
       "      <td>3.0</td>\n",
       "      <td>male</td>\n",
       "      <td>NaN</td>\n",
       "      <td>0.0</td>\n",
       "      <td>0.0</td>\n",
       "      <td>SOTON/OQ 392086</td>\n",
       "      <td>8.0500</td>\n",
       "      <td>NaN</td>\n",
       "      <td>S</td>\n",
       "    </tr>\n",
       "    <tr>\n",
       "      <td>1</td>\n",
       "      <td>0.0</td>\n",
       "      <td>1.0</td>\n",
       "      <td>male</td>\n",
       "      <td>22.0</td>\n",
       "      <td>0.0</td>\n",
       "      <td>0.0</td>\n",
       "      <td>PC 17760</td>\n",
       "      <td>135.6333</td>\n",
       "      <td>NaN</td>\n",
       "      <td>C</td>\n",
       "    </tr>\n",
       "    <tr>\n",
       "      <td>2</td>\n",
       "      <td>0.0</td>\n",
       "      <td>2.0</td>\n",
       "      <td>male</td>\n",
       "      <td>23.0</td>\n",
       "      <td>0.0</td>\n",
       "      <td>0.0</td>\n",
       "      <td>SC/PARIS 2133</td>\n",
       "      <td>15.0458</td>\n",
       "      <td>NaN</td>\n",
       "      <td>C</td>\n",
       "    </tr>\n",
       "    <tr>\n",
       "      <td>3</td>\n",
       "      <td>0.0</td>\n",
       "      <td>2.0</td>\n",
       "      <td>male</td>\n",
       "      <td>42.0</td>\n",
       "      <td>0.0</td>\n",
       "      <td>0.0</td>\n",
       "      <td>211535</td>\n",
       "      <td>13.0000</td>\n",
       "      <td>NaN</td>\n",
       "      <td>S</td>\n",
       "    </tr>\n",
       "    <tr>\n",
       "      <td>4</td>\n",
       "      <td>0.0</td>\n",
       "      <td>3.0</td>\n",
       "      <td>male</td>\n",
       "      <td>20.0</td>\n",
       "      <td>0.0</td>\n",
       "      <td>0.0</td>\n",
       "      <td>7534</td>\n",
       "      <td>9.8458</td>\n",
       "      <td>NaN</td>\n",
       "      <td>S</td>\n",
       "    </tr>\n",
       "  </tbody>\n",
       "</table>\n",
       "</div>"
      ],
      "text/plain": [
       "   survived  pclass   sex   age  sibsp  parch           ticket      fare  \\\n",
       "0       0.0     3.0  male   NaN    0.0    0.0  SOTON/OQ 392086    8.0500   \n",
       "1       0.0     1.0  male  22.0    0.0    0.0         PC 17760  135.6333   \n",
       "2       0.0     2.0  male  23.0    0.0    0.0    SC/PARIS 2133   15.0458   \n",
       "3       0.0     2.0  male  42.0    0.0    0.0           211535   13.0000   \n",
       "4       0.0     3.0  male  20.0    0.0    0.0             7534    9.8458   \n",
       "\n",
       "  cabin embarked  \n",
       "0   NaN        S  \n",
       "1   NaN        C  \n",
       "2   NaN        C  \n",
       "3   NaN        S  \n",
       "4   NaN        S  "
      ]
     },
     "execution_count": 1,
     "metadata": {},
     "output_type": "execute_result"
    }
   ],
   "source": [
    "import warnings\n",
    "warnings.filterwarnings(\"ignore\")\n",
    "    \n",
    "import numpy as np\n",
    "from scipy import io\n",
    "import pandas as pd\n",
    "\n",
    "data_train = pd.read_csv(\"titanic_training.csv\")\n",
    "data_test = pd.read_csv(\"titanic_testing_data.csv\")\n",
    "\n",
    "data_train.head()"
   ]
  },
  {
   "cell_type": "code",
   "execution_count": 2,
   "metadata": {},
   "outputs": [
    {
     "name": "stdout",
     "output_type": "stream",
     "text": [
      "<class 'pandas.core.frame.DataFrame'>\n",
      "RangeIndex: 1000 entries, 0 to 999\n",
      "Data columns (total 10 columns):\n",
      "survived    999 non-null float64\n",
      "pclass      999 non-null float64\n",
      "sex         999 non-null object\n",
      "age         804 non-null float64\n",
      "sibsp       999 non-null float64\n",
      "parch       999 non-null float64\n",
      "ticket      999 non-null object\n",
      "fare        998 non-null float64\n",
      "cabin       227 non-null object\n",
      "embarked    997 non-null object\n",
      "dtypes: float64(6), object(4)\n",
      "memory usage: 78.2+ KB\n"
     ]
    }
   ],
   "source": [
    "data_train.info()"
   ]
  },
  {
   "cell_type": "code",
   "execution_count": 3,
   "metadata": {},
   "outputs": [
    {
     "name": "stdout",
     "output_type": "stream",
     "text": [
      "<class 'pandas.core.frame.DataFrame'>\n",
      "RangeIndex: 310 entries, 0 to 309\n",
      "Data columns (total 9 columns):\n",
      "pclass      310 non-null float64\n",
      "sex         310 non-null object\n",
      "age         242 non-null float64\n",
      "sibsp       310 non-null float64\n",
      "parch       310 non-null float64\n",
      "ticket      310 non-null object\n",
      "fare        310 non-null float64\n",
      "cabin       68 non-null object\n",
      "embarked    310 non-null object\n",
      "dtypes: float64(5), object(4)\n",
      "memory usage: 21.9+ KB\n"
     ]
    }
   ],
   "source": [
    "data_test.info()"
   ]
  },
  {
   "cell_type": "code",
   "execution_count": 4,
   "metadata": {},
   "outputs": [],
   "source": [
    "# find empty rows and drop them\n",
    "def drop_empty_row(df):\n",
    "    for i in range(len(df)):\n",
    "        check_row = list(df.loc[i].isna())\n",
    "        if False not in check_row:\n",
    "            df.drop(i, inplace=True)\n",
    "            df.reset_index(drop=True, inplace=True)"
   ]
  },
  {
   "cell_type": "code",
   "execution_count": 5,
   "metadata": {},
   "outputs": [],
   "source": [
    "# fill empty enties in dataframe\n",
    "def fill_empty(df):\n",
    "    # mean value for age:\n",
    "    mean_age = round(np.mean(df['age']))\n",
    "    df['age'].fillna(mean_age, inplace=True)\n",
    "\n",
    "    # mean value for fare\n",
    "    mean_fare = np.mean(df['fare'])\n",
    "    df['fare'].fillna(mean_fare, inplace=True)\n",
    "\n",
    "    # cabin is the cabin number which consists of a alphanumerical combination (A-F) and number\n",
    "    # I fill empty values with the letter G\n",
    "    # I just omit the number and use only the alpabetic letter\n",
    "    df['cabin'].fillna('G',inplace=True)\n",
    "    for i in range(len(df.cabin)):\n",
    "        df.cabin[i] = df.cabin[i][0] \n",
    "\n",
    "    # fill unknown embarkation with letter U (for unknown)\n",
    "    df['embarked'].fillna('U', inplace=True)"
   ]
  },
  {
   "cell_type": "code",
   "execution_count": 6,
   "metadata": {},
   "outputs": [],
   "source": [
    "# since almost all ticket numbers are different and seem to be random I will delete this feature\n",
    "def drop_ticket(df):\n",
    "    df.drop(columns='ticket', inplace=True)"
   ]
  },
  {
   "cell_type": "code",
   "execution_count": 7,
   "metadata": {},
   "outputs": [],
   "source": [
    "# one-hot encode categorial values\n",
    "def vectorize(df):\n",
    "    # sex\n",
    "    sex_dummies = pd.get_dummies(df['sex'])\n",
    "    df.drop(columns='sex', inplace=True)\n",
    "\n",
    "    for i in sex_dummies.columns:\n",
    "        string = 'sex_'+i\n",
    "        df[string] = sex_dummies[i]\n",
    "\n",
    "    # embarked\n",
    "    embarked_dummies = pd.get_dummies(df['embarked'])\n",
    "    df.drop(columns='embarked', inplace=True)\n",
    "\n",
    "    for i in embarked_dummies.columns:\n",
    "        string = 'embarked_'+i\n",
    "        df[string] = embarked_dummies[i]\n",
    "\n",
    "    # cabin\n",
    "    cabin_dummies = pd.get_dummies(df['cabin'])\n",
    "    df.drop(columns='cabin', inplace=True)\n",
    "\n",
    "    for i in cabin_dummies.columns:\n",
    "        string = 'cabin_'+i\n",
    "        df[string] = cabin_dummies[i]\n",
    "\n",
    "    # pclass is numeric but the ordering has no meaning, so I better encode it as well\n",
    "    pclass_dummies = pd.get_dummies(df['pclass'])\n",
    "    df.drop(columns='pclass', inplace=True)\n",
    "\n",
    "    for i in pclass_dummies.columns:\n",
    "        string = 'pclass_'+str(i)\n",
    "        df[string] = pclass_dummies[i]"
   ]
  },
  {
   "cell_type": "code",
   "execution_count": 8,
   "metadata": {},
   "outputs": [],
   "source": [
    "# put all the defined functions into one single cleansing function\n",
    "def cleansing(df):\n",
    "    drop_empty_row(df)\n",
    "    fill_empty(df)\n",
    "    drop_ticket(df)\n",
    "    vectorize(df)"
   ]
  },
  {
   "cell_type": "code",
   "execution_count": null,
   "metadata": {},
   "outputs": [],
   "source": []
  },
  {
   "cell_type": "code",
   "execution_count": 10,
   "metadata": {},
   "outputs": [],
   "source": [
    "# cleanse training data and export\n",
    "cleansing(data_train)\n",
    "\n",
    "# export\n",
    "data_train.to_csv('titanic_clean_train.csv', index=False)"
   ]
  },
  {
   "cell_type": "code",
   "execution_count": 11,
   "metadata": {},
   "outputs": [],
   "source": [
    "# cleanse testing data and export\n",
    "cleansing(data_test)\n",
    "\n",
    "# add missing columns to the dataframe\n",
    "for column in list(data_train.columns):\n",
    "    if column not in list(data_test.columns):\n",
    "        data_test[column] = list(np.zeros(len(data_test)))\n",
    "\n",
    "data_test = data_test[list(data_train.columns)]\n",
    "\n",
    "# export\n",
    "data_test.to_csv('titanic_clean_test.csv', index=False)"
   ]
  },
  {
   "cell_type": "code",
   "execution_count": null,
   "metadata": {},
   "outputs": [],
   "source": [
    "\n",
    "    "
   ]
  },
  {
   "cell_type": "code",
   "execution_count": null,
   "metadata": {},
   "outputs": [],
   "source": []
  }
 ],
 "metadata": {
  "kernelspec": {
   "display_name": "Python 3",
   "language": "python",
   "name": "python3"
  },
  "language_info": {
   "codemirror_mode": {
    "name": "ipython",
    "version": 3
   },
   "file_extension": ".py",
   "mimetype": "text/x-python",
   "name": "python",
   "nbconvert_exporter": "python",
   "pygments_lexer": "ipython3",
   "version": "3.7.3"
  }
 },
 "nbformat": 4,
 "nbformat_minor": 4
}
